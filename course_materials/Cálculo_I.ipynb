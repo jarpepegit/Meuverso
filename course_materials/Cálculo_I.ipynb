{
  "nbformat": 4,
  "nbformat_minor": 0,
  "metadata": {
    "colab": {
      "provenance": [],
      "collapsed_sections": [
        "n7CcpLrs-EHr",
        "yFktSdJ5x1DE",
        "CuvPEzYvKkQY",
        "18aGk1walm1I",
        "jFJZJiS9mHjD",
        "VxeaJgYzR00E",
        "kyFuv2fFnyC2",
        "kt5pkn9DHJzi",
        "jkwbDk6SkfIu",
        "wZ3HBiOTToff",
        "slf6hP4YxWFV",
        "JTJYfdonunBx",
        "hu7reW4HheB5",
        "aL9XMS7FfOzG",
        "cDV4D4fUQ0km",
        "ee7JimhuQviu",
        "l_3jqyHF3rFC",
        "jdMqIH__33Ez",
        "9z3bp3C4Vw7P",
        "QM3u5tY3Bezl",
        "Ldx4O90NAhSD",
        "PsnDJJD5CRHD",
        "_lymBPEduXIY",
        "1XzVesqpRFGS",
        "z5X-3v63PYnu",
        "8IMo4U5SPlw1",
        "JK4qFZM74wbh",
        "FWLaz1Vdz8H4",
        "c8Z07v5ns38-",
        "pKdc_TT21JeU",
        "135wz7DmuAXp",
        "UszwhNa-uuAq",
        "mV9pdSRNvb0n",
        "MFAV3qLpPD8T",
        "UKIAIMlIJwM2",
        "l_ZLsunzW0EO",
        "pFgxS1bReGdc",
        "32zRu5R5fJO-",
        "-lZ7ulTiWL3-",
        "mw9XfqEhfOw4",
        "vCVxawnefj6W",
        "_tgEN1ojXOQS",
        "guPtxAOGfbs8",
        "c-ipEYWKfwYR"
      ],
      "include_colab_link": true
    },
    "kernelspec": {
      "name": "python3",
      "display_name": "Python 3"
    },
    "language_info": {
      "name": "python"
    }
  },
  "cells": [
    {
      "cell_type": "markdown",
      "metadata": {
        "id": "view-in-github",
        "colab_type": "text"
      },
      "source": [
        "<a href=\"https://colab.research.google.com/github/jarpepegit/Meuverso/blob/main/course_materials/C%C3%A1lculo_I.ipynb\" target=\"_parent\"><img src=\"https://colab.research.google.com/assets/colab-badge.svg\" alt=\"Open In Colab\"/></a>"
      ]
    },
    {
      "cell_type": "markdown",
      "source": [
        "# **Bem-vindos!**\n",
        "(De: José Agapito Ruiz)\n",
        "\n",
        "<br>\n",
        "\n",
        "Decidi criar um caderno de notas onde colocarei **material de apoio** e as **resoluções** (nem sempre completas) de **alguns** dos exercícios abordados nas aulas para acompanhar a explicação. Espero que possam aproveitá-lo. **Bom trabalho!**\n",
        "\n",
        "**Último material postado** a: ([17/12/2023](#scrollTo=pFgxS1bReGdc)).\n",
        "\n",
        ">**Importante:** Para visualizar os ficheiros PDF usados no caderno, é necessário executar os códigos encontrados no caminho, iniciando com a execução dos dois seguintes:"
      ],
      "metadata": {
        "id": "oKIRLn8wdg8N"
      }
    },
    {
      "cell_type": "markdown",
      "source": [
        "# **Resolução de equações e inequações com valor absoluto**"
      ],
      "metadata": {
        "id": "n7CcpLrs-EHr"
      }
    },
    {
      "cell_type": "code",
      "source": [
        "from pdf2image import convert_from_path, convert_from_bytes\n",
        "from IPython.display import display, Image\n",
        "\n",
        "images = convert_from_bytes(open('/content/drive/MyDrive/eqineqcva.pdf', 'rb').read(), size=1300)\n",
        "display(images[0],images[1],images[2],images[3],images[4],images[5])"
      ],
      "metadata": {
        "id": "BH9gmHkO_OKM"
      },
      "execution_count": null,
      "outputs": []
    },
    {
      "cell_type": "code",
      "source": [
        "from IPython.display import IFrame\n",
        "\n",
        "IFrame(src='https://drive.google.com/file/d/1v35JYaqSQ4efjrx6UnPLhv6xIZ7Yp2wN', width=920, height=580)"
      ],
      "metadata": {
        "colab": {
          "base_uri": "https://localhost:8080/",
          "height": 601
        },
        "id": "qUZUovReGPfe",
        "outputId": "eb2ad364-ee12-4753-b0fa-d0d63960b7fd"
      },
      "execution_count": null,
      "outputs": [
        {
          "output_type": "execute_result",
          "data": {
            "text/plain": [
              "<IPython.lib.display.IFrame at 0x7c6d58dedcc0>"
            ],
            "text/html": [
              "\n",
              "        <iframe\n",
              "            width=\"920\"\n",
              "            height=\"580\"\n",
              "            src=\"https://drive.google.com/file/d/1v35JYaqSQ4efjrx6UnPLhv6xIZ7Yp2wN\"\n",
              "            frameborder=\"0\"\n",
              "            allowfullscreen\n",
              "            \n",
              "        ></iframe>\n",
              "        "
            ]
          },
          "metadata": {},
          "execution_count": 2
        }
      ]
    },
    {
      "cell_type": "markdown",
      "source": [
        "# **Resolução de inequações com expressões racionais (método dos pontos críticos)**"
      ],
      "metadata": {
        "id": "yFktSdJ5x1DE"
      }
    },
    {
      "cell_type": "code",
      "source": [
        "from pdf2image import convert_from_path, convert_from_bytes\n",
        "from IPython.display import display, Image\n",
        "\n",
        "images = convert_from_bytes(open('/content/drive/MyDrive/MetPontosCriticos.pdf', 'rb').read(), size=1300)\n",
        "display(images[0],images[1])"
      ],
      "metadata": {
        "colab": {
          "base_uri": "https://localhost:8080/",
          "height": 454
        },
        "id": "ialplrc3zIlZ",
        "outputId": "3b05cb12-1693-44e2-ca2f-eb92867febc2"
      },
      "execution_count": null,
      "outputs": [
        {
          "output_type": "error",
          "ename": "PDFInfoNotInstalledError",
          "evalue": "Unable to get page count. Is poppler installed and in PATH?",
          "traceback": [
            "\u001b[0;31m---------------------------------------------------------------------------\u001b[0m",
            "\u001b[0;31mFileNotFoundError\u001b[0m                         Traceback (most recent call last)",
            "\u001b[0;32m/usr/local/lib/python3.10/dist-packages/pdf2image/pdf2image.py\u001b[0m in \u001b[0;36mpdfinfo_from_path\u001b[0;34m(pdf_path, userpw, ownerpw, poppler_path, rawdates, timeout, first_page, last_page)\u001b[0m\n\u001b[1;32m    580\u001b[0m             \u001b[0menv\u001b[0m\u001b[0;34m[\u001b[0m\u001b[0;34m\"LD_LIBRARY_PATH\"\u001b[0m\u001b[0;34m]\u001b[0m \u001b[0;34m=\u001b[0m \u001b[0mpoppler_path\u001b[0m \u001b[0;34m+\u001b[0m \u001b[0;34m\":\"\u001b[0m \u001b[0;34m+\u001b[0m \u001b[0menv\u001b[0m\u001b[0;34m.\u001b[0m\u001b[0mget\u001b[0m\u001b[0;34m(\u001b[0m\u001b[0;34m\"LD_LIBRARY_PATH\"\u001b[0m\u001b[0;34m,\u001b[0m \u001b[0;34m\"\"\u001b[0m\u001b[0;34m)\u001b[0m\u001b[0;34m\u001b[0m\u001b[0;34m\u001b[0m\u001b[0m\n\u001b[0;32m--> 581\u001b[0;31m         \u001b[0mproc\u001b[0m \u001b[0;34m=\u001b[0m \u001b[0mPopen\u001b[0m\u001b[0;34m(\u001b[0m\u001b[0mcommand\u001b[0m\u001b[0;34m,\u001b[0m \u001b[0menv\u001b[0m\u001b[0;34m=\u001b[0m\u001b[0menv\u001b[0m\u001b[0;34m,\u001b[0m \u001b[0mstdout\u001b[0m\u001b[0;34m=\u001b[0m\u001b[0mPIPE\u001b[0m\u001b[0;34m,\u001b[0m \u001b[0mstderr\u001b[0m\u001b[0;34m=\u001b[0m\u001b[0mPIPE\u001b[0m\u001b[0;34m)\u001b[0m\u001b[0;34m\u001b[0m\u001b[0;34m\u001b[0m\u001b[0m\n\u001b[0m\u001b[1;32m    582\u001b[0m \u001b[0;34m\u001b[0m\u001b[0m\n",
            "\u001b[0;32m/usr/lib/python3.10/subprocess.py\u001b[0m in \u001b[0;36m__init__\u001b[0;34m(self, args, bufsize, executable, stdin, stdout, stderr, preexec_fn, close_fds, shell, cwd, env, universal_newlines, startupinfo, creationflags, restore_signals, start_new_session, pass_fds, user, group, extra_groups, encoding, errors, text, umask, pipesize)\u001b[0m\n\u001b[1;32m    970\u001b[0m \u001b[0;34m\u001b[0m\u001b[0m\n\u001b[0;32m--> 971\u001b[0;31m             self._execute_child(args, executable, preexec_fn, close_fds,\n\u001b[0m\u001b[1;32m    972\u001b[0m                                 \u001b[0mpass_fds\u001b[0m\u001b[0;34m,\u001b[0m \u001b[0mcwd\u001b[0m\u001b[0;34m,\u001b[0m \u001b[0menv\u001b[0m\u001b[0;34m,\u001b[0m\u001b[0;34m\u001b[0m\u001b[0;34m\u001b[0m\u001b[0m\n",
            "\u001b[0;32m/usr/lib/python3.10/subprocess.py\u001b[0m in \u001b[0;36m_execute_child\u001b[0;34m(self, args, executable, preexec_fn, close_fds, pass_fds, cwd, env, startupinfo, creationflags, shell, p2cread, p2cwrite, c2pread, c2pwrite, errread, errwrite, restore_signals, gid, gids, uid, umask, start_new_session)\u001b[0m\n\u001b[1;32m   1862\u001b[0m                         \u001b[0merr_msg\u001b[0m \u001b[0;34m=\u001b[0m \u001b[0mos\u001b[0m\u001b[0;34m.\u001b[0m\u001b[0mstrerror\u001b[0m\u001b[0;34m(\u001b[0m\u001b[0merrno_num\u001b[0m\u001b[0;34m)\u001b[0m\u001b[0;34m\u001b[0m\u001b[0;34m\u001b[0m\u001b[0m\n\u001b[0;32m-> 1863\u001b[0;31m                     \u001b[0;32mraise\u001b[0m \u001b[0mchild_exception_type\u001b[0m\u001b[0;34m(\u001b[0m\u001b[0merrno_num\u001b[0m\u001b[0;34m,\u001b[0m \u001b[0merr_msg\u001b[0m\u001b[0;34m,\u001b[0m \u001b[0merr_filename\u001b[0m\u001b[0;34m)\u001b[0m\u001b[0;34m\u001b[0m\u001b[0;34m\u001b[0m\u001b[0m\n\u001b[0m\u001b[1;32m   1864\u001b[0m                 \u001b[0;32mraise\u001b[0m \u001b[0mchild_exception_type\u001b[0m\u001b[0;34m(\u001b[0m\u001b[0merr_msg\u001b[0m\u001b[0;34m)\u001b[0m\u001b[0;34m\u001b[0m\u001b[0;34m\u001b[0m\u001b[0m\n",
            "\u001b[0;31mFileNotFoundError\u001b[0m: [Errno 2] No such file or directory: 'pdfinfo'",
            "\nDuring handling of the above exception, another exception occurred:\n",
            "\u001b[0;31mPDFInfoNotInstalledError\u001b[0m                  Traceback (most recent call last)",
            "\u001b[0;32m<ipython-input-4-6d21a173b959>\u001b[0m in \u001b[0;36m<cell line: 4>\u001b[0;34m()\u001b[0m\n\u001b[1;32m      2\u001b[0m \u001b[0;32mfrom\u001b[0m \u001b[0mIPython\u001b[0m\u001b[0;34m.\u001b[0m\u001b[0mdisplay\u001b[0m \u001b[0;32mimport\u001b[0m \u001b[0mdisplay\u001b[0m\u001b[0;34m,\u001b[0m \u001b[0mImage\u001b[0m\u001b[0;34m\u001b[0m\u001b[0;34m\u001b[0m\u001b[0m\n\u001b[1;32m      3\u001b[0m \u001b[0;34m\u001b[0m\u001b[0m\n\u001b[0;32m----> 4\u001b[0;31m \u001b[0mimages\u001b[0m \u001b[0;34m=\u001b[0m \u001b[0mconvert_from_bytes\u001b[0m\u001b[0;34m(\u001b[0m\u001b[0mopen\u001b[0m\u001b[0;34m(\u001b[0m\u001b[0;34m'/content/drive/MyDrive/MetPontosCriticos.pdf'\u001b[0m\u001b[0;34m,\u001b[0m \u001b[0;34m'rb'\u001b[0m\u001b[0;34m)\u001b[0m\u001b[0;34m.\u001b[0m\u001b[0mread\u001b[0m\u001b[0;34m(\u001b[0m\u001b[0;34m)\u001b[0m\u001b[0;34m,\u001b[0m \u001b[0msize\u001b[0m\u001b[0;34m=\u001b[0m\u001b[0;36m1300\u001b[0m\u001b[0;34m)\u001b[0m\u001b[0;34m\u001b[0m\u001b[0;34m\u001b[0m\u001b[0m\n\u001b[0m\u001b[1;32m      5\u001b[0m \u001b[0mdisplay\u001b[0m\u001b[0;34m(\u001b[0m\u001b[0mimages\u001b[0m\u001b[0;34m[\u001b[0m\u001b[0;36m0\u001b[0m\u001b[0;34m]\u001b[0m\u001b[0;34m,\u001b[0m\u001b[0mimages\u001b[0m\u001b[0;34m[\u001b[0m\u001b[0;36m1\u001b[0m\u001b[0;34m]\u001b[0m\u001b[0;34m)\u001b[0m\u001b[0;34m\u001b[0m\u001b[0;34m\u001b[0m\u001b[0m\n",
            "\u001b[0;32m/usr/local/lib/python3.10/dist-packages/pdf2image/pdf2image.py\u001b[0m in \u001b[0;36mconvert_from_bytes\u001b[0;34m(pdf_file, dpi, output_folder, first_page, last_page, fmt, jpegopt, thread_count, userpw, ownerpw, use_cropbox, strict, transparent, single_file, output_file, poppler_path, grayscale, size, paths_only, use_pdftocairo, timeout, hide_annotations)\u001b[0m\n\u001b[1;32m    357\u001b[0m             \u001b[0mf\u001b[0m\u001b[0;34m.\u001b[0m\u001b[0mwrite\u001b[0m\u001b[0;34m(\u001b[0m\u001b[0mpdf_file\u001b[0m\u001b[0;34m)\u001b[0m\u001b[0;34m\u001b[0m\u001b[0;34m\u001b[0m\u001b[0m\n\u001b[1;32m    358\u001b[0m             \u001b[0mf\u001b[0m\u001b[0;34m.\u001b[0m\u001b[0mflush\u001b[0m\u001b[0;34m(\u001b[0m\u001b[0;34m)\u001b[0m\u001b[0;34m\u001b[0m\u001b[0;34m\u001b[0m\u001b[0m\n\u001b[0;32m--> 359\u001b[0;31m             return convert_from_path(\n\u001b[0m\u001b[1;32m    360\u001b[0m                 \u001b[0mf\u001b[0m\u001b[0;34m.\u001b[0m\u001b[0mname\u001b[0m\u001b[0;34m,\u001b[0m\u001b[0;34m\u001b[0m\u001b[0;34m\u001b[0m\u001b[0m\n\u001b[1;32m    361\u001b[0m                 \u001b[0mdpi\u001b[0m\u001b[0;34m=\u001b[0m\u001b[0mdpi\u001b[0m\u001b[0;34m,\u001b[0m\u001b[0;34m\u001b[0m\u001b[0;34m\u001b[0m\u001b[0m\n",
            "\u001b[0;32m/usr/local/lib/python3.10/dist-packages/pdf2image/pdf2image.py\u001b[0m in \u001b[0;36mconvert_from_path\u001b[0;34m(pdf_path, dpi, output_folder, first_page, last_page, fmt, jpegopt, thread_count, userpw, ownerpw, use_cropbox, strict, transparent, single_file, output_file, poppler_path, grayscale, size, paths_only, use_pdftocairo, timeout, hide_annotations)\u001b[0m\n\u001b[1;32m    125\u001b[0m         \u001b[0mpoppler_path\u001b[0m \u001b[0;34m=\u001b[0m \u001b[0mpoppler_path\u001b[0m\u001b[0;34m.\u001b[0m\u001b[0mas_posix\u001b[0m\u001b[0;34m(\u001b[0m\u001b[0;34m)\u001b[0m\u001b[0;34m\u001b[0m\u001b[0;34m\u001b[0m\u001b[0m\n\u001b[1;32m    126\u001b[0m \u001b[0;34m\u001b[0m\u001b[0m\n\u001b[0;32m--> 127\u001b[0;31m     page_count = pdfinfo_from_path(\n\u001b[0m\u001b[1;32m    128\u001b[0m         \u001b[0mpdf_path\u001b[0m\u001b[0;34m,\u001b[0m \u001b[0muserpw\u001b[0m\u001b[0;34m,\u001b[0m \u001b[0mownerpw\u001b[0m\u001b[0;34m,\u001b[0m \u001b[0mpoppler_path\u001b[0m\u001b[0;34m=\u001b[0m\u001b[0mpoppler_path\u001b[0m\u001b[0;34m\u001b[0m\u001b[0;34m\u001b[0m\u001b[0m\n\u001b[1;32m    129\u001b[0m     )[\"Pages\"]\n",
            "\u001b[0;32m/usr/local/lib/python3.10/dist-packages/pdf2image/pdf2image.py\u001b[0m in \u001b[0;36mpdfinfo_from_path\u001b[0;34m(pdf_path, userpw, ownerpw, poppler_path, rawdates, timeout, first_page, last_page)\u001b[0m\n\u001b[1;32m    605\u001b[0m \u001b[0;34m\u001b[0m\u001b[0m\n\u001b[1;32m    606\u001b[0m     \u001b[0;32mexcept\u001b[0m \u001b[0mOSError\u001b[0m\u001b[0;34m:\u001b[0m\u001b[0;34m\u001b[0m\u001b[0;34m\u001b[0m\u001b[0m\n\u001b[0;32m--> 607\u001b[0;31m         raise PDFInfoNotInstalledError(\n\u001b[0m\u001b[1;32m    608\u001b[0m             \u001b[0;34m\"Unable to get page count. Is poppler installed and in PATH?\"\u001b[0m\u001b[0;34m\u001b[0m\u001b[0;34m\u001b[0m\u001b[0m\n\u001b[1;32m    609\u001b[0m         )\n",
            "\u001b[0;31mPDFInfoNotInstalledError\u001b[0m: Unable to get page count. Is poppler installed and in PATH?"
          ]
        }
      ]
    },
    {
      "cell_type": "markdown",
      "source": [
        "# **Alguns modelos de gráficas de funções**"
      ],
      "metadata": {
        "id": "CuvPEzYvKkQY"
      }
    },
    {
      "cell_type": "code",
      "source": [
        "from pdf2image import convert_from_path, convert_from_bytes\n",
        "from IPython.display import display, Image\n",
        "\n",
        "images = convert_from_bytes(open('/content/drive/MyDrive/modelos-funcoes.pdf', 'rb').read(), size=1300)\n",
        "display(images[0],images[1],images[2],images[3],images[4],images[5])"
      ],
      "metadata": {
        "id": "cfrQAWVVKoyR",
        "colab": {
          "base_uri": "https://localhost:8080/",
          "height": 454
        },
        "outputId": "8e11ad4b-f9ac-49e4-e39e-3f7aa4ac3272"
      },
      "execution_count": null,
      "outputs": [
        {
          "output_type": "error",
          "ename": "PDFInfoNotInstalledError",
          "evalue": "Unable to get page count. Is poppler installed and in PATH?",
          "traceback": [
            "\u001b[0;31m---------------------------------------------------------------------------\u001b[0m",
            "\u001b[0;31mFileNotFoundError\u001b[0m                         Traceback (most recent call last)",
            "\u001b[0;32m/usr/local/lib/python3.10/dist-packages/pdf2image/pdf2image.py\u001b[0m in \u001b[0;36mpdfinfo_from_path\u001b[0;34m(pdf_path, userpw, ownerpw, poppler_path, rawdates, timeout, first_page, last_page)\u001b[0m\n\u001b[1;32m    580\u001b[0m             \u001b[0menv\u001b[0m\u001b[0;34m[\u001b[0m\u001b[0;34m\"LD_LIBRARY_PATH\"\u001b[0m\u001b[0;34m]\u001b[0m \u001b[0;34m=\u001b[0m \u001b[0mpoppler_path\u001b[0m \u001b[0;34m+\u001b[0m \u001b[0;34m\":\"\u001b[0m \u001b[0;34m+\u001b[0m \u001b[0menv\u001b[0m\u001b[0;34m.\u001b[0m\u001b[0mget\u001b[0m\u001b[0;34m(\u001b[0m\u001b[0;34m\"LD_LIBRARY_PATH\"\u001b[0m\u001b[0;34m,\u001b[0m \u001b[0;34m\"\"\u001b[0m\u001b[0;34m)\u001b[0m\u001b[0;34m\u001b[0m\u001b[0;34m\u001b[0m\u001b[0m\n\u001b[0;32m--> 581\u001b[0;31m         \u001b[0mproc\u001b[0m \u001b[0;34m=\u001b[0m \u001b[0mPopen\u001b[0m\u001b[0;34m(\u001b[0m\u001b[0mcommand\u001b[0m\u001b[0;34m,\u001b[0m \u001b[0menv\u001b[0m\u001b[0;34m=\u001b[0m\u001b[0menv\u001b[0m\u001b[0;34m,\u001b[0m \u001b[0mstdout\u001b[0m\u001b[0;34m=\u001b[0m\u001b[0mPIPE\u001b[0m\u001b[0;34m,\u001b[0m \u001b[0mstderr\u001b[0m\u001b[0;34m=\u001b[0m\u001b[0mPIPE\u001b[0m\u001b[0;34m)\u001b[0m\u001b[0;34m\u001b[0m\u001b[0;34m\u001b[0m\u001b[0m\n\u001b[0m\u001b[1;32m    582\u001b[0m \u001b[0;34m\u001b[0m\u001b[0m\n",
            "\u001b[0;32m/usr/lib/python3.10/subprocess.py\u001b[0m in \u001b[0;36m__init__\u001b[0;34m(self, args, bufsize, executable, stdin, stdout, stderr, preexec_fn, close_fds, shell, cwd, env, universal_newlines, startupinfo, creationflags, restore_signals, start_new_session, pass_fds, user, group, extra_groups, encoding, errors, text, umask, pipesize)\u001b[0m\n\u001b[1;32m    970\u001b[0m \u001b[0;34m\u001b[0m\u001b[0m\n\u001b[0;32m--> 971\u001b[0;31m             self._execute_child(args, executable, preexec_fn, close_fds,\n\u001b[0m\u001b[1;32m    972\u001b[0m                                 \u001b[0mpass_fds\u001b[0m\u001b[0;34m,\u001b[0m \u001b[0mcwd\u001b[0m\u001b[0;34m,\u001b[0m \u001b[0menv\u001b[0m\u001b[0;34m,\u001b[0m\u001b[0;34m\u001b[0m\u001b[0;34m\u001b[0m\u001b[0m\n",
            "\u001b[0;32m/usr/lib/python3.10/subprocess.py\u001b[0m in \u001b[0;36m_execute_child\u001b[0;34m(self, args, executable, preexec_fn, close_fds, pass_fds, cwd, env, startupinfo, creationflags, shell, p2cread, p2cwrite, c2pread, c2pwrite, errread, errwrite, restore_signals, gid, gids, uid, umask, start_new_session)\u001b[0m\n\u001b[1;32m   1862\u001b[0m                         \u001b[0merr_msg\u001b[0m \u001b[0;34m=\u001b[0m \u001b[0mos\u001b[0m\u001b[0;34m.\u001b[0m\u001b[0mstrerror\u001b[0m\u001b[0;34m(\u001b[0m\u001b[0merrno_num\u001b[0m\u001b[0;34m)\u001b[0m\u001b[0;34m\u001b[0m\u001b[0;34m\u001b[0m\u001b[0m\n\u001b[0;32m-> 1863\u001b[0;31m                     \u001b[0;32mraise\u001b[0m \u001b[0mchild_exception_type\u001b[0m\u001b[0;34m(\u001b[0m\u001b[0merrno_num\u001b[0m\u001b[0;34m,\u001b[0m \u001b[0merr_msg\u001b[0m\u001b[0;34m,\u001b[0m \u001b[0merr_filename\u001b[0m\u001b[0;34m)\u001b[0m\u001b[0;34m\u001b[0m\u001b[0;34m\u001b[0m\u001b[0m\n\u001b[0m\u001b[1;32m   1864\u001b[0m                 \u001b[0;32mraise\u001b[0m \u001b[0mchild_exception_type\u001b[0m\u001b[0;34m(\u001b[0m\u001b[0merr_msg\u001b[0m\u001b[0;34m)\u001b[0m\u001b[0;34m\u001b[0m\u001b[0;34m\u001b[0m\u001b[0m\n",
            "\u001b[0;31mFileNotFoundError\u001b[0m: [Errno 2] No such file or directory: 'pdfinfo'",
            "\nDuring handling of the above exception, another exception occurred:\n",
            "\u001b[0;31mPDFInfoNotInstalledError\u001b[0m                  Traceback (most recent call last)",
            "\u001b[0;32m<ipython-input-3-214c443c5158>\u001b[0m in \u001b[0;36m<cell line: 4>\u001b[0;34m()\u001b[0m\n\u001b[1;32m      2\u001b[0m \u001b[0;32mfrom\u001b[0m \u001b[0mIPython\u001b[0m\u001b[0;34m.\u001b[0m\u001b[0mdisplay\u001b[0m \u001b[0;32mimport\u001b[0m \u001b[0mdisplay\u001b[0m\u001b[0;34m,\u001b[0m \u001b[0mImage\u001b[0m\u001b[0;34m\u001b[0m\u001b[0;34m\u001b[0m\u001b[0m\n\u001b[1;32m      3\u001b[0m \u001b[0;34m\u001b[0m\u001b[0m\n\u001b[0;32m----> 4\u001b[0;31m \u001b[0mimages\u001b[0m \u001b[0;34m=\u001b[0m \u001b[0mconvert_from_bytes\u001b[0m\u001b[0;34m(\u001b[0m\u001b[0mopen\u001b[0m\u001b[0;34m(\u001b[0m\u001b[0;34m'/content/drive/MyDrive/modelos-funcoes.pdf'\u001b[0m\u001b[0;34m,\u001b[0m \u001b[0;34m'rb'\u001b[0m\u001b[0;34m)\u001b[0m\u001b[0;34m.\u001b[0m\u001b[0mread\u001b[0m\u001b[0;34m(\u001b[0m\u001b[0;34m)\u001b[0m\u001b[0;34m,\u001b[0m \u001b[0msize\u001b[0m\u001b[0;34m=\u001b[0m\u001b[0;36m1300\u001b[0m\u001b[0;34m)\u001b[0m\u001b[0;34m\u001b[0m\u001b[0;34m\u001b[0m\u001b[0m\n\u001b[0m\u001b[1;32m      5\u001b[0m \u001b[0mdisplay\u001b[0m\u001b[0;34m(\u001b[0m\u001b[0mimages\u001b[0m\u001b[0;34m[\u001b[0m\u001b[0;36m0\u001b[0m\u001b[0;34m]\u001b[0m\u001b[0;34m,\u001b[0m\u001b[0mimages\u001b[0m\u001b[0;34m[\u001b[0m\u001b[0;36m1\u001b[0m\u001b[0;34m]\u001b[0m\u001b[0;34m,\u001b[0m\u001b[0mimages\u001b[0m\u001b[0;34m[\u001b[0m\u001b[0;36m2\u001b[0m\u001b[0;34m]\u001b[0m\u001b[0;34m,\u001b[0m\u001b[0mimages\u001b[0m\u001b[0;34m[\u001b[0m\u001b[0;36m3\u001b[0m\u001b[0;34m]\u001b[0m\u001b[0;34m,\u001b[0m\u001b[0mimages\u001b[0m\u001b[0;34m[\u001b[0m\u001b[0;36m4\u001b[0m\u001b[0;34m]\u001b[0m\u001b[0;34m,\u001b[0m\u001b[0mimages\u001b[0m\u001b[0;34m[\u001b[0m\u001b[0;36m5\u001b[0m\u001b[0;34m]\u001b[0m\u001b[0;34m)\u001b[0m\u001b[0;34m\u001b[0m\u001b[0;34m\u001b[0m\u001b[0m\n",
            "\u001b[0;32m/usr/local/lib/python3.10/dist-packages/pdf2image/pdf2image.py\u001b[0m in \u001b[0;36mconvert_from_bytes\u001b[0;34m(pdf_file, dpi, output_folder, first_page, last_page, fmt, jpegopt, thread_count, userpw, ownerpw, use_cropbox, strict, transparent, single_file, output_file, poppler_path, grayscale, size, paths_only, use_pdftocairo, timeout, hide_annotations)\u001b[0m\n\u001b[1;32m    357\u001b[0m             \u001b[0mf\u001b[0m\u001b[0;34m.\u001b[0m\u001b[0mwrite\u001b[0m\u001b[0;34m(\u001b[0m\u001b[0mpdf_file\u001b[0m\u001b[0;34m)\u001b[0m\u001b[0;34m\u001b[0m\u001b[0;34m\u001b[0m\u001b[0m\n\u001b[1;32m    358\u001b[0m             \u001b[0mf\u001b[0m\u001b[0;34m.\u001b[0m\u001b[0mflush\u001b[0m\u001b[0;34m(\u001b[0m\u001b[0;34m)\u001b[0m\u001b[0;34m\u001b[0m\u001b[0;34m\u001b[0m\u001b[0m\n\u001b[0;32m--> 359\u001b[0;31m             return convert_from_path(\n\u001b[0m\u001b[1;32m    360\u001b[0m                 \u001b[0mf\u001b[0m\u001b[0;34m.\u001b[0m\u001b[0mname\u001b[0m\u001b[0;34m,\u001b[0m\u001b[0;34m\u001b[0m\u001b[0;34m\u001b[0m\u001b[0m\n\u001b[1;32m    361\u001b[0m                 \u001b[0mdpi\u001b[0m\u001b[0;34m=\u001b[0m\u001b[0mdpi\u001b[0m\u001b[0;34m,\u001b[0m\u001b[0;34m\u001b[0m\u001b[0;34m\u001b[0m\u001b[0m\n",
            "\u001b[0;32m/usr/local/lib/python3.10/dist-packages/pdf2image/pdf2image.py\u001b[0m in \u001b[0;36mconvert_from_path\u001b[0;34m(pdf_path, dpi, output_folder, first_page, last_page, fmt, jpegopt, thread_count, userpw, ownerpw, use_cropbox, strict, transparent, single_file, output_file, poppler_path, grayscale, size, paths_only, use_pdftocairo, timeout, hide_annotations)\u001b[0m\n\u001b[1;32m    125\u001b[0m         \u001b[0mpoppler_path\u001b[0m \u001b[0;34m=\u001b[0m \u001b[0mpoppler_path\u001b[0m\u001b[0;34m.\u001b[0m\u001b[0mas_posix\u001b[0m\u001b[0;34m(\u001b[0m\u001b[0;34m)\u001b[0m\u001b[0;34m\u001b[0m\u001b[0;34m\u001b[0m\u001b[0m\n\u001b[1;32m    126\u001b[0m \u001b[0;34m\u001b[0m\u001b[0m\n\u001b[0;32m--> 127\u001b[0;31m     page_count = pdfinfo_from_path(\n\u001b[0m\u001b[1;32m    128\u001b[0m         \u001b[0mpdf_path\u001b[0m\u001b[0;34m,\u001b[0m \u001b[0muserpw\u001b[0m\u001b[0;34m,\u001b[0m \u001b[0mownerpw\u001b[0m\u001b[0;34m,\u001b[0m \u001b[0mpoppler_path\u001b[0m\u001b[0;34m=\u001b[0m\u001b[0mpoppler_path\u001b[0m\u001b[0;34m\u001b[0m\u001b[0;34m\u001b[0m\u001b[0m\n\u001b[1;32m    129\u001b[0m     )[\"Pages\"]\n",
            "\u001b[0;32m/usr/local/lib/python3.10/dist-packages/pdf2image/pdf2image.py\u001b[0m in \u001b[0;36mpdfinfo_from_path\u001b[0;34m(pdf_path, userpw, ownerpw, poppler_path, rawdates, timeout, first_page, last_page)\u001b[0m\n\u001b[1;32m    605\u001b[0m \u001b[0;34m\u001b[0m\u001b[0m\n\u001b[1;32m    606\u001b[0m     \u001b[0;32mexcept\u001b[0m \u001b[0mOSError\u001b[0m\u001b[0;34m:\u001b[0m\u001b[0;34m\u001b[0m\u001b[0;34m\u001b[0m\u001b[0m\n\u001b[0;32m--> 607\u001b[0;31m         raise PDFInfoNotInstalledError(\n\u001b[0m\u001b[1;32m    608\u001b[0m             \u001b[0;34m\"Unable to get page count. Is poppler installed and in PATH?\"\u001b[0m\u001b[0;34m\u001b[0m\u001b[0;34m\u001b[0m\u001b[0m\n\u001b[1;32m    609\u001b[0m         )\n",
            "\u001b[0;31mPDFInfoNotInstalledError\u001b[0m: Unable to get page count. Is poppler installed and in PATH?"
          ]
        }
      ]
    },
    {
      "cell_type": "markdown",
      "source": [
        "# **Uma rápida introdução às funções trigonométricas inversas**\n",
        "\n",
        "A seguir, um vídeo extraído do YouTube, de um tal [Professor Leonard](https://www.youtube.com/@ProfessorLeonard) que faz uma explicação amena das funções trigonométricas inversas."
      ],
      "metadata": {
        "id": "18aGk1walm1I"
      }
    },
    {
      "cell_type": "code",
      "source": [
        "from IPython.display import YouTubeVideo\n",
        "YouTubeVideo('ih01YszlraY',920,580)"
      ],
      "metadata": {
        "id": "rHQpwONumDC4",
        "colab": {
          "base_uri": "https://localhost:8080/",
          "height": 601
        },
        "outputId": "4f7e0528-97a6-4b5f-86c0-524b7f78b73a"
      },
      "execution_count": null,
      "outputs": [
        {
          "output_type": "execute_result",
          "data": {
            "text/plain": [
              "<IPython.lib.display.YouTubeVideo at 0x78730cbca290>"
            ],
            "text/html": [
              "\n",
              "        <iframe\n",
              "            width=\"920\"\n",
              "            height=\"580\"\n",
              "            src=\"https://www.youtube.com/embed/ih01YszlraY\"\n",
              "            frameborder=\"0\"\n",
              "            allowfullscreen\n",
              "            \n",
              "        ></iframe>\n",
              "        "
            ],
            "image/jpeg": "[encoded data removed]"
          },
          "metadata": {},
          "execution_count": 1
        }
      ]
    },
    {
      "cell_type": "markdown",
      "source": [
        "# **Cálculo Diferencial em $\\mathbb{R}$**\n",
        "\n"
      ],
      "metadata": {
        "id": "jFJZJiS9mHjD"
      }
    },
    {
      "cell_type": "markdown",
      "source": [
        "## Formulário\n",
        "\n",
        "A continuação uma tabela de fórmulas preparada pela Professora do Iscal, [Margarida Carvalho](https://www.iscal.ipl.pt/margarida-maria-da-silva-carvalho)."
      ],
      "metadata": {
        "id": "VxeaJgYzR00E"
      }
    },
    {
      "cell_type": "code",
      "source": [
        "from pdf2image import convert_from_path, convert_from_bytes\n",
        "from IPython.display import display, Image\n",
        "\n",
        "images = convert_from_bytes(open('/content/drive/MyDrive/FORMULARIO_Matematica_I_2022_2023.pdf', 'rb').read(), size=1300)\n",
        "display(images[0])"
      ],
      "metadata": {
        "id": "JmHUnl49uF7H",
        "colab": {
          "base_uri": "https://localhost:8080/",
          "height": 454
        },
        "outputId": "4adc3798-400a-47ef-d370-572ea6564968"
      },
      "execution_count": null,
      "outputs": [
        {
          "output_type": "error",
          "ename": "PDFInfoNotInstalledError",
          "evalue": "Unable to get page count. Is poppler installed and in PATH?",
          "traceback": [
            "\u001b[0;31m---------------------------------------------------------------------------\u001b[0m",
            "\u001b[0;31mFileNotFoundError\u001b[0m                         Traceback (most recent call last)",
            "\u001b[0;32m/usr/local/lib/python3.10/dist-packages/pdf2image/pdf2image.py\u001b[0m in \u001b[0;36mpdfinfo_from_path\u001b[0;34m(pdf_path, userpw, ownerpw, poppler_path, rawdates, timeout, first_page, last_page)\u001b[0m\n\u001b[1;32m    580\u001b[0m             \u001b[0menv\u001b[0m\u001b[0;34m[\u001b[0m\u001b[0;34m\"LD_LIBRARY_PATH\"\u001b[0m\u001b[0;34m]\u001b[0m \u001b[0;34m=\u001b[0m \u001b[0mpoppler_path\u001b[0m \u001b[0;34m+\u001b[0m \u001b[0;34m\":\"\u001b[0m \u001b[0;34m+\u001b[0m \u001b[0menv\u001b[0m\u001b[0;34m.\u001b[0m\u001b[0mget\u001b[0m\u001b[0;34m(\u001b[0m\u001b[0;34m\"LD_LIBRARY_PATH\"\u001b[0m\u001b[0;34m,\u001b[0m \u001b[0;34m\"\"\u001b[0m\u001b[0;34m)\u001b[0m\u001b[0;34m\u001b[0m\u001b[0;34m\u001b[0m\u001b[0m\n\u001b[0;32m--> 581\u001b[0;31m         \u001b[0mproc\u001b[0m \u001b[0;34m=\u001b[0m \u001b[0mPopen\u001b[0m\u001b[0;34m(\u001b[0m\u001b[0mcommand\u001b[0m\u001b[0;34m,\u001b[0m \u001b[0menv\u001b[0m\u001b[0;34m=\u001b[0m\u001b[0menv\u001b[0m\u001b[0;34m,\u001b[0m \u001b[0mstdout\u001b[0m\u001b[0;34m=\u001b[0m\u001b[0mPIPE\u001b[0m\u001b[0;34m,\u001b[0m \u001b[0mstderr\u001b[0m\u001b[0;34m=\u001b[0m\u001b[0mPIPE\u001b[0m\u001b[0;34m)\u001b[0m\u001b[0;34m\u001b[0m\u001b[0;34m\u001b[0m\u001b[0m\n\u001b[0m\u001b[1;32m    582\u001b[0m \u001b[0;34m\u001b[0m\u001b[0m\n",
            "\u001b[0;32m/usr/lib/python3.10/subprocess.py\u001b[0m in \u001b[0;36m__init__\u001b[0;34m(self, args, bufsize, executable, stdin, stdout, stderr, preexec_fn, close_fds, shell, cwd, env, universal_newlines, startupinfo, creationflags, restore_signals, start_new_session, pass_fds, user, group, extra_groups, encoding, errors, text, umask, pipesize)\u001b[0m\n\u001b[1;32m    970\u001b[0m \u001b[0;34m\u001b[0m\u001b[0m\n\u001b[0;32m--> 971\u001b[0;31m             self._execute_child(args, executable, preexec_fn, close_fds,\n\u001b[0m\u001b[1;32m    972\u001b[0m                                 \u001b[0mpass_fds\u001b[0m\u001b[0;34m,\u001b[0m \u001b[0mcwd\u001b[0m\u001b[0;34m,\u001b[0m \u001b[0menv\u001b[0m\u001b[0;34m,\u001b[0m\u001b[0;34m\u001b[0m\u001b[0;34m\u001b[0m\u001b[0m\n",
            "\u001b[0;32m/usr/lib/python3.10/subprocess.py\u001b[0m in \u001b[0;36m_execute_child\u001b[0;34m(self, args, executable, preexec_fn, close_fds, pass_fds, cwd, env, startupinfo, creationflags, shell, p2cread, p2cwrite, c2pread, c2pwrite, errread, errwrite, restore_signals, gid, gids, uid, umask, start_new_session)\u001b[0m\n\u001b[1;32m   1862\u001b[0m                         \u001b[0merr_msg\u001b[0m \u001b[0;34m=\u001b[0m \u001b[0mos\u001b[0m\u001b[0;34m.\u001b[0m\u001b[0mstrerror\u001b[0m\u001b[0;34m(\u001b[0m\u001b[0merrno_num\u001b[0m\u001b[0;34m)\u001b[0m\u001b[0;34m\u001b[0m\u001b[0;34m\u001b[0m\u001b[0m\n\u001b[0;32m-> 1863\u001b[0;31m                     \u001b[0;32mraise\u001b[0m \u001b[0mchild_exception_type\u001b[0m\u001b[0;34m(\u001b[0m\u001b[0merrno_num\u001b[0m\u001b[0;34m,\u001b[0m \u001b[0merr_msg\u001b[0m\u001b[0;34m,\u001b[0m \u001b[0merr_filename\u001b[0m\u001b[0;34m)\u001b[0m\u001b[0;34m\u001b[0m\u001b[0;34m\u001b[0m\u001b[0m\n\u001b[0m\u001b[1;32m   1864\u001b[0m                 \u001b[0;32mraise\u001b[0m \u001b[0mchild_exception_type\u001b[0m\u001b[0;34m(\u001b[0m\u001b[0merr_msg\u001b[0m\u001b[0;34m)\u001b[0m\u001b[0;34m\u001b[0m\u001b[0;34m\u001b[0m\u001b[0m\n",
            "\u001b[0;31mFileNotFoundError\u001b[0m: [Errno 2] No such file or directory: 'pdfinfo'",
            "\nDuring handling of the above exception, another exception occurred:\n",
            "\u001b[0;31mPDFInfoNotInstalledError\u001b[0m                  Traceback (most recent call last)",
            "\u001b[0;32m<ipython-input-6-97371ec450ca>\u001b[0m in \u001b[0;36m<cell line: 4>\u001b[0;34m()\u001b[0m\n\u001b[1;32m      2\u001b[0m \u001b[0;32mfrom\u001b[0m \u001b[0mIPython\u001b[0m\u001b[0;34m.\u001b[0m\u001b[0mdisplay\u001b[0m \u001b[0;32mimport\u001b[0m \u001b[0mdisplay\u001b[0m\u001b[0;34m,\u001b[0m \u001b[0mImage\u001b[0m\u001b[0;34m\u001b[0m\u001b[0;34m\u001b[0m\u001b[0m\n\u001b[1;32m      3\u001b[0m \u001b[0;34m\u001b[0m\u001b[0m\n\u001b[0;32m----> 4\u001b[0;31m \u001b[0mimages\u001b[0m \u001b[0;34m=\u001b[0m \u001b[0mconvert_from_bytes\u001b[0m\u001b[0;34m(\u001b[0m\u001b[0mopen\u001b[0m\u001b[0;34m(\u001b[0m\u001b[0;34m'/content/drive/MyDrive/FORMULARIO_Matematica_I_2022_2023.pdf'\u001b[0m\u001b[0;34m,\u001b[0m \u001b[0;34m'rb'\u001b[0m\u001b[0;34m)\u001b[0m\u001b[0;34m.\u001b[0m\u001b[0mread\u001b[0m\u001b[0;34m(\u001b[0m\u001b[0;34m)\u001b[0m\u001b[0;34m,\u001b[0m \u001b[0msize\u001b[0m\u001b[0;34m=\u001b[0m\u001b[0;36m1300\u001b[0m\u001b[0;34m)\u001b[0m\u001b[0;34m\u001b[0m\u001b[0;34m\u001b[0m\u001b[0m\n\u001b[0m\u001b[1;32m      5\u001b[0m \u001b[0mdisplay\u001b[0m\u001b[0;34m(\u001b[0m\u001b[0mimages\u001b[0m\u001b[0;34m[\u001b[0m\u001b[0;36m0\u001b[0m\u001b[0;34m]\u001b[0m\u001b[0;34m)\u001b[0m\u001b[0;34m\u001b[0m\u001b[0;34m\u001b[0m\u001b[0m\n",
            "\u001b[0;32m/usr/local/lib/python3.10/dist-packages/pdf2image/pdf2image.py\u001b[0m in \u001b[0;36mconvert_from_bytes\u001b[0;34m(pdf_file, dpi, output_folder, first_page, last_page, fmt, jpegopt, thread_count, userpw, ownerpw, use_cropbox, strict, transparent, single_file, output_file, poppler_path, grayscale, size, paths_only, use_pdftocairo, timeout, hide_annotations)\u001b[0m\n\u001b[1;32m    357\u001b[0m             \u001b[0mf\u001b[0m\u001b[0;34m.\u001b[0m\u001b[0mwrite\u001b[0m\u001b[0;34m(\u001b[0m\u001b[0mpdf_file\u001b[0m\u001b[0;34m)\u001b[0m\u001b[0;34m\u001b[0m\u001b[0;34m\u001b[0m\u001b[0m\n\u001b[1;32m    358\u001b[0m             \u001b[0mf\u001b[0m\u001b[0;34m.\u001b[0m\u001b[0mflush\u001b[0m\u001b[0;34m(\u001b[0m\u001b[0;34m)\u001b[0m\u001b[0;34m\u001b[0m\u001b[0;34m\u001b[0m\u001b[0m\n\u001b[0;32m--> 359\u001b[0;31m             return convert_from_path(\n\u001b[0m\u001b[1;32m    360\u001b[0m                 \u001b[0mf\u001b[0m\u001b[0;34m.\u001b[0m\u001b[0mname\u001b[0m\u001b[0;34m,\u001b[0m\u001b[0;34m\u001b[0m\u001b[0;34m\u001b[0m\u001b[0m\n\u001b[1;32m    361\u001b[0m                 \u001b[0mdpi\u001b[0m\u001b[0;34m=\u001b[0m\u001b[0mdpi\u001b[0m\u001b[0;34m,\u001b[0m\u001b[0;34m\u001b[0m\u001b[0;34m\u001b[0m\u001b[0m\n",
            "\u001b[0;32m/usr/local/lib/python3.10/dist-packages/pdf2image/pdf2image.py\u001b[0m in \u001b[0;36mconvert_from_path\u001b[0;34m(pdf_path, dpi, output_folder, first_page, last_page, fmt, jpegopt, thread_count, userpw, ownerpw, use_cropbox, strict, transparent, single_file, output_file, poppler_path, grayscale, size, paths_only, use_pdftocairo, timeout, hide_annotations)\u001b[0m\n\u001b[1;32m    125\u001b[0m         \u001b[0mpoppler_path\u001b[0m \u001b[0;34m=\u001b[0m \u001b[0mpoppler_path\u001b[0m\u001b[0;34m.\u001b[0m\u001b[0mas_posix\u001b[0m\u001b[0;34m(\u001b[0m\u001b[0;34m)\u001b[0m\u001b[0;34m\u001b[0m\u001b[0;34m\u001b[0m\u001b[0m\n\u001b[1;32m    126\u001b[0m \u001b[0;34m\u001b[0m\u001b[0m\n\u001b[0;32m--> 127\u001b[0;31m     page_count = pdfinfo_from_path(\n\u001b[0m\u001b[1;32m    128\u001b[0m         \u001b[0mpdf_path\u001b[0m\u001b[0;34m,\u001b[0m \u001b[0muserpw\u001b[0m\u001b[0;34m,\u001b[0m \u001b[0mownerpw\u001b[0m\u001b[0;34m,\u001b[0m \u001b[0mpoppler_path\u001b[0m\u001b[0;34m=\u001b[0m\u001b[0mpoppler_path\u001b[0m\u001b[0;34m\u001b[0m\u001b[0;34m\u001b[0m\u001b[0m\n\u001b[1;32m    129\u001b[0m     )[\"Pages\"]\n",
            "\u001b[0;32m/usr/local/lib/python3.10/dist-packages/pdf2image/pdf2image.py\u001b[0m in \u001b[0;36mpdfinfo_from_path\u001b[0;34m(pdf_path, userpw, ownerpw, poppler_path, rawdates, timeout, first_page, last_page)\u001b[0m\n\u001b[1;32m    605\u001b[0m \u001b[0;34m\u001b[0m\u001b[0m\n\u001b[1;32m    606\u001b[0m     \u001b[0;32mexcept\u001b[0m \u001b[0mOSError\u001b[0m\u001b[0;34m:\u001b[0m\u001b[0;34m\u001b[0m\u001b[0;34m\u001b[0m\u001b[0m\n\u001b[0;32m--> 607\u001b[0;31m         raise PDFInfoNotInstalledError(\n\u001b[0m\u001b[1;32m    608\u001b[0m             \u001b[0;34m\"Unable to get page count. Is poppler installed and in PATH?\"\u001b[0m\u001b[0;34m\u001b[0m\u001b[0;34m\u001b[0m\u001b[0m\n\u001b[1;32m    609\u001b[0m         )\n",
            "\u001b[0;31mPDFInfoNotInstalledError\u001b[0m: Unable to get page count. Is poppler installed and in PATH?"
          ]
        }
      ]
    },
    {
      "cell_type": "markdown",
      "source": [
        "## Resolução de alguns dos problemas abordados nas aulas\n",
        "\n",
        "Irão ser colocados periodicamente nesta secção a resolução ou esboço de resolução de alguns dos exercícios das fichas com indicação da data de publicacão (em constante atualização) do primeiro exercício da lista de exercícios colocados no dia referenciado.\n",
        "\n",
        "(postado a [4/10/2023](#scrollTo=slf6hP4YxWFV&line=3&uniqifier=1))"
      ],
      "metadata": {
        "id": "kyFuv2fFnyC2"
      }
    },
    {
      "cell_type": "markdown",
      "source": [
        "### 2. Calcule a função derivada de\n",
        "\n",
        "> **t.** $\\hspace{1cm} y = \\arcsin(x^2-4)$.\n",
        "\n",
        "\n",
        "\n",
        "\n",
        "\n",
        "\n"
      ],
      "metadata": {
        "id": "kt5pkn9DHJzi"
      }
    },
    {
      "cell_type": "markdown",
      "source": [
        "**Solução.**\n",
        "\n",
        "Tenhamos em mente o seguinte esboço"
      ],
      "metadata": {
        "id": "TgW-IM5DSoFZ"
      }
    },
    {
      "cell_type": "code",
      "source": [
        "# Change the size of an image in Google Colab using Python.\n",
        "\n",
        "# Change the size of an image in Google Colab using Python.\n",
        "import os\n",
        "from PIL import Image\n",
        "import glob\n",
        "\n",
        "# Corrected file path with double backslashes or raw string\n",
        "img_path = '/content/drive/MyDrive/images/Derivada_arcsin.png'\n",
        "\n",
        "# Open the image\n",
        "img = Image.open(img_path)\n",
        "\n",
        "# Calculate the new height while maintaining the aspect ratio\n",
        "width, height = img.size\n",
        "new_width = 600\n",
        "new_height = int(height * new_width / width)\n",
        "\n",
        "# Create a new resized image\n",
        "rimage = img.resize((new_width, new_height))\n",
        "\n",
        "print('Size (old):{}'.format(img.size))\n",
        "print('Size (new):{}'.format(rimage.size))\n",
        "\n",
        "# Display the resized image\n",
        "display(rimage)"
      ],
      "metadata": {
        "id": "I1EwXGtFGEKq",
        "colab": {
          "base_uri": "https://localhost:8080/",
          "height": 383
        },
        "outputId": "d223a747-604c-465a-9862-ef1d78c898d9"
      },
      "execution_count": null,
      "outputs": [
        {
          "output_type": "stream",
          "name": "stdout",
          "text": [
            "Size (old):(1546, 853)\n",
            "Size (new):(600, 331)\n"
          ]
        },
        {
          "output_type": "display_data",
          "data": {
            "text/plain": [
              "<PIL.Image.Image image mode=RGBA size=600x331>"
            ],
            "image/png": "[encoded data removed]"
          },
          "metadata": {}
        }
      ]
    },
    {
      "cell_type": "markdown",
      "source": [
        "Ora bem, usando derivada da função composta, obtemos\n",
        "\n",
        "$$y'= \\frac{1}{\\sqrt{1-(x^2-4)^2}}\\cdot(x^2-4)'=\\frac{2x}{\\sqrt{1-(x^2-4)^2}}.$$\n",
        "\n",
        "<br>\n",
        "\n",
        "---"
      ],
      "metadata": {
        "id": "XSI-Zmx6Rk99"
      }
    },
    {
      "cell_type": "markdown",
      "source": [
        "### 3. Determine a função derivada e o domínio de diferenciabilidade da seguinte função.\n",
        "\n",
        "> **a.** $\\hspace{1cm}f(x) = \\begin{cases}e^{-\\tfrac{1}{x^2}}, & x\\neq 0 \\\\[1ex]\n",
        "0, & x=0\\end{cases}$"
      ],
      "metadata": {
        "id": "J1t_iZY0put1"
      }
    },
    {
      "cell_type": "markdown",
      "source": [
        "**Solução.**\n",
        "\n",
        "Olhando para a expressão que define $f$, podemos afirmar **_sem temor a dizer um disparate_**, que para qualquer $x\\neq 0$, a derivada é\n",
        "$$f'(x) = e^{-\\tfrac{1}{x^2}}\\cdot \\left(-\\tfrac{1}{x^2}\\right)'=e^{-\\tfrac{1}{x^2}}\\cdot \\tfrac{2x}{x^4}=2\\tfrac{e^{-\\frac{1}{x^2}}}{x^3}.$$\n",
        "\n",
        "Repare-se que a expressão encontrada para a derivada faz sentido para qualquer $x\\neq 0$. Onde temos de ter cuidado é com a derivada em $x=0$. Neste caso temos de usar a definição\n",
        "$$f'(0) = \\lim_{x\\to 0} \\frac{f(x)-f(0)}{x-0} = \\lim_{x\\to 0} \\frac{e^{-1/x^2}}{x}.$$\n",
        "\n",
        "Temos uma indeterminação do tipo $\\frac{0}{0}$. Usando mudança de variáveis: $\\frac{1}{x}=t$, fazendo que $x\\to 0^-$ ($x<0$), temos que $t\\to -\\infty$. Logo,\n",
        "$$\\lim_{x\\to 0^-} \\frac{e^{-1/x^2}}{x} = \\lim_{t\\to-\\infty}\\frac{t}{e^{t^2}}.$$\n",
        "\n",
        "A indeterminação é agora $\\frac{\\infty}{\\infty}$. Usando a fórmula de L'Hospital, temos\n",
        "$$\\lim_{t\\to-\\infty} \\frac{1}{2t\\, e^{t^2}}=0.$$\n",
        "Similarmente, quando $x\\to 0^+$, temos que $t\\to +\\infty$ e verifica-se também que\n",
        "$$\\lim_{x\\to 0^+}=\\frac{e^{-1/x^2}}{x} = \\lim_{t\\to+\\infty}\\frac{t}{e^{t^2}}=\\frac{1}{2t\\, e^{t^2}}=0.$$\n",
        "\n",
        "Em conclusão, $\\exists\\,f'(0)$ e $f'(0)=0$.\n",
        "\n",
        "<br>\n",
        "\n",
        "---"
      ],
      "metadata": {
        "id": "Eq3fyfcWS4NY"
      }
    },
    {
      "cell_type": "markdown",
      "source": [
        "### 7. Mostre que a normal à curva de equação $3y=6x-5x^3$ no ponto $A(1,\\frac{1}{3})$ contém a origem das coordenadas."
      ],
      "metadata": {
        "id": "jkwbDk6SkfIu"
      }
    },
    {
      "cell_type": "markdown",
      "source": [
        "**Solução.**\n",
        "\n",
        "A reta **normal** à uma curva num ponto dado é a reta **perpendicular** à reta **tangente** à curva no ponto dado.\n",
        "\n",
        "O que sabemos da reta normal?\n",
        "\n",
        "> Sabemos que o **declive** da reta normal e o declive da reta tangente multiplicados dão $-1$.\n",
        "\n",
        "Portanto, seja $N: y = m_{_N}x+b$ a equação da reta normal à curva $C: 3y=6x-5x^3$ no ponto $A$. Chamemos $m_{_T}$ ao declive da reta tangente à $C$ no ponto $A$. Como o declive da reta tangente à $C$ no ponto $A$ é\n",
        "$$m_{_T}=y'(1)=\\left(\\tfrac{6}{3}x-\\tfrac{5}{3}x^3\\right)'\\Big\\vert_{x=1}=\\left(\\tfrac{6}{3}-5x^2\\right)\\Big\\vert_{x=1}=-\\tfrac{9}{3}=-3,$$\n",
        "então, segue-se que\n",
        "$$m_{_N} = \\tfrac{1}{3}.$$\n",
        "Logo, a equação da reta normal é\n",
        "$$N:\\quad y = \\tfrac{1}{3}x+b.$$\n",
        "Como $A(1,1/3)$ é um ponto de passo (pertence à curva $N$), deve satisfazer a equação cartesiana de $N$. Assim, temos que\n",
        "$$\\tfrac{1}{3}=\\tfrac{1}{3}(1)+b\\quad\\Longrightarrow\\quad b=0.$$\n",
        "Fica assim provado que a reta normal passa pela origem.\n",
        "\n",
        "No desenho seguinte (usando [Geogebra](https://www.geogebra.org/)) temos a interpretação geométrica do problema.\n",
        "\n",
        "![tangente_e_normal_a_uma_cubica.png](https://drive.google.com/uc?id=1-0ywiu2bY2GTe57uzG-HAQzG-3Afuy6u)\n",
        "\n",
        "<br>\n",
        "\n",
        "---"
      ],
      "metadata": {
        "id": "SKzAnf9Jl9ZO"
      }
    },
    {
      "cell_type": "markdown",
      "source": [
        "### 9. Utilizando a derivação implícita, calcule $\\frac{dy}{dx}$ na seguinte alínea:\n",
        "> **e.** $\\hspace{1cm}x-y^2-y^3=4.$"
      ],
      "metadata": {
        "id": "wZ3HBiOTToff"
      }
    },
    {
      "cell_type": "markdown",
      "source": [
        "**Solução.**\n",
        "\n",
        "$$\\begin{equation}\n",
        "\\begin{array}{ccc}\n",
        "\\frac{d}{dx}\\left(x-y^2-y^3\\right) &=& \\frac{d}{dx} 4 \\\\[1ex]\n",
        "1 - 2y\\,y' - 3y^2\\,y' &=& 0 \\\\[1ex]\n",
        "1 &=& (2y+3y^2)y' \\\\[1ex]\n",
        "\\frac{1}{y(2+3y)} &=& y' \\\\[1ex]\n",
        "\\end{array}\n",
        "\\end{equation}$$\n",
        "\n",
        "<br>\n",
        "\n",
        "sempre que $y\\neq 0$ ou $2+3y\\neq 0$.\n",
        "\n",
        "<br>\n",
        "\n",
        "---"
      ],
      "metadata": {
        "id": "3ChRAYI-qbtq"
      }
    },
    {
      "cell_type": "markdown",
      "source": [
        "### 12. Calcule os seguintes limites\n",
        "\n",
        "> **a.** $\\hspace{1cm}\\displaystyle\\lim_{x\\to 1}\\frac{\\tan(x-1)}{x-1}$\n",
        ">\n",
        "> **e.** $\\hspace{1cm}\\displaystyle\\lim_{x\\to 0^+}x\\,\\log x$"
      ],
      "metadata": {
        "id": "DNjCBYq0XP_Q"
      }
    },
    {
      "cell_type": "markdown",
      "source": [
        "**Solução.**\n",
        "\n",
        "**a.** $\\hspace{1cm}\\displaystyle\\lim_{x\\to 1}\\frac{\\tan(x-1)}{x-1}\\rightsquigarrow\\fbox{indeterminação do tipo $\\frac{0}{0}$}$. Usando a regra de Cauchy (conhecida também por regra de L'Hospital) temos\n",
        "\n",
        "$$\\lim_{x\\to 1}\\frac{\\tan(x-1)}{x-1} = \\lim_{x\\to 1}\\frac{\\frac{d}{dx}(\\tan(x-1))}{\\frac{d}{dx}(x-1)}=\\lim_{x\\to 1}\\frac{\\sec^2(x-1)}{1}=1.$$\n",
        "\n",
        "<br>\n",
        "\n",
        "**e.** $\\hspace{1cm}\\displaystyle\\lim_{x\\to 0^+} x\\log x\\rightsquigarrow\\fbox{indeterminação do tipo $0\\cdot\\infty$}$. Usando a regra de Cauchy (conhecida também por regra de L'Hospital) temos\n",
        "\n",
        "$$\\lim_{x\\to 0^+}x\\log x = \\lim_{x\\to 0^+}\\frac{\\log x}{\\frac{1}{x}} = \\lim_{x\\to 0^+}\\frac{\\frac{1}{x}}{-\\frac{1}{x^2}} = \\lim_{x\\to 0^+}-x = 0 .$$\n",
        "\n",
        "<br>\n",
        "\n",
        "---"
      ],
      "metadata": {
        "id": "u-AsLoDSa50X"
      }
    },
    {
      "cell_type": "markdown",
      "source": [
        "### 15. Esboce o gráfico das seguintes funções. Aspetos a ser referidos: domínio, interseção com os eixos coordenados, continuidade, assíntotas, monotonia, extremos relativos, concavidade, pontos de inflexão.\n",
        "\n",
        "> **i.** $\\hspace{1cm}f(x) = \\arctan\\left(\\frac{x}{x-1}\\right).$"
      ],
      "metadata": {
        "id": "slf6hP4YxWFV"
      }
    },
    {
      "cell_type": "markdown",
      "source": [
        "**Solução.**\n",
        "\n",
        "**Onde está definida $f(x)$?**\n",
        "\n",
        ">> Olhando para a expressão, notamos que trata-se da composição da função $\\arctan(x)$ com a função $\\frac{x}{x-1}$. A função $g(x)=\\arctan(x)$ está definida **para qualquer** $x\\in\\mathbb{R}$. Por outra parte, a função $h(x)=\\frac{x}{x-1}$ está definida **para qualquer** $x\\in\\mathbb{R}\\setminus\\{1\\}$. Logo, a expressão $f(x)=(g\\circ h)(x)=g\\big(h(x)\\big)=\\arctan\\left(\\frac{x}{x-1}\\right)$ faz sentido onde ambas funções $g$ e $h$ façam sentido simultaneamente, ou seja **para qualquer** $x\\in\\mathbb{R}\\setminus\\{1\\}$.\n",
        ">>\n",
        ">> $$\\operatorname{Dom}f=\\mathbb{R}\\setminus\\{1\\}.$$\n",
        "\n",
        "**Qual é o domínio de continuidade de $f(x)$?**\n",
        "\n",
        ">> Como $g(x)=\\arctan(x)$ é contínua em $\\mathbb{R}$ e $h(x)=\\frac{x}{x-1}$ é contínua em $\\mathbb{R}\\setminus\\{1\\}$, a função composta $f(x)=(g\\circ h)(x)$ é contínua em $\\mathbb{R}\\setminus\\{1\\}$. Claramente não é contínua em $x=1$ porque não está definida nesse ponto.\n",
        "\n",
        "**Qual é o comportamento de $f(x)$ perto de 1?**\n",
        "\n",
        ">> $$\\lim_{x\\to 1^-}f(x)=\\lim_{x\\to 1^-}\\arctan\\left(\\frac{x}{x-1}\\right)=\\arctan\\left(\\lim_{x\\to 1^-}\\frac{x}{x-1}\\right)=\\arctan\\left(\\frac{1}{0^-}\\right)=\\lim_{x\\to-\\infty}\\arctan(x)=-\\frac{\\pi}{2}.$$\n",
        ">>\n",
        ">> A segunda identidade, a partir da esquerda, justifica-se pelo facto da função $g(x)=\\arctan(x)$ ser contínua no seu domínio, ou seja em $\\mathbb{R}$.\n",
        ">>\n",
        ">> ![arctan(x).png](https://drive.google.com/uc?id=1XnB0fL1YmRk53i1btDFQoM1f3gF0yvng)\n",
        ">>\n",
        ">>Similarmente, temos que\n",
        ">>\n",
        ">>$$\\lim_{x\\to 1^+}f(x)=\\lim_{x\\to 1^+}\\arctan\\left(\\frac{x}{x-1}\\right)=\\arctan\\left(\\lim_{x\\to 1^+}\\frac{x}{x-1}\\right)=\\arctan\\left(\\frac{1}{0^+}\\right)=\\lim_{x\\to+\\infty}\\arctan(x)=\\frac{\\pi}{2}.$$\n",
        ">>\n",
        ">>Repare-se que no cálculo dos limites laterais, à esquerda e à direita de $1$, se tivessemos obtido $\\pm\\infty$, então $x=1$ seria uma assíntota vertical. Porém, não é o caso. Em resumo, temos\n",
        ">>\n",
        ">> $$\\lim_{x\\to 1^-}f(x) =-\\frac{\\pi}{2}\\quad,\\quad\\lim_{x\\to 1^+}f(x) =\\frac{\\pi}{2}.$$\n",
        "\n",
        "**Qual é o comportamento de $f(x)$ quando $x\\to+\\infty$ e quando $x\\to-\\infty$?**\n",
        "\n",
        ">> $$\\lim_{x\\to+\\infty}f(x)=\\lim_{x\\to+\\infty}\\arctan\\left(\\frac{x}{x-1}\\right)=\\arctan\\left(\\lim_{x\\to+\\infty}\\frac{x}{x-1}\\right)=\\arctan(1)=\\frac{\\pi}{4}.$$\n",
        ">>\n",
        ">>\n",
        ">>\n",
        ">> $$\\lim_{x\\to-\\infty}f(x)=\\lim_{x\\to-\\infty}\\arctan\\left(\\frac{x}{x-1}\\right)=\\arctan\\left(\\lim_{x\\to-\\infty}\\frac{x}{x-1}\\right)=\\arctan(1)=\\frac{\\pi}{4}.$$\n",
        "\n",
        "**Interseções com os eixos coordenados**\n",
        "\n",
        ">> <u>Com o eixo x:</u> ($y=0$)\n",
        ">>\n",
        ">> $$\\begin{array}{lcl}\n",
        "f(x)=\\arctan\\left(\\frac{x}{x-1}\\right)=0 & \\Longleftrightarrow &  \\frac{x}{x-1}=0 \\\\[2ex]\n",
        "& \\Longleftrightarrow &  x=0 .\n",
        "\\end{array}\n",
        "$$\n",
        ">>\n",
        ">> <u>Com o eixo y:</u> ($x=0$)\n",
        ">>\n",
        ">> Do resultado anterior, segue-se que $y=0$.\n",
        ">>\n",
        ">> Portanto, $(0,0)$ pertence ao gráfico de $f$.\n",
        "\n",
        "**Nota importante:** Observe-se que a função $g(x)=\\arctan(x)$ é uma função **crescente** e a função $h(x)$ é uma função **decrescente** (é uma translação da hipérbola $1/x$). Portanto, o gráfico de $f(x)=g\\big(h(x)\\big)$ é **também decrescente**, porque o comportamento de $h(x)$ é **preservado** por $g(x)$, e mais ainda, o gráfico de $f$ será muito parecido ao gráfico de $h$ com as correspondentes limitações impostas pelo comportamento de $g$. A seguir, um clipe dos gráficos de $g$ e $h$, para compará-los com o gráfico do $f$ que apresentaremos no final.\n",
        "\n",
        ">>\n",
        ">> ![arctan(x).png](https://drive.google.com/uc?id=1XnB0fL1YmRk53i1btDFQoM1f3gF0yvng)\n",
        ">>\n",
        ">> ---\n",
        ">>\n",
        ">>![hiperbola.png](https://drive.google.com/uc?id=1tHyNNC05qEl_LWm21-qn2qRHnFJkhB8w)\n",
        "\n",
        "**Análise de monotonia e extremos relativos**\n",
        "\n",
        ">> $$y'=\\frac{d}{dx}\\left(\\arctan\\left(\\frac{x}{x-1}\\right)\\right)=\\frac{1}{1+\\left(\\frac{x}{x-1}\\right)^2}\\cdot\\frac{x-1-x}{(x-1)^2}=\\frac{-1}{(x-1)^2+x^2}=\\frac{-1}{2(x-\\frac{1}{2})^2+\\frac{1}{2}}.$$\n",
        ">>\n",
        ">> Como $(x-1)^2+x^2=2\\left(x-\\frac{1}{2}\\right)^2+\\frac{1}{2}>0$ para qualquer $x\\in\\mathbb{R}$ (em particular para $x\\in\\operatorname{Dom}f$), a primeira derivada de $f$ é **sempre negativa**; logo é (estritamente)decrescente. Não tem extremos relativos.\n",
        "\n",
        "**Análise de concavidade e pontos de inflexão**\n",
        "\n",
        ">> $$y''=\\frac{d}{dx}\\left(\\frac{-1}{(x-1)^2+x^2}\\right)=\\frac{2(x-1)+2x}{\\big((x-1)^2+x^2\\big)^2}=\\frac{2(2x-1)}{\\big((x-1)^2+x^2\\big)^2}$$\n",
        ">>\n",
        ">> O denominador na expressão racional acima é **sempre positivo;** portanto, o sinal de $y''$ só depende do numerador. Temos um único ponto crítico, a saber $x=\\frac{1}{2}$. A seguir, o tipo de concavidade nas regiões determinadas pelos pontos críticos.\n",
        ">>\n",
        ">> ![Segunda derivada](https://drive.google.com/uc?id=1CusA8nFi_ZwNRVhLZyCrp4G2OcueGlBJ)\n",
        ">> Logo, em $x=\\frac{1}{2}$ temos um ponto de inflexão. Este ponto é $\\left(\\frac{1}{2},-\\frac{\\pi}{4}\\right)$.\n",
        "\n",
        "**Esboço do gráfico de $\\arctan\\left(\\frac{x}{x-1}\\right)$**\n",
        "\n",
        ">> ![Gráfico de arctan(x/(x-1))](https://drive.google.com/uc?id=1NHhoPcAjBScquG33h3NpwBuYBA7Kw-8M)\n"
      ],
      "metadata": {
        "id": "V1zoNKIPxlPB"
      }
    },
    {
      "cell_type": "markdown",
      "source": [
        "## Teorema de Lagrange\n",
        "\n",
        "A seguir, um vídeo muito ilustrativo da [Khan Academy](https://www.khanacademy.org/) em Português sobre o teorema de Lagrange.\n",
        "\n",
        "(postado a **27/09/2023**)"
      ],
      "metadata": {
        "id": "JTJYfdonunBx"
      }
    },
    {
      "cell_type": "code",
      "source": [
        "from IPython.display import YouTubeVideo\n",
        "YouTubeVideo('jIEBl7kQjFU',920,580)"
      ],
      "metadata": {
        "id": "PPN9wewDjXWK",
        "colab": {
          "base_uri": "https://localhost:8080/",
          "height": 601
        },
        "outputId": "b3cfc58a-b31f-4d71-b965-dfcd36766f74"
      },
      "execution_count": null,
      "outputs": [
        {
          "output_type": "execute_result",
          "data": {
            "text/plain": [
              "<IPython.lib.display.YouTubeVideo at 0x78730cbc9a20>"
            ],
            "text/html": [
              "\n",
              "        <iframe\n",
              "            width=\"920\"\n",
              "            height=\"580\"\n",
              "            src=\"https://www.youtube.com/embed/jIEBl7kQjFU\"\n",
              "            frameborder=\"0\"\n",
              "            allowfullscreen\n",
              "            \n",
              "        ></iframe>\n",
              "        "
            ],
            "image/jpeg": "[encoded data removed]"
          },
          "metadata": {},
          "execution_count": 3
        }
      ]
    },
    {
      "cell_type": "markdown",
      "source": [
        "## Polinómios de Taylor\n",
        "\n",
        "(postado a **9/10/2023**)\n",
        "\n",
        "O Professor [João Teixeira Pinto](https://www.math.tecnico.ulisboa.pt/~jpinto/) do [Instituto Superior Técnico de Lisboa](https://tecnico.ulisboa.pt/pt/) tem na sua página pessoal, material muito elucidativo sobre vários tópicos de Cálculo. A coninuação, deixo-vos o ficheiro html sobre **polinómios de Taylor** com uma ilustração interactiva como aquelas que temos visto nas aulas usando a aplicação [Geogebra](https://www.geogebra.org). Podem saltar a parte das demonstrações e estudar os exemplos."
      ],
      "metadata": {
        "id": "hu7reW4HheB5"
      }
    },
    {
      "cell_type": "code",
      "source": [
        "from IPython.display import IFrame\n",
        "\n",
        "IFrame(src='https://www.math.tecnico.ulisboa.pt/~jpinto/ci2020a/aula_teorica_23.html', width=920, height=580)\n"
      ],
      "metadata": {
        "colab": {
          "base_uri": "https://localhost:8080/",
          "height": 621
        },
        "id": "Y8aLQtAzgdAv",
        "outputId": "f21a5899-8325-40d9-cd90-305a0d07ae4c"
      },
      "execution_count": null,
      "outputs": [
        {
          "output_type": "execute_result",
          "data": {
            "text/plain": [
              "<IPython.lib.display.IFrame at 0x7c9981853e20>"
            ],
            "text/html": [
              "\n",
              "        <iframe\n",
              "            width=\"920\"\n",
              "            height=\"580\"\n",
              "            src=\"https://www.math.tecnico.ulisboa.pt/~jpinto/ci2020a/aula_teorica_23.html\"\n",
              "            frameborder=\"0\"\n",
              "            allowfullscreen\n",
              "            \n",
              "        ></iframe>\n",
              "        "
            ]
          },
          "metadata": {},
          "execution_count": 3
        }
      ]
    },
    {
      "cell_type": "markdown",
      "source": [
        "# **Cálculo Integral em $\\mathbb{R}$**"
      ],
      "metadata": {
        "id": "aL9XMS7FfOzG"
      }
    },
    {
      "cell_type": "markdown",
      "source": [
        "## Primitivas"
      ],
      "metadata": {
        "id": "cDV4D4fUQ0km"
      }
    },
    {
      "cell_type": "markdown",
      "source": [
        "\n",
        "\n",
        "A pergunta que temos de responder é a seguinte:\n",
        "\n",
        "**Dada uma função $f(x)$, qual a função $F(x)$ tal que\n",
        "$\\bbox[5px,border:2px solid red]{F'(x)=f(x)}$ ?**<br>\n",
        "\n",
        "A resposta a esta pergunta implica resolver uma equação (diferencial porque aparece por ai uma derivada).\n",
        "\n",
        "**Notação.** Usaremos **_indistintamente_** a seguinte notação ao longo do semestre: &nbsp;&nbsp; $F(x),\\quad Pf(x),\\quad\\displaystyle{\\int} f(x),\\quad\\displaystyle{\\int} f(x)\\,dx$.\n",
        "\n",
        ">Estudaremos **quatro técnicas** para calcular primitivas:\n",
        ">\n",
        ">- Reconhecimento por observação simples.\n",
        ">- Substituição/Mudança de variáveis.\n",
        ">- Integração por partes.\n",
        ">- Decomposição de expressões racionais em fracções simples.\n",
        "\n",
        "No cálculo de primitivas pode ser necessário o uso de mais do que uma técnica na resolução de um exercício."
      ],
      "metadata": {
        "id": "QmUWdPANDXMN"
      }
    },
    {
      "cell_type": "markdown",
      "source": [
        "## Material de apoio"
      ],
      "metadata": {
        "id": "ee7JimhuQviu"
      }
    },
    {
      "cell_type": "markdown",
      "source": [
        "A seguir, deixo-vos mais otro material muito bem apresentado do Prof. [João Teixeira Pinto](https://www.math.tecnico.ulisboa.pt/~jpinto/ci2020a/aula_teorica_24.html). Podem saltar a parte das demonstrações e a conclusão da fórmula de Taylor e passar diretamente para o início das primitivas.\n",
        "\n",
        "(postado a **9/10/2023**)"
      ],
      "metadata": {
        "id": "WCTn4o_dRkgK"
      }
    },
    {
      "cell_type": "code",
      "source": [
        "from IPython.display import IFrame\n",
        "\n",
        "IFrame(src='https://www.math.tecnico.ulisboa.pt/~jpinto/ci2020a/aula_teorica_24.html', width=920, height=580)\n"
      ],
      "metadata": {
        "id": "nXWJLYsNDXMX",
        "outputId": "24e0a1ee-6a08-4135-af91-7790446bb7f8",
        "colab": {
          "base_uri": "https://localhost:8080/",
          "height": 601
        }
      },
      "execution_count": null,
      "outputs": [
        {
          "output_type": "execute_result",
          "data": {
            "text/plain": [
              "<IPython.lib.display.IFrame at 0x7eeed334a440>"
            ],
            "text/html": [
              "\n",
              "        <iframe\n",
              "            width=\"920\"\n",
              "            height=\"580\"\n",
              "            src=\"https://www.math.tecnico.ulisboa.pt/~jpinto/ci2020a/aula_teorica_24.html\"\n",
              "            frameborder=\"0\"\n",
              "            allowfullscreen\n",
              "            \n",
              "        ></iframe>\n",
              "        "
            ]
          },
          "metadata": {},
          "execution_count": 1
        }
      ]
    },
    {
      "cell_type": "markdown",
      "source": [
        "## Resolução de alguns exercícios abordados nas aulas\n",
        "\n",
        "Irão ser colocados periodicamente nesta secção a resolução ou esboço de resolução de alguns dos exercícios das fichas com indicação da data de publicacão (em constante atualização) do primeiro exercício da lista de exercícios colocados no dia referenciado.\n",
        "\n",
        "Uma ferramenta útil para **testar** que deram o tipo de primitiva certa é usar o [Wolfram Alpha](https://www.wolframaplha.com), que tem várias funcionalidades interessantes. **Experimentem** quando tiverem tempo.\n",
        "\n",
        "(postado a [9/11/2023](#scrollTo=ktWx8CSrfv7v))"
      ],
      "metadata": {
        "id": "l_3jqyHF3rFC"
      }
    },
    {
      "cell_type": "markdown",
      "source": [
        "### 1. Calcule as primitivas das funções definidas por:\n",
        "\n",
        "> **c.** $\\hspace{1cm}f(x)=\\sqrt[5]{x}-\\frac{1}{x^2}-\\frac{1}{x^5}+\\frac{1}{\\sqrt{x}}.$\n",
        ">\n",
        "> **g.** $\\hspace{1cm}f(x)=\\frac{2x^3}{\\sqrt[3]{3+4x^4}}.$\n",
        ">\n",
        "> **j.** $\\hspace{1cm}f(x)=\\frac{x^2+1}{x^3+3x}.$\n",
        ">\n",
        "> **m.** $\\hspace{1cm}f(x)=5\\sin\\left(\\frac{x}{3}\\right).$\n",
        ">\n",
        "> **s.** $\\hspace{1cm}f(x)=\\frac{1}{1+9x^2}.$\n",
        ">\n",
        "> **x.** $\\hspace{1cm}f(x)=\\frac{2x}{\\sqrt{9-x^4}}.$\n",
        ">\n",
        "> **r.** $\\hspace{1cm}\\color{red}{\\textbf{Caso Interessante:}}\\hspace{1cm}f(x)=8x\\tan(x^2).$"
      ],
      "metadata": {
        "id": "jdMqIH__33Ez"
      }
    },
    {
      "cell_type": "markdown",
      "source": [
        "**Solução:** Nos seguintes exercícios usaremos a técnica de **reconhecimento por observação simples**.\n",
        "\n",
        "**c.** &nbsp;&nbsp; Primeiro, damos uma forma **_mais conveniente_** para $f(x)$. Assim, temos\n",
        "\n",
        "$$f(x)=x^{1/5}-x^{-2}-x^{-5}+x^{-1/2}.$$\n",
        "\n",
        "<br>\n",
        "\n",
        "$$\\begin{array}{lcl}\n",
        "\\displaystyle{\\int}\\left(x^{1/5}-x^{-2}-x^{-5}+x^{-1/2}\\right)\\,dx &=& \\displaystyle{\\int} x^{1/5}\\,dx \\,\\,+\\, \\displaystyle{\\int}-x^{-2}\\,dx \\,\\,+\\, \\displaystyle{\\int}-x^{-5}\\,dx \\,\\,+\\,\\displaystyle{\\int}-x^{-1/2}\\,dx  \\\\[2ex]\n",
        "& & \\bbox[lightcyan,5px,border:2px dashed red]\n",
        "{\n",
        "\\displaystyle{\\int} x^p\\,dx = \\tfrac{1}{p+1} x^{p+1}\\,+\\,C\\quad,\\quad C\\in\\mathbb{R}\n",
        "}\\\\[2ex]\n",
        "&=& \\frac{1}{\\frac{1}{5}+1} x^{\\frac{1}{5}+1}\\,\\,-\\,\\frac{1}{-2+1}x^{-2+1}\\,\\,-\\,\\frac{1}{-5+1}x^{-5+1}\\,\\,+\\,\\frac{1}{-\\frac{1}{2}+1}x^{-\\frac{1}{2}+1}\\,\\,+\\,C  \\\\[2ex]\n",
        "&=& \\frac{5}{6}x^{\\frac{6}{5}}\\,\\,+\\,\\frac{1}{x}\\,\\,+\\,\\frac{1}{4x^4}\\,\\,+2\\sqrt{x}\\,\\,+\\,C\\quad,\\quad C\\in\\mathbb{R}.\n",
        "\\end{array}$$\n",
        "<br>\n",
        "\n",
        "---\n",
        "\n",
        "<br>\n",
        "\n",
        "**g.** &nbsp;&nbsp; Primeiro, damos uma forma **_mais conveniente_** para $f(x)$. Assim, temos\n",
        "\n",
        "$$f(x)=2x^3\\left(3+4x^4\\right)^{-\\frac{1}{3}}.$$\n",
        "\n",
        "<br>\n",
        "$$\\require{cancel}$$\n",
        "$$\\bbox[lightcyan,5px,border:2px dashed red]\n",
        "{\\begin{array}{l}\n",
        "\\textbf{Candidato:}\\hspace{1cm} \\left(3+4x^4\\right)^{-\\frac{1}{3}+1}.\\\\[2ex]\n",
        "\\textbf{Derivamos:}\\hspace{1cm} \\left[\\left(3+4x^4\\right)^{-\\frac{1}{3}+1}\\right]' = \\frac{2}{3}\\left(3+4x^4\\right)^{\\frac{2}{3}-1}16x^3.\\\\[2ex]\n",
        "\\textbf{Comparamos com $f(x)$ e adaptamos o candidato se for necessário:}\\\\[2ex]\n",
        "\\left[\\color{red}{\\frac{3}{16}}\\left(3+4x^4\\right)^{-\\frac{1}{3}+1}\\right]' = \\color{red}{\\frac{\\cancel{3}}{\\bcancel{16}}}\\frac{2}{\\cancel{3}}\\left(3+4x^4\\right)^{\\frac{2}{3}-1}\\bcancel{16}x^3 = 2x^3\\left(3+4x^4\\right)^{-\\frac{1}{3}}.\n",
        "\\end{array}\n",
        "}$$\n",
        "<br>\n",
        "\n",
        "Portanto,\n",
        "\n",
        "$$\\displaystyle{\\int} 2x^3\\left(3+4x^4\\right)^{-\\frac{1}{3}}dx = \\tfrac{3}{16}\\left(3+4x^4\\right)^{\\frac{2}{3}}\\,\\,+\\,C\\quad,\\quad C\\in\\mathbb{R}.$$\n",
        "<br>\n",
        "\n",
        "---\n",
        "\n",
        "<br>\n",
        "\n",
        "**j.** &nbsp;&nbsp; Reparem que o grau do denominador é **mais 1** do que o grau do numerador. Uma **possibilidade** é que a antiderivada (primitiva) seja um **logaritmo**. Vamos lá ver.\n",
        "\n",
        "$$f(x)=\\frac{x^2+1}{x^3+3x}.$$\n",
        "\n",
        "<br>\n",
        "$$\\require{cancel}$$\n",
        "$$\\bbox[lightcyan,5px,border:2px dashed red]\n",
        "{\\begin{array}{l}\n",
        "\\textbf{Candidato:}\\hspace{1cm} \\operatorname{Ln}(x^3+3x).\\\\[2ex]\n",
        "\\textbf{Derivamos:}\\hspace{1cm} \\left[\\operatorname{Ln}(x^3+3x)\\right]'=\\frac{3x^2+3}{x^3+3x}=3\\frac{x^2+1}{x^3+3x}.\\\\[2ex]\n",
        "\\textbf{Comparamos com $f(x)$ e adaptamos o candidato se for necessário:}\\\\[2ex]\n",
        "\\left[\\color{red}{\\frac{1}{3}}\\operatorname{Ln}(x^3+3x)\\right]'= \\color{red}{\\frac{1}{\\cancel{3}}}\\cancel{3}\\frac{x^2+1}{x^3+3x}=\\frac{x^2+1}{x^3+3x}.\n",
        "\\end{array}}$$\n",
        "\n",
        "Portanto,\n",
        "\n",
        "$$\\displaystyle{\\int}\\frac{x^2+1}{x^3+3x}\\,dx=\\frac{1}{3}\\operatorname{Ln}(x^3+3x)\\,\\,+\\, C\\quad,\\quad C\\in\\mathbb{R}.$$\n",
        "<br>\n",
        "\n",
        "---\n",
        "\n",
        "<br>\n",
        "\n",
        "**m.** &nbsp;&nbsp; A pergunta que temos de fazer é: qual a função cuja derivada é\n",
        "$$f(x)=5\\sin\\left(\\frac{x}{3}\\right).$$\n",
        "\n",
        "<br>\n",
        "$$\\require{cancel}$$\n",
        "$$\\bbox[lightcyan,5px,border:2px dashed red]\n",
        "{\\begin{array}{l}\n",
        "\\textbf{Candidato:}\\hspace{1cm} \\cos\\left(\\frac{x}{3}\\right).\\\\[2ex]\n",
        "\\textbf{Verificação:}\\hspace{1cm} \\left[\\cos\\left(\\frac{x}{3}\\right)\\right]'= -\\frac{1}{3}\\sin\\left(\\frac{x}{3}\\right).\\\\[2ex]\n",
        "\\textbf{Adaptação:}\\hspace{1cm}\\left[\\color{red}{5(-3)}\\cos\\left(\\frac{x}{3}\\right)\\right]'=\\color{red}{5(\\cancel{-3})}\\big(\\cancel{-\\frac{1}{3}}\\sin\\left(\\frac{x}{3}\\right)\\big)=5\\sin\\left(\\frac{x}{3}\\right).\n",
        "\\end{array}}$$\n",
        "\n",
        "Portanto,\n",
        "$$\\displaystyle{\\int}5\\sin\\left(\\frac{x}{3}\\right)\\,dx=-15\\cos\\left(\\frac{x}{3}\\right)\\,\\,+\\,C\\quad,\\quad C\\in\\mathbb{R}.$$\n",
        "\n",
        "<br>\n",
        "\n",
        "---\n",
        "\n",
        "<br>\n",
        "\n",
        "**s.** &nbsp;&nbsp; Reparem que, o grau do denominador é **mais 2** do que o grau do numerador. Uma **possibilidade** é que a antiderivada (primitiva) seja um **arctan**. Vamos lá ver.\n",
        "$$f(x)=\\frac{1}{1+9x^2}$$\n",
        "\n",
        "<br>\n",
        "$$\\require{cancel}$$\n",
        "$$\\bbox[lightcyan,5px,border:2px dashed red]\n",
        "{\\begin{array}{l}\n",
        "\\textbf{Candidato:}\\hspace{1cm} \\arctan(3x).\\\\[2ex]\n",
        "\\textbf{Verificação:}\\hspace{1cm} \\left[\\arctan(3x)\\right]'= \\frac{1}{1+(3x)^2}(3x)'=\\frac{3}{1+9x^2}.\\\\[2ex]\n",
        "\\textbf{Adaptação:}\\hspace{1cm}\\left[\\color{red}{\\frac{1}{3}}\\arctan(3x)\\right]'=\\color{red}{\\frac{1}{\\cancel{3}}}\\frac{\\cancel{3}}{1+9x^2}.\n",
        "\\end{array}}\n",
        "$$\n",
        "\n",
        "Em resumo,\n",
        "$$\\displaystyle{\\int}\\frac{1}{1+9x^2}\\,dx = \\frac{1}{3}\\arctan(3x)\\,+\\,C\\quad,\\quad C\\in\\mathbb{R}.$$\n",
        "<br>\n",
        "\n",
        "---\n",
        "\n",
        "<br>\n",
        "\n",
        "**x.** &nbsp;&nbsp; Desta vez, temos uma raiz no denominador, e eventualmente podemos obter a expressão do numerador derivando o argumento da expressão dentro da raiz se for adaptada convenientemente. Há por ai uma **trigonométrica inversa** escondida. Primeiro, damos uma forma **_mais conveniente_** para $f(x)$. Assim, temos\n",
        "$$f(x)=\\frac{2x}{\\sqrt{9-x^4}}=\\frac{2x}{\\sqrt{(9)\\left(1-\\frac{x^4}{9}\\right)}}=\\frac{2x}{3\\,\\sqrt{1-\\left(\\frac{x^2}{3}\\right)^2}}.$$\n",
        "\n",
        "<br>\n",
        "$$\\require{cancel}$$\n",
        "$$\\bbox[lightcyan,5px,border:2px dashed red]\n",
        "{\\begin{array}{l}\n",
        "\\textbf{Candidato:}\\hspace{1cm} \\arcsin\\left(\\frac{x^2}{3}\\right).\\\\[2ex]\n",
        "\\textbf{Verificação:} \\hspace{1cm} \\left[\\arcsin\\left(\\frac{x^2}{3}\\right)\\right]' = \\frac{1}{\\sqrt{1-\\left(\\frac{x^2}{3}\\right)^2}}\\left(\\frac{x^2}{3}\\right)' = \\frac{2x}{3\\,\\sqrt{1-\\left(\\frac{x^2}{3}\\right)^2}}.\n",
        "\\end{array}}\n",
        "$$\n",
        "\n",
        "Em resumo,\n",
        "$$\\displaystyle{\\int}\\frac{2x}{\\sqrt{9-x^4}}\\,dx = \\arcsin\\left(\\frac{x^2}{3}\\right)\\,+\\,C\\quad,\\quad C\\in\\mathbb{R}.$$\n",
        "<br>\n",
        "\n",
        "---\n",
        "\n",
        "<br>\n",
        "\n",
        "**r.** &nbsp;&nbsp;$\\color{red}{\\textbf{Caso interessante:}}$ A função $\\tan(u)$ é $\\frac{\\sin(u)}{\\cos(u)}$. Logo, se encontrarmos uma função cuja derivada deixe o $\\cos(u)$ no denominador e no numerador a derivada do $\\cos(u)$, que sabemos é $-u'\\sin(u)$, então não é dificil intuir que o candidato deve implicar a função $\\ln(x)$ composta com $\\cos x$. Assim, temos\n",
        "\n",
        "$$f(x)=8x\\tan(x^2)$$\n",
        "\n",
        "<br>\n",
        "$$\\require{cancel}$$\n",
        "$$\\bbox[lightcyan,5px,border:2px dashed red]\n",
        "{\\begin{array}{l}\n",
        "\\textbf{Candidato:}\\hspace{1cm} \\ln\\big(\\cos(x^2)\\big).\\\\[2ex]\n",
        "\\textbf{Verificação:} \\hspace{1cm} \\left[\\ln\\big(\\cos(x^2)\\big)\\right]'=\\frac{-2x\\sin(x^2)}{\\cos(x^2)}.\\\\[2ex]\n",
        "\\textbf{Adaptação:}\\hspace{1cm} \\left[\\color{red}{-4}\\ln\\big(\\cos(x^2)\\big)\\right]'=\\color{red}{-4}\\frac{-2x\\sin(x^2)}{\\cos(x^2)}=8x\\tan(x^2).\n",
        "\\end{array}}$$\n",
        "\n",
        "Portanto,\n",
        "\n",
        "$$\\displaystyle{\\int} 8x\\tan(x^2)\\,dx = -4\\ln\\left(\\cos(x^2)\\right)\\,+\\,C\\quad,\\quad C\\in\\mathbb{R}.$$\n",
        "\n",
        "**Nota:** Para usar a ferramenta [Wolfram Alpha](https://www.wolframalpha.com) neste caso, escrevemos (reparem que é usada a notação $\\log$ para significar $\\ln$)\n",
        "\n",
        "![wolframalpha.png](https://drive.google.com/uc?id=1cJC6sBuPvKdIMOGcdRchSz2Lb2BbdeL-)\n",
        "\n",
        "\n",
        "<br>\n",
        "\n",
        "---\n",
        "\n"
      ],
      "metadata": {
        "id": "itLwIJIYoAWn"
      }
    },
    {
      "cell_type": "markdown",
      "source": [
        "### 2. Calcule **uma** primitiva de cada uma das funções definidas por:\n",
        "\n",
        "> **d.** $\\hspace{1cm}f(x)=\\frac{\\sec^2 x}{\\tan^5 x}.$"
      ],
      "metadata": {
        "id": "1ojkcEand3P_"
      }
    },
    {
      "cell_type": "markdown",
      "source": [
        "**Solução:** No seguinte exercício usaremos a técnica de **substituição** e faremos a comparação com a técnica de reconhecimento por observação simples.\n",
        "\n",
        "**d.** &nbsp;&nbsp; Primeiro, escrevemos a função $f(x)$ da seguinte forma\n",
        "\n",
        "$$f(x)=\\frac{\\sec^2x}{\\tan^5x} = \\sec^2x\\,\\,\\tan^{-5}x.$$\n",
        "\n",
        "**Substituição:**\n",
        "$$\\require{cancel}$$\n",
        "$$\\bbox[lightyellow,5px,border:2px dotted red]\n",
        "{\\begin{array}{ll}\n",
        "\\textbf{Mudança de variáveis :}& u=\\tan x.\\\\[2ex]\n",
        "\\textbf{$\\displaystyle{\\frac{du}{dx}}=u'(x)\\rightsquigarrow du = u'(x)\\,dx$ :}& du=\\sec^2x\\,dx.\\\\[2ex]\n",
        "\\textbf{Tudo em termos da nova variável :}& \\displaystyle{\\int}\\tan^{-5}\\!x\\,\\sec^2x\\,dx = \\displaystyle{\\int} u^{-5}du \\\\[2ex]\n",
        "& = -\\frac{1}{4}u^{-4} + C.\\\\[2ex]\n",
        "\\textbf{Voltar a variável original :}& \\displaystyle{\\int}f(x)\\,dx=-\\frac{1}{4}\\tan^{-4}\\!x + C.\\\\[2ex]\n",
        "\\textbf{Uma primitiva (explicitar C) :}& \\text{Usar condição inicial para encontrar }C. \\\\\n",
        "&\\text{ À falta de condição inicial, escolher arbitráriamente o valor de }C.\\\\\n",
        "&\\text{Por exemplo, escolhemos }C=0.\n",
        "\\end{array}}\n",
        "$$\n",
        "<br>\n",
        "\n",
        "**Reconhecimento por observação simples:**\n",
        "<br>\n",
        "$$\\require{cancel}$$\n",
        "$$\\bbox[lightcyan,5px,border:2px dashed red]\n",
        "{\\begin{array}{ll}\n",
        "\\textbf{Candidato:}& \\frac{1}{-4}\\tan^{-4}x.\\\\[2ex]\n",
        "\\textbf{Verificação:}& \\left[\\frac{1}{-4}\\tan^{-4}x\\right]'= \\tan^{-5}\\!x\\sec^2\\!x.\n",
        "\\end{array}}\n",
        "$$\n",
        "<br>\n",
        "\n",
        "Em resumo, **uma** primitiva de $f(x)$ é\n",
        "$$\\int\\frac{\\sec^2x}{\\tan^5x}\\,dx = -\\frac{1}{4}\\tan^{-4}\\!x.$$"
      ],
      "metadata": {
        "id": "b7NhL9zeFDrI"
      }
    },
    {
      "cell_type": "markdown",
      "source": [
        "### 4. Usando o método da **primitivação por partes**, calcule **uma** primitiva da seguinte função:\n",
        "\n",
        "> **b.** $\\hspace{1cm}f(x)=x\\,e^{2x}.$"
      ],
      "metadata": {
        "id": "9z3bp3C4Vw7P"
      }
    },
    {
      "cell_type": "markdown",
      "source": [
        "**Solução:** A fórmula de primitivação por partes obtem-se a partir da regra de Leibniz, tendo em conta que primitivar é o **processo inverso** de derivar. Informalmente, temos que\n",
        "\n",
        "$$\\bbox[white,5px,border:2px solid black]\n",
        "{\\begin{array}{c}\n",
        "d(f.g) = df.g + f.dg \\\\[2ex]\n",
        "\\displaystyle{\\int}d(f.g) = \\int df.g \\,+\\, \\int f.dg\\\\[2ex]\n",
        "f.g = \\displaystyle{\\int} g\\,df \\,+\\, \\int f\\,dg\n",
        "\\end{array}}\\Longrightarrow \\bbox[lightgray,5px,border:2px solid black]{\\int f\\,dg \\,=\\, f.g \\,-\\, \\int g\\,df}\n",
        "$$\n",
        "\n",
        "Usaremos o seguinte esquema para aplicar o método de integração por partes (só temos de fazer as **identificações pertinentes**). Para a função que queremos primitivar, temos\n",
        "\n",
        "$$\\bbox[white,5px,border:2px dotted black]\n",
        "{\\begin{array}{lcl}\n",
        "f = x &\\hspace{1cm} & dg = e^{2x}\\,dx \\\\[2ex]\n",
        "df = 1\\,dx &\\hspace{1cm} & g=\\frac{1}{2}e^{2x}\n",
        "\\end{array}}\n",
        "$$\n",
        "\n",
        "Desta forma, temos que\n",
        "\n",
        "$$\\int x\\,e^{2x}\\,dx \\,=\\, x\\,\\frac{1}{2}e^{2x}\\,-\\,\\int\\frac{1}{2}e^{2x}\\,dx \\,=\\, x\\,\\frac{1}{2}e^{2x} \\,-\\, \\frac{1}{4}e^{2x} \\,+\\, C.$$\n",
        "\n",
        "Como pede-se **uma** primitiva e não temos condição inicial, escolhemos, por exemplo, $C=0$. Assim, a nossa solução final é\n",
        "\n",
        "$$\\int x\\,e^{2x}\\,dx \\,=\\, x\\,\\frac{1}{2}e^{2x}\\,-\\,\\int\\frac{1}{2}e^{2x}\\,dx \\,=\\, x\\,\\frac{1}{2}e^{2x} \\,-\\, \\frac{1}{4}e^{2x}.$$"
      ],
      "metadata": {
        "id": "7R4Rhr9hW7ff"
      }
    },
    {
      "cell_type": "markdown",
      "source": [
        "### 5. Calcule **uma** primitiva da seguinte função racional:\n",
        "\n",
        "> **d.** $\\hspace{1cm}f(x)=\\displaystyle{\\frac{3x+6}{x^3+2x^2-3x}}.$"
      ],
      "metadata": {
        "id": "7XFw1PTFg7bC"
      }
    },
    {
      "cell_type": "markdown",
      "source": [
        "**Solução:** Note-se que o **grau** do polinómio no **denominador** (3) é estritamente **maior** do que o grau do polinómio no **numerador** (1). Portanto, podemos avançar. Se não for o caso, usamos primeiro o algoritmo da divisão para obter a situação desejada.\n",
        "\n",
        "$$\\bbox[lightgreen,5px,border:2px dotted red]\n",
        "{\\begin{array}{ll}\n",
        "\\textbf{Factorizar o denominador (em $\\mathbb{R}$) :} & x^3+2x^2-3x = x(x+3)(x-1). \\\\[2ex]\n",
        "\\textbf{Uma fracção por cada factor irredutível :}& \\displaystyle{\\frac{3x+6}{x^3+2x^2-3x}} = \\frac{3x+6}{x(x+3)(x-1)} = \\frac{A}{x} + \\frac{B}{x+3} + \\frac{C}{x-1}. \\\\[2ex]\n",
        "\\textbf{Comparar numeradores :}& \\displaystyle{\\frac{3x+6}{x(x+3)(x-1)}} = \\frac{A(x+3)(x-1)+Bx(x-1)+Cx(x+3)}{x(x+3)(x-1)} \\\\[2ex]\n",
        "&\\quad=\\displaystyle{\\frac{(A+B+C)x^2 + (2A-B+3C)x + (-3A)}{x(x+3)(x-1)}}.\\\\[2ex]\n",
        "\\textbf{Resolver para A, B, C :}& \\begin{array}{lcl}A+B+C &=& 0\\\\2A-B+3C &=& 3\\\\-3A &=& 6\n",
        "\\end{array}\n",
        "\\end{array}}\n",
        "$$\n",
        "\n",
        "Ao aplicar o método de **decomposição de uma expressão racional em fracções simples**, chegamos sempre a um sistema de equações lineares que temos de resolver. Rapidamente vemos que $\\fbox{A = -2}$, e se somarmos a primeira e a segunda equação, temos $3A+4C=3$. Substituindo o valor encontrado para $A$ nessa equação, obtemos $-6+4C=3$, e portanto, $\\fbox{C = 9/4}$. Usando a primeira equação, encontramos que $-2+B+9/4=0$, logo, $\\fbox{B = -1/4}$.\n",
        "\n",
        "Em resumo, temos que\n",
        "\n",
        "$$\\begin{array}{lcl}\n",
        "\\displaystyle{\\int}\\frac{3x+6}{x^3+2x^2-3x}dx &=& \\displaystyle{\\int}\\frac{A}{x}dx \\,+\\, \\int\\frac{B}{x+3}dx \\,+\\, \\int\\frac{C}{x-1}dx \\\\[2ex]\n",
        "&=& A\\ln\\vert x\\vert \\,+\\, B\\ln\\vert x+3\\vert \\,+\\, C\\ln\\vert x-1\\vert \\,+\\, K \\quad,\\quad K\\in\\mathbb{R}. \\\\[2ex]\n",
        "&=& -2\\ln\\vert x\\vert \\,+\\, -\\frac{1}{4}\\ln\\vert x+3\\vert \\,+\\, \\frac{9}{4}\\ln\\vert x-1\\vert \\,+\\, \\color{red}{0}\\quad(\\text{escolhemos }K=0).\n",
        "\\end{array}\n",
        "$$"
      ],
      "metadata": {
        "id": "KD1Bh99XhgWh"
      }
    },
    {
      "cell_type": "markdown",
      "source": [
        "### 7. Determine a função $f$ que satisfaz cada uma das condições:\n",
        "\n",
        "> **a.** $\\hspace{1cm}f'(x)=4x\\ln\\vert x\\vert\\quad\\text{e}\\quad f(-1)=1$."
      ],
      "metadata": {
        "id": "ktWx8CSrfv7v"
      }
    },
    {
      "cell_type": "markdown",
      "source": [
        "**Solução:** Primeiro, usamos integração por partes para calcular\n",
        "$$\\int 4x\\ln\\vert x\\vert\\,dx.$$\n",
        "\n",
        "$$\\bbox[white,5px,border:2px dotted black]\n",
        "{\\begin{array}{lcl}\n",
        "f = \\ln\\vert x\\vert &\\hspace{1cm} & dg = 4x\\,dx \\\\[2ex]\n",
        "df = \\frac{1}{x}\\,dx &\\hspace{1cm} & g = 2x^2\n",
        "\\end{array}}\n",
        "$$\n",
        "\n",
        "Logo,\n",
        "\n",
        "$$f(x) = \\int 4x\\ln\\vert x\\vert\\,dx \\,=\\, 2x^2\\ln\\vert x\\vert \\,-\\, \\int 2x^2\\frac{1}{x}dx = 2x^2\\ln\\vert x\\vert \\,-\\,\\int 2x\\,dx \\,=\\, 2x^2\\ln\\vert x\\vert \\,-\\, x^2 \\,+\\, C.$$\n",
        "\n",
        "Usando a condição inicial $f(-1)=1$ na expressão anterior, obtemos\n",
        "\n",
        "$$1=f(-1)=2(-1)^2\\ln\\vert-1\\vert-(-1)^2+C\\quad\\Longrightarrow\\quad 1 = -1+C\\quad\\Longrightarrow\\quad\\fbox{C = 2}.$$\n",
        "\n",
        "Em conclusão, a função que procuramos é\n",
        "\n",
        "$$f(x) \\,=\\,2x^2\\ln\\vert x\\vert \\,-\\, x^2 \\,+\\, 2.$$\n",
        "\n",
        "\n"
      ],
      "metadata": {
        "id": "MuKpenKagdTQ"
      }
    },
    {
      "cell_type": "markdown",
      "source": [
        "### 9. (**Monotonia**) Sendo $f$ uma função real de variável real, contínua em $[a,b]$ e tendo-se $f(x)\\ge 0$, para qualquer $x\\in[a,b]$, mostre que $\\int_a^b e^{f(x)}dx \\ge b-a$.\n"
      ],
      "metadata": {
        "id": "Nx_u2qdw_mJs"
      }
    },
    {
      "cell_type": "markdown",
      "source": [
        "### 10. (**Monotonia**) Sem calcular o valor do integral, mostre que\n",
        "\n",
        "> **b.** $\\hspace{1cm}\\ln 3 < \\displaystyle{\\int}_{-3}^{-2}\\ln(x^2-1) \\,dx < 3\\ln2.$"
      ],
      "metadata": {
        "id": "QM3u5tY3Bezl"
      }
    },
    {
      "cell_type": "markdown",
      "source": [
        "**Solução:** Aplicando a função exponencial na inequação $f(x)\\ge 0$,  obtemos $e^{f(x)}\\ge e^0$ (a função exponencial é crescente). Logo, pela propriedade de monotonia do integral, temos que\n",
        "\n",
        "$$\\int_a^b e^{f(x)}dx \\,\\,\\ge\\,\\int_a^b e^{0}dx \\,=\\, b-a.$$"
      ],
      "metadata": {
        "id": "OssZZXrkB9Ml"
      }
    },
    {
      "cell_type": "markdown",
      "source": [
        "### 11. Calcule o valor médio de cada uma das seguintes funções nos intervalos indicados:\n",
        "\n",
        "> **c.** $\\hspace{1cm}f(x) = \\ln x,\\quad[e,e^2]$."
      ],
      "metadata": {
        "id": "Ldx4O90NAhSD"
      }
    },
    {
      "cell_type": "markdown",
      "source": [
        "**Solução:**\n",
        "Simplesmente temos de calcular\n",
        "$$\\text{valor médio de }f = f(c) = \\frac{\\displaystyle\\int_e^{e^2}\\ln x\\,dx}{e^2-e}\\, , \\,\\text{para algum }c\\in[e,e^2].$$"
      ],
      "metadata": {
        "id": "m78jrnG1BCFO"
      }
    },
    {
      "cell_type": "markdown",
      "source": [
        "### 12. Calcule os seguintes limites:\n",
        "\n",
        "> **a.** $\\hspace{1cm}\\lim_{x\\to 0}\\frac{\\displaystyle\\int_0^x \\sin t^2\\,dt}{x^3}$."
      ],
      "metadata": {
        "id": "PsnDJJD5CRHD"
      }
    },
    {
      "cell_type": "markdown",
      "source": [
        "**Solução:** Use a regra de L'Hospital e o primeiro teorema fundamental do cálculo integral."
      ],
      "metadata": {
        "id": "-UNygQYkC6Ry"
      }
    },
    {
      "cell_type": "markdown",
      "source": [
        "### 14. Considere a função $f$ definida em $\\mathbb{R}^+$ por\n",
        "$$f(x)=\\int_0^x\\frac{1}{1+t^2}\\,dt + \\int_0^{\\frac{1}{x}}\\frac{1}{1+t^2}\\,dt.$$\n",
        "Mostre que $f$ é uma função constante e calcule o seu valor."
      ],
      "metadata": {
        "id": "_lymBPEduXIY"
      }
    },
    {
      "cell_type": "markdown",
      "source": [
        "**Solução:** Se mostrarmos que $f'(x)=0$ para qualquer $x\\in\\mathbb{R}^+$, então $f(x)=K$ no seu domínio, onde $k\\in\\mathbb{R}$ é uma constante."
      ],
      "metadata": {
        "id": "iUgeyTclu4JA"
      }
    },
    {
      "cell_type": "markdown",
      "source": [
        "# **Teste de práctica**\n",
        "\n",
        "A pedido das turmas preparei um teste de prática com vários dos tópicos a estudar para o teste real, a fim de detectar pontos fracos na preparação dos alunos. O teste foi preparado tendo em conta testes de semestres anteriores e as fichas de exercícios deste semestre.\n",
        "\n",
        "<br>\n",
        "\n",
        "**DISCLAIMER:** O teste de práctica é só uma ajuda para **treinar** para o teste real. **Não** pretende deixar a ideia que só serão avaliados os temas que nele aparecem. Há tópicos que não aparecem no teste de práctica mas que podem entrar no teste real, por exemplo: polinómios de Taylor, resolução de inequações com expressões racionais, etc. O melhor é sempre **estudar a matéria toda** dos capítulos 1 e 2, como está indicado no programa.\n",
        "\n",
        "---"
      ],
      "metadata": {
        "id": "1XzVesqpRFGS"
      }
    },
    {
      "cell_type": "markdown",
      "source": [
        "### Perguntas"
      ],
      "metadata": {
        "id": "z5X-3v63PYnu"
      }
    },
    {
      "cell_type": "markdown",
      "source": [
        "1. Faça o **estudo** (dominio, continuidade, assíntotas, monotonia, extremos relativos) da seguinte função:\n",
        "\n",
        "$$f(x)=\\frac{x^2}{\\vert x\\vert +2}$$\n",
        "\n",
        "2. Determine o valor médio da função $h(x)=\\frac{1}{\\sqrt{x}}$ no intervalo $[1,4]$.\n",
        "\n",
        "3. Encontre $F(x)$ tal que $F'(x)=x\\,\\arctan(x)$ e $F(0)=1$.\n",
        "\n",
        "4. Calcule o valor de\n",
        "$$\\lim_{x\\to 0^+}\\, \\ln x\\int_{x}^{2x}\\frac{1}{\\ln t}\\,dt$$\n",
        "\n",
        "5. Determine a natureza do integral impróprio\n",
        "$$\\int_0^{+\\infty}\\frac{\\arctan\\left(\\frac{x}{2}\\right)}{4+x^2}\\,dx.$$\n",
        "\n",
        "6. Represente geométricamente a região limitada pela curva $3y=6x-5x^3$ e a normal à ela no ponto $A(1,\\frac{1}{3})$. Calcule a medida da área correspondente.\n",
        "\n",
        "---"
      ],
      "metadata": {
        "id": "t19bNiW1Pb1y"
      }
    },
    {
      "cell_type": "markdown",
      "source": [
        "### Resolução"
      ],
      "metadata": {
        "id": "8IMo4U5SPlw1"
      }
    },
    {
      "cell_type": "markdown",
      "source": [
        "[1.] Primeiro, a função $f$ é dada por\n",
        "$$f(x) = \\frac{x^2}{\\vert x\\vert+2}\\,.$$\n",
        "Fazemos as seguintes perguntas, para quais valores de $x$ em $\\mathbb{R}$ a função $f$ está bem definida? (podemos encontrar alguma restrição para $x$?). Olhando para $f$, se há alguma restrição, esta deve vir da parte do denominador, isto é, ele não pode ser $0$. Logo, devemos excluir as soluções da equação $\\vert x\\vert+2 = 0$. Resolver a equação $\\vert x\\vert+2 = 0$ é equivalente a resolver a equação $\\vert x\\vert=-2$. É isto possível? **Não**, porque o **módulo** de qualquer $x\\in\\mathbb{R}$ é **sempre** positivo ou zero. Portanto, não há restrições para $x$. Isto significa que $\\fbox{$\\operatorname{Dom} f = \\mathbb{R}$}$.\n",
        "\n",
        "<br>\n",
        "\n",
        "Uma primeira observação imediata a raiz do domínio de $f$ é que **não tem assíntotas verticais**, uma vez que elas, se existirem, podem ser encontradas entre os pontos onde a função não está definida. Assíntotas oblíquas/horizontais y=mx+b? Calculamos\n",
        "$$\n",
        "\\begin{array}{l}\n",
        "m=\\lim_{x\\to +\\infty}\\frac{f(x)}{x}=\\lim_{x\\to +\\infty}\\frac{\\frac{x^2}{\\vert x\\vert+2}}{x}=\\lim_{x\\to +\\infty}\\frac{x^2}{x^2+2x}=1\\\\[3ex]\n",
        "b=\\lim_{x\\to +\\infty}(f(x)-mx) = \\lim_{x\\to+\\infty}\\frac{x^2}{x+2}-x=\\lim_{x\\to+\\infty}\\frac{x^2-x(x+2)}{x+2}=\\lim_{x\\to+\\infty}\\frac{-2x}{x+2}=-2.\n",
        "\\end{array}\n",
        "$$\n",
        "\n",
        "Logo, $\\fbox{$y=x-2$}$ é uma **assíntota oblíqua** de $f$.\n",
        "\n",
        "<br>\n",
        "\n",
        "Uma segunda observação é que $f$ é uma função **par**, uma vez que $f(-x)=f(x)$. Logo, basta com fazer o estudo de $f$ no intervalo $]0,+\\infty[$ e depois, por simetria, ter o estudo feito no intervalo $]-\\infty,0[$.\n",
        "\n",
        "<br>\n",
        "\n",
        "Repare-se que\n",
        "\n",
        "$$\\fbox{$\\lim_{x\\to+\\infty}f(x)=\\lim_{x\\to+\\infty}\\frac{x^2}{x+2}=+\\infty$}$$\n",
        "\n",
        "<br>\n",
        "\n",
        "Quanto a continuidade de $f$, note-se que para $x>0$, temos\n",
        "\n",
        "$$f(x)=\\frac{x^2}{x+2}\\,.$$\n",
        "\n",
        "A função $f$ é uma expressão racional e portanto contínua no intervalo $[0,+\\infty[$ salvo naqueles valores que fazem zero o denominador. Porém, isto só acontece quando $x=-2$, que não está no intervalo $[0,+\\infty[$. Em conclusão, $\\fbox{$f$ é contínua em $]0,+\\infty[$}$.\n",
        "\n",
        "<br>\n",
        "\n",
        "Relativamente à **monotonia** de $f$ no intervalo $]0,+\\infty[$, calculamos $f'(x)$. Temos o seguinte\n",
        "\n",
        "$$f'(x) = \\frac{x^2+4x}{(x+2)^2}>0\\,,$$\n",
        "\n",
        "para $x>0$; portanto $f$ é **crescente** em $]0,+\\infty[$.\n",
        "\n",
        "<br>\n",
        "\n",
        "Relativamente à **concavidade** de $f$ no intervalo $]0,+\\infty[$, calculamos $f''(x)$. Temos o seguinte\n",
        "\n",
        "$$f''(x)=\\frac{8}{(x+2)^3}>0\\,,$$\n",
        "\n",
        "para $x>0$; portanto $f$ é **côncava para acima** em $]0,+\\infty[$.\n",
        "\n",
        "<br>\n",
        "\n",
        "Note-se que $f(0)=0=\\lim_{x\\to 0^+}\\frac{x^2}{x+2}=\\lim_{x\\to 0^-}\\frac{x^2}{-x+2}$. Logo $f$ é contínua em $x=0$.\n",
        "\n",
        "<br>\n",
        "\n",
        "Similarmente,\n",
        "\n",
        "$$f_+'(0)=\\lim_{x\\to 0^+}\\frac{f(x)-f(0)}{x-0}=\\lim_{x\\to 0^+}\\frac{\\frac{x^2}{x+2}-0}{x}=\\lim_{x\\to 0^+}\\frac{x}{x+2}=0\\,.$$\n",
        "\n",
        "$$f_-'(0)=\\lim_{x\\to 0^-}\\frac{f(x)-f(0)}{x-0}=\\lim_{x\\to 0^-}\\frac{\\frac{x^2}{-x+2}-0}{x}=\\lim_{x\\to 0^-}\\frac{x}{-x+2}=0\\,.$$\n",
        "\n",
        "Portanto existe a derivada em $x=0$ e $f'(0)=0$.\n",
        "\n",
        "<br>\n",
        "\n",
        "Finalmente, por **simetria**, temos que $f$ é **contínua** em $]-\\infty,0[$, a recta $y=-x-2$ é uma assíntota oblíqua, $\\lim_{x\\to-\\infty}f(x)=+\\infty$, a função é **decrescente** no intervalo $]-\\infty,0[$, e é também **côncava para acima** em $]-\\infty,0[$.\n",
        "\n",
        "<br>\n",
        "\n",
        "O esboço do gráfico de $f$ é o seguinte\n",
        "\n",
        "<br>\n",
        "\n",
        "![x^2:(abs(x)+2).png](https://drive.google.com/uc?id=1WtAsRpj35Uh_CXZREFE43wCjXlZrAJIM)\n",
        "\n",
        "<br>\n",
        "\n",
        "---\n",
        "\n",
        "<br>\n",
        "\n",
        "[2.] O valor médio da função $h(x)=1/\\sqrt{x}$ no intervalo $[1,4]$ é\n",
        "\n",
        "$$h(c)=\\frac{\\displaystyle\\int_1^4 \\frac{1}{\\sqrt{x}}\\,dx}{4-1}\\,,$$\n",
        "\n",
        "para algum $c\\in]1,4[$. Logo,\n",
        "\n",
        "$$\\frac{\\displaystyle\\int_1^4 \\frac{1}{\\sqrt{x}}\\,dx}{4-1} = \\frac{\\displaystyle\\int_1^4 x^{-1/2}\\,dx}{3} = \\frac{1}{3} \\left(\\frac{x^{-1/2+1}}{-1/2+1}\\right)\\Bigg|_1^4 = \\frac{2}{3}\\left(\\sqrt{x}\\right)\\Big|_1^4 = \\frac{2}{3}\\left(\\sqrt{4}-\\sqrt{1}\\right)=\\frac{2}{3}\\,.$$\n",
        "\n",
        "<br>\n",
        "\n",
        "---\n",
        "\n",
        "<br>\n",
        "\n",
        "[3.] Temos que\n",
        "$$F(x)=\\int x\\,\\arctan x\\,dx.$$\n",
        "\n",
        "Usando integração por partes, fazemos as seguintes identificações\n",
        "\n",
        "$$\\bbox[white,5px,border:2px dotted black]\n",
        "{\\begin{array}{lcl}\n",
        "v = \\arctan x &\\hspace{1cm} & u' = x \\\\[2ex]\n",
        "v' = \\displaystyle\\frac{1}{1+x^2} &\\hspace{1cm} & u=\\displaystyle\\frac{x^2}{2}\n",
        "\\end{array}}\n",
        "$$\n",
        "\n",
        "Logo,\n",
        "\n",
        "$$F(x) = \\frac{x^2}{2}\\arctan x - \\int\\frac{x^2}{2}\\frac{1}{1+x^2}\\,dx.$$\n",
        "\n",
        "Note-se que\n",
        "\n",
        "$$\n",
        "\\begin{array}{lclcl}\n",
        "\\displaystyle\\int\\frac{x^2}{2}\\frac{1}{1+x^2}\\,dx &=& \\displaystyle\\frac{1}{2}\\displaystyle\\int\\frac{x^2}{1+x^2}\\,dx \\\\[2ex]\n",
        "&=& \\displaystyle\\frac{1}{2} \\int\\frac{\\color{red}{1}+x^2\\color{red}{-1}}{1+x^2}\\,dx &=& \\displaystyle\\frac{1}{2}\\int 1\\,dx \\,-\\,\\frac{1}{2}\\int\\frac{1}{1+x^2}\\,dx \\\\[2ex]\n",
        "&=& \\displaystyle\\frac{x}{2} - \\frac{\\arctan x}{2} + C.\n",
        "\\end{array}\n",
        "$$\n",
        "\n",
        "Assim, temos que\n",
        "\n",
        "$$F(x) = \\frac{x^2}{2}\\arctan x - \\displaystyle\\frac{x}{2} + \\frac{\\arctan x}{2} + C.$$\n",
        "\n",
        "Usando a condição inicial $F(0) = 1$, obtemos\n",
        "\n",
        "$$ 1 = F(0) = \\frac{0^2}{2}\\arctan 0 - \\displaystyle\\frac{0}{2} + \\frac{\\arctan 0}{2} + C\\quad\\Longrightarrow\\quad \\fbox{C=1}.$$\n",
        "\n",
        "Em conclusão:\n",
        "\n",
        "$$F(x) = \\frac{x^2}{2}\\arctan x - \\displaystyle\\frac{x}{2} + \\frac{\\arctan x}{2} + 1.$$\n",
        "\n",
        "<br>\n",
        "\n",
        "---\n",
        "\n",
        "<br>\n",
        "\n",
        "[4.] Ao fazer uma rápida inspeção do limite encontramos uma indeterminação do tipo $-\\infty\\cdot 0$. Para podermos aplicar a regra de L'Hospital, temos de ter uma indeterminação do tipo $\\frac{\\infty}{\\infty}$ ou $\\frac{0}{0}$. Reescrevemos o limite da seguinte forma\n",
        "\n",
        "$$\\lim_{x\\to 0^+}\\frac{\\displaystyle{\\int}_{x}^{2x}\\frac{1}{\\ln t}\\,dt}{\\displaystyle\\frac{1}{\\ln x}}.$$\n",
        "\n",
        "Agora sim, a indeterminação é do tipo $\\frac{0}{0}$. Usamos a regra de L'Hospital e a regra de Leibnitz para integrais. Temos que\n",
        "\n",
        "$$\n",
        "\\begin{array}{lclcl}\n",
        "\\lim_{x\\to 0^+}\\frac{\\displaystyle{\\int}_{x}^{2x}\\frac{1}{\\ln t}\\,dt}{\\displaystyle\\frac{1}{\\ln x}} &=& \\lim_{x\\to 0^+}\\frac{\\left(\\displaystyle{\\int}_{x}^{2x}\\frac{1}{\\ln t}\\,dt\\right)'}{\\Big(\\displaystyle\\frac{1}{\\ln x}\\Big)'} &=& \\lim_{x\\to 0^+}\\frac{\\displaystyle\\frac{2}{\\ln2x}-\\frac{1}{\\ln x}}{-\\displaystyle\\frac{1}{\\ln^2x}\\cdot\\frac{1}{x}}\\\\[2ex]\n",
        "&=& \\lim_{x\\to 0^+}\\frac{\\displaystyle\\frac{2\\ln^2x}{\\ln 2x}-\\ln x}{-\\displaystyle\\frac{1}{x}} &=& \\lim_{x\\to 0^+}\\displaystyle\\frac{\\ln x}{-\\frac{1}{x}}\\cdot\\left(\\frac{2\\ln x}{\\ln 2x}-1\\right)\\\\[2ex]\n",
        "&=& \\lim_{x\\to 0^+}\\displaystyle\\frac{\\frac{1}{x}}{\\frac{1}{x^2}}\\cdot\\lim_{x\\to 0^+}\\left(\\frac{2\\ln x}{\\ln 2x}-1\\right) &=& 0\\cdot(2-1)\\\\[2ex]\n",
        "&=& 0.\n",
        "\\end{array}\n",
        "$$\n",
        "\n",
        "<br>\n",
        "\n",
        "---\n",
        "\n",
        "<br>\n",
        "\n",
        "[5.] **Determinar a natureza do integral impróprio** significa que temos de dizer se é de **1ª ou 2ª espécie**, e **além disso**, dizer se é **convergente** ou **divergente**. Neste caso, trata-se de um integral impróprio de **1ª espécie** porque o domínio de integração é **ilimitado**, a saber, o intervalo $[0,+\\infty[$. Para determinar se o integral impróprio é **convergente** ou **divergente**, usamos a definição; isto é:\n",
        "\n",
        "$$\\int_0^{+\\infty}\\frac{\\arctan\\left(\\frac{x}{2}\\right)}{4+x^2}\\,dx = \\lim_{b\\to +\\infty}\\int_0^{b}\\frac{\\arctan\\left(\\frac{x}{2}\\right)}{4+x^2}\\,dx.$$\n",
        "\n",
        "Note-se que\n",
        "\n",
        "$$\\int_0^{b}\\frac{\\arctan\\left(\\frac{x}{2}\\right)}{4+x^2}\\,dx = \\tfrac{1}{4} \\int_0^{b}\\frac{\\arctan\\left(\\frac{x}{2}\\right)}{1+\\left(\\frac{x}{2}\\right)^2}\\,dx$$\n",
        "\n",
        "<br>\n",
        "\n",
        "**Reconhecimento por observação simples:**\n",
        "<br>\n",
        "$$\\require{cancel}$$\n",
        "$$\\bbox[lightcyan,5px,border:2px dashed red]\n",
        "{\\begin{array}{ll}\n",
        "\\textbf{Candidato:}& \\arctan^{2}(\\frac{x}{2}).\\\\[2ex]\n",
        "\\textbf{Verificação:}& \\left[ \\arctan^{2}(\\frac{x}{2})\\right]'= \\cancel{2}\\arctan\\left(\\frac{x}{2}\\right)\\cdot\\frac{1}{1+\\left(\\frac{x}{2}\\right)^2}\\cdot\\frac{1}{\\cancel{2}}\n",
        "\\end{array}}\n",
        "$$\n",
        "<br>\n",
        "\n",
        "Portanto,\n",
        "\n",
        "$$\\int_0^{b}\\frac{\\arctan\\left(\\frac{x}{2}\\right)}{4+x^2}\\,dx = \\frac{1}{4}\\arctan^2\\left(\\frac{x}{2}\\right)\\Bigg|_0^b = \\frac{1}{4}\\left(\\arctan^2\\left(\\frac{b}{2}\\right)-\\cancelto{0}{\\arctan^2\\left(\\frac{0}{2}\\right)}\\right)=\\frac{1}{4}\\arctan^2\\left(\\frac{b}{2}\\right).$$\n",
        "\n",
        "Logo,\n",
        "\n",
        "$$\\int_0^{+\\infty}\\frac{\\arctan\\left(\\frac{x}{2}\\right)}{4+x^2}\\,dx=\\lim_{b\\to +\\infty}\\frac{1}{4}\\arctan^2\\left(\\frac{b}{2}\\right)=\\frac{1}{4}\\left(\\frac{\\pi}{2}\\right)^2=\\frac{\\pi^2}{16}.$$\n",
        "\n",
        "<br>\n",
        "\n",
        "Em conclusão, temos um integral impróprio de **1ª espécie convergente**.\n",
        "\n",
        "<br>\n",
        "\n",
        "---\n",
        "\n",
        "<br>\n",
        "\n",
        "[6.] Escrevemos a curva $\\mathscr{C}: 3y=6x-5x^3$ como $y=2x-\\frac{5}{3}x^3$. O ponto $A=(1,\\tfrac{1}{3})\\in\\mathscr{C}$ (as coordenadas do ponto $A$ satisfazem a equação de $\\mathscr{C}$). Temos de calcular a equação da recta $\\mathscr{N}$ **normal** à $\\mathscr{C}$ no ponto $A$ (isto significa que $\\mathscr{N}$ é perpendicular à recta $\\mathscr{T}$ tangente a $\\mathscr{C}$ que passa por $A$). Em consequência, o **declive** $m_{_\\mathscr{N}}$ de $\\mathscr{N}$ é o recíproco inverso do declive $m_{_\\mathscr{T}}$ da recta $\\mathscr{T}$; isto é, $m_{_\\mathscr{N}}\\cdot m_{_\\mathscr{T}}=-1$.\n",
        "\n",
        "Como $m_{_\\mathscr{T}}=y'(1)=(2-5x^2)\\big|_{x=1}=-3$; então $m_{_\\mathscr{N}}=\\tfrac{1}{3}$. Desta forma, a equação da recta normal $\\mathscr{N}$ é $y=\\tfrac{1}{3}x+b$. Para calcularmos $b$ usamos o ponto de passo $A$; assim temos que $\\tfrac{1}{3}=\\frac{1}{3}1+b$; logo, $b=0$. Em consequência, a equação cartesiana de $\\mathscr{N}$ é $y=\\frac{1}{3}x$. A seguir, damos esboço da região limitada por $\\mathscr{C}$ e $\\mathscr{N}$:\n",
        "\n",
        "![area-normal-cubica.png](https://drive.google.com/uc?id=1FjiDi5M-sVjypPLkcz0aqMs9-_fbmmlD)\n",
        "\n",
        "Claramente, a região $R$ limitada por $\\mathscr{C}$ e $\\mathscr{N}$ tem uma parte onde $\\mathscr{N}$ está acima de $\\mathscr{C}$ e outra parte onde $\\mathscr{C}$ está acima de $\\mathscr{N}$. Logo,\n",
        "\n",
        "$$\\operatorname{Area}(R)=\\int_{x(B)}^{x(C)}\\left(\\tfrac{1}{3}x - \\big(2x-\\tfrac{5}{3}x^3\\big) \\right)dx \\,+\\, \\int_{x(C)}^{x(D)}\\left(\\left(2x-\\tfrac{5}{3}x^3\\right)-\\tfrac{1}{3}x \\right)dx,$$\n",
        "\n",
        "onde $x(B), x(C)$ e $x(D)$ são as abscissas dos pontos $B, C$ e $D$ que resultam de intersectar $\\mathscr{C}$ com $\\mathscr{N}$. Assim, temos\n",
        "\n",
        "$$\\tfrac{1}{3}x = 2x-\\tfrac{5}{3}x^3\\quad\\Longrightarrow\\quad 0=\\tfrac{5}{3}x - \\tfrac{5}{3}x^3 \\quad\\Longrightarrow\\quad 0 = \\tfrac{5}{3}x(1-x^2).$$\n",
        "\n",
        "Portanto, $x=-1,0,1$. Em resumo,\n",
        "\n",
        "$$\n",
        "\\begin{array}{lcl}\n",
        "\\operatorname{Area}(R) &=& \\displaystyle{\\int}_{-1}^{0}\\left(\\tfrac{1}{3}x - \\big(2x-\\tfrac{5}{3}x^3\\big) \\right)dx + \\int_{0}^1 \\left(\\left(2x-\\tfrac{5}{3}x^3\\right)-\\tfrac{1}{3}x \\right)dx \\\\[2ex]\n",
        "&=& \\left(\\frac{1}{3}\\frac{x^2}{2} - 2\\frac{x^2}{2}+\\frac{5}{3}\\frac{x^4}{4}\\right)\\Bigg|_{-1}^0 + \\left(2\\frac{x^2}{2}-\\frac{5}{3}\\frac{x^4}{4}-\\frac{1}{3}\\frac{x^2}{2}\\right)\\Bigg|_{0}^1 \\\\[2ex]\n",
        "&=& -\\frac{1}{3}\\frac{(-1)^2}{2} + 2\\frac{(-1)^2}{2}-\\frac{5}{3}\\frac{(-1)^4}{4}\\quad+\\quad 2\\frac{1^2}{2}-\\frac{5}{3}\\frac{1^4}{4}-\\frac{1}{3}\\frac{1^2}{2} \\\\[2ex]\n",
        "&=& -\\frac{1}{6} + 1 - \\frac{5}{12} \\quad+\\quad 1 - \\frac{5}{12} - \\frac{1}{6} \\\\[2ex]\n",
        "&=& \\frac{5}{12} + \\frac{5}{12} = \\frac{10}{12}.\n",
        "\\end{array}\n",
        "$$\n"
      ],
      "metadata": {
        "id": "Hj7-_CI0P4nz"
      }
    },
    {
      "cell_type": "markdown",
      "source": [
        "# **Matrizes e Determinantes**\n",
        "\n",
        "(postado a [17/12/2023](#scrollTo=pFgxS1bReGdc))"
      ],
      "metadata": {
        "id": "aUkxP1IBhvis"
      }
    },
    {
      "cell_type": "markdown",
      "source": [
        "## Matriz"
      ],
      "metadata": {
        "id": "JK4qFZM74wbh"
      }
    },
    {
      "cell_type": "markdown",
      "source": [
        "Uma matriz (finita) é essencialmente uma **lista** de **listas**, todas com o **mesmo tamanho**, onde a presença de elementos repetidos em cada sublista é permitida. A **ordem** das sublistas e a **posição** de cada elemento dentro delas, são **relevantes**. Por razões de convenção, uma matriz é frequentemente apresentada em formato **retangular**, organizando as sublistas em filas, de cima para baixo.\n",
        "\n",
        "![matrizA.png](https://drive.google.com/uc?id=183L0ald0i7a7Z4SgT7-se4s2ePTseBEU)"
      ],
      "metadata": {
        "id": "NLdPH4v3yiuV"
      }
    },
    {
      "cell_type": "code",
      "source": [
        "import numpy as np\n",
        "\n",
        "# create a 4x4 matrix\n",
        "matrix = np.array([[1, 1,0,0],[1,3,3,0],[1,5,10,5],\n",
        "                   [1, 7,21,35]])\n",
        "\n",
        "print(\"4x4 Matrix:\\n\",matrix)"
      ],
      "metadata": {
        "id": "BFBFZtHjKbZP",
        "outputId": "1a3d3108-6cb4-4bce-b717-af530bab1dca",
        "colab": {
          "base_uri": "https://localhost:8080/"
        }
      },
      "execution_count": null,
      "outputs": [
        {
          "output_type": "stream",
          "name": "stdout",
          "text": [
            "4x4 Matrix:\n",
            " [[ 1  1  0  0]\n",
            " [ 1  3  3  0]\n",
            " [ 1  5 10  5]\n",
            " [ 1  7 21 35]]\n"
          ]
        }
      ]
    },
    {
      "cell_type": "markdown",
      "source": [
        "## Dimensão / tamanho / ordem de uma matriz\n"
      ],
      "metadata": {
        "id": "FWLaz1Vdz8H4"
      }
    },
    {
      "cell_type": "markdown",
      "source": [
        "É dada pelo **número** de **linhas e colunas** da matriz. Assim, nas matrizes abaixo temos por exemplo que $A$ é de dimensão $3\\times 4$ e a matriz $D$ de dimensão $1\\times 3$.\n",
        "\n",
        "**Exemplos**:\n",
        "\n",
        "$$A=\\begin{bmatrix}1 & -1 & -2 & 2\\\\2 & -5 & 3 & -1\\\\0 & 1 & -1 & 2\\end{bmatrix}_{3\\times 4}\\quad,\\quad D = \\begin{bmatrix}-2 & 1 & -1\\end{bmatrix}_{1\\times 3}$$\n",
        "\n",
        "> **Notação:** O conjunto de todas as matrizes de tamanho $n\\times m$ sobre $\\mathbb{R}$ é denotado por ${\\large\\mathscr{M}}\\,\\!_{n\\times m}(\\mathbb{R})$. Assim, temos por exemplo que $A\\in{\\large\\mathscr{M}}\\,\\!_{ 3\\times 4}(\\mathbb{R})$. Quando conveniente, escrevemos a matriz $A$ como\n",
        "$$A=[a_{ij}]\\quad\\text{ou}\\quad A=\\big[a_{ij}\\big]_{n\\times m}\\,\\,(\\text{para enfatizar a dimensão de }A)$$\n",
        "e referimos $a_{ij}$ como o elemento $(i,j)$ de $A$; isto é, o elemento na **linha $i$** e **coluna $j$** de $A$. Outra notação usada é $A_{ij}$, para indicar o elemento na linha $i$ e coluna $j$ de $A$.\n",
        "\n",
        "<br>\n",
        "\n",
        ">Se $\\fbox{$n=m$}\\rightsquigarrow$ dizemos que $A$ é uma matriz **quadrada** de ordem $n$.\n",
        "\n"
      ],
      "metadata": {
        "id": "CtfYmj2EzZ5l"
      }
    },
    {
      "cell_type": "markdown",
      "source": [
        "## Operações e relações com matrizes"
      ],
      "metadata": {
        "id": "c8Z07v5ns38-"
      }
    },
    {
      "cell_type": "markdown",
      "source": [
        "Dadas $A=[a_{ij}]$ e $B=[b_{ij}]$ em ${\\large\\mathscr{M}}\\,\\!_{n\\times m}(\\mathbb{R})$ e $\\forall\\,\\alpha\\in\\mathbb{R},$\n",
        "\n",
        "\n",
        "\n"
      ],
      "metadata": {
        "id": "7ISU7OTv-7ih"
      }
    },
    {
      "cell_type": "markdown",
      "source": [
        "### **Igualdade de matrizes**:"
      ],
      "metadata": {
        "id": "2HmC5OS6yV2G"
      }
    },
    {
      "cell_type": "markdown",
      "source": [
        "$$\\bbox[white,5px,border:2px dotted black]{A=B\\quad\\Longleftrightarrow\\quad a_{ij} = b_{ij}\\quad,\\quad\\forall\\,1\\le i\\le n\\,\\,,\\,\\,\\forall\\,1\\le j\\le m}$$\n",
        "\n",
        "<br>\n",
        "\n",
        "$$\\begin{bmatrix}1 & {\\color{red}{a_{12}}} & -2 \\\\2 & -5 & 7 \\end{bmatrix} = \\begin{bmatrix}1 & -1 & -2 \\\\2 & -5 & {\\color{red}{b_{23}}} \\end{bmatrix}\\quad\\Longrightarrow\\quad\\begin{matrix}a_{12} &=& -1 \\\\ 7 &=& b_{23}\\end{matrix}$$"
      ],
      "metadata": {
        "id": "IM6CNu0vyg1_"
      }
    },
    {
      "cell_type": "markdown",
      "source": [
        "### **Soma de matrices**:\n"
      ],
      "metadata": {
        "id": "lAlZL9z0ywE0"
      }
    },
    {
      "cell_type": "markdown",
      "source": [
        "$$\\bbox[white,5px,border:2px dotted black]{A+B=[a_{ij}+b_{ij}]\\quad,\\quad\\forall\\,1\\le i\\le n\\,\\,,\\,\\,\\forall\\,1\\le j\\le m}$$\n",
        "\n",
        "<br>\n",
        "\n",
        "$$\\begin{bmatrix}1 & -1 & -2 \\\\2 & \\bbox[white,3px,border:2px dotted red]{-5} & 3 \\end{bmatrix} + \\begin{bmatrix}1 & -1 & -2 \\\\2 & \\bbox[white,3px,border:2px dotted red]{-5} & 3 \\end{bmatrix} = \\begin{bmatrix}2 & -2 & -4 \\\\4 & \\bbox[white,3px,border:2px dotted red]{-10} & 6 \\end{bmatrix}$$"
      ],
      "metadata": {
        "id": "erMptG8Xysl9"
      }
    },
    {
      "cell_type": "markdown",
      "source": [
        "### **Multiplicação de uma matriz por um escalar**:"
      ],
      "metadata": {
        "id": "mkpL6tydzM2s"
      }
    },
    {
      "cell_type": "markdown",
      "source": [
        "$$\\bbox[white,5px,border:2px dotted black]{\\alpha A = [\\alpha\\,a_{ij}]\\quad,\\quad\\forall\\,1\\le i\\le n\\,\\,,\\,\\,\\forall\\,1\\le j\\le m}$$\n",
        "\n",
        "<br>\n",
        "\n",
        "$$\\tfrac{1}{3}\\begin{bmatrix}1 & -1 & -2 \\\\2 & -5 & 3 \\end{bmatrix} = \\begin{bmatrix} \\tfrac{1}{3} & -\\tfrac{1}{3} & -\\tfrac{2}{3} \\\\\\tfrac{2}{3} & -\\tfrac{5}{3} & 1 \\end{bmatrix}$$"
      ],
      "metadata": {
        "id": "-kkZspVnzFk3"
      }
    },
    {
      "cell_type": "markdown",
      "source": [
        "### **Multiplicação de matrizes**:"
      ],
      "metadata": {
        "id": "XrmjCh56zcIV"
      }
    },
    {
      "cell_type": "markdown",
      "source": [
        "$$\\bbox[white,5px,border:2px dotted black]{A_{n\\times {\\color{red}k}}\\cdot B_{{\\color{red}k}\\times m} = \\left[\\sum_{\\ell=1}^{\\color{red}k} a_{i\\ell}\\,b_{\\ell j}\\right]_{n\\times m}\\quad,\\quad\\forall\\,1\\le i\\le n\\,\\,,\\,\\,\\forall\\,1\\le j\\le m}$$\n",
        "\n",
        "<br>\n",
        "\n",
        "$$\\begin{bmatrix}1 & -1 & -2 \\\\ \\bbox[white,3px,border:2px dotted red]{2} & \\bbox[white,3px,border:2px dotted red]{-5} & \\bbox[white,3px,border:2px dotted red]{3}\\end{bmatrix}_{2\\times \\mathbf{3}}\\cdot\\begin{bmatrix}4 & 0 & \\bbox[white,3px,border:2px dotted red]{1} & -1 \\\\1 & -5 & \\bbox[white,3px,border:2px dotted red]{2} & 2 \\\\ 1 & 3 & \\bbox[white,3px,border:2px dotted red]{-2} & 0 \\end{bmatrix}_{\\mathbf{3}\\times 4} = \\begin{bmatrix}1 & -1 & 3 & -3 \\\\6 & 44 & \\bbox[white,3px,border:2px dotted red]{-14} & -12\\end{bmatrix}_{2\\times 4}$$\n",
        "\n",
        "<br>\n",
        "\n",
        "$$\\bbox[white,3px,border:2px dotted red]{(A B)_{23} \\,\\,=\\,\\, 2\\cdot 1 \\,+\\, (-5)\\cdot 2 \\,+\\,. 3\\cdot(-2) \\,\\,=\\,\\, -14}$$"
      ],
      "metadata": {
        "id": "zinEBgrbzXwE"
      }
    },
    {
      "cell_type": "markdown",
      "source": [
        "## Matriz identidade"
      ],
      "metadata": {
        "id": "pKdc_TT21JeU"
      }
    },
    {
      "cell_type": "markdown",
      "source": [
        "$$I_1=\\begin{bmatrix}1\\end{bmatrix}\\,,\\,I_2=\\begin{bmatrix}1 & 0 \\\\ 0 & 1\\end{bmatrix}\\,,\\,I_3=\\begin{bmatrix}1 & 0 & 0 \\\\ 0 & 1 & 0 \\\\ 0 & 0 & 1\\end{bmatrix}\\,,\\,\\ldots\\,,\\,I_n = \\begin{bmatrix} 1 & 0 &\\cdots & 0 \\\\ 0 & 1 &\\cdots & 0 \\\\ \\vdots & \\vdots & \\ddots & \\vdots \\\\ 0 & 0 & \\cdots & 1\\end{bmatrix}_{n\\times n}$$\n",
        "\n",
        "<br>\n",
        "\n",
        "$$I=\\big[\\delta_{ij}\\big]\\quad\\text{onde}\\quad \\delta_{ij}=\\begin{cases}1\\,, & i=j \\\\ 0\\,, & i\\neq j\\end{cases}$$"
      ],
      "metadata": {
        "id": "7atTCmzz0-Qf"
      }
    },
    {
      "cell_type": "markdown",
      "source": [
        "## Matriz invertível (faz sentido só quando a matriz é quadrada)"
      ],
      "metadata": {
        "id": "135wz7DmuAXp"
      }
    },
    {
      "cell_type": "markdown",
      "source": [
        "A é uma matriz **invertível** se e só se **existe** uma matriz $B$ tal que $\\fbox{$AB = BA = I$}$.\n",
        "\n",
        "**Propriedades das matrizes invertíveis:**\n",
        "\n",
        "Como corolários imediatos da definição de invertibilidade, temos os seguintes resultados:\n",
        "\n",
        "- A **inversa** de uma matriz invertível é **única** e em consequência escrevemos $B=A^{-1}$. **Nota:** $\\frac{1}{A}$ não faz sentido.\n",
        "- $(A^{-1})^{-1} = A$.\n",
        "- $(\\alpha A)^{-1}=\\frac{1}{\\alpha}A^{-1}.\\quad,\\quad\\forall\\,\\alpha\\neq 0$.\n",
        "- $(AB)^{-1} = B^{-1}A^{-1}$.\n",
        "\n",
        "\n",
        "**Matriz invertível de dimensão $2$:**\n",
        "\n",
        "Sejam $a,b,c,d\\in\\mathbb{R}$, e seja $A$ a matriz quadrada de ordem $2$ definida por\n",
        "\n",
        "$$A=\\begin{bmatrix}a & b \\\\ c & d\\end{bmatrix}\\,.$$\n",
        "\n",
        "Associado à matriz $A$ temos o valor numérico $\\Delta=ad-bc.$ Temos o seguinte resultado\n",
        "\n",
        "$$\\bbox[5px,border:2px dotted black]\n",
        "{\\Delta\\neq 0\\quad\\Longleftrightarrow\\quad A\\text{ é invertível.}}$$\n",
        "\n",
        "Se $A$ é invertível, então\n",
        "\n",
        "$$A^{-1}=\\frac{1}{\\Delta}\\begin{bmatrix}d & -b \\\\ -c & a\\end{bmatrix}\\,.$$\n"
      ],
      "metadata": {
        "id": "fdCElRZHt36F"
      }
    },
    {
      "cell_type": "markdown",
      "source": [
        "## Matriz transposta"
      ],
      "metadata": {
        "id": "UszwhNa-uuAq"
      }
    },
    {
      "cell_type": "markdown",
      "source": [
        "$$ \\bbox[white,3px,border:2px dotted black]{A^T = [a_{ji}]\\quad,\\quad\\forall\\,1\\le i\\le n\\,\\,,\\,\\,\\forall\\,1\\le j\\le m}$$\n",
        "\n",
        "<br>\n",
        "\n",
        "$$\\begin{bmatrix}1 & -1 & -2 \\\\ 2 & -5 & 3\\end{bmatrix}^T_{2\\times 3} = \\begin{bmatrix}1 & 2 \\\\ -1 & -5  \\\\ -2 & 3\\end{bmatrix}_{3\\times 2} $$\n",
        "\n",
        "<br>\n",
        "\n",
        "> A transposição de matrizes goza das seguintes propriedades:\n",
        ">\n",
        "> - $(A^T)^T = A$.\n",
        "> - $(A+B)^T = A^T + B^T$.\n",
        "> - $(\\alpha\\,A)^T = \\alpha\\,A^T$, para $\\alpha\\in\\mathbb{R}$.\n",
        "> - $(AB)^T = B^TA^T$.\n",
        "\n",
        "<br>\n",
        "\n",
        "> Com matrizes quadradas:\n",
        ">\n",
        "> - $(A^k)^T = (A^T)^k$, para qualquer $k\\in\\mathbb{N}$.\n",
        "> - A matriz **invertível** $\\,\\Rightarrow\\,$ $(A^T)^{-1} = (A^{-1})^T$.\n",
        ">\n",
        "> - $\\bbox[white,3px,border:2px dotted black]{\\begin{array}{lcl} A^T = A &\\leftrightsquigarrow& A \\text{ é }\\textbf{simétrica.}\\\\\n",
        "A^T = -A &\\leftrightsquigarrow& A \\text{ é }\\textbf{anti-simétrica.}\\end{array}}$\n"
      ],
      "metadata": {
        "id": "iO9Bktmnuq0T"
      }
    },
    {
      "cell_type": "markdown",
      "source": [
        "## Matriz ortogonal (só faz sentido quando a matriz é quadrada)\n"
      ],
      "metadata": {
        "id": "mV9pdSRNvb0n"
      }
    },
    {
      "cell_type": "markdown",
      "source": [
        "A é uma matriz **ortogonal** se e só se $\\fbox{$AA^T = A^TA = I$}.$\n",
        "\n",
        "**Exemplo**: Seja $(a,b)\\in\\mathscr{C}=\\big\\{(x,y)\\in\\mathbb{R}^2\\,\\colon\\, x^2+y^2=1\\big\\}$. A matriz $A$ definida abaixo é ortogonal:\n",
        "$$A=\\begin{bmatrix}a & -b \\\\ b & a\\end{bmatrix}.$$\n",
        "Observe-se que\n",
        "$$A^T=\\begin{bmatrix}a & b \\\\ -b & a\\end{bmatrix}\\quad\\text{e}\\quad A\\,A^T = A^TA = \\begin{bmatrix}a^2+b^2 & ab-ba \\\\ ba-ab & a^2+b^2\\end{bmatrix} = \\begin{bmatrix}1 & 0 \\\\ 0 & 1\\end{bmatrix}.$$\n",
        "\n",
        "\n",
        "**Corolários imediatos da definição:**\n",
        "\n",
        "- A **transposta** de uma matriz **ortogonal** é **ortogonal**.\n",
        "- As matrizes **ortogonais** são **invertíveis**.\n",
        "- A **inversa** de uma matriz **ortogonal** é **ortogonal**.\n",
        "- $A$ matriz ortogonal. Então\n",
        "  - $A^{-1} = A^T$.\n",
        "  - $(A^T)^{-1} = A = (A^{-1})^T$."
      ],
      "metadata": {
        "id": "g0BHnZL2vYVC"
      }
    },
    {
      "cell_type": "markdown",
      "source": [
        "## Operações elementares linha"
      ],
      "metadata": {
        "id": "Z998XqrTstKS"
      }
    },
    {
      "cell_type": "markdown",
      "source": [
        "- $\\bbox[white,3px,border:2px solid black]{L_i\\longrightarrow L_i+\\alpha L_j}\\,\\,$ (substituimos a linha $L_i$ por $L_i+\\alpha L_j$. As outras linhas permanecem inalteradas)\n",
        "\n",
        "$$\\begin{bmatrix}2 & 1 & 3 \\\\ \\color{red}{4} & \\color{red}{-2} & \\color{red}{5} \\\\ 1 & 0 & 7\\end{bmatrix}L_2\\longrightarrow L_2-4L_3\\begin{bmatrix}2 & 1 & 3 \\\\ \\color{red}{0} & \\color{red}{-2} & \\color{red}{-23} \\\\ 1 & 0 & 7\\end{bmatrix}$$\n",
        "\n",
        "<br>\n",
        "\n",
        "- $\\bbox[white,3px,border:2px solid black]{L_i\\longleftrightarrow L_j}\\,\\,$ (trocamos a linha $L_i$ pela linha $L_j$ e viceversa. As outras linhas permanecem inalteradas)\n",
        "\n",
        "$$\\begin{bmatrix}\\color{red}{2} & \\color{red}{1} & \\color{red}{3} \\\\ {4} & {-2} & {5} \\\\ \\color{magenta}{1} & \\color{magenta}{0} & \\color{magenta}{7}\\end{bmatrix}L_1\\longleftrightarrow L_3\\begin{bmatrix}\\color{magenta}{1} & \\color{magenta}{0} & \\color{magenta}{7} \\\\ {4} & {-2} & {5} \\\\ \\color{red}{2} & \\color{red}{1} & \\color{red}{3}\\end{bmatrix}$$\n",
        "\n",
        "<br>\n",
        "\n",
        "- $\\bbox[white,3px,border:2px solid black]{L_i\\longrightarrow \\alpha L_i}\\,\\,$ (substituimos a linha $L_i$ por $\\alpha L_i$. As outras linhas permanecem inalteradas)\n",
        "\n",
        "$$\\begin{bmatrix}2 & 1 & 3 \\\\ {4} & {-2} & {5} \\\\ \\color{orange}{1} & \\color{orange}{0} & \\color{orange}{7}\\end{bmatrix}L_3\\longrightarrow -2L_3\\begin{bmatrix}2 & 1 & 3 \\\\ {4} & {-2} & {5} \\\\ \\color{orange}{-2} & \\color{orange}{0} & \\color{orange}{-14}\\end{bmatrix}$$\n",
        "\n",
        "> **Analogamente**, definem-se **operações elementares coluna.**\n"
      ],
      "metadata": {
        "id": "tJoOroBybFc6"
      }
    },
    {
      "cell_type": "markdown",
      "source": [
        "## Matrizes elementares linha"
      ],
      "metadata": {
        "id": "azpgwRh5shR3"
      }
    },
    {
      "cell_type": "markdown",
      "source": [
        "São obtidas a partir da matriz identidade que é modificada através de operações elementares linha. Portanto, temos **três** tipos de matrizes elementares linha.\n",
        "\n",
        "- $\\bbox[white,3px,border:2px solid black]{E_{ij}(\\alpha)}\\,\\,$ $\\big($associada à operação elementar $L_i\\longrightarrow L_i+\\alpha L_j\\big)$.\n",
        "\n",
        "  $$\\begin{bmatrix}1 & 0 & 0 \\\\ 0 & 1 & 0 \\\\ 0 & 0 & 1\\end{bmatrix}L_2\\longrightarrow L_2-4L_3\\begin{bmatrix}1 & 0 & 0 \\\\ 0 & 1 & -4 \\\\ 0 & 0 & 1\\end{bmatrix} = E_{23}(-4)$$\n",
        "\n",
        "  Desta maneira, a aplicação da operação elementar linha $L_i\\longrightarrow L_i+\\alpha L_j$ a uma matriz é equivalente a multiplicar matricialmente $E_{ij}(\\alpha)$ à esquerda da matriz mencionada.\n",
        "\n",
        "  $$E_{23}(-4)\\cdot A=\\begin{bmatrix}1 & 0 & 0 \\\\ 0 & 1 & -4 \\\\ 0 & 0 & 1\\end{bmatrix}\\begin{bmatrix}2 & 1 & 3 \\\\ 4 & -2 & 5 \\\\ 1 & 0 & 7\\end{bmatrix} = \\begin{bmatrix}2 & 1 & 3 \\\\ 0 & -2 & -23 \\\\ 1 & 0 & 7\\end{bmatrix}.$$\n",
        "\n",
        "- $\\bbox[white,3px,border:2px solid black]{P_{ij}}\\,\\,$ $\\big($associada à operação elementar $L_i\\longleftrightarrow L_j\\big)$.\n",
        "\n",
        "  $$\\begin{bmatrix}1 & 0 & 0 \\\\ 0 & 1 & 0 \\\\ 0 & 0 & 1\\end{bmatrix}L_1\\longleftrightarrow L_3\\begin{bmatrix}0 & 0 & 1 \\\\ 0 & 1 & 0 \\\\ 1 & 0 & 0\\end{bmatrix} = P_{13}$$\n",
        "\n",
        "  Desta maneira, a aplicação da operação elementar linha $L_i\\longleftrightarrow L_j$ a uma matriz é equivalente a multiplicar matricialmente $P_{ij}$ à esquerda da matriz mencionada.\n",
        "\n",
        "  $$P_{13}\\cdot A=\\begin{bmatrix}0 & 0 & 1 \\\\ 0 & 1 & 0 \\\\ 1 & 0 & 0\\end{bmatrix}\\begin{bmatrix}2 & 1 & 3 \\\\ 4 & -2 & 5 \\\\ 1 & 0 & 7\\end{bmatrix} = \\begin{bmatrix}1 & 0 & 7 \\\\ 4 & -2 & 5 \\\\ 2 & 1 & 3\\end{bmatrix}.$$\n",
        "\n",
        "- $\\bbox[white,3px,border:2px solid black]{D_{i}(\\alpha)}\\,\\,$ $\\big($associada à operação elementar $L_i\\longrightarrow \\alpha L_i\\big)$.\n",
        "\n",
        "  $$\\begin{bmatrix}1 & 0 & 0 \\\\ 0 & 1 & 0 \\\\ 0 & 0 & 1\\end{bmatrix}L_3\\longrightarrow -2L_3\\begin{bmatrix}1 & 0 & 0 \\\\ 0 & 1 & 0 \\\\ 0 & 0 & -2\\end{bmatrix} = D_{3}(-2)$$\n",
        "\n",
        "  Desta maneira, a aplicação da operação elementar linha $L_i\\longrightarrow \\alpha L_i$ a uma matriz é equivalente a multiplicar matricialmente $D_{i}(\\alpha)$ à esquerda da matriz mencionada.\n",
        "\n",
        "  $$D_{3}(-2)\\cdot A=\\begin{bmatrix}1 & 0 & 0 \\\\ 0 & 1 & 0 \\\\ 0 & 0 & -2\\end{bmatrix}\\begin{bmatrix}2 & 1 & 3 \\\\ 4 & -2 & 5 \\\\ 1 & 0 & 7\\end{bmatrix} = \\begin{bmatrix}2 & 1 & 3 \\\\ 4 & -2 & 5 \\\\ -2 & 0 & -14\\end{bmatrix}.$$\n",
        "\n",
        "  > **Analogamente**, definem-se **matrizes elementares coluna**."
      ],
      "metadata": {
        "id": "f0jgZpm2r6UG"
      }
    },
    {
      "cell_type": "markdown",
      "source": [
        "## Matriz de Permutação (na perspectiva das linhas)"
      ],
      "metadata": {
        "id": "MFAV3qLpPD8T"
      }
    },
    {
      "cell_type": "markdown",
      "source": [
        "Seja $L=\\{e_1,e_2,\\ldots,e_n\\}$ uma lista de $n$ **elementos**. Uma **permutação** de $L$ é um **reordenamento** dos elementos de $L$ (recorde-se que numa lista a **posição** de cada elemento é **relevante**). Por exemplo, seja $L=\\{e_1,e_2,e_3\\}$. A permutação $\\tau: L\\to L$ é definida por\n",
        "\n",
        "$$\\begin{array}{lcl}\n",
        "\\tau(e_1) &=& e_2 \\\\[1ex]\n",
        "\\tau(e_2) &=& e_1 \\\\[1ex]\n",
        "\\tau(e_3) &=& e_3\n",
        "\\end{array}$$\n",
        "\n",
        "Suponhamos agora que\n",
        "\n",
        "$$e_1=\\begin{bmatrix}1 & 0 & 0\\end{bmatrix}\\quad,\\quad e_2=\\begin{bmatrix}0 & 1 & 0\\end{bmatrix}\\quad,\\quad e_3=\\begin{bmatrix}0 & 0 & 1\\end{bmatrix}\\quad.$$\n",
        "\n",
        "A permutação $\\sigma$ definida anteriormente dá\n",
        "\n",
        "$$\\tau(e_1)=\\begin{bmatrix}0 & 1 & 0\\end{bmatrix}\\quad,\\quad \\tau(e_2)=\\begin{bmatrix}1 & 0 & 0\\end{bmatrix}\\quad,\\quad \\tau(e_3)=\\begin{bmatrix}0 & 0 & 1\\end{bmatrix}$$\n",
        "\n",
        "A **matriz de permutação** $P_\\tau$ associada a permutação $\\tau$ é\n",
        "\n",
        "$$P_\\tau = \\begin{bmatrix}\\tau(e_1) \\\\ \\tau(e_2) \\\\ \\tau(e_3)\\end{bmatrix} = \\begin{bmatrix}0 & 1 & 0\\\\1 & 0 & 0\\\\0 & 0 & 1\\end{bmatrix}.$$\n",
        "\n",
        "Podemos pensar na matriz $P_\\tau$ como a matriz obtida a partir da matriz identidade ao **permutar** a **primeira** e a **segunda** linhas, **mantendo fixa a terceira** linha\n",
        "\n",
        "$$I=\\begin{bmatrix}1 & 0 & 0\\\\0 & 1 & 0\\\\0 & 0 & 1\\end{bmatrix}\\quad\\rightsquigarrow\\quad P_\\tau = \\begin{bmatrix}0 & 1 & 0\\\\1 & 0 & 0\\\\0 & 0 & 1\\end{bmatrix} $$\n",
        "\n",
        "> **Nota:** A permutação $\\tau$ corresponde a uma **transposição**, onde o elemento que está na posição $i$ passa para a posição $j$ e vice-versa. Essa operação é representada por $(ij)$. Em consequência, a matriz de permutação $P_{(ij)}$ coincide com a matriz elementar linha $P_{ij}$.\n",
        "\n",
        "Similarmente, associada à permutação $\\sigma:L\\to L$ definida por\n",
        "\n",
        "$$\\begin{array}{lcl}\n",
        "\\sigma(e_1) &=& e_2 \\\\[1ex]\n",
        "\\sigma(e_2) &=& e_3 \\\\[1ex]\n",
        "\\sigma(e_3) &=& e_1\n",
        "\\end{array}$$\n",
        "\n",
        "temos a matriz de permutação\n",
        "\n",
        "$$P_\\sigma = \\begin{bmatrix}0 & 1 & 0\\\\0 & 0 & 1\\\\1 & 0 & 0\\end{bmatrix}.$$\n",
        "\n",
        "**Pergunta:** Toda matriz de permutação é uma matriz elementar linha do tipo $P_{ij}\\,$?\n",
        "\n",
        "Note-se que podemos escrever a permutação $\\sigma$ como produto de duas transposições, a saber $\\sigma=(23)(12)$. Temos de pensar neste produto como a composição de duas funções. Neste sentido, lendo da **direita à esquerda** ( primeiro aplicamos $(12)$ e depois $(23)\\,$), temos\n",
        "\n",
        "$$\\begin{array}{l}\n",
        "1\\mapsto 2 \\mapsto 3 \\\\[1ex]\n",
        "2\\mapsto 1 \\mapsto 1 \\\\[1ex]\n",
        "3\\mapsto 3 \\mapsto 2\n",
        "\\end{array}\\quad\\Longrightarrow\\quad\\begin{array}{l}\n",
        "1\\mapsto 3 \\\\[1ex]\n",
        "2\\mapsto 1 \\\\[1ex]\n",
        "3\\mapsto 2  \n",
        "\\end{array}\n",
        "$$\n",
        "\n",
        "Verifica-se que $P_\\sigma=P_{23}P_{12}$,\n",
        "\n",
        "$$\\begin{bmatrix}0 & 1 & 0\\\\0 & 0 & 1\\\\1 & 0 & 0\\end{bmatrix}=\\begin{bmatrix}1 & 0 & 0\\\\0 & 0 & 1\\\\0 & 1 & 0\\end{bmatrix}\\cdot\\begin{bmatrix}0 & 1 & 0\\\\1 & 0 & 0\\\\0 & 0 & 1\\end{bmatrix}$$\n",
        "\n"
      ],
      "metadata": {
        "id": "TAyW-OYjPRbS"
      }
    },
    {
      "cell_type": "markdown",
      "source": [
        "## Matrizes em forma de escada por linhas"
      ],
      "metadata": {
        "id": "oXdCOJFDsQuX"
      }
    },
    {
      "cell_type": "markdown",
      "source": [
        "$$\\begin{bmatrix} 0 & 0 & \\color{red}{3} & 1 & 0 & 5 \\\\\n",
        "0 & 0 & 0 & \\color{red}{-2} & 1 & 7 \\\\\n",
        "0 & 0 & 0 & 0 & 0 & \\color{red}{4} \\\\\n",
        "0 & 0 & 0 & 0 & 0 & 0\\end{bmatrix}$$\n",
        "\n",
        "A matriz exibida está em forma de escada. Quais são as características que notamos?\n",
        "\n",
        "Percorramos todas as filas de cima para baixo e cada fila de esquerda a direita até toparmos com o **primeiro elemento  diferente** de $0$. Aqueles primeiros elementos diferentes de zero que encontramos em cada fila são chamados de **pivôs** (a **vermelho** na matriz exibida). À esquerda de cada pivô substituamos os $0$'s por $\\bbox[gray,1px,border:0px dotted black]{\\phantom{0}}$. Se conseguimos **visualizar uma escada** então **estamos a um passo** de ter uma matriz na forma de escada que nos interessa.\n",
        "\n",
        "**Peculiaridades da forma de escada que nos interessa:**\n",
        "- Os degraus podem ter comprimentos diferentes.\n",
        "- A altura entre degraus consecutivos é sempre de uma unidade.\n",
        "\n",
        "$$\\begin{bmatrix} \\bbox[gray,3px,border:0px dotted black]{\\phantom{0}} & \\bbox[gray,3px,border:0px dotted black]{\\phantom{0}} & \\color{red}{3} & 1 & 0 & 5 \\\\\n",
        "\\bbox[gray,3px,border:0px dotted black]{\\phantom{0}} & \\bbox[gray,3px,border:0px dotted black]{\\phantom{0}} & \\bbox[gray,3px,border:0px dotted black]{\\phantom{0}} & \\color{red}{-2} & 1 & 7 \\\\\n",
        "\\bbox[gray,3px,border:0px dotted black]{\\phantom{0}} & \\bbox[gray,3px,border:0px dotted black]{\\phantom{0}} & \\bbox[gray,3px,border:0px dotted black]{\\phantom{0}} & \\bbox[gray,3px,border:0px dotted black]{\\phantom{0}} & \\bbox[gray,3px,border:0px dotted black]{\\phantom{0}} & \\color{red}{4} \\\\\n",
        "\\bbox[gray,3px,border:0px dotted black]{\\phantom{0}} & \\bbox[gray,3px,border:0px dotted black]{\\phantom{0}} & \\bbox[gray,3px,border:0px dotted black]{\\phantom{0}} & \\bbox[gray,3px,border:0px dotted black]{\\phantom{0}} & \\bbox[gray,3px,border:0px dotted black]{\\phantom{0}} & \\bbox[gray,3px,border:0px dotted black]{\\phantom{0}} \\end{bmatrix}$$\n",
        "\n",
        "\n"
      ],
      "metadata": {
        "id": "-itqjEmgRyOl"
      }
    },
    {
      "cell_type": "markdown",
      "source": [
        "## Forma reduzida de uma matriz em forma de escada por linhas\n",
        "\n",
        "(postado a [11/12/2023](#scrollTo=Lkq-ZLQPr74m))\n",
        "\n"
      ],
      "metadata": {
        "id": "Lkq-ZLQPr74m"
      }
    },
    {
      "cell_type": "markdown",
      "source": [
        "Se uma matriz está em **forma de escada**, os **pivôs** são todos **iguais a $1$**, e esses pivôs são os **únicos elementos não nulos** nas colunas em que estão inseridos, então dizemos que a matriz está em **forma de escada reduzida**. Essa forma reduzida simplifica a identificação das variáveis dependentes na resolução de sistemas lineares.\n",
        "\n",
        "A matriz em forma de escada reduzida da matriz exibida na alínea anterior é\n",
        "\n",
        "$$\\begin{bmatrix} 0 & 0 & \\color{red}{1} & 0 & \\frac{1}{6} & 0 \\\\\n",
        "0 & 0 & 0 & \\color{red}{1} & -\\frac{1}{2} & 0 \\\\\n",
        "0 & 0 & 0 & 0 & 0 & \\color{red}{1} \\\\\n",
        "0 & 0 & 0 & 0 & 0 & 0\\end{bmatrix}.$$\n"
      ],
      "metadata": {
        "id": "W1ECuUcasE2C"
      }
    },
    {
      "cell_type": "markdown",
      "source": [
        "## Algoritmo de Gauss (para levar uma matriz qualquer à sua forma de escada)"
      ],
      "metadata": {
        "id": "UKIAIMlIJwM2"
      }
    },
    {
      "cell_type": "markdown",
      "source": [
        "Consideremos a matriz\n",
        "\n",
        "$$E=\\begin{bmatrix}1 & 2 & 0 & 3 \\\\ 3 & 1 & 2 & -1 \\\\5 & 5 & 2 & 5 \\\\7 & 4 & 4 & 1\\end{bmatrix}$$\n",
        "\n",
        "Identificamos o pivô da **primeira linha**. Neste caso é $\\bbox[lightgray,3px,border:2px dotted black]{1}$.Todas as entradas debaixo do pivô devem ser $0$. A seguir, indicamos uma sequência de três operações elementares linha para conseguir o objetivo.\n",
        "\n",
        "$$\\begin{bmatrix}\\bbox[lightgray,3px,border:2px dotted black]{1} & 2 & 0 & 3 \\\\ 3 & 1 & 2 & -1 \\\\5 & 5 & 2 & 5 \\\\7 & 4 & 4 & 1\\end{bmatrix}L_2\\longrightarrow L_2-3L_1\\begin{bmatrix}1 & 2 & 0 & 3 \\\\ 0 & -5 & 2 & -10 \\\\5 & 5 & 2 & 5 \\\\7 & 4 & 4 & 1\\end{bmatrix}L_3\\longrightarrow L_3-5L_1\\begin{bmatrix}1 & 2 & 0 & 3 \\\\ 0 & -5 & 2 & -10 \\\\0 & -5 & 2 & \\color{red}{-10} \\\\7 & 4 & 4 & 1\\end{bmatrix}$$\n",
        "\n",
        "$$L_4\\longrightarrow L_4-7L_1\\begin{bmatrix}1 & 2 & 0 & 3 \\\\ 0 & -5 & 2 & -10 \\\\0 & -5 & 2 & \\color{red}{-10} \\\\0 & -10 & 4 & -20\\end{bmatrix}.$$\n",
        "\n",
        "Agora, passamos à **segunda linha** da última matriz que obtivemos e identificamos o pivô. Neste caso é $\\bbox[yellow,3px,border:2px dotted black]{-5}$. Poderiamos proceder como no passo anterior (tornar 0 todas as entradas debaixo do pivô). Porém, notemos que a linha 2 e a linha 3 têm as mesmas entradas ~~excepto as da última coluna~~. Convém primeiro substituir uma delas pela diferença das duas e depois trocar linhas se for preciso (recorde-se que queremos encontrar uma forma de escada decrescente). Portanto, temos\n",
        "\n",
        "$$\\begin{bmatrix}1 & 2 & 0 & 3 \\\\ 0 & \\bbox[yellow,3px,border:2px dotted black]{-5} & 2 & -10 \\\\0 & -5 & 2 & \\color{red}{-10} \\\\0 & -10 & 4 & -20\\end{bmatrix}L_3\\longrightarrow L_3-L_2\\begin{bmatrix}1 & 2 & 0 & 3 \\\\ 0 & -5 & 2 & -10 \\\\0 & 0 & 0 & \\color{red}{0} \\\\0 & -10 & 4 & -20\\end{bmatrix}L_4\\longleftrightarrow L_3\\begin{bmatrix}1 & 2 & 0 & 3 \\\\ 0 & -5 & 2 & -10 \\\\0 & -10 & 4 & -20 \\\\\n",
        "0 & 0 & 0 & \\color{red}{0}\n",
        "\\end{bmatrix}.$$\n",
        "\n",
        "Agora, continuamos com o procedimento de tornar $0$ as entradas restantes abaixo do pivô.\n",
        "\n",
        "$$\\begin{bmatrix}1 & 2 & 0 & 3 \\\\ 0 & \\bbox[yellow,3px,border:2px dotted black]{-5} & 2 & -10 \\\\0 & -10 & 4 & -20 \\\\\n",
        "0 & 0 & 0 & \\color{red}{0}\n",
        "\\end{bmatrix}L_3\\longrightarrow L_3-2L_2\\begin{bmatrix}1 & 2 & 0 & 3 \\\\ 0 & -5 & 2 & -10 \\\\0 & 0 & 0 & 0 \\\\\n",
        "0 & 0 & 0 & \\color{red}{0}\n",
        "\\end{bmatrix}.$$\n",
        "\n",
        "Note-se que a última matriz **já se encontra em forma de escada**. Em resumo,\n",
        "\n",
        "$$\\begin{bmatrix}1 & 2 & 0 & 3 \\\\ 3 & 1 & 2 & -1 \\\\5 & 5 & 2 & 5 \\\\7 & 4 & 4 & 1\\end{bmatrix}\\overset{\\text{forma de escada}}{\\longrightarrow}\\begin{bmatrix}\\bbox[lightgray,3px,border:2px dotted black]{1} & 2 & 0 & 3 \\\\ 0 & \\bbox[lightgray,3px,border:2px dotted black]{-5} & 2 & -10 \\\\0 & 0 & 0 & 0 \\\\\n",
        "0 & 0 & 0 & 0\n",
        "\\end{bmatrix}.$$\n",
        "\n",
        "**Nota:** Obrigado Leonor Carolo pela correção."
      ],
      "metadata": {
        "id": "_SzSEfx4xUWH"
      }
    },
    {
      "cell_type": "markdown",
      "source": [
        "## Característica de uma matriz"
      ],
      "metadata": {
        "id": "V6bDjjI-LwC_"
      }
    },
    {
      "cell_type": "markdown",
      "source": [
        "Dada uma matriz $A$ qualquer, a **característica da matriz** é definida como o **número de pivôs** da matriz na sua forma de escada por linhas. Usaremos a notação $\\operatorname{car}\\,(A)$ para nos referirmos a ela. Assim, na matriz acima, $\\operatorname{car}\\,(E)=2$."
      ],
      "metadata": {
        "id": "nSzTWkyC4U7z"
      }
    },
    {
      "cell_type": "markdown",
      "source": [
        "## Algoritmo de Gauss-Jordan"
      ],
      "metadata": {
        "id": "ah6O6_RjLntH"
      }
    },
    {
      "cell_type": "markdown",
      "source": [
        "O Algoritmo de **Gauss-Jordan** consiste em obter a **forma de escada reduzida** de uma matriz. Isso implica prosseguir com o algoritmo de Gauss de modo a que todos os pivôs sejam iguais a $1$ e, nas colunas onde se encontram os pivôs, as restantes entradas sejam nulas.\n",
        "\n",
        "No caso da matriz anterior\n",
        "\n",
        "$$E=\\begin{bmatrix}1 & 2 & 0 & 3 \\\\ 3 & 1 & 2 & -1 \\\\5 & 5 & 2 & 5 \\\\7 & 4 & 4 & 1\\end{bmatrix},$$\n",
        "\n",
        "cuja forma de escada é a matriz\n",
        "\n",
        "$$E'=\\begin{bmatrix}1 & 2 & 0 & 3 \\\\ 0 & -5 & 2 & -10 \\\\0 & 0 & 0 & 5 \\\\\n",
        "0 & 0 & 0 & 0\n",
        "\\end{bmatrix},$$\n",
        "\n",
        "continuamos com o Algoritmo de Gauss para encontrar a forma de escada reduzida correspondente,\n",
        "\n",
        "$$\\begin{bmatrix}1 & 2 & 0 & 3 \\\\ 0 & -5 & 2 & -10 \\\\0 & 0 & 0 & 5 \\\\ 0 & 0 & 0 & 0\\end{bmatrix}L_2\\longrightarrow-\\tfrac{1}{5}L_2\\begin{bmatrix}1 & 2 & 0 & 3 \\\\ 0 & 1 & -\\tfrac{2}{5} & 2 \\\\0 & 0 & 0 & 5 \\\\ 0 & 0 & 0 & 0\n",
        "\\end{bmatrix}L_1\\longrightarrow L_1-2L_2\\begin{bmatrix}1 & 0 & \\tfrac{4}{5} & -1 \\\\ 0 & 1 & -\\tfrac{2}{5} & 2 \\\\0 & 0 & 0 & 5 \\\\\n",
        "0 & 0 & 0 & 0\n",
        "\\end{bmatrix}$$\n",
        "\n",
        "<br>\n",
        "\n",
        "$$L3\\longrightarrow \\frac{1}{5}L_3\\begin{bmatrix}1 & 0 & \\tfrac{4}{5} & -1 \\\\ 0 & 1 & -\\tfrac{2}{5} & 2 \\\\0 & 0 & 0 & 1 \\\\\n",
        "0 & 0 & 0 & 0\n",
        "\\end{bmatrix}L_2\\longrightarrow L_2-2L_3\\begin{bmatrix}1 & 0 & \\tfrac{4}{5} & -1 \\\\ 0 & 1 & -\\tfrac{2}{5} & 0 \\\\0 & 0 & 0 & 1 \\\\\n",
        "0 & 0 & 0 & 0\n",
        "\\end{bmatrix}L_1\\longrightarrow L_1+L_3\\begin{bmatrix}1 & 0 & \\tfrac{4}{5} & 0 \\\\ 0 & 1 & -\\tfrac{2}{5} & 0 \\\\0 & 0 & 0 & 1 \\\\\n",
        "0 & 0 & 0 & 0\n",
        "\\end{bmatrix}.$$\n",
        "\n",
        "Recapitulando,\n",
        "\n",
        "$$\\begin{bmatrix}1 & 2 & 0 & 3 \\\\ 3 & 1 & 2 & -1 \\\\5 & 5 & 2 & 5 \\\\7 & 4 & 4 & 1\\end{bmatrix}\\overset{\\text{forma de escada}}{\\longrightarrow}\\begin{bmatrix}1 & 2 & 0 & 3 \\\\ 0 & -5 & 2 & -10 \\\\0 & 0 & 0 & 5 \\\\\n",
        "0 & 0 & 0 & 0\n",
        "\\end{bmatrix}\\overset{\\text{forma de escada reduzida}}{\\longrightarrow}\\begin{bmatrix}1 & 0 & \\tfrac{4}{5} & 0 \\\\ 0 & 1 & -\\tfrac{2}{5} & 0 \\\\0 & 0 & 0 & 1 \\\\\n",
        "0 & 0 & 0 & 0\n",
        "\\end{bmatrix}.$$\n",
        "\n"
      ],
      "metadata": {
        "id": "0Q1GjD5XX5a4"
      }
    },
    {
      "cell_type": "markdown",
      "source": [
        "## Cálculo da matriz inversa de uma matriz invertível"
      ],
      "metadata": {
        "id": "fFDtjqynJ94V"
      }
    },
    {
      "cell_type": "markdown",
      "source": [
        "Usando as **operações elementares linha**, podemos encontrar a matriz inversa de uma matriz qualquer, desde que esta seja invertível. Obviamente, só faz sentido falarmos de matrizes invertíveis no caso de matrizes quadradas. A ideia é simples. Seja $A$ uma matriz de ordem $n$. Usando uma sequência (finita) de matrizes elementares $(E_1,E_2,\\ldots,E_{r-1},E_r)$, levamos a matriz dada à sua forma de escada reduzida (algoritmo de Gauss-Jordan),\n",
        "\n",
        "$$ U = E_r E_{r-1} \\cdots E_2 E_1 A .$$\n",
        "\n",
        "A matriz $U$ é a **matriz em forma de escada reduzida** da matriz $A$.\n",
        "Se a matriz $A$ é **invertível**, necessariamente $U=I$ (a matriz **identidade**), e, portanto, a inversa da matriz $A$ é\n",
        "\n",
        "$$I=E_r E_{r-1} \\cdots E_2 E_1 A\\,\\Longrightarrow\\,\\bbox[white,3px,border:2px dotted black]{A^{-1} = E_r E_{r-1} \\cdots E_2 E_1}\\,.$$\n",
        "\n",
        "Neste sentido, a matriz $E$ da secção anterior não é invertível porque a sua forma de escada reduzida tem uma linha de zeros.\n",
        "\n",
        "Vejamos agora um exemplo com uma matriz invertível.\n",
        "\n",
        "**Exemplo:**\n",
        "\n",
        "$$B=\\begin{bmatrix}2 & -3 & 4 \\\\ 3 & 1 & 5 \\\\ 0 & 2 & 0\n",
        "\\end{bmatrix}.$$\n",
        "\n",
        "Colocamos à direita da matriz $B$ a matriz identidade (de ordem $3$ neste caso) e utilizamos o algoritmo de Gauss-Jordan. No final do processo, a matriz identidade surgirá à esquerda, e a matriz $B^{-1}$ à direita.\n",
        "\n",
        "$$\\left[\\begin{array}{c c c | c c c}\n",
        "2 & -3 & 4 & 1 & 0 & 0 \\\\ 3 & 1 & 5 & 0 & 1 & 0 \\\\ 0 & 2 & 0 & 0 & 0 & 1 \\end{array}\\right]L_2\\longrightarrow L_2-L_1\\left[\\begin{array}{c c c | c c c}\n",
        "2 & -3 & 4 & 1 & 0 & 0 \\\\ 1 & 4 & 1 & -1 & 1 & 0 \\\\ 0 & 2 & 0 & 0 & 0 & 1 \\end{array}\\right]$$\n",
        "\n",
        "<br>\n",
        "\n",
        "$$L_1\\longleftrightarrow L_2\\left[\\begin{array}{c c c | c c c}\n",
        "1 & 4 & 1 & -1 & 1 & 0 \\\\ 2 & -3 & 4 & 1 & 0 & 0 \\\\ 0 & 2 & 0 & 0 & 0 & 1 \\end{array}\\right]L_2\\longleftrightarrow L_3\\left[\\begin{array}{c c c | c c c}\n",
        "1 & 4 & 1 & -1 & 1 & 0 \\\\ 0 & 2 & 0 & 0 & 0 & 1 \\\\ 2 & -3 & 4 & 1 & 0 & 0 \\end{array}\\right]$$\n",
        "\n",
        "<br>\n",
        "\n",
        "$$L_3\\longrightarrow L_3-2L_1\\left[\\begin{array}{c c c | c c c}\n",
        "1 & 4 & 1 & -1 & 1 & 0 \\\\ 0 & 2 & 0 & 0 & 0 & 1 \\\\ 0 & -11 & 2 & 3 & -2 & 0 \\end{array}\\right]L_2\\longrightarrow\\tfrac{1}{2}L_2\\left[\\begin{array}{c c c | c c c}\n",
        "1 & 4 & 1 & -1 & 1 & 0 \\\\ 0 & 1 & 0 & 0 & 0 & \\tfrac{1}{2} \\\\ 0 & -11 & 2 & 3 & -2 & 0 \\end{array}\\right]$$\n",
        "\n",
        "<br>\n",
        "\n",
        "$$L_3\\longrightarrow L_3+11L_2\\left[\\begin{array}{c c c | c c c}\n",
        "1 & 4 & 1 & -1 & 1 & 0 \\\\ 0 & 1 & 0 & 0 & 0 & \\tfrac{1}{2} \\\\ 0 & 0 & 2 & 3 & -2 & \\tfrac{11}{2} \\end{array}\\right]L_1\\longrightarrow L_1-4L_2\\left[\\begin{array}{c c c | c c c}\n",
        "1 & 0 & 1 & -1 & 1 & -2 \\\\ 0 & 1 & 0 & 0 & 0 & \\tfrac{1}{2} \\\\ 0 & 0 & 2 & 3 & -2 & \\tfrac{11}{2} \\end{array}\\right]$$\n",
        "\n",
        "<br>\n",
        "\n",
        "$$L_3\\longrightarrow\\tfrac{1}{2}L_3\\left[\\begin{array}{c c c | c c c}\n",
        "1 & 0 & 1 & -1 & 1 & -2 \\\\ 0 & 1 & 0 & 0 & 0 & \\tfrac{1}{2} \\\\ 0 & 0 & 1 & \\tfrac{3}{2} & -1 & \\tfrac{11}{4} \\end{array}\\right]L_1\\longrightarrow L_1-L_3\\left[\\begin{array}{c c c | c c c}\n",
        "1 & 0 & 0 & -\\tfrac{5}{2} & 2 & -\\tfrac{19}{4} \\\\ 0 & 1 & 0 & 0 & 0 & \\tfrac{1}{2} \\\\ 0 & 0 & 1 & \\tfrac{3}{2} & -1 & \\tfrac{11}{4} \\end{array}\\right].$$\n",
        "\n",
        "Assim, segue-se que\n",
        "\n",
        "$$B^{-1}=\\begin{bmatrix} -\\tfrac{5}{2} & 2 & -\\tfrac{19}{4} \\\\\n",
        "0 & 0 & \\tfrac{1}{2} \\\\\n",
        "\\tfrac{3}{2} & -1 & \\tfrac{11}{4}\n",
        "\\end{bmatrix}.$$\n",
        "\n",
        "> **Nota:** Levando registo das operações elementares linha que utilizamos para chegar à matriz em forma de escada reduzida da matriz aumentada $B|I$, e usando a notação introduzida anteriormente para as matrizes elementares, podemos dizer que\n",
        ">\n",
        "> $$B^{-1}=E_{13}(-1)\\,D_3(\\tfrac{1}{2})\\,E_{12}(-4)\\,E_{32}(11)\\,D_2(\\tfrac{1}{2})\\,E_{31}(-2)\\,P_{23}\\,P_{12}\\,E_{21}(-1).$$\n",
        "\n"
      ],
      "metadata": {
        "id": "L7hDEkBwknPD"
      }
    },
    {
      "cell_type": "markdown",
      "source": [
        "## Sistemas de equações lineares"
      ],
      "metadata": {
        "id": "6Slzn0JZWm6z"
      }
    },
    {
      "cell_type": "markdown",
      "source": [
        "### **Definições**"
      ],
      "metadata": {
        "id": "qpeR9s2hq4em"
      }
    },
    {
      "cell_type": "markdown",
      "source": [
        "Uma **equação linear** nas variáveis (ou incógnitas) $x_1,x_2,\\ldots,x_m$ é uma expressão algébrica do tipo\n",
        "\n",
        "$$a_1 x_1 + a_2x_2 + \\cdots + a_mx_m = b, \\qquad (1)$$\n",
        "\n",
        "onde $a_1,a_2,\\ldots,a_m$ e $b$ são números (vamos lidar com números reais só). Chamamos $a_1,a_2,\\ldots,a_m$ de  **coeficientes** da equação e dizemos que $b$ é o **termo constante**.\n",
        "\n",
        "Um **sistema de $n$ equações lineares nas $m$ incógnitas** $x_1,x_2,\\ldots,x_m$ é um conjunto de $n$ equações do tipo (1):\n",
        "\n",
        "$$S: \\left\\{\\begin{matrix}\n",
        "a_{11} x_1 + a_{12}x_2 + \\cdots + a_{1m}x_m = b_1 \\\\\n",
        "a_{21} x_1 + a_{22}x_2 + \\cdots + a_{2m}x_m = b_2 \\\\\n",
        "\\vdots \\\\\n",
        "a_{n1} x_1 + a_{n2}x_2 + \\cdots + a_{nm}x_m = b_n\n",
        "\\end{matrix}\\right.\\qquad (2)$$\n",
        "\n",
        "Uma **sequência numérica** $(s_1,s_2,\\ldots,s_m)$ diz-se **solução** do sistema $(2)$ se for solução de **todas** as equações **simultaneamente**.\n",
        "\n",
        "**Dois sistemas** de $n$ equações lineares com $m$ incógnitas são **equivalentes** se tiverem o **mesmo conjunto de soluções**.\n",
        "\n",
        "Iremos referirmos às matrizes\n",
        "\n",
        "$$A=\\left[\\begin{array}{c c c c}\n",
        "a_{11} & a_{12} & \\cdots & a_{1m} \\\\\n",
        "a_{21} & a_{22} & \\cdots & a_{2m} \\\\\n",
        "\\vdots & \\vdots & \\ddots & \\vdots \\\\\n",
        "a_{n1} & a_{n2} & \\cdots & a_{nm} \\\\\n",
        "\\end{array}\\right]\\quad,\\quad A|b = \\left[\\begin{array}{c c c c | c}\n",
        "a_{11} & a_{12} & \\cdots & a_{1m} & b_1 \\\\\n",
        "a_{21} & a_{22} & \\cdots & a_{2m} & b_2 \\\\\n",
        "\\vdots & \\vdots & \\ddots & \\vdots \\\\\n",
        "a_{n1} & a_{n2} & \\cdots & a_{nm} & b_n \\\\\n",
        "\\end{array}\\right],$$\n",
        "\n",
        "como a **matriz de coeficientes** $A$ e a **matriz aumentada** $A|b$ do sistema $(2)$, respectivamente."
      ],
      "metadata": {
        "id": "UmcI5lBsWm67"
      }
    },
    {
      "cell_type": "markdown",
      "source": [
        "### **Classificação**"
      ],
      "metadata": {
        "id": "niqBUG3hrAQ7"
      }
    },
    {
      "cell_type": "markdown",
      "source": [
        "Um sistema de equações lineares pode ser\n",
        "\n",
        "  - **possível**:\n",
        "      - determinado (uma única solução).\n",
        "      - indeterminado (muitas soluções).\n",
        "  - **impossível** (sem solução)."
      ],
      "metadata": {
        "id": "9nEjWcs54qtg"
      }
    },
    {
      "cell_type": "markdown",
      "source": [
        "### **Resolução de sistemas de equações lineares** (uso do algoritmo de Gauss)"
      ],
      "metadata": {
        "id": "0-DzzqlTWm67"
      }
    },
    {
      "cell_type": "markdown",
      "source": [
        "A ideia é levar o sistema que queremos resolver a um **sistema equivalente** que seja **mais simples** de resolver.\n",
        "\n",
        "**Pergunta:** Quais são os sistemas mais simples de resolver?\n",
        "\n",
        "1. &nbsp;&nbsp;$\\left\\{\\begin{matrix}x_1 & & & & & = & b_1\\\\\n",
        "& x_2 & & & & = & b_2 \\\\\n",
        "&  & \\ddots & & & \\vdots & \\vdots \\\\\n",
        "& & & & x_n & = & b_n\n",
        "\\end{matrix}\\right.\\,\\leadsto\\,\\left[\\begin{array}{c c c c | c}\n",
        "1 & 0 & \\cdots & 0 & b_1 \\\\\n",
        "0 & 1 & \\cdots & 0 & b_2 \\\\\n",
        "\\vdots & \\vdots & \\ddots & \\vdots & \\vdots \\\\\n",
        "0 & 0 & \\cdots & 1 & b_n\n",
        "\\end{array}\\right]$\n",
        "\n",
        "<br>\n",
        "\n",
        "2. &nbsp;&nbsp;$\\left\\{\\begin{matrix}\n",
        "a_{11}x_1 + a_{12}x_2 + \\cdots + a_{1n}x_n &=& b_1 \\\\\n",
        "\\phantom{a_{21}x_1 +i }a_{22}x_2 + \\cdots + a_{2n} x_n &=& b_2 \\\\\n",
        "\\phantom{a_{21}x_1 +i }\\ddots & \\vdots & \\vdots \\\\\n",
        "\\phantom{a_{n1}x_1 + a_{n2}x_2 + \\cdots +i }a_{nn}x_n &=& b_n\n",
        "\\end{matrix}\\right.\\,\\leadsto\\,\\left[\\begin{array}{c c c c | c}\n",
        "a_{11} & a_{12} & \\cdots & a_{1n} & b_1 \\\\\n",
        "0 & a_{22} & \\cdots & a_{2n} & b_2 \\\\\n",
        "\\vdots & \\vdots & \\ddots & \\vdots & \\vdots \\\\\n",
        "0 & 0 & \\cdots & a_{nn} & b_n\n",
        "\\end{array}\\right]$\n",
        "\n",
        "Claramente, os sistemas **mais simples de resolver** são aqueles que têm forma triangular (superior), ou, mais genericamente, uma **forma de escada**. Neste caso, através de **substituição inversa**, é possível encontrar as soluções do sistema.\n",
        "\n",
        "<br>\n",
        "\n",
        "Ora bem, já conhecemos uma forma de levar uma **matriz qualquer** à sua **forma de escada**, usando o **algoritmo de Gauss**. A **pergunta** que se impõe é a seguinte: as operações elementares linha alteram o conjunto das soluções de um sistema de equações lineares? A **resposta** é **negativa**. Não alteram as soluções. Por exemplo, procedamos à constatação deste facto para o caso da operação que modifica uma linha pela soma da mesma linha com um múltiplo de outra linha. Seja o sistema $S$ formado por $n$ equações $eq_1, eq_2,\\ldots,eq_n$, onde por conveniência, escreveremos $x=(x_1,x_2,\\ldots,x_n)$ e\n",
        "\n",
        "$$eq_i(x): a_{i1}x_1 + a_{i2}x_2 + \\cdots + a_{in}x_n - b_i =0,$$\n",
        "para cada $1\\le i\\le n$. Seja $s=(s_1,s_2,\\ldots,s_n)$ uma solução do sistema $S$. Isto significa que\n",
        "\n",
        "$$eq_i(s)=0 \\quad,\\quad \\forall\\,i:\\quad 1\\le i\\le n.$$\n",
        "\n",
        "Suponhamos agora que substituimos a equação $eq_i$ pela equação $eq'_i = eq_i + \\alpha\\,eq_j$, onde $i\\neq j$, (as **restantes** equações **permanecen inalteradas**). Temos assim um novo sistema $S'$ de equações que coincide com o anterior excepto na equação indexada por $i$. Verifica-se que $s$ é também solução da equação $eq'_i$. Com efeito,\n",
        "\n",
        "$$eq'_i(s) = eq_i(s) + \\alpha\\,eq_j(s) = 0 + \\alpha\\, 0 = 0.$$\n",
        "\n",
        "Reciprocamente, se $s$ é solução do sistema $S'$, pelo raciocínio anterior, substituimos $eq'_i$ por $eq'_i - \\alpha\\,eq'_j$. Segue-se então que\n",
        "\n",
        "$$eq'_i - \\alpha\\,eq'_j \\,=\\, eq_i + \\alpha\\,eq_j - \\alpha\\,eq_j \\,=\\, eq_i$$\n",
        "\n",
        "Logo,\n",
        "\n",
        "$$eq'_i(s) = 0 \\,\\Longrightarrow\\, eq_i(s)=0.$$\n",
        "\n",
        "Vejamos agora um exemplo.\n",
        "\n",
        "<br>\n",
        "\n",
        "**Exemplo:** Resolva o sistema\n",
        "\n",
        "$$S: \\left\\{\\begin{array}{ccc}\n",
        "-x - 2y -z &=& 2 \\\\\n",
        "\\phantom{-x + ii}y-z &=& 3 \\\\\n",
        "\\,\\,x+3y-z &=& 1\n",
        "\\end{array}\\right. .$$\n",
        "\n",
        "<br>\n",
        "\n",
        "$$\\left[\\begin{array}{c c c | c}\n",
        "-1 & -2 & -1 & 2 \\\\\n",
        "0 & 1 & -1 & 3 \\\\\n",
        "1 & 3 & -1 & 1\n",
        "\\end{array}\n",
        "\\right]L_1\\longrightarrow L_1+L_3\\left[\\begin{array}{c c c | c}\n",
        "0 & 1 & -2 & 3 \\\\\n",
        "0 & 1 & -1 & 3 \\\\\n",
        "1 & 3 & -1 & 1\n",
        "\\end{array}\n",
        "\\right]$$\n",
        "\n",
        "<br>\n",
        "\n",
        "$$L_3\\longleftrightarrow L_1\\left[\\begin{array}{c c c | c}\n",
        "1 & 3 & -1 & 1 \\\\\n",
        "0 & 1 & -1 & 3 \\\\\n",
        "0 & 1 & -2 & 3 \\\\\n",
        "\\end{array}\n",
        "\\right]L_3\\longrightarrow L_3-L_2\\left[\\begin{array}{c c c | c}\n",
        "1 & 3 & -1 & 1 \\\\\n",
        "0 & 1 & -1 & 3 \\\\\n",
        "0 & 0 & -1 & 0 \\\\\n",
        "\\end{array}\n",
        "\\right].$$\n",
        "\n",
        "Chegamos ao sistema equivalente\n",
        "\n",
        "$$S': \\left\\{\\begin{array}{ccc}\n",
        "x + 3y -z &=& 1 \\\\\n",
        "\\phantom{-x + ii}y-z &=& 3 \\\\\n",
        "\\phantom{x + 3y +}-z &=& 0\n",
        "\\end{array}\\right. .$$\n",
        "\n",
        "Portanto, a solução do sistema é\n",
        "\n",
        "$$z=0\\quad,\\quad y=3 \\quad,\\quad x=-8.$$"
      ],
      "metadata": {
        "id": "Ysg_86do6MRB"
      }
    },
    {
      "cell_type": "markdown",
      "source": [
        "## Independência e Dependência Linear das linhas (colunas) de uma matriz"
      ],
      "metadata": {
        "id": "l_ZLsunzW0EO"
      }
    },
    {
      "cell_type": "markdown",
      "source": [
        "Seja\n",
        "\n",
        "$$A=\\begin{bmatrix} a_{11} & a_{12} & \\cdots & a_{1m} \\\\\n",
        "a_{21} & a_{22} & \\cdots & a_{2m} \\\\\n",
        "\\vdots & \\vdots & \\ddots & \\vdots \\\\\n",
        "a_{n1} & a_{n2} & \\cdots & a_{nm}\n",
        "\\end{bmatrix}.$$\n",
        "\n",
        "Uma **combinação linear** das linhas de $A$ é uma expressão da forma\n",
        "\n",
        "$$\\alpha_1\\,A_{1\\ast} + \\alpha_2\\,A_{2\\ast} + \\cdots + \\alpha_n\\,A_{n\\ast},$$\n",
        "\n",
        "onde $\\alpha_1, \\alpha_2, \\ldots , \\alpha_n \\in\\mathbb{R}$ são **escalares** e $A_{1\\ast}, A_{2\\ast}, \\ldots, A_{n\\ast}$ são as **linhas** de $A$. Em particular, chama-se combinação linear **trivial** à seguinte equação\n",
        "\n",
        "$$\\alpha_1\\,A_{1\\ast} + \\alpha_2\\,A_{2\\ast} + \\cdots + \\alpha_n\\,A_{n\\ast} = 0$$\n",
        "\n",
        "\n",
        "**Independência e dependência linear**\n",
        "\n",
        "Se a combinação linear trivial só ocorre quando **todos** os escalares são **zero**, então diremos que as **linhas** de $A$ são **linearmente independentes** (L.I.); caso contrário, diremos que são **linearmente dependentes** (L.D.).\n",
        "\n",
        "$$\n",
        "\\begin{array}{ll}\n",
        "\\text{(L.I.)}&\\bbox[white,3px,border:2px dotted black]{\\alpha_1\\,A_{1\\ast} + \\alpha_2\\,A_{2\\ast} + \\cdots + \\alpha_n\\,A_{n\\ast} = 0 \\quad\\Longrightarrow\\quad \\forall\\,i\\quad\\alpha_i = 0.} \\\\[2ex]\n",
        "\\text{(L.D.)}& \\bbox[white,3px,border:2px dotted black]{\\alpha_1\\,A_{1\\ast} + \\alpha_2\\,A_{2\\ast} + \\cdots + \\alpha_n\\,A_{n\\ast} = 0 \\quad,\\quad \\exists\\,i\\quad \\alpha_i\\neq 0.}\n",
        "\\end{array}\n",
        "$$\n",
        "\n",
        "---\n",
        "\n",
        "**Característica de uma matriz** (revisitado)\n",
        "\n",
        "A **característica** de uma matriz também se pode definir  como o **máximo número de linhas** da matriz que são **linearmente independentes**.\n",
        "\n",
        "---\n",
        "\n",
        "**Exercício.** Determine se as linhas da seguinte matriz são linearmente dependentes. Se for o caso, escreva uma linha como combinação linear das restantes.\n",
        "\n",
        "$$A=\\begin{bmatrix}\n",
        "1 & -1 & 2 \\\\\n",
        "1 & 1 & -1 \\\\\n",
        "-1 & -5 & 7\n",
        "\\end{bmatrix}$$\n",
        "\n",
        "Consideremos a combinação linear trivial das linhas de $A$; isto é:\n",
        "\n",
        "$$\\alpha_1\\begin{bmatrix}1&-1&2 \\\\ \\end{bmatrix} \\,+\\, \\alpha_2\\begin{bmatrix}1&1&-1 \\\\ \\end{bmatrix} \\,+\\, \\alpha_3\\begin{bmatrix}-1&-5&7 \\\\ \\end{bmatrix} = \\begin{bmatrix} 0 & 0 & 0 \\\\ \\end{bmatrix}$$\n",
        "\n",
        "Esta equação matricial é equivalente ao sistema de equações lineares:\n",
        "\n",
        "$$\\left\\{\\begin{array}{ccl}\n",
        "\\alpha_1+\\alpha_2-\\alpha_3 &=& 0 \\\\\n",
        "-\\alpha_1 + \\alpha_2 - 5\\alpha_3 &=& 0 \\\\\n",
        "2\\alpha_1 -\\alpha_2 + 7\\alpha_3 &=& 0\n",
        "\\end{array}\\right.\\qquad (\\star)$$\n",
        "\n",
        "que se pode escrever também da seguinte forma\n",
        "\n",
        "$$\\begin{bmatrix}1 & 1 & -1\\\\ -1 & 1 & -5 \\\\ 2 & -1 & 7\\end{bmatrix}\\begin{bmatrix}\\alpha_1 \\\\ \\alpha_2 \\\\ \\alpha_3\n",
        "\\end{bmatrix}=\\begin{bmatrix}0 \\\\ 0 \\\\ 0\\end{bmatrix}.$$\n",
        "\n",
        "Escrevemos a matriz aumentada correspondente e aplicamos o algoritmo de Gauss\n",
        "\n",
        "$$\\left[\\begin{array}{c c c | c}\n",
        "1 & 1 & -1 & 0\\\\ -1 & 1 & -5 & 0 \\\\ 2 & -1 & 7 & 0\n",
        "\\end{array}\\right]L_2\\longrightarrow L_2+L_1\\left[\\begin{array}{c c c | c}\n",
        "1 & 1 & -1 & 0\\\\ 0 & 2 & -6 & 0 \\\\ 2 & -1 & 7 & 0\n",
        "\\end{array}\\right]L_3\\longrightarrow L_3-2L_1\\left[\\begin{array}{c c c | c}\n",
        "1 & 1 & -1 & 0\\\\ 0 & 2 & -6 & 0 \\\\ 0 & -3 & 9 & 0\n",
        "\\end{array}\\right]$$\n",
        "\n",
        "<br>\n",
        "\n",
        "$$L_2\\longrightarrow\\tfrac{1}{2}L_2\\left[\\begin{array}{c c c | c}\n",
        "1 & 1 & -1 & 0\\\\ 0 & 1 & -3 & 0 \\\\ 0 & -3 & 9 & 0\n",
        "\\end{array}\\right]L_3\\longrightarrow L_3+3L_2\\left[\\begin{array}{c c c | c}\n",
        "1 & 1 & -1 & 0\\\\ 0 & 1 & -3 & 0 \\\\ 0 & 0 & 0 & 0\n",
        "\\end{array}\\right]$$\n",
        "\n",
        "A **última linha de zeros** indica que o sistema é **consistente** (possível) e **indeterminado**, uma vez que $\\operatorname{car}\\,(A)=2 < 3$ (a ordem da matriz). Isto significa que o conjunto das linhas de $A$ é  **linearmente dependente**. De fato, a partir da última matriz em forma de escada obtemos um **sistema equivalente** ao sistema $(\\star)$ mostrado acima,\n",
        "\n",
        "$$\\left[\\begin{array}{c c c | c}\n",
        "1 & 1 & -1 & 0\\\\ 0 & 1 & -3 & 0 \\\\ 0 & 0 & 0 & 0\n",
        "\\end{array}\\right]\\,\\leadsto\\,\\left\\{\\begin{array}{ccl}\n",
        "\\alpha_1+\\alpha_2-\\alpha_3 &=& 0 \\\\\n",
        "\\phantom{-\\alpha_1 +i } \\alpha_2 - 3\\alpha_3 &=& 0 \\\\\n",
        "\\phantom{0000000000}0 &=& 0\\end{array}\\right. .$$\n",
        "\n",
        "E agora, por substituição inversa, resolvemos o sistema,\n",
        "\n",
        "$$\\alpha_2=3\\alpha_3\\quad,\\quad \\alpha_1=-\\alpha_2+\\alpha_3=-2\\alpha_3\\quad,\\quad \\alpha_3\\,\\,\\text{livre},$$\n",
        "\n",
        "ou, em forma equivalente,\n",
        "\n",
        "$$\\begin{bmatrix}\\alpha_1 \\\\ \\alpha_2 \\\\ \\alpha_3 \\end{bmatrix} = \\alpha_3\\begin{bmatrix}-2 \\\\ 3 \\\\ 1\\end{bmatrix}\\quad,\\quad \\alpha_3\\in\\mathbb{R}.$$\n",
        "\n",
        "Finalmente, suponhamos que queremos **escrever a terceira linha em termos das outras**. Olhando para expressão encontrada para $\\alpha_1$ e $\\alpha_2$ em termos de $\\alpha_3$, fazemos, por exemplo, $\\alpha_3=1$, e portanto $\\alpha_1=-2$ e $\\alpha_2=3$. Logo, **a partir da combinação linear trivial** das linhas de $A$, segue-se que\n",
        "\n",
        "$$-2\\begin{bmatrix}1&-1&2 \\\\ \\end{bmatrix} \\,+\\, 3\\begin{bmatrix}1&1&-1 \\\\ \\end{bmatrix} \\,+\\, 1\\begin{bmatrix}-1&-5&7 \\\\ \\end{bmatrix} = \\begin{bmatrix} 0 & 0 & 0 \\\\ \\end{bmatrix},$$\n",
        "\n",
        "e em consequência,\n",
        "\n",
        "$$\\begin{bmatrix}-1&-5&7 \\\\ \\end{bmatrix} = 2\\begin{bmatrix}1&-1&2 \\\\ \\end{bmatrix} \\,-\\, 3\\begin{bmatrix}1&1&-1 \\\\ \\end{bmatrix}.$$\n"
      ],
      "metadata": {
        "id": "deIKVlryKiyY"
      }
    },
    {
      "cell_type": "markdown",
      "source": [
        "## Determinante de uma matriz\n",
        "\n",
        "(postado a [17/12/2023](#scrollTo=pFgxS1bReGdc))"
      ],
      "metadata": {
        "id": "pFgxS1bReGdc"
      }
    },
    {
      "cell_type": "markdown",
      "source": [
        "### **Definição**"
      ],
      "metadata": {
        "id": "32zRu5R5fJO-"
      }
    },
    {
      "cell_type": "markdown",
      "source": [
        "Iremos definir o determinante de uma matriz quadrada como um número real que **depende unicamente das entradas** da matriz,\n",
        "\n",
        "$$\\begin{array}{l}\\operatorname{det}:{\\large\\mathscr{M}}\\!_n(\\mathbb{R})\\to\\mathbb{R} \\\\\n",
        "\\hspace{1.7cm}A \\longmapsto \\operatorname{det} A\\,.\n",
        "\\end{array}$$\n",
        "\n",
        "Veremos que o determinante **está relacionado** com a dependência ou independência linear das linhas (ou colunas) da matriz $A$.\n",
        "\n",
        "**Notação:** $\\hspace{0.5cm}\\operatorname{det}A\\,,\\,\\vert A\\vert$.\n",
        "\n",
        "---\n",
        "\n",
        "**Motivação:** Dada a matriz $A$ de ordem 2\n",
        "\n",
        "$$A=\\begin{bmatrix}a_1 & b_1 \\\\ a_2 & b_2\\end{bmatrix}$$\n",
        "\n",
        "**Pergunta:** Quando são **linearmente dependentes** as linhas (colunas) de $A$?\n",
        "\n",
        "As linhas de $A$ são linearmente dependentes quando uma linha é  **proporcional** a outra. Neste sentido, digamos que para algum $\\lambda\\in\\mathbb{R}$, temos\n",
        "\n",
        "$$\\begin{bmatrix}a_1 & b_1\\end{bmatrix} = \\lambda\\begin{bmatrix}a_2 & b_2\\end{bmatrix}\\quad\\Longleftrightarrow\\quad a_1 = \\lambda a_2\\quad,\\quad b_1=\\lambda b_2.$$\n",
        "\n",
        "Podemos escrever estas duas proporções colocando em evidência $\\lambda$, de maneira que\n",
        "\n",
        "$$\\frac{a_1}{a_2} = \\frac{b_1}{b_2} = \\lambda\\,,$$\n",
        "\n",
        "desde que $a_2\\neq 0$ e  $b_2\\neq 0$. Porém, o **problema** com esta abordagem  é que **não é robusta**, no sentido de que tem aplicação limitada, ou seja, não é aplicável para quaisquer $a_1, b_1, a_2, b_2\\in\\mathbb{R}$. Contudo, note-se que podemos também escrever\n",
        "\n",
        "$$\\frac{a_1}{a_2}=\\frac{b_1}{b_2}\\quad\\Longleftrightarrow\\quad a_1b_2-a_2b_1 = 0.$$\n",
        "\n",
        "Isto é, as linhas de $A$ são **linearmente dependentes** quando $a_1b_2-a_2b_1=0$. Esta expressão **é robusta**, pois aplica-se para quaisquer $a_1,a_2,b_1,b_2$. Aproveitamos esta disquisição para dar a seguinte definição e o seguinte resultado fundamental.\n",
        "\n",
        "**Definição.** (Determinante de uma matriz de ordem $2$)\n",
        "\n",
        "$$\\bbox[white,3px,border:2px dotted black]{\n",
        "  \\operatorname{det} A = a_1b_2-a_2b_1}$$\n",
        "\n",
        "**Corolário.**\n",
        "\n",
        "$$\\bbox[white,3px,border:2px dotted black]{\n",
        "  \\operatorname{det} A \\neq 0 \\Longleftrightarrow \\text{linhas de }A \\text{ são linearmente independentes}.}$$\n",
        "\n",
        "**Pergunta:** E para uma matriz de ordem $3$, como definimos o determinante?\n",
        "\n",
        "Seja agora\n",
        "\n",
        "$$A=\\begin{bmatrix}a_1 & b_1 & c_1 \\\\ a_2 & b_2 & c_2 \\\\ a_3 & b_3 & c_3\\end{bmatrix}$$\n",
        "\n",
        "Seguindo o raciocínio do caso de uma matriz de ordem $2$, procuramos encontrar uma expressão algébrica que responda à pergunta de **quando as três linhas de $A$ são linearmente dependentes**. Isso ocorre  quando uma linha é proporcional a outra ou mais geralmente quando **uma linha** pode ser expressa como uma **combinação linear das outras linhas**. Neste sentido, digamos que existem $\\alpha,\\beta\\in\\mathbb{R}$ tais que\n",
        "\n",
        "$$\\begin{array}{c}\\begin{bmatrix} a_1 & b_1 & c_1\\end{bmatrix} = \\alpha \\begin{bmatrix} a_2 & b_2 & c_2\\end{bmatrix} \\,\\,+\\,\\, \\beta \\begin{bmatrix} a_3 & b_3 & c_3\\end{bmatrix} \\\\\n",
        "\\big\\Updownarrow \\\\\n",
        "a_1 = \\alpha\\,a_2 + \\beta\\,a_3\\qquad b_1 = \\alpha\\,b_2 + \\beta\\,b_3\\qquad c_1 = \\alpha\\,c_2 + \\beta\\,c_3\\,.\n",
        "\\end{array}\n",
        "$$\n",
        "\n",
        "Procedendo de forma análoga ao caso anterior, escrevemos\n",
        "\n",
        "$$\\frac{a_1}{a_2} = \\alpha \\,+\\, \\beta\\,\\frac{a_3}{a_2}\\qquad \\frac{b_1}{b_2} = \\alpha \\,+\\, \\beta\\,\\frac{b_3}{b_2}\\qquad \\frac{c_1}{c_2} = \\alpha \\,+\\, \\beta\\,\\frac{c_3}{c_2}\\,,$$\n",
        "\n",
        "desde que $a_2\\neq 0, b_2\\neq 0$ e $c_2\\neq 0$. Pode-se reformular as equações acima da seguinte maneira:\n",
        "\n",
        "$$\\frac{a_1}{a_2} \\,-\\,\\beta\\,\\frac{a_3}{a_2} \\quad=\\quad \\frac{b_1}{b_2} \\,-\\,\\beta\\,\\frac{b_3}{b_2} \\quad=\\quad \\frac{c_1}{c_2} \\,-\\,\\beta\\,\\frac{c_3}{c_2} \\quad=\\quad \\alpha\\,,$$\n",
        "\n",
        "de onde podemos obter as seguintes equações\n",
        "\n",
        "$$\\frac{a_1}{a_2}-\\frac{b_1}{b_2} = \\beta\\left(\\frac{a_3}{a_2}-\\frac{b_3}{b_2}\\right)\\qquad \\frac{a_1}{a_2}-\\frac{c_1}{c_2} = \\beta\\left(\\frac{a_3}{a_2}-\\frac{c_3}{c_2}\\right)\\qquad \\frac{b_1}{b_2}-\\frac{c_1}{c_2} = \\beta\\left(\\frac{b_3}{b_2}-\\frac{c_3}{c_2}\\right)\\,,$$\n",
        "\n",
        "equações estas que podemos escrever como\n",
        "\n",
        "$$\\frac{\\frac{a_1}{a_2}-\\frac{b_1}{b_2}}{\\frac{a_3}{a_2}-\\frac{b_3}{b_2}} = \\frac{\\frac{a_1}{a_2}-\\frac{c_1}{c_2}}{\\frac{a_3}{a_2}-\\frac{c_3}{c_2}} = \\frac{\\frac{b_1}{b_2}-\\frac{c_1}{c_2}}{\\frac{b_3}{b_2}-\\frac{c_3}{c_2}} = \\beta$$\n",
        "\n",
        "isto é,\n",
        "\n",
        "$$\\require{cancel}\n",
        "\\frac{\\frac{a_1b_2-a_2b_1}{\\cancel{a_2b_2}}}{\\frac{a_3b_2-a_2b_3}{\\cancel{a_2b_2}}} = \\frac{\\frac{a_1c_2-a_2c_1}{\\cancel{a_2c_2}}}{\\frac{a_3c_2-a_2c_3}{\\cancel{a_2c_2}}} = \\frac{\\frac{b_1c_2-b_2c_1}{\\cancel{b_2c_2}}}{\\frac{b_3c_2-b_2c_3}{\\cancel{b_2c_2}}} = \\beta$$\n",
        "\n",
        "ou equivalentemente,\n",
        "\n",
        "$$\\frac{a_1b_2-a_2b_1}{a_3b_2-a_2b_3} = \\frac{a_1c_2-a_2c_1}{a_3c_2-a_2c_3} = \\frac{b_1c_2-b_2c_1}{b_3c_2-b_2c_3} = \\beta\\,.$$\n",
        "\n",
        "A partir destas equações, seguem-se\n",
        "\n",
        "$$\\begin{array}{ll}\n",
        "(1) & \\dfrac{a_1b_2-a_2b_1}{a_3b_2-a_2b_3} = \\dfrac{a_1c_2-a_2c_1}{a_3c_2-a_2c_3}\\quad\\Longleftrightarrow\\quad(a_1b_2-a_2b_1)(a_3c_2-a_2c_3) - (a_3b_2-a_2b_3)(a_1c_2-a_2c_1) = 0\\,\\\\[1ex]\n",
        "(2) & \\dfrac{a_1b_2-a_2b_1}{a_3b_2-a_2b_3} = \\dfrac{b_1c_2-b_2c_1}{b_3c_2-b_2c_3}\\quad\\Longleftrightarrow\\quad(a_1b_2-a_2b_1)(b_3c_2-b_2c_3) - (a_3b_2-a_2b_3)(b_1c_2-b_2c_1) = 0\\,.\\\\[1ex]\n",
        "(3) & \\dfrac{a_1c_2-a_2c_1}{a_3c_2-a_2c_3} = \\dfrac{b_1c_2-b_2c_1}{b_3c_2-b_2c_3}\\quad\\Longleftrightarrow\\quad(a_1c_2-a_2c_1)(b_3c_2-b_2c_3) - (a_3c_2-a_2c_3)(b_1c_2-b_2c_1) = 0\\,.\n",
        "\\end{array}\n",
        "$$\n",
        "\n",
        "Simplificando estas expressões, obtemos\n",
        "\n",
        "$$\\require{cancel}\n",
        "\\begin{array}{ll}\n",
        "(1) & \\cancel{a_1b_2a_3c_2} - a_2b_1a_3c_2-a_1b_2a_2c_3 + a_2b_1a_2c_3 \\\\\n",
        "    & - \\cancel{a_3b_2a_1c_2} + a_2b_3a_1c_2 + a_3b_2a_2c_1 - a_2b_3a_2c_1 = 0\\,. \\\\[1ex]\n",
        "(2) & a_1b_2b_3c_2 - \\cancel{a_2b_1b_3c_2} - a_1b_2b_2c_3 + a_2b_1b_2c_3 \\\\\n",
        "    & -\\, a_3b_2b_1c_2 + \\cancel{a_2b_3b_1c_2} + a_3b_2b_2c_1 - a_2b_3b_2c_1 = 0\\,. \\\\[1ex]\n",
        "(3) & a_1c_2b_3c_2 - a_2c_1b_3c_2 - a_1c_2b_2c_3 + \\cancel{a_2c_1b_2c_3} \\\\\n",
        "    & -\\, a_3c_2b_1c_2 + a_2c_3b_1c_2 + a_3c_2b_2c_1 - \\cancel{ a_2c_3b_2c_1} = 0\n",
        "\\end{array}$$\n",
        "\n",
        "Factorizando termos comuns e reordenando factores em cada equação obtemos\n",
        "\n",
        "$$\\begin{array}{ll}\n",
        "(1) & a_2\\big(-a_3b_1c_2 - a_1b_2c_3 + a_2b_1c_3 + a_1b_3c_2 +  a_3b_2c_1 - a_2b_3c_1\\big) = 0 \\\\[1ex]\n",
        "(2) & b_2\\big(a_1b_3c_2 - a_1b_2c_3 + a_2b_1c_3 - a_3b_1c_2 + a_3b_2c_1 - a_2b_3c_1\\big) = 0 \\\\[1ex]\n",
        "(3) & c_2\\big(a_1b_3c_2 - a_2b_3c_1 - a_1b_2c_3 - a_3b_1c_2 + a_2b_1c_3 + a_3b_2c_1\\big) = 0\\,.\n",
        "\\end{array}$$\n",
        "\n",
        "As equações $(1)$, $(2)$ e $(3)$ têm um **factor comum**. Esse factor comum emerge como resposta à pergunta sobre quando as três linhas de $A$ são linearmente dependentes. Recapitulando, as linhas de $A$ são **linearmente dependentes** quando a expressão (multiplicamos por $-1$ e reordenamos os termos)\n",
        "\n",
        "$$a_1b_2c_3 + a_2b_3c_1 + a_3b_1c_2 - a_3b_2c_1 - a_2b_1c_3 - a_1b_3c_2 = 0 \\,.$$\n",
        "\n",
        "Esta expressão **é robusta**, pois aplica-se para **quaisquer** $a_1,a_2,a_3\\in\\mathbb{R}$, $b_1,b_2,b_3\\in\\mathbb{R}$ e $c_1,c_2,c_3\\in\\mathbb{R}$.\n",
        "\n",
        "**Definição.** (Determinante de uma matriz de ordem $3$)\n",
        "\n",
        "$$\\bbox[white,3px,border:2px dotted black]{\n",
        "  \\operatorname{det} A = a_1b_2c_3 + a_2b_3c_1 + a_3b_1c_2 - a_3b_2c_1 - a_2b_1c_3 - a_1b_3c_2 }$$\n",
        "\n",
        "**Corolário.**\n",
        "\n",
        "$$\\bbox[white,3px,border:2px dotted black]{\n",
        "  \\operatorname{det} A \\neq 0 \\Longleftrightarrow \\text{linhas de }A \\text{ são linearmente independentes}.}$$\n",
        "\n",
        "> A fórmula encontrada para o determinante de uma matriz de ordem $3$ é conhecida no mundo occidental como [Regra de Sarrus](https://pt.wikipedia.org/wiki/Pierre_Fr%C3%A9d%C3%A9ric_Sarrus).\n",
        ">\n",
        "> $$\\begin{array}{lcl}\n",
        "\\begin{bmatrix}\\bbox[white,3px,border:2px dotted blue]{a_1} & b_1 & c_1 \\\\ a_2 & \\bbox[white,3px,border:2px dotted blue]{b_2} & c_2 \\\\ a_3 & b_3 & \\bbox[white,3px,border:2px dotted blue]{c_3}\\end{bmatrix}\\quad\\begin{bmatrix}a_1 & b_1 & \\bbox[white,3px,border:2px dotted blue]{c_1} \\\\ \\bbox[white,3px,border:2px dotted blue]{a_2} & b_2 & c_2 \\\\ a_3 & \\bbox[white,3px,border:2px dotted blue]{b_3} & c_3\\end{bmatrix}\\quad\\begin{bmatrix}a_1 & \\bbox[white,3px,border:2px dotted blue]{b_1} & c_1 \\\\ a_2 & b_2 & \\bbox[white,3px,border:2px dotted blue]{c_2} \\\\ \\bbox[white,3px,border:2px dotted blue]{a_3} & b_3 & c_3\\end{bmatrix} & \\rightsquigarrow & a_1b_2c_3 + a_2b_3c_1 + a_3b_1c_2\\\\[2ex]\n",
        "\\begin{bmatrix}a_1 & b_1 & \\bbox[white,3px,border:2px dotted red]{c_1} \\\\ a_2 & \\bbox[white,3px,border:2px dotted red]{b_2} & c_2 \\\\ \\bbox[white,3px,border:2px dotted red]{a_3} & b_3 & c_3\\end{bmatrix}\\quad\\begin{bmatrix}a_1 & \\bbox[white,3px,border:2px dotted red]{b_1} & c_1 \\\\ \\bbox[white,3px,border:2px dotted red]{a_2} & b_2 & c_2 \\\\ a_3 & b_3 & \\bbox[white,3px,border:2px dotted red]{c_3}\\end{bmatrix}\\quad\\begin{bmatrix}\\bbox[white,3px,border:2px dotted red]{a_1} & b_1 & c_1 \\\\ a_2 & b_2 & \\bbox[white,3px,border:2px dotted red]{c_2} \\\\ a_3 & \\bbox[white,3px,border:2px dotted red]{b_3} & c_3\\end{bmatrix} &\\rightsquigarrow & -\\, a_3b_2c_1 - a_2b_1c_3 - a_1b_3c_2\n",
        "\\end{array}$$\n",
        "\n",
        "**Pergunta:** E para uma matriz de ordem $n$, como definimos o determinante?\n",
        "\n",
        "Antes de responder esta questão, denotemos por $S_n$ ao conjunto de todas as permutações da **palavra** \"$123\\ldots(n-1)n$\". Por exemplo, para $n=2$ e $n=3$ temos\n",
        "\n",
        "$$S_2=\\big\\{12, 21\\big\\}\\quad,\\quad S_3=\\big\\{123, 231, 312, 321, 213, 132\\big\\}\\,.$$\n",
        "\n",
        "Assim, em $S_3$, a permutação representada por $123$ é a **permutação que não faz nada** (permutação trivial), mantém as coisas na sua posição. A permutação representada por $132$ é a que resulta de trocar $2$ por $3$ (e portanto $3$ por $2$). A permutação representada por $231$ troca $1$ por $2$ e $2$ (que devia ir para $1$) é também trocado por $3$ (e em consequência $3$ é trocado por $1$). Portanto, fazemos duas trocas para ir de $123$ a $231$. A **paridade** duma permutação é uma característica dela, que se denota por $\\operatorname{sign}(\\sigma)$ e é definida como\n",
        "\n",
        "$$\\bbox[white,3px,border:2px dotted black]{\\operatorname{sign}(\\sigma)=(-1)^{\\#\\text{ trocas de }\\sigma}.}$$\n",
        "\n",
        "Assim, por exemplo, $\\operatorname{sign}(132)=-1$, e $\\operatorname{sign}(231)=1$.\n",
        "\n",
        "Quantos elementos tem $S_n$? **Isso mesmo!** Tem $n!$ elementos.\n",
        "\n",
        "\n",
        "À luz dos resultados anteriores, a seguinte definição **faz todo o sentido**.\n",
        "\n",
        "**Definição.** Seja $A$ a matriz de ordem $n$\n",
        "\n",
        "$$ A=\\begin{bmatrix} a_{11} & a_{12} & \\cdots & a_{1n} \\\\\n",
        "a_{21} & a_{22} & \\cdots & a_{2n} \\\\\n",
        "\\vdots & \\vdots & \\ddots & \\vdots \\\\\n",
        "a_{n1} & a_{n2} & \\cdots & a_{nn}\n",
        "\\end{bmatrix}$$\n",
        "\n",
        "O **determinante** de $A$ é definido pela expressão\n",
        "\n",
        "$$\\bbox[white,3px,border:2px dotted black]{\n",
        "  \\operatorname{det} A = \\displaystyle\\sum_{\\sigma\\,\\in\\,S_n} \\operatorname{sign}(\\sigma)\\,a_{1\\sigma(1)}a_{2\\sigma(2)}\\cdots a_{n\\sigma(n)} }$$\n",
        "\n",
        "O determinante de uma matriz é portanto definido em termos de uma soma com $n!$ termos distintos, cada termo usando $n$ entradas tomadas de cada fila (ou coluna) da matriz. Esta é uma **fórmula elegante**. No entanto, não é a mais eficiente para efeitos prácticos. A seguir, apresentaremos uma lista de propriedades do determinante que, para efeitos de cálculo, resultam ser mais convenientes.\n",
        "\n",
        "\n"
      ],
      "metadata": {
        "id": "B1f2vfqZJO1J"
      }
    },
    {
      "cell_type": "markdown",
      "source": [
        "### **Propriedades do determinante**"
      ],
      "metadata": {
        "id": "-lZ7ulTiWL3-"
      }
    },
    {
      "cell_type": "markdown",
      "source": [
        "1. &nbsp;\n",
        "$\\operatorname{det}\\,\\begin{bmatrix}1 & 0 & 0 & \\cdots & 0 \\\\\n",
        "0 & 1 & 0 & \\cdots & 0 \\\\\n",
        "0 & 0 & 1 & \\cdots & 0 \\\\\n",
        "\\vdots & \\vdots & \\vdots & \\ddots & \\vdots \\\\\n",
        "0 & 0 & 0 & \\cdots & 1\n",
        "\\end{bmatrix}=1$\n",
        "\n",
        "2. Mais geralmente, seja $A$ uma matriz triangular (superior), ou seja\n",
        "\n",
        "$$A = \\begin{bmatrix}a_{11} & a_{12} & a_{13} & \\cdots & a_{1n} \\\\\n",
        "0 & a_{22} & a_{23} & \\cdots & a_{2n} \\\\\n",
        "0 & 0 & a_{33} & \\cdots & a_{3n} \\\\\n",
        "\\vdots & \\vdots & \\vdots & \\ddots & \\vdots \\\\\n",
        "0 & 0 & 0 & \\cdots & a_{nn}\n",
        "\\end{bmatrix}\\,\\Longrightarrow\\, \\operatorname{det}\\,A = a_{11}a_{22}a_{33}\\cdots a_{nn}$$\n",
        "\n",
        "> Isto é assim porque para **qualquer permutação** $\\sigma$ **diferente da trivial** (a permutação identidade), existe pelo menos um $i\\in\\{1,2,\\ldots,n\\}$ tal que $\\sigma(i)<i$ e em consequência $a_{i\\sigma(i)}=0$.\n",
        "\n",
        "3. (**Alternante**)\n",
        "\n",
        "$$ \\operatorname{det}\\,\\begin{bmatrix} \\vdots \\\\\n",
        "\\color{blue}{a_{i\\ast}} \\\\\n",
        "\\vdots \\\\\n",
        "\\color{red}{a_{j\\ast}} \\\\\n",
        "\\vdots\n",
        "\\end{bmatrix} = -\\operatorname{det}\\,\\begin{bmatrix} \\vdots \\\\\n",
        "\\color{red}{a_{j\\ast}} \\\\\n",
        "\\vdots \\\\\n",
        "\\color{blue}{a_{i\\ast}} \\\\\n",
        "\\vdots\n",
        "\\end{bmatrix}$$\n",
        "\n",
        "  **Corolário:**\n",
        "\n",
        "$$ \\operatorname{det}\\,\\begin{bmatrix} \\vdots \\\\\n",
        "\\color{red}{a_{\\ast}} \\\\\n",
        "\\vdots \\\\\n",
        "\\color{red}{a_{\\ast}} \\\\\n",
        "\\vdots \\\\\n",
        "\\end{bmatrix} = 0.$$\n",
        "\n",
        "> Para entender o que se está a passar aqui, vejamos o caso de uma matriz de ordem $n=5$. Cada termo na soma\n",
        ">\n",
        "> $$\\operatorname{det}A = \\displaystyle\\sum_{\\sigma\\,\\in\\,S_5} \\operatorname{sign}(\\sigma)\\,a_{1\\sigma(1)}a_{2\\sigma(2)}a_{3\\sigma(3)}a_{4\\sigma(4)}a_{5\\sigma(5)},$$\n",
        ">\n",
        "> corresponde a uma configuração que está associada a uma permutação. Por exemplo, associado ao termo $a_{12}a_{25}a_{33}a_{44}a_{51}$ temos a permutação $\\fbox{$\\sigma=25341$}$, correpondente à seguinte configuração\n",
        ">\n",
        "> $$A = \\begin{bmatrix}a_{11} & \\bbox[white,3px,border:2px dotted black]{a_{12}} & a_{13} & a_{14} & a_{15} \\\\\n",
        "a_{21} & a_{22} & a_{23} & a_{24} & \\bbox[white,3px,border:2px dotted black]{a_{25}} \\\\\n",
        "a_{31} & a_{32} & \\bbox[white,3px,border:2px dotted black]{a_{33}} & a_{34} & a_{35} \\\\\n",
        "a_{41} & a_{42} & a_{43} & \\bbox[white,3px,border:2px dotted black]{a_{44}} & a_{45} \\\\\n",
        "\\bbox[white,3px,border:2px dotted black]{a_{51}} & a_{52} & a_{53} & a_{54} & a_{55}\n",
        "\\end{bmatrix}.$$\n",
        ">\n",
        "> Agora, digamos que **trocamos a primeira linha com a quarta linha**. Obtemos uma nova matriz, que designamos por $A'$, e as entradas salientadas na matriz $A$ ficam agora reconfiguradas na matriz $A'$ da seguinte maneira\n",
        "> $$A' = \\begin{bmatrix}\n",
        "a_{41} & a_{42} & a_{43} & \\bbox[white,3px,border:2px dotted black]{a_{44}} & a_{45} \\\\\n",
        "a_{21} & a_{22} & a_{23} & a_{24} & \\bbox[white,3px,border:2px dotted black]{a_{25}} \\\\\n",
        "a_{31} & a_{32} & \\bbox[white,3px,border:2px dotted black]{a_{33}} & a_{34} & a_{35} \\\\\n",
        "a_{11} & \\bbox[white,3px,border:2px dotted black]{a_{12}} & a_{13} & a_{14} & a_{15} \\\\\n",
        "\\bbox[white,3px,border:2px dotted black]{a_{51}} & a_{52} & a_{53} & a_{54} & a_{55}\n",
        "\\end{bmatrix}.$$\n",
        ">\n",
        "> Esta configuração corresponde à permutação $\\fbox{$\\tau=\\color{red}453\\color{red}21$}$.\n",
        ">\n",
        "> Temos assim a seguinte correspondência\n",
        ">\n",
        "> $$\\operatorname{sign}({\\scriptsize 25341})\\,\\color{red}{a_{12}}a_{25}a_{33}\\color{red}{a_{44}}a_{51}\\quad\\longmapsto\\quad \\operatorname{sign}({\\scriptsize 45321})\\,\\color{red}{a_{44}}a_{25}a_{33}\\color{red}{a_{12}}a_{51}.$$\n",
        ">\n",
        "> Não é difícil concluir que $\\operatorname{sign}(\\tau)=-\\operatorname{sign}(\\sigma)$, uma vez que $\\tau$ obtem-se ao trocar o elemento na posição $1$ pelo elemento na posição $4$. Isto **acontece com todas as permutações** de $S_5$. Por exemplo, se $\\sigma=12345$ (a permutação trivial), quem seria $\\tau$ na nova matriz $A'$? Isso mesmo!, $\\tau=\\mathbf{4}23\\mathbf{1}5$.\n",
        ">\n",
        "> Portanto, trocar duas linhas numa matriz resulta num reordenamento dos termos dentro da soma que define o determinante, multiplicado por $-1$, ou seja,\n",
        ">\n",
        "> $$\\operatorname{det}A'=-\\operatorname{det}A.$$\n",
        "\n",
        "4. **Linearidade** (por linhas)\n",
        "\n",
        "  4.1 &nbsp; $\\forall\\,\\alpha\\in\\mathbb{R} : \\quad\\operatorname{det}\\,\\begin{bmatrix}\n",
        "  \\vdots  \\\\\n",
        "  \\alpha\\,a_{i\\ast} \\\\\n",
        "  \\vdots \\\\\n",
        "  \\end{bmatrix} = \\alpha\\,\\operatorname{det}\\,\\begin{bmatrix}\n",
        "  \\vdots \\\\\n",
        "  a_{i\\ast} \\\\\n",
        "  \\vdots \\\\\n",
        "  \\end{bmatrix}$\n",
        "\n",
        "  <br>\n",
        "\n",
        "  > **Corolário:** (linha de zeros)\n",
        "  >\n",
        "  > $\\operatorname{det}\\,\\begin{bmatrix}\n",
        "  \\vdots \\\\\n",
        "  0 \\\\\n",
        "  \\vdots \\\\\n",
        "  \\end{bmatrix} = 0$\n",
        "\n",
        "  <br>\n",
        "\n",
        "  4.2  &nbsp; $\\operatorname{det}\\,\\begin{bmatrix}\n",
        "  \\vdots \\\\\n",
        "  a_{i\\ast} + a'_{i\\ast} \\\\\n",
        "  \\vdots \\\\\n",
        "  \\end{bmatrix} = \\operatorname{det}\\,\\begin{bmatrix}\n",
        "  \\vdots \\\\\n",
        "  a_{i\\ast} \\\\\n",
        "  \\vdots \\\\\n",
        "  \\end{bmatrix} \\,+\\, \\operatorname{det}\\,\\begin{bmatrix}\n",
        "  \\vdots \\\\\n",
        "  a'_{i\\ast} \\\\\n",
        "  \\vdots \\\\\n",
        "  \\end{bmatrix}$\n",
        "\n",
        "  > Esta propriedade é uma consequência directa da definição. Por exemplo, quanto à **propriedade aditiva**, segue-se que\n",
        "  >\n",
        "  > $$\\begin{aligned}  \n",
        "  \\operatorname{det}\\,\\begin{bmatrix}\\vdots \\\\ a_{i\\ast}+a'_{i\\ast} \\\\ \\vdots\\end{bmatrix} &= \\displaystyle\\sum_{\\sigma\\,\\in\\,S_n}\\operatorname{sign}(\\sigma)\\, a_{1\\sigma(1)}\\cdots \\left(a_{i\\sigma(i)}+a'_{i\\sigma(i)}\\right)\\cdots a_{n\\sigma(n)} \\\\[1ex]\n",
        "  &= \\displaystyle\\sum_{\\sigma\\,\\in\\,S_n} \\operatorname{sign}(\\sigma)\\,a_{1\\sigma(1)}\\cdots a_{i\\sigma(i)}\\cdots a_{n\\sigma(n)} \\,+\\,\\displaystyle\\sum_{\\sigma\\,\\in\\,S_n}\\operatorname{sign}(\\sigma)\\, a_{1\\sigma(1)}\\cdots a'_{i\\sigma(i)}\\cdots a_{n\\sigma(n)} \\\\[2ex]\n",
        "  &= \\operatorname{det}\\,\\begin{bmatrix}\\vdots \\\\ a_{i\\ast} \\\\  \\vdots\\end{bmatrix} \\,+\\, \\operatorname{det}\\,\\begin{bmatrix}\\vdots \\\\ a'_{i\\ast} \\\\ \\vdots\\end{bmatrix}\\,.\n",
        "  \\end{aligned}$$\n",
        "\n",
        "  <br>\n",
        "\n",
        "  > **Nota:** As propriedades (1), (3), (4) de facto levam a deduzir a fórmula dada na definição do determinante de uma matriz.\n",
        "\n",
        "5. $\\operatorname{det}A^T = \\operatorname{det}A$.\n",
        "\n",
        "> Esta propriedade torna-se evidente uma vez que $A^T_{ij} = A_{ji}$; portanto, trata-se simplesmente de mover as posições das entradas em cada termo na soma que define o determinante. Por exemplo, convençam-se olhando o caso de uma matriz de ordem 3:\n",
        ">\n",
        "> $$\\operatorname{det}A=a_{11}a_{22}a_{33} + a_{12}a_{23}a_{31} + a_{13}a_{21}a_{32} - a_{13}a_{22}a_{31} - a_{11}a_{23}a_{32} - a_{12}a_{21}a_{33}.$$\n",
        ">\n",
        "> $$\\operatorname{det}A^T=a_{11}a_{22}a_{33} + a_{21}a_{32}a_{13} + a_{31}a_{12}a_{23} - a_{31}a_{22}a_{13} - a_{11}a_{32}a_{23} - a_{21}a_{12}a_{33}.$$\n",
        ">\n",
        "> **Corolário:**\n",
        ">\n",
        "> $$A = \\begin{bmatrix}a_{11} & 0 & 0 & \\cdots & 0 \\\\\n",
        "a_{21} & a_{22} & 0 & \\cdots & 0 \\\\\n",
        "a_{31} & a_{32} & a_{33} & \\cdots & 0 \\\\\n",
        "\\vdots & \\vdots & \\vdots & \\ddots & \\vdots \\\\\n",
        "a_{n1} & a_{n2} & a_{n3} & \\cdots & a_{nn}\n",
        "\\end{bmatrix}\\,\\Longrightarrow\\, \\operatorname{det}\\,A = a_{11}a_{22}a_{33}\\cdots a_{nn}.$$\n",
        "\n",
        "6. &nbsp; $A = \\begin{bmatrix}\n",
        "  \\vdots \\\\\n",
        "  a_{k\\ast} \\\\\n",
        "  \\vdots \\\\\n",
        "  a_{i\\ast} \\\\\n",
        "  \\vdots \\\\\n",
        "  \\end{bmatrix}\\quad\\Longrightarrow\\quad\\operatorname{det}A\\,\\,=\\,\\,\\operatorname{det}\\,\\begin{bmatrix}\n",
        "  \\vdots \\\\\n",
        "  a_{k\\ast} \\\\\n",
        "  \\vdots \\\\\n",
        "  a_{i\\ast} + \\alpha\\,a_{k\\ast} \\\\\n",
        "  \\vdots \\\\\n",
        "  \\end{bmatrix}$\n",
        "\n",
        "  > Pela linearidade do determinante, segue-se que\n",
        "  >\n",
        "  > $$\n",
        "  \\require{cancel}\n",
        "  \\operatorname{det}\\,\\begin{bmatrix}\n",
        "  \\vdots \\\\\n",
        "  a_{k\\ast} \\\\\n",
        "  \\vdots \\\\\n",
        "  a_{i\\ast} + \\alpha\\,a_{k\\ast} \\\\\n",
        "  \\vdots \\\\\n",
        "  \\end{bmatrix} = \\operatorname{det}\\,\\begin{bmatrix}\n",
        "  \\vdots \\\\\n",
        "  a_{k\\ast} \\\\\n",
        "  \\vdots \\\\\n",
        "  a_{i\\ast} \\\\\n",
        "  \\vdots \\\\\n",
        "  \\end{bmatrix} \\,+\\, \\alpha\\,\\cancelto{0}{\\operatorname{det}\\,\\begin{bmatrix}\n",
        "  \\vdots \\\\\n",
        "  a_{k\\ast} \\\\\n",
        "  \\vdots \\\\\n",
        "  a_{k\\ast} \\\\\n",
        "  \\vdots \\\\\n",
        "  \\end{bmatrix}}$$\n",
        "\n",
        "  ---\n",
        "\n",
        "  > As propriedades $(3), (4.1)$ e $(6)$ estão relacionadas com as três transformações elementares linha que vimos anteriormente. Juntamente com a propriedade $(2)$ e a seguinte propriedade multiplicativa do determinante, poderemos calcular o determinante de qualquer matriz quadrada.  \n",
        "\n",
        "  ---\n",
        "\n",
        "7. &nbsp; $\\operatorname{det}\\,(A\\,B) = \\operatorname{det}A\\,\\operatorname{det}B$.\n",
        "\n",
        "> Esta propriedade é fundamental e **distintiva** do determinante. Uma forma simples e intuitiva de demonstrar este resultado é pensando nas matrizes como representações de transformações lineares e recorrendo à interpretação geométrica do determinante como área (sinalizada) do **paralelogramo** (no caso de dimensão $2$), cujos lados **principais** são as colunas da matriz.\n"
      ],
      "metadata": {
        "id": "KhFyXS8nQA-d"
      }
    },
    {
      "cell_type": "markdown",
      "source": [
        "## Cálculo do determinante usando a regra de Laplace"
      ],
      "metadata": {
        "id": "mw9XfqEhfOw4"
      }
    },
    {
      "cell_type": "markdown",
      "source": [
        "Para efeitos de ilustração de conceitos, consideremos a seguinte matriz,\n",
        "\n",
        "$$A=\\begin{bmatrix}2 & 0 & 1 \\\\ 1 & 1 & 0 \\\\ 0 & 1 & 1\\end{bmatrix}.$$\n",
        "\n",
        "### **Conceitos-chave**\n",
        "\n",
        "**Submatriz $A(i|j)$.** A submatriz $A(i|j)$ é aquela que obtemos eliminando a linha $i$ e a coluna $j$ da matriz $A$. Por exemplo,\n",
        "\n",
        "$$A(2|1)=\\begin{bmatrix}0 & 1 \\\\ 1 & 1 \\end{bmatrix}\\quad,\\quad A(2|2)=\\begin{bmatrix}2 & 1 \\\\ 0 & 1 \\end{bmatrix}\\quad,\\quad A(2|3)=\\begin{bmatrix}2 & 0 \\\\ 0 & 1 \\end{bmatrix}.$$\n",
        "\n",
        "**Cofactor (Complemento algébrico).** O cofactor da entrada $a_{ij}$ de $A$ é o número $C_{ij}$, o qual é definido pela expressão\n",
        "\n",
        "$$C_{ij}=(-1)^{i+j}\\operatorname{det}\\,A(i|j).$$\n",
        "\n",
        "Por exemplo, os cofactores das entradas na segunda linha da matriz mostrada acima são\n",
        "\n",
        "$$C_{21}=1\\quad,\\quad C_{22}=2 \\quad,\\quad C_{23}=-2.$$\n",
        "\n",
        "**Regra de Laplace.** Esta regra permite **calcular o determinante** de uma matriz  usando **qualquer linha** (o coluna) da matriz. Assim, o determinante de uma matriz $A$ de ordem $n$, ao longo da linha $i$, é\n",
        "\n",
        "$$\\bbox[white,3px,border:2px dotted black]{\\operatorname{det}A = \\sum_{j=1}^n a_{ij}C_{ij}=\\sum_{j=1}^n a_{ij}(-1)^{i+j}\\operatorname{det}\\,A(i|j).}$$\n",
        "\n",
        "Em particular, utilizando a segunda linha da matriz $A$ mostrada acima, conclui-se que\n",
        "\n",
        "$$\\operatorname{det}A=1.C_{21} + 1.C_{22} + 0.C_{23} = 1.1 + 1.2 + 0.(-2)=3.$$\n",
        "\n",
        "> **Nota:** Recorde-se que o determinante de uma matriz $A$ de ordem $n$ é expresso como uma soma sinalizada de termos indexados por permutações. Para fixar ideias, consideremos uma matriz de ordem $n=3$. Usando a definição, o determinante de $A$ é dado por\n",
        ">\n",
        "> $$A=\\begin{bmatrix}a_1 & b_1 & c_1 \\\\\n",
        "a_2 & b_2 & c_2 \\\\\n",
        "a_3 & b_3 & c_3\n",
        "\\end{bmatrix}\\,\\leadsto\\,\\operatorname{det}A=a_1b_2c_3 + a_2b_3c_1 + a_3b_1c_2 - a_3b_2c_1 - a_1b_3c_2 - a_2b_1c_3.$$\n",
        ">\n",
        "> Podemos associar cada termo na soma anterior a formas distintas de dispor $3$ asteriscos num tabuleiro $3\\times 3$, de modo que em cada fila e em cada coluna haja apenas um asterisco. Quantas configurações possíveis existem? Exactamente!, existem 3! arranjos possíveis, a saber\n",
        ">\n",
        ">$$\\underset{\\bbox[lightgreen,3px,border:2px dotted black]{123}}{\\begin{array}{|c|c|c|}\n",
        "\\hline\n",
        "\\color{blue}{a_1} & 1 & 2 & 3 \\\\\n",
        "\\hline\n",
        "1 & \\ast &   &   \\\\\n",
        "\\hline\n",
        "2 &  & \\ast &   \\\\\n",
        "\\hline\n",
        "3 &  &   & \\ast \\\\\n",
        "\\hline\n",
        "\\end{array}}\n",
        "\\quad\\underset{\\bbox[lightgreen,3px,border:2px dotted black]{231}}{\\begin{array}{|c|c|c|}\n",
        "\\hline\n",
        "\\color{magenta}{c_1}& 1 & 2 & 3 \\\\\n",
        "\\hline\n",
        "1 &  & \\ast  &   \\\\\n",
        "\\hline\n",
        "2 &  &  & \\ast  \\\\\n",
        "\\hline\n",
        "3 & \\ast &   &  \\\\\n",
        "\\hline\n",
        "\\end{array}}\\quad\\underset{\\bbox[lightgreen,3px,border:2px dotted black]{312}}{\\begin{array}{|c|c|c|}\n",
        "\\hline\n",
        "\\color{red}{b_1}& 1 & 2 & 3 \\\\\n",
        "\\hline\n",
        "1 &  &   & \\ast  \\\\\n",
        "\\hline\n",
        "2 & \\ast &  &   \\\\\n",
        "\\hline\n",
        "3 &  & \\ast &  \\\\\n",
        "\\hline\n",
        "\\end{array}}\\quad a_1b_2c_3 + a_2b_3c_1 + a_3b_1c_2$$\n",
        ">\n",
        "><br>\n",
        ">\n",
        ">$$\\underset{\\bbox[orange,3px,border:2px dotted black]{321}}{\\begin{array}{|c|c|c|}\n",
        "\\hline\n",
        "\\color{magenta}{c_1}& 1 & 2 & 3 \\\\\n",
        "\\hline\n",
        "1 &  &  & \\ast  \\\\\n",
        "\\hline\n",
        "2 &  & \\ast & \\\\\n",
        "\\hline\n",
        "3 & \\ast &  &  \\\\\n",
        "\\hline\n",
        "\\end{array}}\\quad\\underset{\\bbox[orange,3px,border:2px dotted black]{132}}{\\begin{array}{|c|c|c|}\n",
        "\\hline\n",
        "\\color{blue}{a_1} & 1 & 2 & 3 \\\\\n",
        "\\hline\n",
        "1 & \\ast &  &   \\\\\n",
        "\\hline\n",
        "2 &  &  & \\ast  \\\\\n",
        "\\hline\n",
        "3 &  & \\ast &  \\\\\n",
        "\\hline\n",
        "\\end{array}}\\quad\\underset{\\bbox[orange,3px,border:2px dotted black]{213}}{\\begin{array}{|c|c|c|}\n",
        "\\hline\n",
        "\\color{red}{b_1} & 1 & 2 & 3 \\\\\n",
        "\\hline\n",
        "1 &  & \\ast &  \\\\\n",
        "\\hline\n",
        "2 & \\ast &  &   \\\\\n",
        "\\hline\n",
        "3 &  &  & \\ast \\\\\n",
        "\\hline\n",
        "\\end{array}}\\quad - a_3b_2c_1 - a_1b_3c_2 - a_2b_1c_3$$\n",
        ">\n",
        ">A **verde** temos as permutações com sinal **positivo** e a **laranja** aquelas com sinal **negativo**.\n",
        ">\n",
        "> A regra de Laplace corresponde a um rearranjo dos termos na soma que define o determinante de uma matriz. Assim, por exemplo, usando a primeira linha de $A$  obtemos\n",
        ">\n",
        "> $$\\begin{array}{ccc}\\operatorname{det}A &=& a_1(b_2c_3-b_3c_2) - b_1(a_2c_3-a_3c_2) + c_1(a_2b_3-a_3b_2) \\\\[2ex]\n",
        "&=& {\\color{blue}a_1}b_2c_3 - \\color{blue}{a_1}b_3c_2 -a_2\\color{red}{b_1}c_3 + a_3\\color{red}{b_1}c_2 + a_2b_3\\color{magenta}{c_1} - a_3b_2\\color{magenta}{c_1}.\n",
        "\\end{array}$$\n",
        "\n"
      ],
      "metadata": {
        "id": "XFDSZW3suWgp"
      }
    },
    {
      "cell_type": "markdown",
      "source": [
        "## Cálculo da inversa de uma matriz usando a matriz adjunta"
      ],
      "metadata": {
        "id": "vCVxawnefj6W"
      }
    },
    {
      "cell_type": "markdown",
      "source": [
        "### **Matriz dos Cofactores**\n",
        "\n",
        "Seja $A$ uma matriz de ordem $n$. A matriz **dos cofactores** de $A$ é a matriz\n",
        "\n",
        "$$C(A)=\\big[C_{ij}\\big]\\quad,\\quad C_{ij}=(-1)^{i+j}\\operatorname{det}A(i|j)\\,.$$\n",
        "\n",
        "### **Matriz Adjunta**\n",
        "\n",
        "A matriz adjunta de $A$ é a **transposta** da matriz dos cofactores de $A$, isto é\n",
        "\n",
        "$$\\operatorname{Adj}A = C(A)^T.$$\n",
        "\n",
        "### **Matriz inversa**\n",
        "\n",
        "Se $A$ é uma matriz **invertível**, a inversa de $A$ é dada por\n",
        "\n",
        "$$A^{-1}=\\tfrac{1}{\\operatorname{det}A}\\operatorname{Adj}A.$$\n",
        "\n",
        "Assim por exemplo, no caso da matriz $A$ mostrada acima, temos\n",
        "\n",
        "$$C(A)=\\begin{bmatrix}\n",
        "1 & -1 & 1 \\\\\n",
        "1 & 2 & -2 \\\\\n",
        "-1 & 1 & 2\n",
        "\\end{bmatrix}\\,\\Longrightarrow\\,\\operatorname{Adj}A=\\begin{bmatrix}\n",
        "1 & 1 & -1 \\\\\n",
        "-1 & 2 & 1 \\\\\n",
        "1 & -2 & 2\n",
        "\\end{bmatrix}\\,\\Longrightarrow\\,A^{-1}=\\frac{1}{3}\\begin{bmatrix}\n",
        "1 & 1 & -1 \\\\\n",
        "-1 & 2 & 1 \\\\\n",
        "1 & -2 & 2\n",
        "\\end{bmatrix}.$$"
      ],
      "metadata": {
        "id": "YQbKrcsjetJ3"
      }
    },
    {
      "cell_type": "markdown",
      "source": [
        "## Resolução de sistemas lineares por recurso à matriz inversa"
      ],
      "metadata": {
        "id": "_tgEN1ojXOQS"
      }
    },
    {
      "cell_type": "markdown",
      "source": [
        "Resolva o seguinte sistema de equações lineares:\n",
        "\n",
        "$$\\left\\{\\begin{array}{rcl}\n",
        "2x - 3y + 4z & = & 1 \\\\\n",
        "3x \\,+\\, y + 5z & = & -1 \\\\\n",
        "2z & = & 3\n",
        "\\end{array}\n",
        "\\right.$$\n",
        "\n",
        "Em primeiro lugar, escrevemos o sistema dado na sua forma matricial\n",
        "\n",
        "$$\\underset{A}{\\begin{bmatrix}2 & -3 & 4 \\\\ 3 & 1 & 5 \\\\ 0 & 2 & 0\\end{bmatrix}}\\,\\underset{X}{\\begin{bmatrix}x \\\\ y \\\\ z\\end{bmatrix}} = \\underset{B}{\\begin{bmatrix}1 \\\\ -1 \\\\ 3\\end{bmatrix}}\\,\\Longleftrightarrow\\,AX=B.$$\n",
        "\n",
        "Se $A$ é invertível, então $X=A^{-1}B$. Como $\\operatorname{det}A=-2\\operatorname{det}\\begin{bmatrix}2 & 4 \\\\ 3 & 5\\end{bmatrix}=-2(10-12)=4$, concluímos que $A$ é invertível, e, portanto,\n",
        "\n",
        "$$X=\\left(\\tfrac{1}{\\operatorname{det}A}\\operatorname{Adj}A\\right)B = \\begin{bmatrix}-\\tfrac{5}{2} & 2 & -\\tfrac{19}{4} \\\\ 0 & 0 & \\tfrac{1}{2} \\\\ \\tfrac{3}{2} & -1 & \\tfrac{11}{4}\\end{bmatrix}\\begin{bmatrix}1 \\\\ -1 \\\\ 3\\end{bmatrix}=\\begin{bmatrix}-\\tfrac{75}{4} \\\\ \\tfrac{3}{2} \\\\ \\tfrac{43}{4}\\end{bmatrix}\\,\\Longrightarrow\\,\\left\\{\\begin{array}{lcc}x &=& -\\tfrac{75}{4} \\\\ y &=& \\tfrac{3}{2} \\\\ z &=& \\tfrac{43}{4}\\end{array}\\right. .$$"
      ],
      "metadata": {
        "id": "bisVL1qwqywA"
      }
    },
    {
      "cell_type": "markdown",
      "source": [
        "## Resolução de sistemas lineares usando a regra de Cramer"
      ],
      "metadata": {
        "id": "guPtxAOGfbs8"
      }
    },
    {
      "cell_type": "markdown",
      "source": [
        "Seja $A$ uma matriz **invertível** de ordem $n$. Queremos agora dar atenção às colunas de $A$, destacando entre elas a coluna $j$. Neste sentido, escrevemos $A=[A_{\\ast1}\\cdots A_{\\ast j}\\cdots A_{\\ast n}]$. A **regra de Cramer** é uma fórmula que nos permite calcular o valor de cada incógnita $x_j$ no sistema $AX=B$, **substituindo** a coluna $A_{\\ast j}$ da matriz $A$ pela matriz $B$ e usando a expressão\n",
        "\n",
        "$$\\require{cancel}\\forall\\,j\\in\\{1,\\ldots, n\\}\\,\\colon\\quad x_j=\\frac{\\operatorname{det}\\left[A_{\\ast1}\\cdots \\cancelto{B}{A_{\\ast j}}\\cdots A_{\\ast n}\\right]}{\\operatorname{det}\\big[A_{\\ast1}\\cdots A_{\\ast j}\\cdots A_{\\ast n}\\big]}.$$\n",
        "\n",
        "**Exemplo.** Recorrendo à regra de Cramer, resolva o seguinte sistema de equações lineares\n",
        "\n",
        "$$\\left\\{\\begin{array}{lcc}2x + 2y + z &=& 2 \\\\\n",
        "2x + y + 3z &=& 8 \\\\\n",
        "2x + 5y + 3z &=& -12\n",
        "\\end{array}\\right.$$\n",
        "\n",
        "Pela regra de Cramer, temos que\n",
        "\n",
        "$$x=\\frac{\\operatorname{det}\\,\\begin{bmatrix}\\color{red}{2} & 2 & 1 \\\\ \\color{red}{8} & 1 & 3 \\\\ \\color{red}{-12} & 5 & 3\\end{bmatrix}}{\\operatorname{det}\\,\\begin{bmatrix}2 & 2 & 1 \\\\ 2 & 1 & 3 \\\\ 2 & 5 & 3\\end{bmatrix}}\\quad,\\quad y=\\frac{\\operatorname{det}\\,\\begin{bmatrix}2 & \\color{red}{2} & 1 \\\\ 2 & \\color{red}{8} & 3 \\\\ 2 & \\color{red}{-12} & 3\\end{bmatrix}}{\\operatorname{det}\\,\\begin{bmatrix}2 & 2 & 1 \\\\ 2 & 1 & 3 \\\\ 2 & 5 & 3\\end{bmatrix}}\\quad,\\quad z=\\frac{\\operatorname{det}\\,\\begin{bmatrix}2 & 2 & \\color{red}{2} \\\\ 2 & 1 & \\color{red}{8} \\\\ 2 & 5 & \\color{red}{-12}\\end{bmatrix}}{\\operatorname{det}\\,\\begin{bmatrix}2 & 2 & 1 \\\\ 2 & 1 & 3 \\\\ 2 & 5 & 3\\end{bmatrix}}\\,.$$\n",
        "\n",
        "<br>\n",
        "\n",
        "$$x=\\tfrac{-92}{-16}=\\tfrac{23}{4}\\quad,\\quad y=\\tfrac{80}{-16}=-5\\quad,\\quad z=\\tfrac{-8}{-16}=\\tfrac{1}{2}.$$\n"
      ],
      "metadata": {
        "id": "7oRIWEsmyl4Q"
      }
    },
    {
      "cell_type": "markdown",
      "source": [
        "## Resolução de alguns exercícios"
      ],
      "metadata": {
        "id": "c-ipEYWKfwYR"
      }
    },
    {
      "cell_type": "markdown",
      "source": [
        "### Exercício 23. (Ficha 3)"
      ],
      "metadata": {
        "id": "QW_rGW8r6aUB"
      }
    },
    {
      "cell_type": "markdown",
      "source": [
        "Dado o seguinte sistema de equações lineares com $k\\in\\mathbb{R}$,\n",
        "\n",
        "$$\\left\\{\\begin{array}{ccl}\n",
        "x + 2y - kz &=& k \\\\\n",
        "kx + y + z &=& \\tfrac{1}{2} \\\\\n",
        "(k+1)x + 2y + 2z &=& k\n",
        "\\end{array}\\right.$$\n",
        "\n",
        "**a.** Calcule o determinante de $A$, matriz dos coeficientes do sistema, e indique para que valores de $k$ o sistema é possível e determinado. Obtenha a solução do sistema para $k=1$.\n",
        "\n",
        "Aplicaremos o algoritmo de Gauss. Nesse sentido, escrevemos a matriz aumentada do sistema e procedemos a aplicar as operações elementares linha até conseguir a forma em escada da matriz aumentada.\n",
        "\n",
        "$$\\left[\\begin{array}{ccc|c}1 & 2 & -k & k \\\\\n",
        "k & 1 & 1 & \\tfrac{1}{2} \\\\\n",
        "k+1 & 2 & 2 & k\n",
        "\\end{array}\\right]L_3\\longrightarrow L_3 - L_2\\left[\\begin{array}{ccc|c}1 & 2 & -k & k \\\\\n",
        "k & 1 & 1 & \\tfrac{1}{2} \\\\\n",
        "1 & 1 & 1 & k-\\tfrac{1}{2}\n",
        "\\end{array}\\right]\\begin{array}{c}L_2\\longrightarrow L_2-kL_1 \\\\ L_3\\longrightarrow L_3 - L_1\\end{array}\\left[\\begin{array}{ccc|c}1 & 2 & -k & k \\\\\n",
        "0 & 1-2k & 1+k^2 & \\tfrac{1}{2}-k^2 \\\\\n",
        "0 & -1 & 1+k & -\\tfrac{1}{2}\n",
        "\\end{array}\\right]$$\n",
        "\n",
        "$$L_2\\longleftrightarrow L_3\\left[\\begin{array}{ccc|c}1 & 2 & -k & k \\\\\n",
        "0 & -1 & 1+k & -\\tfrac{1}{2} \\\\\n",
        "0 & 1-2k & 1+k^2 & \\tfrac{1}{2}-k^2 \\\\\n",
        "\\end{array}\\right]L_3\\longrightarrow L_3+(1-2k)L_2\\left[\\begin{array}{ccc|c}1 & 2 & -k & k \\\\\n",
        "0 & -1 & 1+k & -\\tfrac{1}{2} \\\\\n",
        "0 & 0 & 2-k-k^2 & -k^2+k \\\\\n",
        "\\end{array}\\right]$$\n",
        "\n",
        "Para que o sistema seja possível e determinado temos de ter $2-k-k^2\\neq 0$. Isto ocorre se $-k^2-k+2=-(k+2)(k-1)\\neq 0$. Em conclusão, quando $k\\neq-2,1$, o sistema é **possível** e **determinado**. Agora, quando $k=1$, temos\n",
        "\n",
        "$$\\left[\\begin{array}{ccc|c}1 & 2 & -1 & 1 \\\\\n",
        "0 & -1 & 2 & -\\tfrac{1}{2} \\\\\n",
        "0 & 0 & 0 & 0 \\\\\n",
        "\\end{array}\\right]\\,\\leadsto\\,\\left\\{\\begin{array}{ccl}\n",
        "x + 2y - z &=& 1 \\\\\n",
        "-y + 2z &=& -\\tfrac{1}{2} \\\\\n",
        "0 &=& 0\n",
        "\\end{array}\\right.\\,\\leadsto\\,\\begin{array}{l}x=1-2y+z \\\\ \\fbox{$y=\\tfrac{1}{2}+2z$}\\end{array}\\,\\leadsto\\,\\fbox{$x=-3z$}\\quad,\\quad\\fbox{$z$ livre}.$$\n",
        "\n",
        "Portanto, quando $k=1$, o sistema dado tem como conjunto solução a recta\n",
        "\n",
        "$$\\begin{pmatrix}x \\\\ y \\\\z\\end{pmatrix}=\\begin{pmatrix}-3 \\\\ 2 \\\\ 1\\end{pmatrix}z + \\begin{pmatrix}0 \\\\ \\tfrac{1}{2} \\\\ 0 \\end{pmatrix}\\quad,\\quad z\\in\\mathbb{R}.$$\n",
        "\n",
        "---\n",
        "\n",
        "**b.** Sabendo que para $k=-1$ a matriz $A$ satisfaz a relação $A^3-4A^2+5A-2I=[0]$, calcule, com base nesta relação, a inversa de $A$.\n",
        "\n",
        "Primeiro, escrevemos\n",
        "\n",
        "$$A^3-4A^2+5A=2I.$$\n",
        "\n",
        "Pela parte **(a)**, para $k=-1$, a matriz $A$ é invertível. Logo, multiplicando por $A^{-1}$ à esquerda da equação anterior, segue-se que\n",
        "\n",
        "$$A^2-4A+5I=2A^{-1}\\quad\\Longrightarrow\\quad A^{-1}=\\tfrac{1}{2}\\big(A^2-4A+5I\\big).$$\n"
      ],
      "metadata": {
        "id": "oacMe0XF6knK"
      }
    },
    {
      "cell_type": "markdown",
      "source": [
        "### Exercício 27. (Ficha 3)"
      ],
      "metadata": {
        "id": "hOYMqtzilmv1"
      }
    },
    {
      "cell_type": "markdown",
      "source": [
        "Considere as seguintes matrizes:\n",
        "\n",
        "$$A=\\begin{bmatrix}-2 & -2a & 2 \\\\ 2c & -4 & -14 \\\\ -2 & -6b & -4\\end{bmatrix}\\quad\\text{e}\\quad B=\\begin{bmatrix}1 & a & -1 \\\\ \\tfrac{1}{3} & b & \\tfrac{2}{3} \\\\ -c & 2 & 7\\end{bmatrix}$$\n",
        "\n",
        "Calcule $\\operatorname{det}A$ sabendo que $\\operatorname{det}B=5$.\n",
        "\n",
        "Usaremos propriedades dos determinantes para calcular $\\operatorname{det}A$. Neste sentido, segue-se que\n",
        "\n",
        "$$\\operatorname{det}\\,\\begin{bmatrix}-2 & -2a & 2 \\\\ 2c & -4 & -14 \\\\ -2 & -6b & -4\\end{bmatrix} = (-2)(2)(-2)\\operatorname{det}\\,\\begin{bmatrix}1 & a & -1 \\\\ c & -2 & -7 \\\\ 1 & 3b & 2\\end{bmatrix} = (8)(-1)(3)\\operatorname{det}\\,\\begin{bmatrix}1 & a & -1 \\\\ -c & 2 & 7 \\\\ \\tfrac{1}{3} & b & \\tfrac{2}{3}\\end{bmatrix}$$\n",
        "\n",
        "<br>\n",
        "\n",
        "$$= (-24)(-1)\\operatorname{det}\\,\\begin{bmatrix}1 & a & -1 \\\\ \\tfrac{1}{3} & b & \\tfrac{2}{3} \\\\-c & 2 & 7 \\\\ \\end{bmatrix} = (24)(5) = 120.$$\n",
        "\n",
        "Por conseguinte, $\\operatorname{det}A=120$."
      ],
      "metadata": {
        "id": "9yT0uCAulsRv"
      }
    },
    {
      "cell_type": "markdown",
      "source": [
        "# **Palavras Finais**\n",
        "\n",
        "Não percam nunca a curiosidade, ouçam-se, sejam íntegros e não se deixem vencer pela mediocridade, ela tem bom marketing e está em todo o lado. A sabedoria não é arrogante, mas também não é falsa e, portanto, não simula a modéstia. Felizes festas e um venturoso ano novo."
      ],
      "metadata": {
        "id": "CDfTsUY66hkl"
      }
    }
  ]
}