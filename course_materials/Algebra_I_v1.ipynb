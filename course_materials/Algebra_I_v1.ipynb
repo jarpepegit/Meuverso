{
  "nbformat": 4,
  "nbformat_minor": 0,
  "metadata": {
    "colab": {
      "provenance": [],
      "collapsed_sections": [
        "BhFw40xi1bhc",
        "aBjGdcGl4HbG",
        "neRUNj1RDhx0",
        "S6-9V4Cv4tfY",
        "jauIQMfd5rDT",
        "20OWM_gfCWKN",
        "V4_q7G4ZM3lP",
        "JEA6V86OIluz",
        "8Tu5MQVRTsof",
        "x-y7PW9G5jNT",
        "zWY8p8JQVVKP",
        "67u2pRPoHuBu",
        "2rAMIIE9IoGU",
        "r1Q-8d9uJkWM",
        "okUQ9RFG8VvZ",
        "LwMYwXF-guzg",
        "Pn_DIDV89xo0",
        "LM00iQq9W73x",
        "OxdNO1KdKbmu",
        "ynXe8gIeohzU",
        "sr5Yo_Pl4Adp",
        "8CNzfPXWfCGL",
        "Uw3SFpYQDJct",
        "t0f-s5MfEfeJ",
        "h0Gb1jx00Wkt",
        "3QpMOg0d27nB",
        "z75YoEOl3vgr",
        "TEMbkbIGGxAf",
        "_rXECCxWYYZe",
        "AaAmlgZwBi1p",
        "bSxzC-PAdvLe",
        "7emiHdnCjnMI",
        "iMwBFi-EqaVN",
        "42IjVK2Hp6G1",
        "yv3FSCjQtipd",
        "pXxyO3HvNclg",
        "4nnmDfV4VqL2",
        "cYl6Trn_Zx_F",
        "WPDxdnE_6ZH-",
        "EpgFkqsarkTC",
        "yyMBCR7vWmY0",
        "FfwHdzzdW2VG",
        "Q7H_enK4jpJt",
        "a1vgH5Ue18-q",
        "DmNy88pH-BvE",
        "0YSJ_y2IXvG4",
        "H2y2tOGIug1P"
      ],
      "mount_file_id": "15VHiwrUVKXpc3JwRXW-_2Gjpy5ASlnYA",
      "authorship_tag": "ABX9TyNuUbSmWHTe2GdKABxdEVge",
      "include_colab_link": true
    },
    "kernelspec": {
      "name": "python3",
      "display_name": "Python 3"
    },
    "language_info": {
      "name": "python"
    }
  },
  "cells": [
    {
      "cell_type": "markdown",
      "metadata": {
        "id": "view-in-github",
        "colab_type": "text"
      },
      "source": [
        "<a href=\"https://colab.research.google.com/github/jarpepegit/Meuverso/blob/main/course_materials/Algebra_I.ipynb\" target=\"_parent\"><img src=\"https://colab.research.google.com/assets/colab-badge.svg\" alt=\"Open In Colab\"/></a>"
      ]
    },
    {
      "cell_type": "markdown",
      "source": [
        "# Álgebra I\n",
        "## Primeiro Semestre 2021--2022\n",
        "\n",
        "\n",
        "Prof. José Agapito Ruiz"
      ],
      "metadata": {
        "id": "jQHBOU8yAHUq"
      }
    },
    {
      "cell_type": "markdown",
      "metadata": {
        "id": "oOo0xTiLqUFD"
      },
      "source": [
        "# **Aula 5: Inteiros**"
      ]
    },
    {
      "cell_type": "markdown",
      "metadata": {
        "id": "BhFw40xi1bhc"
      },
      "source": [
        "## **20. Algoritmo da Divisão**\n",
        "\n",
        "> Mostre que\n",
        ">\n",
        "> $$\\forall\\, a,b\\in\\mathbb{Z},\\,\\, b\\neq 0, \\,\\,\\exists'  q\\in\\mathbb{Z},\\,\\, r\\in\\mathbb{N}_0\\,\\,\\colon\\,\\, a=bq+r\\,\\,\\,\\,\\text{e}\\,\\,\\,\\, 0\\le r < \\vert b\\vert .$$\n",
        "\n",
        "\n",
        "\n",
        "### **Solução (parcial).**\n",
        "\n",
        "Seja $c=\\vert b\\vert$. Como $b\\neq 0$, temos que $c>0$. Assumamos, sem perda de generalidade, que $a\\ge 0$ (se $a<0$, o argumento a seguir funciona para $a'=-a$). Trata-se de comparar $a$ com $c$. Construimos o conjunto\n",
        "$$S=\\big\\{a-cq\\ge 0\\,\\big|\\, q\\in\\mathbb{Z}\\big\\}.$$\n",
        "Argumentamos que este conjunto é claramente não vazio (**basta ver** que $a\\in S$ se tomamos $q=0$). O **_Princípio de boa ordem_** em $\\mathbb{N}_0$ garante que o conjunto $S$ tem um elemento mínimo, chamemos o tal elemento $r$, ou seja,\n",
        "$$S\\ni r=a-cq\\quad\\Longleftrightarrow\\quad a=cq+r,\\quad\\exists \\,q\\in\\mathbb{Z}.$$\n",
        "Como $r\\in S$, claramente $0\\le r$. Para garantirmos que este $r$ serve os nossos propósitos, temos de provar que $r<c$. Argumentamos pelo absurdo, suponhamos que $r\\ge c$. Logo, temos que $$r-c\\ge 0\\quad\\Longleftrightarrow\\quad a-cq-c\\ge 0\\quad \\Longleftrightarrow\\quad \\underbrace{a-c(q+1)}_{\\in S}\\ge 0.$$\n",
        "Claramente, $r>a-c(q+1)$, o que implica que temos encontrado um elemento em $S$ **ainda menor que o elemento mínimo!!** Isto é claramente uma contradição.\n",
        "\n",
        "Resta agora provar a unicidade de $q$ e $r$. Fica como exercício.\n",
        "\n"
      ]
    },
    {
      "cell_type": "markdown",
      "metadata": {
        "id": "aBjGdcGl4HbG"
      },
      "source": [
        "## **21. Identidade de Bézout**\n",
        "\n",
        "> a) Dados inteiros $a, b$ não simultaneamente nulos, mostre que\n",
        ">\n",
        "> $$\\exists\\, u, v \\in\\mathbb{Z}\\quad \\big/ \\quad ua+vb =1\\quad\\Longleftrightarrow\\quad 1 = mdc(a,b).$$\n",
        "\n",
        "### **Solução.**\n",
        "\n",
        "Como $a, b$ não são simultaneamente nulos, assumamos sem perda de generalidade que $b\\neq 0$. Construamos o conjunto $\\mathscr{L}$ de todas as combinações lineares inteiras de $a$ e $b$, isto é\n",
        "\n",
        "$$\\mathscr{L}=\\big\\{sa+tb \\,|\\, s,t\\in\\mathbb{Z} \\big\\}\\subset\\mathbb{Z}.$$\n",
        "\n",
        "Existe pelo menos um inteiro positivo em $\\mathscr{L}$, por exemplo, $0<\\vert b\\vert\\in\\mathscr{L}$.\n",
        "\n",
        "<br>\n",
        "\n",
        "Seja $d=s_0a+t_0b$, o **menor inteiro positivo** em $\\mathscr{L}$ (ele existe pelo princípio de boa ordem em $\\mathbb{N}_0$).\n",
        "\n",
        "#### **Afirmação 1: $\\quad d\\mid\\ell\\,,\\,\\forall\\,\\ell\\in\\mathscr{L}$ .**\n",
        "\n",
        "Pelo algoritmo da divisão, $\\exists\\, q\\in\\mathbb{Z}$ e $r\\in\\mathbb{N}_0$ tais que\n",
        "\n",
        "$$\\ell = dq + r\\quad,\\quad 0\\le r < d.$$\n",
        "\n",
        "Reescrevendo esta equação temos que\n",
        "\n",
        "$$\n",
        "\\underbrace{sa+tb - (s_0a + t_0b)q}_{(s-s_0q)a \\,+\\, (t-t_0q)b} = r,\n",
        "$$\n",
        "\n",
        "Logo, $r\\in\\mathscr{L}$. Como $d$ é o menor inteiro positivo em $\\mathscr{L}$, então $r=0$ e portanto  $d\\mid\\ell \\,,\\,\\forall\\,\\ell\\in\\mathscr{L}$.\n",
        "\n",
        ">>**Observação:** A definição de mdc dada na aula é ambigua, ele poderia ser positivo ou negativo. A fim de acabar com tal ambiguidade **decretamos** que **o mdc seja positivo.**\n",
        "\n",
        "#### **Afirmação 2: $\\quad d=mdc(a,b)$.**\n",
        "\n",
        "Claramente, $a\\in\\mathscr{L}$ (tome-se por exemplo $s=1$ e $t=0$). Similarmente, $b\\in\\mathscr{L}$ (por exemplo podemos tomar $s=0$ e $t=1$).\n",
        "\n",
        "Logo, $\\,\\,d\\mid a\\,\\,$ e $\\,\\,d\\mid b$. Pela definição de mdc, $d\\mid mdc(a,b)$, isto é, $\\exists\\, k_1\\in\\mathbb{Z}\\,/\\, mdc(a,b)=k_1d$.\n",
        "\n",
        "Por outra parte, como $mdc(a,b)\\mid a\\,\\,$ e $\\,\\,mdc(a,b)\\mid b$ segue-se que $mdc(a,b)$ divide qualquer combinação linear inteira de $a$ e $b$, ou seja, $mdc(a,b)\\mid\\ell\\,,\\,\\forall\\,\\ell\\in\\mathcal{L}$. Em particular, $mdc(a,b)\\mid d$, isto é, $\\exists\\,k_2\\in\\mathbb{Z}\\,/\\, d=k_2 mdc(a,b)$.\n",
        "\n",
        "Em resumo,\n",
        "$$mdc(a,b)=k_1d=k_1k_2mdc(a,b)\\quad\\Longrightarrow\\quad k_1k_2=1.$$\n",
        "\n",
        "Portanto $k_1=k_2=1$ ou $k_1=k_2=-1$, mas como o $mdc(a,b)$ é positivo, concluimos que $k_1=k_2=1$, e em consequência $d=mdc(a,b)$.\n",
        "\n",
        ">>O exercício original fica provado fazendo $d=1$.\n",
        "\n",
        "---\n",
        "\n",
        "> b) Dê exemplo de inteiros $a,b,u,v,d$ com $d>1$ tais que $au+bv=d$ mas $d\\neq mdc(a,b)$.\n",
        "\n",
        "### **Solução.**\n",
        "\n",
        "Sejam $a=\\mathbf{4}$, $b=\\mathbf{6}$, $u=3$, $v=-1$ e $d={\\color{red}6}$.\n",
        "\n",
        "$$3\\cdot \\mathbf{4} + (-1)\\cdot \\mathbf{6} = {\\color{red}6} \\neq mdc(4,6)=2.$$\n",
        "\n",
        "Note-se que $d={\\color{red}6}$ **não é o menor positivo** que se pode escrever como combinação linear inteira de $4$ e $6$. Outros exemplos de combinação linear inteira de $4$ e $6$ são\n",
        "\n",
        "$$\\begin{array}{lcl}\n",
        "0\\cdot \\mathbf{4} + 1\\cdot \\mathbf{6} &=& 6 \\\\[2ex]\n",
        "1\\cdot \\mathbf{4} + 0\\cdot \\mathbf{6} &=& 4 \\\\[2ex]\n",
        "\\!\\!\\! -1\\cdot \\mathbf{4} + 1\\cdot\\mathbf{6} &=& 2 = mdc(4,6) \\\\[2ex]\n",
        "\\end{array}$$\n"
      ]
    },
    {
      "cell_type": "markdown",
      "metadata": {
        "id": "neRUNj1RDhx0"
      },
      "source": [
        "## **22. MDC**\n",
        "\n",
        "> a) Sejam $a_1,\\ldots,a_n$ inteiros não todos nulos e $d=mdc(a_1,\\ldots,a_n)$. Mostre que\n",
        ">\n",
        "> $$\\begin{align}\n",
        "mdc\\left(\\frac{a_1}{d},\\ldots,\\frac{a_n}{d}\\right)=1 &\\qquad (\\ast)\n",
        "\\end{align}\n",
        "$$\n",
        "\n",
        "### **Solução.**\n",
        "\n",
        "Temos de provar a identidade acima para qualquer número finito de inteiros não todos nulos. Podemos aplicar o método de indução matemática para prová-la.\n",
        "\n",
        "Neste sentido, iremos provar primeiro a generalização natural do exercício 21. (a), isto é: $\\forall\\, a_1,\\ldots,a_n\\in\\mathbb{Z}$ não simultaneamente nulos\n",
        "\n",
        "$$\\begin{array}{c}\n",
        "\\exists\\,u_1,\\ldots,u_n\\in\\mathbb{Z}\\quad\\big/\\quad\n",
        "u_1a_1+\\cdots+u_na_n = d \\\\[1ex]\n",
        "\\text{($d$ o menor inteiro positivo)}\n",
        "\\end{array}\n",
        "\\quad\\Longleftrightarrow\\quad d=mdc(a_1,\\ldots,a_n)\\qquad (\\ast\\ast)$$\n",
        "\n",
        "Na demostração por indução matemática, o caso inicial $n=1$ é trivial! O caso $n=2$ foi provado na solução do exercício 21(a).\n",
        "\n",
        "Suponhamos que a identidade $(\\ast\\ast)$ é válida até $n$. Temos agora que provar que a identidade $(\\ast\\ast)$ continua válida para $n+1$, isto é\n",
        "\n",
        "$$\\begin{array}{c}\n",
        "\\exists\\,u_1,\\ldots,u_n,u_{n+1}\\in\\mathbb{Z}\\quad\\big/ \\\\[1ex]\n",
        "u_1a_1+\\cdots+u_na_n+u_{n+1}a_{n+1}= d \\\\[1ex]\n",
        "\\text{($d$ o menor inteiro positivo)}\n",
        "\\end{array}\n",
        "\\quad\\Longleftrightarrow\\quad d=mdc(a_1,\\ldots,a_n,a_{n+1}).$$\n",
        "\n",
        "Se $a_{n+1}=0$ podemos aplicar a hipótese indutiva aos $n$ primeiros inteiros $a_1,\\ldots,a_n$ e então\n",
        "\n",
        "$$\\begin{array}{c}\n",
        "u_1a_1+\\cdots+u_na_n+u_{n+1}{\\color{red}0}= d \\\\[1ex]\n",
        "\\text{($d$ o menor inteiro positivo)}\n",
        "\\end{array}\n",
        "\\quad\\Longleftrightarrow\\quad d=mdc(a_1,\\ldots,a_n,{\\color{red}0})=mdc(a_1,\\ldots,a_n).$$\n",
        "\n",
        "Se $a_{n+1}\\neq 0$, a única situação que resta analisar é o caso em que todos $a_1\\neq 0,\\ldots,a_n\\neq 0$ (porque de outra forma podemos usar novamente a hipótese indutiva).\n",
        "\n",
        "Podemos reacomodar os termos da soma $u_1a_1+\\cdots+u_na_n+u_{n+1}a_{n+1}$ de maneira que obtenhamos as seguintes equações\n",
        "\n",
        "$$\\left.\\begin{array}{c}\n",
        "\\underbrace{u_1a_1+\\cdots+u_na_n}_{b_{n+1}}+u_{n+1}a_{n+1}\\\\[2ex]\n",
        "\\underbrace{u_1a_1+\\cdots+u_{n+1}a_{n+1}}_{b_{n}}+u_{n}a_{n}\\\\[2ex]\n",
        "\\vdots\\\\[2ex]\n",
        "\\underbrace{u_2a_2+\\cdots+u_{n+1}a_{n+1}}_{b_{1}}+u_{1}a_{1}\n",
        "\\end{array}\\right\\}\\quad=\\quad d \\quad\\text{($d$ o menor inteiro positivo)}$$\n",
        "\n",
        "Pela hipótese indutiva $d=mdc(b_i,a_i)\\,\\,,\\forall\\,i\\in\\{1,\\ldots,n+1\\}$ e portanto $d\\mid mdc(a_1,\\ldots,a_n,a_{n+1})$\n",
        "Por outra parte, $mdc(a_1,\\ldots,a_n,a_{n+1})\\mid$ qualquer combinação linear inteira dos $a_i's$, em particular, $mdc(a_1,\\ldots,a_n,a_{n+1})\\mid d$. Em conclusão, $d=mdc(a_1,\\ldots,a_n,a_{n+1})$.\n",
        "\n",
        ">>A identidade $(\\ast)$ segue facilmente da identidade $(\\ast\\ast)$.\n",
        "\n",
        "---\n",
        "\n",
        ">b) Sejam $a,b\\in\\mathbb{Z}$ e $x\\in\\mathbb{N}$. Prove que\n",
        ">$$mdc(xa,xb)=x\\,mdc(a,b).$$\n",
        "\n",
        "### **Solução.**\n",
        "\n",
        "Seja $\\quad d=mdc(a,b)$. Podemos ver que\n",
        "\n",
        "$$d\\mid a\\quad\\text{e}\\quad d\\mid b\\,\\,\\Longrightarrow\\,\\, xd\\mid xa\\quad\\text{e}\\quad xd\\mid xb\\,\\,\\Longrightarrow\\,\\,xd\\mid mdc(xa,xb).$$\n",
        "\n",
        "Por outra parte, pela identidade de Bézout $\\exists\\, u,v\\in\\mathbb{Z}\\,\\,\\big/\\,\\,d=ua+vb$. Temos então que\n",
        "\n",
        "$$xd=xua + xvb\\quad\\text{e}\\quad mdc(xa,xb)\\mid (\\alpha xa+\\beta xb)\\,\\,,\\,\\,\\forall\\,\\alpha,\\beta\\in\\mathbb{Z}.$$\n",
        "\n",
        "Em particular, $mdc(xa,xb)\\mid xd$.\n",
        "\n",
        "Concluimos que $mdc(xa,xb)=x\\,mdc(a,b)$.\n",
        "\n",
        "---\n",
        "\n",
        ">c) Sejam $a,r,s\\in\\mathbb{Z}$ com $r,s$ primos entre si. Mostre que se $r\\mid as$ então $r\\mid a$.\n",
        "\n",
        "### **Solução.**\n",
        "\n",
        "$$\\begin{array}{c}\n",
        "r,s\\,\\,\\text{primos entre si} \\,\\,\\Longleftrightarrow\\,\\,\\exists\\,u,v\\in\\mathbb{Z}\\,\\big/\\,ur+vs=1\\\\[1ex]\n",
        "\\hspace{1.5cm}r\\mid as\\,\\,\\Longrightarrow\\,\\,as=kr\\,\\,,\\exists\\, k\\in\\mathbb{Z}\n",
        "\\end{array}\n",
        "$$\n",
        "\n",
        "Podemos então escrever\n",
        "\n",
        "$$\n",
        "uar+vas=a \\quad\\Longrightarrow\\quad\n",
        "(ua+vk)r=a \\quad\\Longrightarrow\\quad r\\mid a.\n",
        "$$\n"
      ]
    },
    {
      "cell_type": "markdown",
      "metadata": {
        "id": "S6-9V4Cv4tfY"
      },
      "source": [
        "## **25. MDC e MMC**\n",
        "\n",
        "> Sejam $a,b$ inteiros não nulos, $d=mdc(a,b)$ e $m=mmc(a,b)$. Mostre que $\\vert ab\\vert=dm$.\n",
        "\n",
        "### **Solução.**\n",
        "\n",
        "$$d\\mid a\\quad \\text{e}\\quad d\\mid b\\quad\\Longrightarrow\\quad\\exists\\,k_a,k_b\\in\\mathbb{Z}\\quad\\big/\\quad a=k_ad\\quad\\text{e}\\quad b=k_bd.$$\n",
        "\n",
        "Seja $mdc(k_a,k_b)=\\ell$. Podemos assumir que $\\ell=1$, caso contrário pelo exercício 22. (a), trabalhamos com $\\frac{k_a}{\\ell}, \\frac{k_b}{\\ell}\\in\\mathbb{Z}$.\n",
        "\n",
        "#### **Afirmação:**  $\\quad m=k_a k_b d.$\n",
        "\n",
        "Claramente, $m$ divide qualquer múltiplo de $a$ e $b$, em particular $m\\mid k_a d k_b$.\n",
        "\n",
        "Por outra parte, como $m$ é múltiplo de $a$, $\\exists\\, k\\in\\mathbb{Z}$ tal que $m=ka=kk_ad$. Como $m$ também é múltiplo de $b$ temos que $b\\mid m$, ou seja\n",
        "\n",
        "$$k_b{\\color{red}d}=b\\mid m=kk_a{\\color{red}d}\\quad\\Longrightarrow\\quad k_b\\mid kk_a.$$\n",
        "\n",
        "Como $k_a$ e $k_b$ são primos entre si, pelo exercício 22.(c), temos que $k_b\\mid k$.\n",
        "\n",
        "Portanto, $k_b\\mid k\\,\\,\\Longrightarrow\\,\\,k_b{\\color{red}k}_{\\color{red}a}{\\color{red}d}\\mid k{\\color{red}k}_{\\color{red}a}{\\color{red}d}=m$.\n",
        "\n",
        "Em resumo,\n",
        "\n",
        "$$m\\mid k_adk_b\\quad \\text{e}\\quad k_bk_ad\\mid m\\quad\\Longrightarrow\\quad m=k_ak_bd\\quad.$$\n",
        "\n",
        ">>**Observação:** A definição de mmc dada na aula é ambigua. Da mesma forma como procedemos com o mdc, **decretamos** que o mmc seja **positivo**.\n",
        "\n",
        "Finalmente, $dm = dk_ak_bd=\\vert ab\\vert.$\n",
        "\n",
        "\n",
        "\n"
      ]
    },
    {
      "cell_type": "markdown",
      "metadata": {
        "id": "jauIQMfd5rDT"
      },
      "source": [
        "## **26. Anéis e polinómios**\n",
        "\n",
        "> Diga justificando quais dos seguintes anéis não são corpos:\n",
        "> $$\\mathbb{Z},\\quad 2\\mathbb{Z},\\quad \\mathbb{C},\\quad \\mathbb{Q}[x],\\quad \\mathbb{Z}_{17},\\quad \\mathbb{Z}_{51},\\quad (M_3(\\mathbb{R}),+,\\cdot)\\quad.$$\n",
        "\n",
        "### **Solução.**\n",
        "\n",
        "* $\\mathbb{Z}$ equipado com as operações usuais de adição e multiplicação não é corpo. Qualquer inteiro $m\\neq 0,1$ não tem inverso multiplicativo em $\\mathbb{Z}$.\n",
        "\n",
        "* $2\\mathbb{Z}$ equipado com as operações usuais de adição e multiplicação não é corpo. $2\\mathbb{Z}$ não tem identidade multiplicativa.\n",
        "\n",
        "* $\\mathbb{C}$ é **corpo desde que** venha equipado com as operações usuais de $+$ e $\\cdot$. Nesse caso, verificam-se todos os requisitos da definição de corpo.\n",
        "\n",
        "* $\\mathbb{Q}[x]$ equipado com as operações usuais de adição e multiplicação de polinómios, não é corpo. Por exemplo, $x\\in\\mathbb{Q}[x]$ não tem inverso multiplicativo em $\\mathbb{Q}[x]$.\n",
        "\n",
        "* $\\mathbb{Z}_{17}$ equipado com as operações usuais de adição e multiplicação é corpo uma vez que $17$ é primo.\n",
        "\n",
        "* $\\mathbb{Z}_{51}$ equipado com as operações usuais de adição e multiplicação não é corpo porque $51$ não é primo.\n",
        "\n",
        "* $(M_3(\\mathbb{R},+,\\cdot))$ não é corpo. Por exemplo\n",
        "$$\\begin{pmatrix}\n",
        "1 & 1 & 0 \\\\\n",
        "1 & 1 & 0 \\\\\n",
        "0 & 0 & 1\n",
        "\\end{pmatrix}\\in M_3(\\mathbb{R})$$\n",
        "não tem inverso multiplicativo."
      ]
    },
    {
      "cell_type": "markdown",
      "metadata": {
        "id": "20OWM_gfCWKN"
      },
      "source": [
        "# **Aula 6: Anéis e polinómios**"
      ]
    },
    {
      "cell_type": "markdown",
      "metadata": {
        "id": "V4_q7G4ZM3lP"
      },
      "source": [
        "## **29. Polinómios em $\\mathbb{Z}_n[x]$**\n",
        "\n",
        ">Considere em $\\mathbb{Z}_6[x]$ os polinómios $f(x)=3+2x+2x^3$ e $g(x)=1+3x^5$. Calcule $f(x)g(x)$ e indique o seu grau $k$. Explique porque se tem $k\\neq \\operatorname{grau}f(x)+\\operatorname{grau}g(x).$\n",
        "\n",
        "### **Solução.**\n",
        "\n",
        "Colocamos os coeficientes dos polinómios $f(x)$ e $g(x)$ na seguinte tabela\n",
        "\n",
        "$$\\begin{array}{c|cc}\n",
        "n & f(x) & g(x) \\\\\n",
        "\\hline\n",
        "0 & 3 & 1 \\\\\n",
        "1 & 2 & 0 \\\\\n",
        "2 & 0 & 0 \\\\\n",
        "3 & 2 & 0 \\\\\n",
        "4 &  & 0 \\\\\n",
        "5 &  & 3\n",
        "\\end{array}\\,\\,\\Longrightarrow\\,\\,\n",
        "\\begin{array}{ll}\n",
        "f(x)\\,g(x)\\,\\, = & 3\\cdot 1 \\,+ \\\\\n",
        "  & (3\\cdot 0 + 2\\cdot 1)x \\,+ \\\\\n",
        "  & (3\\cdot 0+ 2\\cdot 0 + 0\\cdot 1)x^2 \\,+ \\\\\n",
        "  & (3\\cdot 0+2\\cdot 0+0\\cdot 0+2\\cdot 1)x^3 \\,+ \\\\\n",
        "  & (3\\cdot 0+2\\cdot 0+0\\cdot 0+2\\cdot 0 + 0\\cdot 1)x^4 \\,+\\\\\n",
        "  & (3\\cdot 3+2\\cdot 0+0\\cdot 0+2\\cdot 0 + 0\\cdot 0+0\\cdot 1)x^5 \\,+\\\\\n",
        "  & (2\\cdot 3+0\\cdot 0+2\\cdot 0)x^6 \\,+\\\\\n",
        "  & (0\\cdot 3+2\\cdot 0)x^7 +\\,\\\\\n",
        "  & (2\\cdot 3)x^8\n",
        "\\end{array}$$\n",
        "\n",
        "Logo, $f(x)\\,g(x) = 3 + 2x + 2x^3 + 3x^5$ uma vez que $3\\cdot 3 \\equiv 3 \\operatorname{mod}6\\,\\,$ e $\\,\\,2\\cdot 3\\equiv 0\\operatorname{mod}6$. Segue-se que $k=\\operatorname{grau}f(x)\\,g(x)=5$. A razão pela qual $k\\neq \\operatorname{grau}f(x)+\\operatorname{grau}g(x)=8$ é que $\\mathbb{Z}_6$ não é um corpo (tem divisores de zero: $2$ e $3$).\n"
      ]
    },
    {
      "cell_type": "markdown",
      "metadata": {
        "id": "JEA6V86OIluz"
      },
      "source": [
        "\n",
        "##**30. Algoritmo da divisão em $\\mathbb{F}[x]$**\n",
        "\n",
        "Calcule o quociente e o resto na divisão de"
      ]
    },
    {
      "cell_type": "markdown",
      "metadata": {
        "id": "8Tu5MQVRTsof"
      },
      "source": [
        "---\n",
        "### (a)\n",
        ">$f(x)=x^4+3x^3-x^2-5x+2\\,\\,$ por $\\,\\,g(x)=x^3+4x^2+2x-4\\,\\,$ em $\\,\\,\\mathbb{R}[x]$.\n",
        "\n",
        "**Solução.**\n",
        "\n",
        "O quociente de dividir $f(x)$ por $g(x)$ é $q(x)=x-1$ e o resto é $r(x)=x^2+x-2$. Podemos verificar facilmente estes resultados à mão ou usando alguma ferramenta computacional, como por exemplo o pacote científico **_numpy_** para cálculo com python."
      ]
    },
    {
      "cell_type": "code",
      "metadata": {
        "colab": {
          "base_uri": "https://localhost:8080/"
        },
        "id": "JzsSJtEaXgax",
        "outputId": "c85093f5-73fd-4445-d44c-a73313198c05"
      },
      "source": [
        "import numpy as np\n",
        "f = np.array([1,3,-1,-5,2])\n",
        "g = np.array([1,4,2,-4])\n",
        "\n",
        "quociente, resto = np.polydiv(f, g)\n",
        "\n",
        "print(\"quociente : \", quociente)\n",
        "print(\"resto : \", resto)"
      ],
      "execution_count": null,
      "outputs": [
        {
          "output_type": "stream",
          "name": "stdout",
          "text": [
            "quociente :  [ 1. -1.]\n",
            "resto :  [ 1.  1. -2.]\n"
          ]
        }
      ]
    },
    {
      "cell_type": "markdown",
      "metadata": {
        "id": "x-y7PW9G5jNT"
      },
      "source": [
        "---\n",
        "### (b)\n",
        "\n",
        ">$f(x)=x^4+3x^3-x^2-5x+2\\,\\,$ por $\\,\\,g(x)=x^3+4x^2+2x-4\\,\\,$ em $\\,\\,\\mathbb{Z}_7[x]$.\n",
        "\n",
        "**Solução.**\n",
        "\n",
        "$$\\begin{array}{r}\n",
        "x-1\\phantom{)}   \\\\\n",
        "x^3+4x^2+2x-4\\,\\,\\,{\\overline{\\smash{\\big|}\\,\\,\\,x^4+3x^3-x^2-5x+2\\phantom{)}}}\\\\\n",
        "\\underline{~\\phantom{()}-x^4-4x^3-2x^2+4x\\phantom{-bb)}}\\\\\n",
        "-x^3-3x^2-x+2\\phantom{)}\\\\\n",
        "\\underline{~\\phantom{()}x^3+4x^2+2x-4\\phantom{)}}\\\\\n",
        "x^2+x-2\\phantom{)}\n",
        "\\end{array}$$\n",
        "\n",
        "<br>\n",
        "\n",
        "Observe-se que como elementos de $\\mathbb{Z}_7[x]$, os polinómios $f(x)=x^4+3x^3-x^2-5x+2\\,\\,$ e $\\,\\,g(x)=x^3+4x^2+2x-4$ podem ser escritos como\n",
        "\n",
        "$$f(x)=x^4+3x^3+6x^2+2x+2\\quad\\text{e}\\quad g(x)=x^3+4x^2+2x+3,$$\n",
        "\n",
        "e o quociente $q(x)=x-1$ e o resto $r(x)=x^2+x-2$ como\n",
        "\n",
        "$$q(x)=x+6\\quad\\text{e}\\quad r(x)=x^2+x+5.$$"
      ]
    },
    {
      "cell_type": "markdown",
      "metadata": {
        "id": "zWY8p8JQVVKP"
      },
      "source": [
        "---\n",
        "### (c)\n",
        "\n",
        ">$f(x)=3x^4+2x\\,\\,$ por $\\,\\,g(x)=4x^3+1\\,\\,$ em $\\,\\,\\mathbb{Z}_5[x]$\n",
        "\n",
        "**Solução.**\n",
        "\n",
        "$$\\begin{array}{r}\n",
        "2x\\phantom{)}   \\\\\n",
        "4x^3+0x^2+0x+1\\,\\,\\,{\\overline{\\smash{\\big|}\\,\\,\\,3x^4+0x^3+0x^2+2x\\phantom{)}}}\\\\\n",
        "\\underline{-~\\phantom{(}(3x^4+0x^3+0x^2+2x)}\\\\\n",
        "0\\phantom{)}\\\\\n",
        "\\end{array}$$\n",
        "\n",
        "<br>\n",
        "\n",
        "Portanto, o quociente é $q(x)=2x\\,\\,$ e o resto é $\\,\\,r(x)=0$, ou seja,\n",
        "\n",
        "$$3x^4+2x = (4x^3+1)\\,2x\\,.$$\n",
        "\n",
        "**Atenção !**"
      ]
    },
    {
      "cell_type": "code",
      "metadata": {
        "colab": {
          "base_uri": "https://localhost:8080/"
        },
        "id": "Scjf6ho3OTIL",
        "outputId": "81224f07-2c37-46c4-8dcf-31d5d262d18d"
      },
      "source": [
        "import numpy as np\n",
        "f = np.array([3,0,0,2,0])\n",
        "g = np.array([4,0,0,1])\n",
        "\n",
        "quociente, resto = np.polydiv(f, g)\n",
        "\n",
        "print(\"quociente : \", quociente)\n",
        "print(\"resto : \", resto)"
      ],
      "execution_count": null,
      "outputs": [
        {
          "output_type": "stream",
          "name": "stdout",
          "text": [
            "quociente :  [0.75 0.  ]\n",
            "resto :  [1.25 0.  ]\n"
          ]
        }
      ]
    },
    {
      "cell_type": "markdown",
      "metadata": {
        "id": "V7MN1QWhd8PY"
      },
      "source": [
        "Os resultados obtidos usando **_numpy_** é para o caso em que $f(x)$ e $g(x)$ são considerados polinómios em $\\mathbb{Q}[x]$. Neste caso $q(x)=\\frac{3}{4}x\\,$ e $\\,r(x)=\\frac{5}{4}x$.\n",
        "\n",
        "**Trabalho de casa:** Escrevam o código apropriado para o caso de polinómios com coeficientes em $\\mathbb{Z}_p$, com $p$ primo."
      ]
    },
    {
      "cell_type": "markdown",
      "metadata": {
        "id": "67u2pRPoHuBu"
      },
      "source": [
        "## **31. Algoritmo da divisão em $\\mathbb{F}[x]$**\n",
        "\n",
        "Considere\n",
        "\n"
      ]
    },
    {
      "cell_type": "markdown",
      "metadata": {
        "id": "2rAMIIE9IoGU"
      },
      "source": [
        "---\n",
        "### (a)\n",
        "\n",
        "> os polinómios $f(x)=5x^6+2x^3+x^2+1$ e $g(x)=x^3-2x+1$ e determine o quociente e o resto na divisão de $f(x)$ por $g(x)$ em $\\mathbb{Q}[x]$.\n",
        "\n",
        "**Solução.**\n",
        "\n",
        "$$\\begin{array}{r}\n",
        "5x^3+10x-3\\phantom{)}   \\\\\n",
        "x^3+0x^2-2x+1\\,\\,\\,{\\overline{\\smash{\\big|}\\,\\,\\,5x^6+0x^5+0x^4+2x^3+x^2+0x+1\\phantom{-bbbb}}}\\\\\n",
        "\\underline{-5x^6\\,\\,\\qquad +10x^4-5x^3\\phantom{-bbbbbbbbbbbbbbbbb)}}\\\\\n",
        "10x^4-3x^3+\\,x^2\\,\\,\\,+0x+1\\phantom{-bbbb}\\\\\n",
        "\\underline{-10x^4\\qquad +20x^2-10x\\phantom{-bbbbbbb}}\\\\\n",
        "-3x^3+\\,21x^2-10x+1\\phantom{-bb}\\\\\n",
        "\\underline{+3x^3\\quad\\quad\\quad\\,\\,\\,\\,-6x+3\\phantom{-bb}}\\\\\n",
        "21x^2-16x+4\\phantom{-bb}\n",
        "\\end{array}$$\n",
        "\n",
        "Portanto, o quociente $q(x)$ e o resto $r(x)$ na divisão de $f(x)$ por $g(x)$ são\n",
        "\n",
        "$$ q(x) = 5x^3+10x-3\\quad\\text{e}\\quad r(x)= 21x^2-16x+4$$"
      ]
    },
    {
      "cell_type": "code",
      "metadata": {
        "colab": {
          "base_uri": "https://localhost:8080/"
        },
        "id": "HgnhDk0iKtSE",
        "outputId": "f392f5a6-9c7b-4877-9fc8-656e855fa3cd"
      },
      "source": [
        "import numpy as np\n",
        "f = np.array([5,0,0,2,1,0,1])\n",
        "g = np.array([1,0,-2,1])\n",
        "\n",
        "quociente, resto = np.polydiv(f, g)\n",
        "\n",
        "print(\"quociente : \", quociente)\n",
        "print(\"resto : \", resto)"
      ],
      "execution_count": null,
      "outputs": [
        {
          "output_type": "stream",
          "name": "stdout",
          "text": [
            "quociente :  [ 5.  0. 10. -3.]\n",
            "resto :  [ 21. -16.   4.]\n"
          ]
        }
      ]
    },
    {
      "cell_type": "markdown",
      "metadata": {
        "id": "r1Q-8d9uJkWM"
      },
      "source": [
        "---\n",
        "### (b)\n",
        "\n",
        "> os polinómios $f(x)$ e $g(x)$ acima como polinómios de $\\mathbb{Z}_7[x]$ e determine o quociente e o resto na divisão de $f(x)$ por $g(x)$ em $\\mathbb{Z}_7[x]$.\n",
        "\n",
        "**Solução.**\n",
        "\n",
        "Tendo em conta que $10\\equiv3\\operatorname{mod}7\\,\\,$, $-3\\equiv4\\operatorname{mod}7\\,\\,$, $21\\equiv0\\operatorname{mod}7\\,\\,$ e $-16\\equiv5\\operatorname{mod}7$, o quociente e o resto em $\\mathbb{Z}_7[x]$ são\n",
        "\n",
        "$$ q(x) = 5x^3+3x+4\\quad\\text{e}\\quad r(x) = 5x+4$$"
      ]
    },
    {
      "cell_type": "markdown",
      "metadata": {
        "id": "okUQ9RFG8VvZ"
      },
      "source": [
        "## **32. Algoritmo da divisão em $\\mathbb{Z}_7[x]$**\n",
        "\n",
        "> Em $\\mathbb{Z}_7[x]$ considere $f(x)=x^3-5x^2+2x-1$. Qual o resto na divisão de $f(x)$ por $x-2$?\n",
        "\n",
        "### **Solução.**\n",
        "\n",
        "Uma vez que o divisor $x-2$ é mónico e de grau $1$, podemos aplicar a divisão curta (método de Ruffini)\n",
        "\n",
        "$$\\begin{array}{c | r}\n",
        "& 1\\quad -5\\hspace{1cm} 2\\quad -1   \\\\\n",
        "\\hline\n",
        "2 & \\\\\n",
        "  & \\quad 2\\quad -6\\quad -8\\\\\n",
        "\\hline\n",
        " & 1\\quad -3\\quad -4\\quad {\\color{red}-\\color{red}9}   \n",
        "\\end{array}$$\n",
        "\n",
        "Como $-3\\equiv4\\operatorname{mod}7\\,\\,$, $-4\\equiv3\\operatorname{mod}7\\,\\,$ e $-9\\equiv5\\operatorname{mod}7\\,\\,$, o quociente $q(x)$ e o resto $r(x)$ de dividir $f(x)$ por $x-2$ são\n",
        "\n",
        "$$q(x)=x^2+4x+3\\qquad\\text{e}\\qquad r(x)=5\\,.$$"
      ]
    },
    {
      "cell_type": "markdown",
      "metadata": {
        "id": "LwMYwXF-guzg"
      },
      "source": [
        "## **34. MDC de polinómios em $\\mathbb{Q}[x]$.**\n",
        "\n",
        "> Considere em $\\mathbb{Q}[x]$ os polinómios\n",
        "> $$f(x)=x^4+3x^3-x^2-5x+2\\quad\\text{e}\\quad g(x)=x^3+4x^2+2x-4\\,.$$\n",
        "> Determine o $\\operatorname{mdc}(f,g)$ e escreva-o na forma\n",
        "> $$a(x)\\,f(x)\\,\\,+\\,\\,b(x)\\,g(x)\\,,$$\n",
        "> com $a(x), b(x)\\in\\mathbb{Q}[x]$.\n",
        "\n",
        "### **Solução.**\n",
        "\n",
        "Aplicamos o algoritmo de Euclides e obtemos os seguintes polinómios\n",
        "\n",
        "$$\\begin{array}{r}\n",
        "x-1\\phantom{)}   \\\\\n",
        "x^3+4x^2+2x-4\\,\\,\\,{\\overline{\\smash{\\big|}\\,\\,\\,x^4+3x^3-x^2-5x+2\\phantom{)}}}\\\\\n",
        "\\underline{-x^4-4x^3-2x^2+4x\\phantom{-bi)}}\\\\\n",
        "-x^3-3x^2-x+2\\phantom{)}\\\\\n",
        "\\underline{~\\phantom{()}x^3+4x^2+2x-4\\phantom{)}}\\\\\n",
        "x^2+x-2\\phantom{)}\n",
        "\\end{array}\n",
        "\\quad\\quad\n",
        "\\begin{array}{r}\n",
        "x+3\\phantom{)}   \\\\\n",
        "x^2+x-2\\,\\,\\,{\\overline{\\smash{\\big|}\\,\\,\\,x^3+4x^2+2x-4\\phantom{)}}}\\\\\n",
        "\\underline{-x^3-x^2+2x\\phantom{-bbb)}}\\\\\n",
        "3x^2+4x-4\\phantom{)}\\\\\n",
        "\\underline{~\\phantom{()}-3x^2-3x+6\\phantom{)}}\\\\\n",
        "x+2\\phantom{)}\n",
        "\\end{array}$$\n",
        "\n",
        "<br>\n",
        "\n",
        "$$\\begin{array}{r}\n",
        "x-1\\phantom{)}   \\\\\n",
        "x+2\\,\\,\\,{\\overline{\\smash{\\big|}\\,\\,\\,x^2+x-2\\phantom{)}}}\\\\\n",
        "\\underline{-x^2-2x\\phantom{-b)}}\\\\\n",
        "-x-2\\phantom{)}\\\\\n",
        "\\underline{~\\phantom{()}x+2\\phantom{)}}\\\\\n",
        "0\\phantom{)}\n",
        "\\end{array}$$\n",
        "\n",
        "<br>\n",
        "\n",
        "$$\\begin{array}{lcl}\n",
        "\\underbrace{x^4+3x^3-x^2-5x+2}_{f(x)} &=& \\underbrace{(x^3+4x^2+2x-4)}_{g(x)}\\underbrace{(x-1)}_{q_1(x)}+\\underbrace{x^2+x-2}_{r_1(x)} \\\\[2ex]\n",
        "\\underbrace{x^3+4x^2+2x-4}_{g(x)} &=& \\underbrace{(x^2+x-2)}_{r_1(x)}\\underbrace{(x+3)}_{q_2(x)}+\\underbrace{\\color{red}x\\color{red}+\\color{red}2}_{r_2(x)} \\\\[2ex]\n",
        "\\underbrace{x^2+x-2}_{r_1(x)} &=& \\underbrace{(x+2)}_{r_2(x)}\\underbrace{(x-1)}_{q_3(x)}+\\underbrace{0}_{r_3(x)}\n",
        "\\end{array}\n",
        "$$\n",
        "\n",
        "Portanto, $\\operatorname{mdc}(f,g)=r_2(x)=x+2$ e podemos facilmente escrever o $\\operatorname{mdc(f,g)}$ como combinação linear de $f$ e $g$ da seguinte forma:\n",
        "\n",
        "$$\\begin{array}{rcl}\n",
        "g &=& (f-gq_1)q_2 + r_2 \\\\[1ex]\n",
        "g &=& (fq_2-gq_1q_2)+r_2 \\\\[1ex]\n",
        "-q_2\\,f + (1+q_1q_2)\\,g &=& r_2\n",
        "\\end{array}$$\n",
        "\n",
        "<br>\n",
        "\n",
        "Sejam $a(x)=-q_2(x)\\,$ e $\\,\\,b(x)=1+q_1(x)q_2(x)$ e então\n",
        "\n",
        "$$a(x)\\,f(x) + b(x)\\,g(x) = \\operatorname{mdc}(f(x),g(x))$$"
      ]
    },
    {
      "cell_type": "code",
      "metadata": {
        "colab": {
          "base_uri": "https://localhost:8080/"
        },
        "id": "Q4u1_bt8RNI4",
        "outputId": "0a5ad7fc-7bf9-48a1-ebde-3c4393a76d64"
      },
      "source": [
        "# import sympy\n",
        "from sympy import *\n",
        "f,g,x = symbols(\"f g x\")\n",
        "f = x**4 + 3*x**3 - x**2 - 5*x + 2\n",
        "g = x**3 + 4*x**2 + 2*x - 4\n",
        "# Using sympy.gcd() method\n",
        "mdc = gcd(f, g)\n",
        "print(\"f(x)= \",f)\n",
        "print(\"g(x)= \",g)\n",
        "print(\"\\nmdc(f,g)= \", mdc)"
      ],
      "execution_count": null,
      "outputs": [
        {
          "output_type": "stream",
          "name": "stdout",
          "text": [
            "f(x)=  x**4 + 3*x**3 - x**2 - 5*x + 2\n",
            "g(x)=  x**3 + 4*x**2 + 2*x - 4\n",
            "\n",
            "mdc(f,g)=  x + 2\n"
          ]
        }
      ]
    },
    {
      "cell_type": "markdown",
      "metadata": {
        "id": "Pn_DIDV89xo0"
      },
      "source": [
        "# **Aula 7: Anel de Polinómios e cardinalidade**"
      ]
    },
    {
      "cell_type": "markdown",
      "metadata": {
        "id": "LM00iQq9W73x"
      },
      "source": [
        "## **40.Demonstre ou dê um contra-exemplo**\n",
        "\n",
        ">(a) Se $K$ é um corpo então $K[x]$ também é um corpo.\n",
        "\n",
        "### **Solução.**\n",
        "\n",
        "**_Falso._** $K=\\mathbb{R}$ é um corpo mas $\\mathbb{R}[x]$ não é corpo. Por exemplo, $x\\in\\mathbb{R}[x]$ não tem inverso multiplicativo em $\\mathbb{R}[x]$.\n",
        "\n",
        "---\n",
        "\n",
        ">(b) Qualquer polinómio com coeficientes num corpo $K$ admite uma raiz em $K$.\n",
        "\n",
        "### **Solução.**\n",
        "\n",
        "**_Falso._** O polinómio $x^2+1$ tem coeficientes no corpo $\\mathbb{R}$ mas não tem raizes em $\\mathbb{R}$.\n",
        "\n",
        "---\n",
        "\n",
        ">(c) Qualquer polinómio irredutível em $\\mathbb{Q}[x]$ também é irredutível em $\\mathbb{R}[x]$.\n",
        "\n",
        "### **Solução.**\n",
        "\n",
        "**_Falso._** Por exemplo, $x^2-2$ é irredutível em $\\mathbb{Q}[x]$ mas é redutível em $\\mathbb{R}[x]$, de facto, temos que\n",
        "\n",
        "$$x^2-2 = \\big(x-\\sqrt{2}\\big)\\big(x+\\sqrt{2}\\big)\\,.$$\n",
        "\n",
        "---\n",
        "\n",
        "> (d) Polinómios primos entre si e com coeficietes num corpo $K$ têm graus diferentes.\n",
        "\n",
        "### **Solução.**\n",
        "\n",
        "**_Falso._** Consideremos por exemplo em $\\mathbb{R}[x]$ os polinómios $p(x)=x^2+x+1\\,$ e $\\,q(x)=x^2+1$. Ambos polinómios têm grau 2 e facilmente verifica-se que o $\\operatorname{mdc}(p,q)=1$"
      ]
    },
    {
      "cell_type": "code",
      "metadata": {
        "colab": {
          "base_uri": "https://localhost:8080/"
        },
        "id": "OrKh_805KHbX",
        "outputId": "96343d0e-7fa6-4572-f0da-d587574a46fa"
      },
      "source": [
        "# import sympy\n",
        "from sympy import *\n",
        "f,g,x = symbols(\"f g x\")\n",
        "f = x**2 + x + 1\n",
        "g = x**2 + 1\n",
        "# Using sympy.gcd() method\n",
        "mdc = gcd(f, g)\n",
        "print(\"f(x)= \",f)\n",
        "print(\"g(x)= \",g)\n",
        "print(\"\\nmdc(f,g)= \", mdc)"
      ],
      "execution_count": null,
      "outputs": [
        {
          "output_type": "stream",
          "name": "stdout",
          "text": [
            "f(x)=  x**2 + x + 1\n",
            "g(x)=  x**2 + 1\n",
            "\n",
            "mdc(f,g)=  1\n"
          ]
        }
      ]
    },
    {
      "cell_type": "markdown",
      "metadata": {
        "id": "OxdNO1KdKbmu"
      },
      "source": [
        "## **41. Cardinal de conjuntos de polinómios**\n",
        "\n",
        "> (a) Qual o cardinal do conjunto $\\mathcal{C}$ dos polinómios de $\\mathbb{Z}_5[x]$ com grau $5$ e coeficiente director $1$?\n",
        "\n",
        "### **Solução.**\n",
        "\n",
        "$$x^5 + \\underbrace{a_4}_{\\tiny 5\\, \\text{possibilidades}} x^4 + \\underbrace{a_3}_{\\tiny 5\\, \\text{possibilidades}} x^3 + \\underbrace{a_2}_{\\tiny 5\\, \\text{possibilidades}} x^2 + \\underbrace{a_1}_{\\tiny 5\\, \\text{possibilidades}} x + \\underbrace{a_0}_{\\tiny 5\\, \\text{possibilidades}}\\,.$$\n",
        "\n",
        "Portanto, o cardinal do conjunto $\\mathcal{C}$ é $5^5$.\n",
        "\n",
        "---\n",
        "\n",
        "> (b) Se $n\\in\\mathbb{N}$ qual o cardinal do conjunto $\\mathcal{L}$ dos polinómios de $\\mathbb{Z}_n[x]$ com grau $k$, sendo $k$ um inteiro positivo fixo?\n",
        "\n",
        "### **Solução.**\n",
        "\n",
        "Os polinómios em $\\mathbb{Z}_n[x]$ de grau $k$ tem a forma\n",
        "\n",
        "$$a_k x^k + a_{k-1} x^{k-1} + \\cdots + a_1 x + a_0\\,,$$\n",
        "\n",
        "com $a_k\\neq 0$. Logo, o cardinal de $\\mathcal{L}$ é $(n-1)n^k$."
      ]
    },
    {
      "cell_type": "markdown",
      "metadata": {
        "id": "ynXe8gIeohzU"
      },
      "source": [
        "## **42. Conjuntos numeráveis**\n",
        "\n",
        "> (a) Prove que a união de um número finito de conjuntos numeráveis é numerável.\n",
        "\n",
        "### **Prova.**\n",
        "\n",
        "Seja $n\\in\\mathbb{N}$ o número de conjuntos numeráveis $A_1, A_2,\\ldots, A_n$. Queremos provar que $A_1\\cup A_2\\cup\\cdots\\cup A_n$ é também numerável. Vamos provar esta afirmação usando indução matemática sobre $n$.\n",
        "\n",
        "Consideremos como caso base $n=2$ (o caso $n=1$ é trivial). Como $A_1$ e $A_2$ são numeráveis, podemos escrever os elementos de cada um deles da seguinte forma $\\big($vamos trabalhar com $\\mathbb{N}=\\{0,1,2,\\ldots\\}\\big)$\n",
        "\n",
        "$$A_1=\\big\\{a_{10},a_{11},a_{12},\\ldots\\big\\}\\quad\\text{e}\\quad\n",
        "A_2=\\big\\{a_{20},a_{21},a_{22}\\ldots\\big\\}$$\n",
        "\n",
        "Enviamos os elementos de $A_1$ para os pares e os elementos de $A_2$ para os ímpares, mais precisamente definimos\n",
        "\n",
        "$$a_{1j}\\mapsto 2j\\quad\\text{e}\\quad a_{2j}\\mapsto 2j+1\\,.$$\n",
        "\n",
        "Desta forma fica construida uma bijeção de $A_1\\cup A_2$ para $\\mathbb{N}$.\n",
        "\n",
        "Suponhamos agora que $A_1\\cup A_2\\cup\\cdots\\cup A_n$ é numerável. Queremos provar que $A_1\\cup A_2\\cup\\cdots\\cup A_n\\cup A_{n+1}$ é também numerável. Podemos chamar $B_1=A_1\\cup A_2\\cup\\cdots\\cup A_n\\,$ e $\\,B_2=A_{n+1}$. Sabemos que $B_2=A_{n+1}$ é numerável e pela hipótese indutiva, $B_1$ é numerável. Aplicamos a construção feita para o caso de dois conjuntos numeráveis e dessa forma conseguimos provar que $A_1\\cup A_2\\cup\\cdots\\cup A_n\\cup A_{n+1}$ é numerável.\n",
        "\n",
        "---\n",
        "\n",
        "> (b) Seja $\\alpha$ um cardinal infinito e seja $(A_i)_{i\\in I}$ uma família numerável de conjuntos $A_i$, $i\\in I$, cada um com cardinal $\\alpha$. Prove que o cardinal de $\\bigcup_{i\\in I} A_i$ é $\\alpha$.\n",
        "\n",
        "### **Prova.**\n",
        "\n",
        "Sejam $X$ um conjunto tal que $\\#X=\\alpha$ e $I$ o conjunto de índices tal que $\\#I=\\aleph_0$. Sabendo que $\\forall\\,i\\in I, A_i\\sim X$, queremos provar que $\\bigcup_{i\\in I}A_i \\sim X$. Sem perda de generalidade asumamos que os conjuntos $A_i$ são disjuntos dois a dois\n",
        "\n",
        "Vamos adaptar a prova feita nas aulas teóricas para o caso da união numerável de conjuntos numeráveis (ver imagem abaixo). Como $A_i\\sim X$ para todo $i\\in I$, $\\exists\\,f_i:X\\to A_i$ bijeção para cada $i\\in I$. Chamemos $A=\\bigcup_{i\\in I}A_i$ e seja $h: I{\\scriptsize\\times} X \\to A $ definida por $h(i,x)=f_i(x)$.\n",
        "\n",
        "**Afirmação:** $\\quad h$ é uma bijeção.\n",
        "\n",
        "Claramente, se $(i,x)\\neq (j,y)$ então $f_i(x)=h(i,x)\\neq h(j,y)=f_j(y)$, uma vez que $f_i(x)\\in A_i\\,$ e $\\,f_j(y)\\in A_j$. Se $i\\neq j$ temos $A_i\\cap A_j=\\emptyset$. Se $i=j$ então $x\\neq y$, e como $f_i$ é injetiva então $f_i(x)\\neq f_i(y)$. Logo, $h$ é injetiva.\n",
        "\n",
        "Por outra parte, dado $a\\in A$, da definição de união de conjuntos existe $i\\in I$ tal que $a\\in A_i$. Como $X\\sim A_i$, existe $f_i: X\\to A$ bijeção, e portanto, para $a\\in A_i$ existe $x\\in X$ tal que $f_i(x)=a$, ou seja, $\\exists (i,x)\\in I{\\scriptsize\\times} X$ tal que $h(i,x)=a$. Isto significa que $h$ é sobrejetiva.\n",
        "\n",
        "Em resumo, temos provado que $I{\\scriptsize\\times} X\\sim\\bigcup_{i\\in I}A_i$, e como $X\\sim I{\\scriptsize\\times} X$, concluimos que $X\\sim\\bigcup_{i\\in I}A_i$."
      ]
    },
    {
      "cell_type": "code",
      "metadata": {
        "id": "c_wL_I9bkgp4"
      },
      "source": [
        "from google.colab import files\n",
        "import cv2\n",
        "import matplotlib.pyplot as plt"
      ],
      "execution_count": null,
      "outputs": []
    },
    {
      "cell_type": "code",
      "metadata": {
        "colab": {
          "resources": {
            "http://localhost:8080/nbextensions/google.colab/files.js": {
              "data": "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",
              "ok": true,
              "headers": [
                [
                  "content-type",
                  "application/javascript"
                ]
              ],
              "status": 200,
              "status_text": ""
            }
          },
          "base_uri": "https://localhost:8080/",
          "height": 337
        },
        "id": "nzFXBn7ckxOy",
        "outputId": "dbe7dff9-81b7-43e6-fd82-5fc330e64c37"
      },
      "source": [
        "uploaded=files.upload()"
      ],
      "execution_count": null,
      "outputs": [
        {
          "output_type": "display_data",
          "data": {
            "text/html": [
              "\n",
              "     <input type=\"file\" id=\"files-b97edd65-e61f-4706-b3a1-0df02dd39ac7\" name=\"files[]\" multiple disabled\n",
              "        style=\"border:none\" />\n",
              "     <output id=\"result-b97edd65-e61f-4706-b3a1-0df02dd39ac7\">\n",
              "      Upload widget is only available when the cell has been executed in the\n",
              "      current browser session. Please rerun this cell to enable.\n",
              "      </output>\n",
              "      <script src=\"/nbextensions/google.colab/files.js\"></script> "
            ],
            "text/plain": [
              "<IPython.core.display.HTML object>"
            ]
          },
          "metadata": {}
        },
        {
          "output_type": "error",
          "ename": "KeyboardInterrupt",
          "evalue": "ignored",
          "traceback": [
            "\u001b[0;31m---------------------------------------------------------------------------\u001b[0m",
            "\u001b[0;31mKeyboardInterrupt\u001b[0m                         Traceback (most recent call last)",
            "\u001b[0;32m<ipython-input-3-0e3bcf1096e1>\u001b[0m in \u001b[0;36m<module>\u001b[0;34m()\u001b[0m\n\u001b[0;32m----> 1\u001b[0;31m \u001b[0muploaded\u001b[0m\u001b[0;34m=\u001b[0m\u001b[0mfiles\u001b[0m\u001b[0;34m.\u001b[0m\u001b[0mupload\u001b[0m\u001b[0;34m(\u001b[0m\u001b[0;34m)\u001b[0m\u001b[0;34m\u001b[0m\u001b[0;34m\u001b[0m\u001b[0m\n\u001b[0m",
            "\u001b[0;32m/usr/local/lib/python3.7/dist-packages/google/colab/files.py\u001b[0m in \u001b[0;36mupload\u001b[0;34m()\u001b[0m\n\u001b[1;32m     62\u001b[0m   result = _output.eval_js(\n\u001b[1;32m     63\u001b[0m       'google.colab._files._uploadFiles(\"{input_id}\", \"{output_id}\")'.format(\n\u001b[0;32m---> 64\u001b[0;31m           input_id=input_id, output_id=output_id))\n\u001b[0m\u001b[1;32m     65\u001b[0m   \u001b[0mfiles\u001b[0m \u001b[0;34m=\u001b[0m \u001b[0m_collections\u001b[0m\u001b[0;34m.\u001b[0m\u001b[0mdefaultdict\u001b[0m\u001b[0;34m(\u001b[0m\u001b[0m_six\u001b[0m\u001b[0;34m.\u001b[0m\u001b[0mbinary_type\u001b[0m\u001b[0;34m)\u001b[0m\u001b[0;34m\u001b[0m\u001b[0;34m\u001b[0m\u001b[0m\n\u001b[1;32m     66\u001b[0m   \u001b[0;31m# Mapping from original filename to filename as saved locally.\u001b[0m\u001b[0;34m\u001b[0m\u001b[0;34m\u001b[0m\u001b[0;34m\u001b[0m\u001b[0m\n",
            "\u001b[0;32m/usr/local/lib/python3.7/dist-packages/google/colab/output/_js.py\u001b[0m in \u001b[0;36meval_js\u001b[0;34m(script, ignore_result, timeout_sec)\u001b[0m\n\u001b[1;32m     38\u001b[0m   \u001b[0;32mif\u001b[0m \u001b[0mignore_result\u001b[0m\u001b[0;34m:\u001b[0m\u001b[0;34m\u001b[0m\u001b[0;34m\u001b[0m\u001b[0m\n\u001b[1;32m     39\u001b[0m     \u001b[0;32mreturn\u001b[0m\u001b[0;34m\u001b[0m\u001b[0;34m\u001b[0m\u001b[0m\n\u001b[0;32m---> 40\u001b[0;31m   \u001b[0;32mreturn\u001b[0m \u001b[0m_message\u001b[0m\u001b[0;34m.\u001b[0m\u001b[0mread_reply_from_input\u001b[0m\u001b[0;34m(\u001b[0m\u001b[0mrequest_id\u001b[0m\u001b[0;34m,\u001b[0m \u001b[0mtimeout_sec\u001b[0m\u001b[0;34m)\u001b[0m\u001b[0;34m\u001b[0m\u001b[0;34m\u001b[0m\u001b[0m\n\u001b[0m\u001b[1;32m     41\u001b[0m \u001b[0;34m\u001b[0m\u001b[0m\n\u001b[1;32m     42\u001b[0m \u001b[0;34m\u001b[0m\u001b[0m\n",
            "\u001b[0;32m/usr/local/lib/python3.7/dist-packages/google/colab/_message.py\u001b[0m in \u001b[0;36mread_reply_from_input\u001b[0;34m(message_id, timeout_sec)\u001b[0m\n\u001b[1;32m     99\u001b[0m     \u001b[0mreply\u001b[0m \u001b[0;34m=\u001b[0m \u001b[0m_read_next_input_message\u001b[0m\u001b[0;34m(\u001b[0m\u001b[0;34m)\u001b[0m\u001b[0;34m\u001b[0m\u001b[0;34m\u001b[0m\u001b[0m\n\u001b[1;32m    100\u001b[0m     \u001b[0;32mif\u001b[0m \u001b[0mreply\u001b[0m \u001b[0;34m==\u001b[0m \u001b[0m_NOT_READY\u001b[0m \u001b[0;32mor\u001b[0m \u001b[0;32mnot\u001b[0m \u001b[0misinstance\u001b[0m\u001b[0;34m(\u001b[0m\u001b[0mreply\u001b[0m\u001b[0;34m,\u001b[0m \u001b[0mdict\u001b[0m\u001b[0;34m)\u001b[0m\u001b[0;34m:\u001b[0m\u001b[0;34m\u001b[0m\u001b[0;34m\u001b[0m\u001b[0m\n\u001b[0;32m--> 101\u001b[0;31m       \u001b[0mtime\u001b[0m\u001b[0;34m.\u001b[0m\u001b[0msleep\u001b[0m\u001b[0;34m(\u001b[0m\u001b[0;36m0.025\u001b[0m\u001b[0;34m)\u001b[0m\u001b[0;34m\u001b[0m\u001b[0;34m\u001b[0m\u001b[0m\n\u001b[0m\u001b[1;32m    102\u001b[0m       \u001b[0;32mcontinue\u001b[0m\u001b[0;34m\u001b[0m\u001b[0;34m\u001b[0m\u001b[0m\n\u001b[1;32m    103\u001b[0m     if (reply.get('type') == 'colab_reply' and\n",
            "\u001b[0;31mKeyboardInterrupt\u001b[0m: "
          ]
        }
      ]
    },
    {
      "cell_type": "code",
      "metadata": {
        "id": "gPNow_3JlMLF"
      },
      "source": [
        "img=cv2.imread('UniaoNumeravelConjNumeraveis.png')\n",
        "img=cv2.cvtColor(img,cv2.COLOR_BGR2RGB)\n",
        "plt.axis('off')\n",
        "plt.imshow(img)"
      ],
      "execution_count": null,
      "outputs": []
    },
    {
      "cell_type": "markdown",
      "metadata": {
        "id": "sr5Yo_Pl4Adp"
      },
      "source": [
        "## **43. Conjunto das partes finitas de um conjunto numerável**\n",
        "\n",
        "Seja $A$ um conjunto numerável.\n",
        "\n",
        "> (a) Mostre que o conjunto das sucessões finitas de elementos de $A$ ainda é numerável.\n",
        "\n",
        "### **Solução.**\n",
        "\n",
        "Como $A$ é um comjunto numerável $(A\\sim\\mathbb{N})$, podemos escrever\n",
        "\n",
        "$$A=\\{a_1,a_2,\\ldots\\}\\,.$$\n",
        "\n",
        "O conjunto $\\operatorname{SF}_A$ das sucessões finitas de $A$ é\n",
        "\n",
        "$$\\operatorname{SF}_A=\\big\\{(a_{i_1},a_{i_2},\\ldots,a_{i_n})\\,\\big|\\, n\\in\\mathbb{N},\\, a_{i_k}\\in A\\,,\\,\\forall\\, 1\\le k\\le n\\big\\}\\,.$$\n",
        "\n",
        "O conjunto das sucessões $(a_{i_1})$ de tamanho $1$ será denotado por $\\operatorname{SF}_A^1$, o conjunto das sucessões $(a_{i_1},a_{i_2})$ de tamanho $2$ será denotado por $\\operatorname{SF}_A^2$ e assim sucessivamente. Portanto, temos que\n",
        "\n",
        "$$\\operatorname{SF}_A=\\operatorname{SF}_A^1\\cup\\operatorname{SF}_A^2\\cup\\cdots\\cup\\operatorname{SF}_A^n\\cup\\cdots=\\bigcup_{n\\in\\mathbb{N}}\\operatorname{SF}_A^n\\,.$$\n",
        "\n",
        "Claramente, $\\operatorname{SF}_A^n\\sim \\underbrace{A{\\scriptsize\\times}A{\\scriptsize\\times}\\cdots{\\scriptsize\\times}A}_{\\text{n vezes}}\\sim\\mathbb{N}$, para cada $n\\in\\mathbb{N}$. Pelo exercício $42\\,(b)$ concluimos que $\\operatorname{SF}_A\\sim\\mathbb{N}$.\n",
        "\n",
        "---\n",
        "\n",
        "> (b) Conclua que $A$ é equipotente ao conjunto das suas partes finitas, $\\mathcal{P}_F(A)$.\n",
        "\n",
        "### **Solução.**\n",
        "\n",
        "O conjunto de todos os subconjuntos (ou partes de $A$) é denotado por $\\mathcal{P}(A)$. Se só considerarmos os subconjuntos finitos de $A$ temos o conjunto das partes finitas de $A$, denotado por $\\mathcal{P}_F(A)$. Claramente, $\\mathcal{P}_F(A)\\sim\\operatorname{SF}_A$ e como $A$ pode ser identificado com $\\operatorname{SF}_A^1$, temos que $\\aleph_0=\\#A\\le\\#\\operatorname{SF}_A=\\aleph_0$ e  portanto\n",
        "\n",
        "$$A\\sim\\operatorname{SF}_A\\sim\\mathcal{P}_F(A)\\,.$$"
      ]
    },
    {
      "cell_type": "markdown",
      "metadata": {
        "id": "8CNzfPXWfCGL"
      },
      "source": [
        "## **44. Cardinalidade de $\\mathbb{Q}_n[x]$**\n",
        "\n",
        "Seja $n\\in\\mathbb{N_0}$. Mostre que o conjunto $\\mathbb{Q}_n[x]$ dos polinómios com grau menor ou igual a $n$ de $\\mathbb{Q}[x]$ é numerável.\n",
        "\n",
        "### **Solução.**\n",
        "\n",
        "Usando o exercício $43\\,(a)$, fazemos $A=\\mathbb{Q}$ (que como sabemos é numerável). O conjunto $\\mathbb{Q}_n[x]$ é claramente equipotente ao conjunto das sucessões finitas $\\operatorname{SF}_\\mathbb{Q}^n$ de tamanho $n$ e portanto é numerável.\n",
        "\n"
      ]
    },
    {
      "cell_type": "markdown",
      "metadata": {
        "id": "Uw3SFpYQDJct"
      },
      "source": [
        "## **45. Cardinalidade de $\\mathbb{Q}[x]$**\n",
        "\n",
        "Mostre que $\\mathbb{Q}[x]$ é numerável.\n",
        "\n",
        "### **Solução.**\n",
        "\n",
        "Usando mais uma vez o resultado do exercício $43\\,(a)$, segue-se facilmente que $\\mathbb{Q}[x]\\sim\\operatorname{SF}_\\mathbb{Q}$ e portanto é numerável."
      ]
    },
    {
      "cell_type": "markdown",
      "metadata": {
        "id": "t0f-s5MfEfeJ"
      },
      "source": [
        "## **46. Mais sobre cardinalidade de alguns conjuntos especiais**\n",
        "\n",
        "Seja $n\\in\\mathbb{N}$. Mostre que\n",
        "\n",
        "> (a) Todo espaço vectorial de dimensão $n$ sobre $\\mathbb{Q}$ é numerável.\n",
        "\n",
        "### **Solução.**\n",
        "\n",
        "Seja $V$ espaço vectorial de dimensão $n$ sobre $\\mathbb{Q}$ e seja $\\mathcal{B}$ uma base de $V$, digamos que\n",
        "\n",
        "$$\\mathcal{B}=\\{v_1,v_2,\\ldots,v_n\\}\\,.$$\n",
        "\n",
        "Um elemento arbitrário $v\\in V$ pode então ser escrito como\n",
        "\n",
        "$$v=q_1v_1+q_2v_2+\\cdots+q_jv_j+\\cdots+q_nv_n\\,,$$\n",
        "\n",
        "onde $q_j\\in\\mathbb{Q}$ para cada $1\\le j\\le n$. Desta forma existe claramente uma bijeção entre $V$ e $\\mathbb{Q}^n$; ou seja $V\\sim\\mathbb{Q}^n$. Como $\\mathbb{Q}^n$ é numerável concluimos que $V$ é também numerável.\n",
        "\n",
        "---\n",
        "\n",
        "> (b) O cardinal do conjunto $\\mathbb{R}_n[x]$ dos polinómios de $\\mathbb{R}[x]$ com grau menor ou igual a $n$ é igual ao cardinal de $\\mathbb{R}$.\n",
        "\n",
        "### **Solução.**\n",
        "\n",
        "O conjunto $\\mathbb{R}_n[x]$ dos polinómios de $\\mathbb{R}[x]$ com grau menor ou igual a $n$ munido das operações usuais de adição de polinómios e multiplicação por escalares em $\\mathbb{R}$ é um espaço vectorial sobre $\\mathbb{R}$. O conjunto $\\mathcal{B}=\\{1,x,x^2,\\ldots,x^n\\}$ é uma base para $\\mathbb{R}_n[x]$. Usando esta base podemos construir uma bijeção natural entre $\\mathbb{R}_n[x]$ e $\\mathbb{R}^{n+1}$,\n",
        "\n",
        "$$\\begin{array}{c}\n",
        "a_o + a_1x + \\cdots + a_nx^n \\in\\mathbb{R}_n[x] \\\\[1ex]\n",
        "\\Big\\downarrow\\\\\n",
        "\\phantom{AAA}(a_0,a_1,\\ldots,a_n) \\in\\mathbb{R}^{n+1}\n",
        "\\end{array}$$\n",
        "\n",
        "Como $\\mathbb{R}^{n+1}\\sim\\mathbb{R}$, concluimos que $\\mathbb{R}_n[x]\\sim\\mathbb{R}$ para cada $n\\in\\mathbb{N}_0$.\n",
        "\n",
        "---\n",
        "\n",
        "> (c) O cardinal do conjunto dos polinómios $\\mathbb{R}[x]$ é $2^{\\aleph_0}$.\n",
        "\n",
        "### **Solução.**\n",
        "\n",
        "Pelo exercício $46 (b)$, sabemos que $\\mathbb{R}_n[x]\\sim\\mathbb{R}$ para cada $n\\in\\mathbb{N}_0$.\n",
        "\n",
        "\n",
        "\n",
        "O conjunto dos polinómios $\\mathbb{R}[x]$ pode ser escrito como\n",
        "\n",
        "$$\\mathbb{R}[x]=\\bigcup_{n\\in\\mathbb{N_0}}\\mathbb{R}_n[x]\\,.$$\n",
        "\n",
        "Portanto pelo exercício $42 (b)$, concluimos que $\\mathbb{R}[x]\\sim\\mathbb{R}$, ou seja, $\\#\\mathbb{R}[x]=2^{\\aleph_0}$."
      ]
    },
    {
      "cell_type": "markdown",
      "metadata": {
        "id": "h0Gb1jx00Wkt"
      },
      "source": [
        "## **Definição da derivada formal de um polinómio**\n",
        "\n",
        "> Sejam $\\mathbb{K}$ um corpo e $f\\in\\mathbb{K}[x]$. Chama-se **_derivada_** (**_formal_**) de $f$ ao polinómio $f'\\in\\mathbb{K[x]}$ definido por:\n",
        ">\n",
        "> * se $f\\in\\mathbb{K}$ então $f'=0$;\n",
        ">\n",
        "> * se $n\\in\\mathbb{N}$ e $f=a_0+a_1x+\\cdots+a_nx^n$ é um polinómio em que $a_n\\neq 0$ então $f'=a_1+2a_2x+\\cdots+na_nx^{n-1}$."
      ]
    },
    {
      "cell_type": "markdown",
      "metadata": {
        "id": "3QpMOg0d27nB"
      },
      "source": [
        "## **Definição de raiz múltipla de um polinómio**\n",
        "\n",
        "> Sejam $\\mathbb{K}$ um corpo e $f\\in\\mathbb{K}[x]$. Diz-se que $a\\in\\mathbb{K}$ é uma **_raiz múltipla_** de $f$ se existe um inteiro $k\\ge 2$ tal que $(x-a)^k$ divide $f$."
      ]
    },
    {
      "cell_type": "markdown",
      "metadata": {
        "id": "z75YoEOl3vgr"
      },
      "source": [
        "## **47. Sobre raizes múltiplas e derivadas de um polinómio**\n",
        "\n",
        "Mostre que:\n",
        "\n",
        "> (a) $a\\in\\mathbb{K}$ é raiz múltipla de $f\\in\\mathbb{K}[x]$ se e só se $a$ é raiz de $f$ e de $f'$, em que $f'$ é a derivada de $f$.\n",
        ">\n",
        "> Admita conhecidas as propriedades da derivada\n",
        "> * $(f+g)'=f'+g'$;\n",
        "> * $(fg)'=f'g+fg'$;\n",
        "> * se $n>1$, $[(x-a)^n]'=n(x-a)^{n-1}$.\n",
        "\n",
        "### **Solução.**\n",
        "\n",
        "$(\\Longrightarrow)$ Se $a\\in\\mathbb{K}$ é uma raiz múltipla de $f\\in\\mathbb{K}[x]$ então existe um inteiro $k\\ge 2$ tal que $f(x)=(x-a)^k g(x)\\,,\\,\\exists\\,g(x)\\in\\mathbb{K}[x]$. Derivando formalmente $f(x)$ obtemos\n",
        "\n",
        "$$f'(x) = k(x-a)^{k-1}g(x)+(x-a)^kg'(x)\\,.$$\n",
        "\n",
        "Note-se que $f'(a)=0$ (**atenção** ao detalhe de estarmos a trabalhar com a função polinomial definida por $f$). Pelo Teorema do resto, $(x-a)$ também é divisor de $f'$.\n",
        "\n",
        "$(\\Longleftarrow)$ Partindo de $a\\in\\mathbb{K}$ raiz de $f$ e $f'$, podemos dizer que existem $g(x), h(x)\\in\\mathbb{K}[x]$ tais que\n",
        "\n",
        "$$f(x)=(x-a)g(x)\\quad\\text{e}\\quad f'(x)=(x-a)h(x)\\,.$$\n",
        "\n",
        "Como $f'(x) = g(x)+(x-a)g'(x) = (x-a)h(x)$. Isto implica que\n",
        "\n",
        "$$g(x)+(x-a)(g'(x)-h(x)) = 0\\,,$$\n",
        "\n",
        "e portanto $g(a)=0$, o que significa que $(x-a)$ divide $g$. Logo,\n",
        "\n",
        "$$f(x)=(x-a)^k j(x)\\,,$$\n",
        "\n",
        "onde $k\\ge 2\\,$ e $\\,j(x)\\in\\mathbb{K}[x]$, o que significa que $a\\in\\mathbb{K}$ é raiz múltipla de $f$.\n",
        "\n",
        "---\n",
        "\n",
        "> (b) Se $f\\in\\mathbb{K}[x]$ e $f$ e $f'$ são primos entre si, então $f$ não tem raizes múltiplas.\n",
        "\n",
        "### **Solução.**\n",
        "\n",
        "Se $a$ é raiz múltipla de $f$ então $a$ é raiz de $f$ e $f'$, pelo exercício $47 (a)$. Isto signfica que $(x-a)$ divide tanto $f$ como $f'$, o que implica que $f$ e $f'$ não são primos entre si. Isto não pode ser porque à partida $f$ e $f'$ são primos entre si. Concluimos então que $f$ não tem raizes múltiplas."
      ]
    },
    {
      "cell_type": "markdown",
      "metadata": {
        "id": "TEMbkbIGGxAf"
      },
      "source": [
        "## **48. Polinómio irredutível em $\\mathbb{Q}[x]$**\n",
        "\n",
        "Usando a definição de polinómio irredutível mostre que são irredutíveis em $\\mathbb{Q}[x]$ os polinómios:\n",
        "\n",
        "> (a) $p(x)=x^4+2x^3+x+1$.\n",
        "\n",
        "### **Solução.**\n",
        "\n",
        "Suponhamos que $p(x)$ é redutível, portanto, além dos divisores triviais (os associados $kp$ de $p$ onde $k\\in\\mathbb{Q}\\setminus\\{0\\}$ e as unidades em $\\mathbb{Q}[x]$, por outras palavras, os elementos de $\\mathbb{Q}\\setminus\\{0\\}$) existem polinómios $b(x)$ e $c(x)$ não constantes em $\\mathbb{Q}[x]$ tais que $p(x)=k\\, b(x)\\, c(x)$, com $k\\in\\mathbb{Q}$. Factorizando o mmc dos denominadores dos coeficientes racionais de $b(x)$ e $c(x)$ e multiplicando $\\frac{1}{mmc}$ por $k$, podemos assumir sem perda de generalidade que $b(x), c(x)\\in\\mathbb{Z}[x]$.\n",
        "\n",
        "**_Afirmação:_** $b(x)$, ou $c(x)$, não pode ter grau $1$.\n",
        "\n",
        "Se $a$ tiver grau $1$ teria a forma $b(x)=-b_0+b_1x$, com $b_1\\neq 0$. Sem perda de generalidade podemos trabalhar com $b(x)=-\\frac{b_0}{b_1}+x$. Isto significa que $\\frac{b_0}{b_1}$ é raiz de $p(x)$. Podemos ainda assumir que $\\operatorname{mdc}(b_0,b_1)=1$. Repare-se que $p$ é um polinómio mónico com coeficientes inteiros e cujo termo constante é não nulo. Usando o teste das raizes racionais, as possíveis raizes racionais de $p$ são inteiros divisores do termo constante de $p$, ou seja, divisores de $1$. Como os únicos inteiros divisores de $1$ são $1$ e $-1$, podemos aplicar o teorema do resto para verificar se efectivamente eles são raizes ou não de $p$. Assim, temos que\n",
        "\n",
        "$$p(1)=5\\quad\\text{e}\\quad p(-1)=-1\\,.$$\n",
        "\n",
        "Logo, $1$ e $-1$ não são raizes de $p$, o que significa que $b(x)$ não pode ser de grau $1$.\n",
        "\n",
        "**_Afirmação:_** $b(x)$, e portanto também $c(x)$, não podem ter grau 2.\n",
        "\n",
        "Se eles tiverem grau $2$ então seriam, sem perda de generalidade, da forma\n",
        "\n",
        "$$b(x)=b_2x^2+b_1x+b_0\\quad\\text{e}\\quad c(x)=c_2x^2+c_1x+c_0\\,,$$\n",
        "\n",
        "onde $b_0,b_1,b_2,c_0,c_1,c_2\\in\\mathbb{Z}$ e $b_2,c_2\\neq 0$. Temos então que\n",
        "\n",
        "$$\\begin{array}{lcl}\n",
        "x^4+2x^3+x+1 & = & (b_2x^2+b_1x+b_0)(c_2x^2+c_1x+c_0)\\\\[1ex]\n",
        "& = & b_2c_2 x^4+(b_2c_1+b_1c_2)x^3+(b_2c_0+b_1c_1+b_0c_2)x^2+(b_1c_0+b_0c_1)x+b_0c_0\n",
        "\\end{array}$$\n",
        "\n",
        "Da equação acima extraímos as seguintes equações:\n",
        "\n",
        "$$\\begin{align}\n",
        "b_2c_2 = 1 \\\\[1ex]\n",
        "b_2c_1+b_1c_2 = 2 \\\\[1ex]\n",
        "b_2c_0 +b_1c_1 + b_0c_2 = 0\\\\[1ex]\n",
        "b_1c_0+b_0c_1 = 1\\\\[1ex]\n",
        "b_0c_0=1\n",
        "\\end{align}$$\n",
        "\n",
        "Portanto, $b_0=c_0=1$ ou $b_0=c_0=-1$. Da mesma forma $b_2=c_2=1$ ou $b_2=c_2=-1$. Substituindo estes valores na segunda e na quarta equações, chegamos em qualquer caso a uma contradição. Concluimos então que $b(x)$ e $c(x)$ não podem ter grau $2$.\n",
        "\n",
        "Desta forma, temos provado que o polinómio $p(x)$ é irredutível em $\\mathbb{Q}[x]$.\n",
        "\n",
        "---\n",
        "\n",
        "> (b) $q(x)=x^4-2x^2+8x+1$.\n",
        "\n",
        "### **Solução.**\n",
        "\n",
        "Pode-se fazer um raciocínio semelhante ao exercício anterior.\n",
        "\n"
      ]
    },
    {
      "cell_type": "markdown",
      "metadata": {
        "id": "_rXECCxWYYZe"
      },
      "source": [
        "\n",
        "## Imprimir"
      ]
    },
    {
      "cell_type": "code",
      "metadata": {
        "id": "le1NBa7Nz9ZN"
      },
      "source": [
        "!wget -nc https://raw.githubusercontent.com/brpy/colab-pdf/master/colab_pdf.py\n",
        "from colab_pdf import colab_pdf\n",
        "colab_pdf('Algebra I.ipynb')\n"
      ],
      "execution_count": null,
      "outputs": []
    },
    {
      "cell_type": "markdown",
      "metadata": {
        "id": "AaAmlgZwBi1p"
      },
      "source": [
        "# **Aula 8: Teste das raizes racionais e teste de Eisenstein**\n"
      ]
    },
    {
      "cell_type": "markdown",
      "metadata": {
        "id": "4qq_by5TFITD"
      },
      "source": [
        "## **36. Polinómio primitivo associado a um polinómio em $\\mathbb{Q}[x]$**\n",
        "\n",
        "Seja  $f(x)=\\frac{2}{3}+\\frac{2}{5}x+\\frac{2}{3}x^3+\\frac{4}{5}x^4\\in\\mathbb{Q}[x]$. Determine um polinómio primitivo associado de $f(x)$.\n",
        "\n",
        "### **Solução.**\n",
        "\n",
        "Queremos é encontrar um polinómio $\\tilde{f}(x)\\in\\mathbb{Z}[x]$ cujos coeficientes sejam primos entre si e um $\\alpha\\in\\mathbb{Q}$ tal que $f(x)=\\alpha\\tilde{f}(x)$. Como $M=\\operatorname{mmc}(3,5)=15$, temos que\n",
        "\n",
        "$$f(x)=\\frac{1}{M}\\big(10+6x+10x^3+12x^4\\big).$$\n",
        "\n",
        "Como $D=\\operatorname{mdc}(10,6,12)=2$ então\n",
        "\n",
        "$$f(x)=\\frac{D}{M}\\underbrace{\\big(5+3x+5x^3+6x^4\\big)}_{\\tilde{f}(x)}$$\n",
        "\n",
        "Como $\\operatorname{mdc}(5,3,6)=1$, o polinómio $\\tilde{f}(x)$ é um polinómio primitivo associado ao polinómio $f(x)$.\n",
        "\n"
      ]
    },
    {
      "cell_type": "markdown",
      "metadata": {
        "id": "bSxzC-PAdvLe"
      },
      "source": [
        "## **${\\color{red}3\\color{red}7.}$ Polinómio irredutível em $\\mathbb{Z}_3[x]$**\n",
        "\n",
        "Seja $f(x)=x^3+2x+1\\in\\mathbb{Z}_3[x]$. Mostre que $f(x)$ é irredutível em $\\mathbb{Z}_3[x]$.\n",
        "\n",
        "### **Solução.**\n",
        "\n",
        "~Aplicando o teste das raizes racionais e adaptando-o para o nosso caso, temos que as possíveis raizes racionais de $f(x)$ são os divisores de $1$. Portanto, os candidatos são $\\pm 1$. Vemos que~\n",
        "\n",
        "$$f(1)=4\\equiv 1 \\operatorname{mod}3\\quad\\text{e}\\quad f(-1)=-2\\equiv 1\\operatorname{mod}3\\quad.$$\n",
        "\n",
        "**Nota 1:** **_O teste das raizes racionais não pode ser aplicado_** ao caso de polinómios com coeficientes num corpo finito. Seja, por exemplo, $g(x)=x^2+3\\in\\mathbb{Z}_7[x]$. Os divisores de $3$ são $\\pm 1$ e $\\pm 3$, ou seja, $1,6$ e $3,4$ em $\\mathbb{Z}_7$. Verifica-se que $g(1)=4$, $g(6)=39\\equiv 4\\operatorname{mod}7$, $g(3)=12\\equiv 5\\operatorname{mod}7$ e $g(4)=19\\equiv5\\operatorname{mod}7$. A **_ideia errada_** que podemos aplicar uma versão adaptada do teste das raizes racionais a polinómios com coeficientes num corpo finito nos leva a concluir equivocadamente que $g(x)$ não tem raizes em $\\mathbb{Z}_7$. Porém, podemos facilmente verificar que $g(2)=7\\equiv0\\operatorname{mod}7$ e $g(5)=28\\equiv0\\operatorname{mod}7$. Logo,\n",
        "\n",
        "$$g(x)=x^2+3 = (x-2)(x-5)\\quad(\\text{em }\\,\\mathbb{Z}_7[x]).$$\n",
        "\n",
        "**Nota 2:** A forma directa para sabermos se o polinómio $f(x)=x^3+2x+1\\in\\mathbb{Z}_3[x]$ tem raizes em $\\mathbb{Z}_3$ é calculando $f(0)$, $f(1)$ e $f(2)$ e ver se são iguais a zero. No nosso caso temos $f(0)=1$, $f(1)=4\\equiv 1\\operatorname{mod}3$ e $f(2)= 13\\equiv 1\\operatorname{mod}3$, portanto $f$ não tem raizes em $\\mathbb{Z}_3$.\n",
        "\n",
        "Concluimos que $f(x)$ não tem factores do tipo $(x-a)$, com $a\\in\\mathbb{Z}_3$ e em consequência também não pode ter factores do tipo $(x^2+ax+b)$. Portanto, os únicos divisores de $f(x)$ em $\\mathbb{Z}_3[x]$ são os triviais, ou seja, $f(x)$ é irredutível em $\\mathbb{Z}_3[x]$."
      ]
    },
    {
      "cell_type": "markdown",
      "metadata": {
        "id": "7emiHdnCjnMI"
      },
      "source": [
        "## **38. $\\operatorname{mdc}$ e $\\operatorname{mmc}$ em $\\mathbb{Q}[x]$**\n",
        "\n",
        "Sejam $f(x)=x^5-2x^4+5x^3-10x^2+4x-8\\,$ e $\\,g(x)=x^3-x^2+4x-4$ em $\\mathbb{Q}[x]$."
      ]
    },
    {
      "cell_type": "markdown",
      "metadata": {
        "id": "iMwBFi-EqaVN"
      },
      "source": [
        "### (a)\n",
        "\n",
        "> Calcule $d(x)=\\operatorname{mdc}(f,g)\\,$ e $\\,m(x)=\\operatorname{mmc}(f,g)$.\n",
        "\n",
        "**Solução.**\n",
        "\n",
        "Aplicamos o algoritmo de Euclides para encontrar $d(x)$. Assim, temos\n",
        "\n",
        "$$\\begin{array}{r}\n",
        "x^2-x\\phantom{)}   \\\\\n",
        "x^3-x^2+4x-4\\,\\,\\,{\\overline{\\smash{\\big|}\\,\\,\\,x^5-2x^4+5x^3-10x^2+4x-8\\phantom{)}}}\\\\\n",
        "\\underline{-x^5+x^4-4x^3+4x^2\\phantom{-bbbbbbbbi)}}\\\\\n",
        "-x^4 + x^3 -6x^2 + 4x-8\\phantom{bb)}\\\\\n",
        "\\underline{~\\phantom{()}x^4-x^3+4x^2-4x\\phantom{bbbbbb}}\\\\\n",
        "-2x^2\\phantom{bbbbb}-8\\phantom{bb)}\n",
        "\\end{array}\n",
        "\\qquad\\quad\n",
        "\\begin{array}{r}\n",
        "-\\frac{1}{2}x+\\frac{1}{2}\\phantom{)}   \\\\\n",
        "-2x^2-8\\,\\,\\,{\\overline{\\smash{\\big|}\\,\\,\\,x^3-x^2+4x-4\\phantom{)}}}\\\\\n",
        "\\underline{-x^3\\phantom{bbbbb}-4x\\phantom{bbbb)}}\\\\\n",
        "-x^2 \\phantom{bbbbb} - 4\\phantom{)}\\\\\n",
        "\\underline{~\\phantom{()}x^2 \\phantom{bbbbb}+4\\phantom{i}}\\\\\n",
        "0\\phantom{)}\n",
        "\\end{array}$$\n",
        "\n",
        "<br>\n",
        "\n",
        "$$\\begin{array}{rcl}\n",
        "\\underbrace{x^5-2x^4+5x^3-10x^2+4x-8}_{f(x)} &=& \\underbrace{(x^3-x^2+4x-4)}_{g(x)}\\underbrace{(x^2-x)}_{q_1(x)}+\\underbrace{(\\color{red}-\\color{red}2\\color{red}x^{\\color{red}2}\\color{red}-\\color{red}8)}_{r_1(x)} \\\\[2ex]\n",
        "\\underbrace{x^3-x^2+4x-4}_{g(x)} &=& \\underbrace{(-2x^2-8)}_{r_1(x)}\\underbrace{(-\\frac{1}{2}x+\\frac{1}{2})}_{q_2(x)}+\\underbrace{0}_{r_2(x)}\n",
        "\\end{array}$$\n",
        "\n",
        "<br>\n",
        "\n",
        "O último resto não nulo é $-2x^2-8 = -2(x^2+4)$. Logo, $d=\\operatorname{mdc}(f,g)=x^2+4$.\n",
        "\n"
      ]
    },
    {
      "cell_type": "code",
      "metadata": {
        "id": "NxyGN-4Wasbc"
      },
      "source": [
        "# import sympy\n",
        "from sympy import *\n",
        "f,g,x = symbols(\"f g x\")\n",
        "f = x**5 - 2*x**4 + 5*x**3 - 10*x**2 + 4*x -8\n",
        "g = x**3 - x**2 + 4*x - 4\n",
        "# Using sympy.gcd() method\n",
        "mdc = gcd(f, g)\n",
        "print(\"f(x)= \",f)\n",
        "print(\"g(x)= \",g)\n",
        "print(\"\\nmdc(f,g)= \", mdc)"
      ],
      "execution_count": null,
      "outputs": []
    },
    {
      "cell_type": "markdown",
      "metadata": {
        "id": "iHtzOnT_ie3P"
      },
      "source": [
        "Para encontrar o $\\operatorname{mmc}(f,g)$ podemos usar, por exemplo, a propriedade seguinte\n",
        "\n",
        "$$fg=adm\\,,$$\n",
        "\n",
        "onde $a\\in\\mathbb{Q}\\setminus\\{0\\}\\,\\,$,  $\\,\\,d=\\operatorname{mdc}(f,g)\\,\\,$ e $\\,\\,m=\\operatorname{mmc}(f,g)$."
      ]
    },
    {
      "cell_type": "code",
      "metadata": {
        "id": "MbZpYR7liThC"
      },
      "source": [
        "import numpy as np\n",
        "f = np.array([1,-2,5,-10,4,-8])\n",
        "g = np.array([1,-1,4,-4])\n",
        "\n",
        "produto = np.polymul(f, g)\n",
        "\n",
        "print(\"produto : \", produto)"
      ],
      "execution_count": null,
      "outputs": []
    },
    {
      "cell_type": "markdown",
      "metadata": {
        "id": "2OPYOrrYmLxj"
      },
      "source": [
        "Assim, temos que $fg=x^8-3x^7+11x^6-27x^5+42x^4-72x^3+64x^2-48x+32$. E dividindo $fg$ por $d$ obtemos"
      ]
    },
    {
      "cell_type": "code",
      "metadata": {
        "id": "u2x-bSqOnIEN"
      },
      "source": [
        "import numpy as np\n",
        "f = np.array([1,-3,11,-27,42,-72,64,-48,32])\n",
        "g = np.array([1,0,4])\n",
        "\n",
        "quociente, resto = np.polydiv(f, g)\n",
        "\n",
        "print(\"quociente : \", quociente)\n",
        "print(\"resto: \", resto)"
      ],
      "execution_count": null,
      "outputs": []
    },
    {
      "cell_type": "markdown",
      "metadata": {
        "id": "HXArnFBzoNea"
      },
      "source": [
        "Como o resultado de dividir $fg$ por $d$ já é um polinómio mónico, o mínimo múltiplo comum de $f$ e $g$ é $m=\\operatorname{mmc}(f,g)=x^6-3x^5+7x^4-15x^3+14x^2-12x+8$."
      ]
    },
    {
      "cell_type": "markdown",
      "metadata": {
        "id": "42IjVK2Hp6G1"
      },
      "source": [
        "### (b)\n",
        "\n",
        "> $d(x)$ é irredutível em $\\mathbb{Q}[x]$?\n",
        "\n",
        "**Solução.**\n",
        "\n",
        "Como $d(x)=x^2+4$ e o discriminante dele é $0-4\\cdot 1\\cdot 4=-16<0$, concluimos que $d$ é irredutível em $\\mathbb{Q}[x]$."
      ]
    },
    {
      "cell_type": "markdown",
      "metadata": {
        "id": "yv3FSCjQtipd"
      },
      "source": [
        "## **39. Algoritmo de Euclides**\n",
        "\n",
        "Use o algoritmo de Euclides para calcular $d=\\operatorname{mdc}(f,g)$ e escreva $d$ na forma $d=fu+gv$, sendo\n",
        "\n",
        "> (a) $f(x)=x^4-x^3-x^2+1\\,$ e $\\,g(x)=x^3-1$ em $\\mathbb{Q}[x]$\n",
        "\n",
        "### **Solução.**\n",
        "\n",
        "Podemos facilmente verificar que $1$ é raiz de $f$ e $g$. Temos\n",
        "\n",
        "$$\\begin{array}{c | r}\n",
        "& 1\\hspace{1cm} -1\\hspace{1cm} -1\\hspace{1cm} 0\\hspace{1cm} 1   \\\\\n",
        "\\hline\n",
        "1 & \\\\\n",
        "  & 1\\hspace{1.4cm} 0\\hspace{0.7cm} -1\\hspace{0.3cm}-1\\\\\n",
        "\\hline\n",
        " & 1 \\hspace{1.5cm} 0\\hspace{0.8cm} -1\\hspace{0.7cm} -1\\hspace{0.9cm} {\\color{red}0}   \n",
        "\\end{array}$$\n",
        "\n",
        "<br>\n",
        "\n",
        "$$f(x)=(x-1)(x^3-x-1)\\quad\\text{e}\\quad g(x)=(x-1)(x^2+x+1)$$\n",
        "\n",
        "Pode-se verificar, usando o algoritmo da divisão, que $\\operatorname{mdc}(x^3-x-1,\\,\\, x^2+x+1)=1$ e portanto $d=\\operatorname{mdc}(f,g)=x-1$. Para encontrar os polinómios $u(x)$ e $v(x)$ tais que $d=fu+gv$, temos mesmo de usar os polinómios $f(x)\\,$ e $\\,g(x)$ diretamente no algoritmo de Euclides. Vamos a isso (ver cálculos auxiliares mais abaixo).\n",
        "\n",
        "$$\\begin{array}{rcl}\n",
        "\\underbrace{x^4-x^3-x^2+1}_{f(x)} &=& \\underbrace{(x^3-1)}_{g(x)}\\underbrace{(x-1)}_{q_1(x)}+\\underbrace{(-x^2+x)}_{r_1(x)} \\\\[1ex]\n",
        "\\underbrace{x^3-1}_{g(x)} &=& \\underbrace{(-x^2+x)}_{r_1(x)}\\underbrace{(-x-1)}_{q_2(x)})+\\underbrace{(\\color{red}x\\color{red}-\\color{red}1)}_{r_2(x)}\\\\[1ex]\n",
        "\\underbrace{(-x^2+x)}_{r_1(x)} &=& \\underbrace{(x-1)}_{r_2(x)}\\underbrace{(-x)}_{q_3(x)}+\\underbrace{0}_{r_3(x)}\n",
        "\\end{array}$$\n",
        "\n",
        "<br>\n",
        "\n",
        "Portanto, $\\operatorname{mdc}(f,g)=r_2(x)=x-1$ e podemos facilmente escrever o $\\operatorname{mdc(f,g)}$ como combinação linear de $f$ e $g$ da seguinte forma:\n",
        "\n",
        "$$\\begin{array}{rcl}\n",
        "g &=& (f-gq_1)q_2 + r_2 \\\\[1ex]\n",
        "g &=& (fq_2-gq_1q_2)+r_2 \\\\[1ex]\n",
        "-q_2\\,f + (1+q_1q_2)\\,g &=& r_2\n",
        "\\end{array}$$\n",
        "\n",
        "<br>\n",
        "\n",
        "Sejam $u(x)=-q_2(x)\\,$ e $\\,\\,v(x)=1+q_1(x)q_2(x)$. Temos então\n",
        "\n",
        "$$u(x)=x+1\\quad\\text{e}\\quad v(x)=2-x^2\\,.$$\n",
        "\n",
        "Desta forma, podemos escrever $d=uf+vg$; explicitamente\n",
        "\n",
        "$$x-1 = (x+1)(x^4-x^3-x^2+1)+(2-x^2)(x^3-1)\\,.$$\n",
        "\n",
        "---\n",
        "\n",
        "> (b) $f(x)=x^4+3x^3+2x+4\\,$ e $\\,g(x)=x^2-1$ em $\\mathbb{Z}_5[x]$.\n",
        "\n",
        "### **Solução.**\n",
        "\n",
        "Facilmente verificamos (ver cálculos auxiliares mais abaixo) que $g(x)$ é divisor de $f(x)$. Como $g(x)\\,$ é mónico, concluimos que $d=\\operatorname{mdc}(f,g)=g$, que pode ser escrito na forma\n",
        "\n",
        "$$d=f\\cdot 0 + g\\cdot 1\\quad.$$"
      ]
    },
    {
      "cell_type": "markdown",
      "metadata": {
        "id": "XC72OAztJybT"
      },
      "source": [
        "Cálculos auxiliares para a parte (a)"
      ]
    },
    {
      "cell_type": "code",
      "metadata": {
        "colab": {
          "base_uri": "https://localhost:8080/"
        },
        "id": "sH5AQFNovIbc",
        "outputId": "e26d9a63-9c78-4e1b-95a3-cc946e01f062"
      },
      "source": [
        "import numpy as np\n",
        "f = np.array([1,-1,-1,0,1])\n",
        "g = np.array([1,0,0,-1])\n",
        "\n",
        "quociente, resto = np.polydiv(f, g)\n",
        "\n",
        "print(\"quociente : \", quociente)\n",
        "print(\"resto: \", resto)"
      ],
      "execution_count": null,
      "outputs": [
        {
          "output_type": "stream",
          "name": "stdout",
          "text": [
            "quociente :  [ 1. -1.]\n",
            "resto:  [-1.  1.  0.]\n"
          ]
        }
      ]
    },
    {
      "cell_type": "code",
      "metadata": {
        "colab": {
          "base_uri": "https://localhost:8080/"
        },
        "id": "XpLgCq13zTwi",
        "outputId": "90e7ba55-122e-49d4-b28f-5466be8d448b"
      },
      "source": [
        "import numpy as np\n",
        "f = np.array([1,0,0,-1])\n",
        "g = np.array([-1,1,0])\n",
        "\n",
        "quociente, resto = np.polydiv(f, g)\n",
        "\n",
        "print(\"quociente : \", quociente)\n",
        "print(\"resto: \", resto)"
      ],
      "execution_count": null,
      "outputs": [
        {
          "output_type": "stream",
          "name": "stdout",
          "text": [
            "quociente :  [-1. -1.]\n",
            "resto:  [ 1. -1.]\n"
          ]
        }
      ]
    },
    {
      "cell_type": "code",
      "metadata": {
        "id": "Tw0vzyMG93Ui",
        "colab": {
          "base_uri": "https://localhost:8080/"
        },
        "outputId": "9147ad32-7de8-42cb-9882-d3783c696e17"
      },
      "source": [
        "# import sympy\n",
        "from sympy import *\n",
        "f,g,x = symbols(\"f g x\")\n",
        "f = x**4 - x**3 - x**2 + 1\n",
        "g = x**3 - 1\n",
        "# Using sympy.gcd() method\n",
        "mdc = gcd(f, g)\n",
        "print(\"f(x)= \",f)\n",
        "print(\"g(x)= \",g)\n",
        "print(\"\\nmdc(f,g)= \", mdc)"
      ],
      "execution_count": null,
      "outputs": [
        {
          "output_type": "stream",
          "name": "stdout",
          "text": [
            "f(x)=  x**4 - x**3 - x**2 + 1\n",
            "g(x)=  x**3 - 1\n",
            "\n",
            "mdc(f,g)=  x - 1\n"
          ]
        }
      ]
    },
    {
      "cell_type": "code",
      "metadata": {
        "id": "9P-sOprvKCVd",
        "colab": {
          "base_uri": "https://localhost:8080/"
        },
        "outputId": "18752806-b0c2-4a6b-d2a6-cb64a0f64d2a"
      },
      "source": [
        "# import sympy\n",
        "from sympy import *\n",
        "f,g,x = symbols(\"f g x\")\n",
        "f = x**3 - x - 1\n",
        "g = x**2 + x + 1\n",
        "# Using sympy.gcd() method\n",
        "mdc = gcd(f, g)\n",
        "print(\"f(x)= \",f)\n",
        "print(\"g(x)= \",g)\n",
        "print(\"\\nmdc(f,g)= \", mdc)"
      ],
      "execution_count": null,
      "outputs": [
        {
          "output_type": "stream",
          "name": "stdout",
          "text": [
            "f(x)=  x**3 - x - 1\n",
            "g(x)=  x**2 + x + 1\n",
            "\n",
            "mdc(f,g)=  1\n"
          ]
        }
      ]
    },
    {
      "cell_type": "markdown",
      "metadata": {
        "id": "qkXxJPxDy8yj"
      },
      "source": [
        "Cálculos auxiliares para a parte (b)"
      ]
    },
    {
      "cell_type": "code",
      "metadata": {
        "id": "YiwaudDS5s7O",
        "colab": {
          "base_uri": "https://localhost:8080/"
        },
        "outputId": "de2a136e-91ce-4b8e-8026-57fd0943bf67"
      },
      "source": [
        "import numpy as np\n",
        "f = np.array([1,3,0,2,4])\n",
        "g = np.array([1,0,-1])\n",
        "\n",
        "quociente, resto = np.polydiv(f, g)\n",
        "\n",
        "print(\"quociente : \", quociente)\n",
        "print(\"resto: \", resto)"
      ],
      "execution_count": null,
      "outputs": [
        {
          "output_type": "stream",
          "name": "stdout",
          "text": [
            "quociente :  [1. 3. 1.]\n",
            "resto:  [5. 5.]\n"
          ]
        }
      ]
    },
    {
      "cell_type": "markdown",
      "metadata": {
        "id": "HY_3gQqHMxIY"
      },
      "source": [
        "## **49. Teste da raiz racional**\n",
        "\n",
        "Use o teste da raiz racional para escrever cada um dos polinómios que se segue como produto de polinómios irredutíveis em $\\mathbb{Q}[x]$:\n"
      ]
    },
    {
      "cell_type": "markdown",
      "metadata": {
        "id": "pXxyO3HvNclg"
      },
      "source": [
        "### (b)\n",
        "\n",
        "> $f(x)=3x^5+2x^4-7x^3+2x^2$\n",
        "\n",
        "**Solução.**\n",
        "\n",
        "Podemos escrever $f(x)=x^2(3x^3+2x^2-7x+2)$ e aplicar o teste da raiz racional ao polinómio $g(x)=3x^3+2x^2-7x+2$.\n",
        "\n",
        "Os divisores de $2$ sâo: $r=\\pm 1, \\pm 2$ e os divisores de $3$ são: $s=\\pm 1, \\pm 3$. Portanto, as possíveis raizes racionais são: $\\frac{r}{s}=\\pm 1, \\pm \\frac{1}{3}, \\pm 2, \\pm \\frac{2}{3}$.\n",
        "\n",
        "* $g(1)=0$, logo $1$ é raiz de $g(x)$.\n",
        "\n",
        "* $g(-1)=8$, logo $-1$ não é raiz de $g(x)$.\n",
        "\n",
        "* $g(\\frac{1}{3})=0$, logo $\\frac{1}{3}$ é raiz de $g(x)$.\n",
        "\n",
        "* $g(-2)=0$, logo $-2$ é raiz de $g(x)$.\n",
        "\n",
        "Podemos então escrever $g(x)=3(x-1)(x-\\frac{1}{3})(x+2)$ e em consequência escrever $f(x)$ como produto de polinómios irredutíveis em $\\mathbb{Q}[x]$ da seguinte forma\n",
        "\n",
        "$$f(x)=3x^2(x-1)(x-\\tfrac{1}{3})(x+2)\\,.$$"
      ]
    },
    {
      "cell_type": "markdown",
      "metadata": {
        "id": "4nnmDfV4VqL2"
      },
      "source": [
        "## **50. Teste de Eisenstein**\n",
        "\n",
        "Use o teste de Eisenstein para mostrar que cada um dos polinómios que se segue é irredutível em $\\mathbb{Q}[x]:$\n",
        "\n",
        "> (a)  $f(x)=10-15x+25x^2-7x^4$.\n",
        "\n",
        "**Solução.**\n",
        "\n",
        "Claramente podemos identificar o número primo $p=5$ tal que $p\\mid 10,\\quad p\\mid -15,\\quad p\\mid 25,\\quad p\\mid 0\\quad$ e $\\quad p\\nmid -7\\quad$ e $\\quad p^2\\nmid 10$.\n",
        "\n",
        "Logo, o polinómio $f(x)$ é irredutível em $\\mathbb{Q}[x]$."
      ]
    },
    {
      "cell_type": "markdown",
      "metadata": {
        "id": "cYl6Trn_Zx_F"
      },
      "source": [
        "## **51. Redução mod p**\n",
        "\n",
        "**Proposição.** Sejam $p>1$ primo e $f(x)=a_kx^k+\\cdots+a_1x+a_0\\in\\mathbb{Z}[x]$, $a_k\\neq 0$. Seja $\\tilde{f}(x)=\\widetilde{a_k}x^k+\\cdots+\\widetilde{a_1}x+\\widetilde{a_0}\\in\\mathbb{Z}_p[x]$ (sendo $\\tilde{a}=[a]_p$ para cada $a\\in\\mathbb{Z}$). Supondo que $f$ é primitivo e que $f$ e $\\tilde{f}$ são polinómios com o mesmo grau, tem-se que\n",
        "\n",
        "$$ \\text{se}\\,\\, \\tilde{f}(x)\\in\\mathbb{Z}_p[x]\\,\\, \\text{for irredutível}\\quad\\Longrightarrow\\quad f(x)\\,\\, \\text{é irredutível em}\\,\\, \\mathbb{Q}[x]\\,.$$\n",
        "\n",
        "Determine um primo $p$ de modo que $\\tilde{f}(x)$ seja irredutível em $\\mathbb{Z}_p[x]$ (consequentemente $f(x)$ é irredutível em $\\mathbb{Q}[x]$), sendo\n",
        "\n",
        "> (b) $f(x)=9x^4+4x^3-3x+7$.\n",
        "\n",
        "**Solução.**\n",
        "\n",
        "Consideremos $p=2$. O polinómio correspondente mod $p$ é $\\tilde{f}(x)=x^4+x+1$, uma vez que $1=[9]_2, 0=[4]_2, 1=[-3]_2$ e $1=[7]_2$.\n",
        "\n",
        "Pelo teste das raizes racionais adaptado ao nosso caso, a única raiz possível de $\\tilde{f}(x)$ é $1$, mas como $\\tilde{f}(1)=1=[3]_2$, concluimos que $1$ não é raiz de $\\tilde{f}(x)$ em $\\mathbb{Z}_2[x]$ e portanto não existe divisor de $\\tilde{f}(x)$ de grau $1$ em $\\mathbb{Z}_2[x]$, e em consequência também não tem divisor de grau $3$.\n",
        "\n",
        "**Afirmação:** $\\tilde{f}(x)$ não tem divisores de grau $2$ (**exercício**).\n",
        "\n",
        "Em consequência, $\\tilde{f}(x)$ é irredutível em $\\mathbb{Z}_2[x]$ e pela proposição, $f(x)$ é irredutível em $\\mathbb{Q}[x]$."
      ]
    },
    {
      "cell_type": "markdown",
      "metadata": {
        "id": "WPDxdnE_6ZH-"
      },
      "source": [
        "## **52. O recíproco da proposição anterior não se cumpre**\n",
        "\n",
        "> Dê exemplo de um polinómio, de coeficientes inteiros, irredutível em $\\mathbb{Q}[x]$ mas redutível em $\\mathbb{Z}_p[x]$, com $p=2,3,5$.\n",
        "\n",
        "### **Solução.**\n",
        "\n",
        "Vamos construir um polinómio usando as condições do teste de Eisenstein para garantir que é irredutível em $\\mathbb{Q}[x]$ mas de tal forma que a versão modular $\\tilde{f}$ de $f$ seja redutível. Como $\\operatorname{mmc}(2,3,5)=30$ então seja, por exemplo $f(x)=x^3+30x^2+30x+30$. Verifica-se que\n",
        "\n",
        "* $2\\mid 30,\\quad 2\\mid 30,\\quad 2\\mid 30,\\quad \\text{e}\\quad 2\\nmid 1,\\quad 2^2\\nmid 30$.\n",
        "\n",
        "* $3\\mid 30,\\quad 3\\mid 30,\\quad 3\\mid 30,\\quad \\text{e}\\quad 3\\nmid 1,\\quad 3^2\\nmid 30$.\n",
        "\n",
        "* $5\\mid 30,\\quad 5\\mid 30,\\quad 5\\mid 30,\\quad \\text{e}\\quad 5\\nmid 1,\\quad 5^2\\nmid 30$.\n",
        "\n",
        "Note-se que $\\tilde{f}(x)=x^3$, que é claramente redutível em $\\mathbb{Z}_p[x]$, com $p=2,3,5$.\n",
        "\n"
      ]
    },
    {
      "cell_type": "markdown",
      "metadata": {
        "id": "EpgFkqsarkTC"
      },
      "source": [
        "## **53. Polinómios irredutíveis em $\\mathbb{Q}[x]$**\n",
        "\n",
        "Diga, justificando, se cada um dos polinómios que se seguem é irredutível em $\\mathbb{Q}[x]$:\n",
        "\n",
        "> (a) $2x^5-27x^2+3$.\n",
        "\n",
        "### **Solução.**\n",
        "\n",
        "Irredutível. Aplicar o teste de Eisenstein com $p=3$.\n",
        "\n",
        "> (b) $2x^2-3x+4$.\n",
        "\n",
        "### **Solução.**\n",
        "\n",
        "Irredutível. O discriminante da expressão quadrática indicada é negativo.\n",
        "\n",
        "> (c) $2x^4+x^3-8x^2+x-10$.\n",
        "\n",
        "### **Solução.**\n",
        "\n",
        "Redutível. Aplicar o teste das raizes racionais e verificar, por exemplo, que $2$ é raiz.\n",
        "\n",
        "> (d) $x^4+9$.\n",
        "\n",
        "### **Solução.**\n",
        "\n",
        "Irredutível. O gráfico de $f(x)=x^4+9$ não corta o eixo horizontal $x$.\n"
      ]
    },
    {
      "cell_type": "markdown",
      "metadata": {
        "id": "yyMBCR7vWmY0"
      },
      "source": [
        "# **Aula 9: Mais exercícios sobre polinómios**"
      ]
    },
    {
      "cell_type": "markdown",
      "metadata": {
        "id": "FfwHdzzdW2VG"
      },
      "source": [
        "## **54. Uma técnica útil para determinar a irredutibilidade de um polinómio**\n",
        "\n",
        "Sejam $\\mathbb{K}$ um corpo e $f(x)\\in\\mathbb{K}[x]\\setminus\\mathbb{K}$.\n",
        "\n",
        "> (a) Mostre que, se $c\\in\\mathbb{K}$ e $f(x+c)$ é irredutível então $f(x)$ é irredutível.\n",
        "\n",
        "### **Solução.**\n",
        "\n",
        "Definamos $T_c:\\mathbb{K}[x]\\to\\mathbb{K}[x]$ via $T_c(f(x))=f(x+c)$. O morfismo $T_c$ é claramente uma bijeção, portanto é um isomorfismo. Logo, se $f(x+c)$ é irredutível em $\\mathbb{K}[x]$ então $f(x)$ é também irredutível em $\\mathbb{K}[x]$.\n",
        "\n",
        "---\n",
        "\n",
        "> (b) Seja $f(x)=x^4+4x+1\\in\\mathbb{Q}[x]$.\n",
        "> * Use o teste de Eisenstein para verificar que $f(x+1)$ é irredutível em $\\mathbb{Q}[x]$.\n",
        "\n",
        "### **Solução.**\n",
        "\n",
        "$$\\begin{array}{lcl}\n",
        "f(x+1) &=& (x+1)^4+4(x+1)+1 \\\\[1ex]\n",
        "&=& (x+1)\\big((x+1)^3+4\\big)+1 \\\\[1ex]\n",
        "&=& (x+1)(x^3+3x^2+3x+5)+1 \\\\[1ex]\n",
        "&=& x^4+4x^3+6x^2+8x+6\n",
        "\\end{array}$$\n",
        "\n",
        "Podemos ver que $p=2\\mid 6, 8, 6, 4$ mas $2\\nmid 1$ e $2^2\\nmid 6$. Pelo teste de Eisenstein, concluimos que $f(x+1)$ é irredutível.\n",
        "\n",
        "> * Conclua que $f(x)$ é irredutível em $\\mathbb{Q}[x]$.\n",
        "\n",
        "### **Solução.**\n",
        "\n",
        "Segue-se da parte (a) do exercício $54$."
      ]
    },
    {
      "cell_type": "markdown",
      "metadata": {
        "id": "Q7H_enK4jpJt"
      },
      "source": [
        "## **55.**\n",
        "\n",
        "> (a) Seja $p$ primo e seja $f(x)=x^{p-1}+x^{p-2}+\\cdots+x+1\\in\\mathbb{Q}[x]$.\n",
        ">\n",
        "> * Verifique que $(x-1)f(x)=x^p-1$ e, portanto, $xf(x+1)=(x+1)^p-1$.\n",
        "\n",
        "### **Solução.**\n",
        "\n",
        "Claramente, $xf(x)=x^{p}+x^{p-1}+\\cdots+x^2+x$. Logo,\n",
        "\n",
        "$$\\begin{align}\n",
        "xf(x)-f(x) &= x^{p}+x^{p-1}+\\cdots+x^2+x \\\\[1ex]\n",
        "& \\hspace{1.15cm} - x^{p-1}-\\cdots-x^2-x-1\\\\[1ex]\n",
        "(x-1)f(x)&=x^p-1\\,.\n",
        "\\end{align}\n",
        "$$\n",
        "\n",
        "> * Use a expansão binomial de $(x+1)^p$ para concluir que $p$ divide todos os coeficientes do polinómio $f(x+1)$ excepto o seu coeficiente director.\n",
        "\n",
        "### **Solução.**\n",
        "\n",
        "Usando a fórmula binomial temos que\n",
        "\n",
        "$$(x+1)^p = \\sum_{k=0}^p \\binom{p}{k}x^k\\,.$$\n",
        "\n",
        "Como $p!=p(p-1)\\cdots2.1$ e o coeficiente binomial é um número inteiro,\n",
        "\n",
        "$$\\binom{p}{k} = \\frac{p!}{k!(p-k)!}\\in\\mathbb{Z}\\,,$$\n",
        "\n",
        "segue-se que $p$ divide todos os coeficientes de $(x+1)^p$ excepto o coeficiente de $x^p$ e o termo constante de $(x+1)^p$ (são $1$).\n",
        "\n",
        "Repare-se que pelo exercício anterior\n",
        "\n",
        "$$\\begin{align}\n",
        "xf(x+1) &= (x+1)^p-1\\\\[1ex]\n",
        "        &= \\binom{p}{0}+\\binom{p}{1}x+\\cdots+\\binom{p}{p-1}x^{p-1}+\\binom{p}{p}x^p - 1\\\\[1ex]\n",
        "        &=\\binom{p}{1}x+\\binom{p}{2}x^2\\cdots+\\binom{p}{p-1}x^{p-1}+\\binom{p}{p}x^p\\,,\n",
        "\\end{align}$$\n",
        "\n",
        "e portanto\n",
        "\n",
        "$$\\begin{align}\n",
        "f(x+1) &= \\binom{p}{1}+\\binom{p}{2}x+\\cdots+\\binom{p}{p-1}x^{p-2}+\\binom{p}{p}x^{p-1}\\\\[1ex]\n",
        "       &= p+\\frac{p(p-1)}{2}x+\\cdots+px^{p-2}+x^{p-1}\\,,\n",
        "\\end{align}$$\n",
        "\n",
        "ou seja, fica em evidência que $p$ divide todos os coeficientes de $f(x+1)$ excepto o seu coeficiente director.\n",
        "\n",
        "> * Use o teste de Eisenstein para verificar que $f(x+1)$ é irredutível em $\\mathbb{Q}[x]$.\n",
        "\n",
        "### **Solução.**\n",
        "\n",
        "Como $p$ divide todos os coeficientes de $f(x+1)$ excepto o seu coeficiente director e ainda $p^2\\nmid p$, pelo teste de Eisenstein concluimos que o polinómio $f(x+1)$ é irredutível em $\\mathbb{Q}[x]$.\n",
        "\n",
        "> * Conclua que $f(x)$ é irredutível em $\\mathbb{Q}[x]$.\n",
        "\n",
        "### **Solução.**\n",
        "\n",
        "Pelo exercício $54$(a), segue-se que $f(x)$ é irredutível em $\\mathbb{Q}[x]$.\n",
        "\n",
        "> (b) Mostre que $f(x)=x^4+x^3+x^2+x+1$ é irredutível em $\\mathbb{Q}[x]$.\n",
        "\n",
        "### **Solução.**\n",
        "\n",
        "Aplicar a parte (a) deste exercício com $p=5$."
      ]
    },
    {
      "cell_type": "markdown",
      "metadata": {
        "id": "a1vgH5Ue18-q"
      },
      "source": [
        "## **56.**\n",
        "\n",
        "Considere os polinómios de $\\mathbb{R}[x]$\n",
        "\n",
        "$$f(x)=x^4-x^3-2x^2+3x-1\\quad\\text{e}\\quad g(x)=x^3+x^2-x-1\\,.$$\n",
        "\n",
        "Determine $\\operatorname{mdc}(f,g)$ e $\\operatorname{mmc}(f,g)$.\n",
        "\n",
        "[Recorde que se $\\mathbb{K}$ é um corpo e $f,g$ são polinómios mónicos então $f\\cdot g=\\operatorname{mdc}(f,g)\\cdot\\operatorname{mmc}(f,g)$.]\n",
        "\n",
        "### **Solução.**\n",
        "\n",
        "Usando o algoritmo de Euclides ou alguma biblioteca python para computação simbólica, podemos calcular facilmente o $\\operatorname{mdc}(f,g)$ e o $\\operatorname{mmc}(f,g)$. Usando as bibliotecas sympy e numpy (ver cálculos abaixo) obtemos\n",
        "\n",
        "$$\\begin{align}\n",
        "\\operatorname{mdc}(f,g) &= x-1\\\\[1ex]\n",
        "              f\\cdot g  &= x^7 - 4x^5 + x^4 + 5x^3 - 2x^2 - 2x + 1\\\\[1ex]\n",
        "\\operatorname{mmc}(f,g) &= x^6 + x^5 - 3x^4 - 2x^3 + 3x^2 + x - 1\n",
        "\\end{align}$$\n",
        "\n"
      ]
    },
    {
      "cell_type": "code",
      "metadata": {
        "colab": {
          "base_uri": "https://localhost:8080/"
        },
        "id": "Rb9i3im7iydw",
        "outputId": "0ee02bce-fe98-4863-8bbb-3bc08a1fb8de"
      },
      "source": [
        "# mdc\n",
        "# import sympy\n",
        "from sympy import *\n",
        "f,g,x = symbols(\"f g x\")\n",
        "f = x**4 - x**3 - 2*x**2 + 3*x - 1\n",
        "g = x**3 + x**2 - x - 1\n",
        "# Using sympy.gcd() method\n",
        "mdc = gcd(f, g)\n",
        "print(\"f(x)= \",f)\n",
        "print(\"g(x)= \",g)\n",
        "print(\"\\nmdc(f,g)= \", mdc)"
      ],
      "execution_count": null,
      "outputs": [
        {
          "output_type": "stream",
          "name": "stdout",
          "text": [
            "f(x)=  x**4 - x**3 - 2*x**2 + 3*x - 1\n",
            "g(x)=  x**3 + x**2 - x - 1\n",
            "\n",
            "mdc(f,g)=  x - 1\n"
          ]
        }
      ]
    },
    {
      "cell_type": "code",
      "metadata": {
        "colab": {
          "base_uri": "https://localhost:8080/"
        },
        "id": "mkb88I-3mRGv",
        "outputId": "5c8be259-50e3-4087-b5d3-97967d99cf38"
      },
      "source": [
        "# f.g\n",
        "import numpy as np\n",
        "f = np.array([1,-1,-2,3,-1])\n",
        "g = np.array([1,1,-1,-1])\n",
        "\n",
        "produto = np.polymul(f, g)\n",
        "\n",
        "print(\"produto : \", produto)"
      ],
      "execution_count": null,
      "outputs": [
        {
          "output_type": "stream",
          "name": "stdout",
          "text": [
            "produto :  [ 1  0 -4  1  5 -2 -2  1]\n"
          ]
        }
      ]
    },
    {
      "cell_type": "code",
      "metadata": {
        "colab": {
          "base_uri": "https://localhost:8080/"
        },
        "id": "-Aw9WOaPoHWm",
        "outputId": "c6bbe06f-97e0-43a5-8003-8e7adc211865"
      },
      "source": [
        "# mmc, usando o algoritmo da divisão\n",
        "import numpy as np\n",
        "f = np.array([1,0,-4,1,5,-2,-2,1])\n",
        "g = np.array([1,-1])\n",
        "\n",
        "quociente, resto = np.polydiv(f, g)\n",
        "\n",
        "print(\"quociente : \", quociente)\n",
        "print(\"resto: \", resto)"
      ],
      "execution_count": null,
      "outputs": [
        {
          "output_type": "stream",
          "name": "stdout",
          "text": [
            "quociente :  [ 1.  1. -3. -2.  3.  1. -1.]\n",
            "resto:  [0.]\n"
          ]
        }
      ]
    },
    {
      "cell_type": "markdown",
      "metadata": {
        "id": "DmNy88pH-BvE"
      },
      "source": [
        "## **57.**\n",
        "\n",
        "> (a) Em $\\mathbb{Q}[x]$ considere o polinómio $g(x)=x^5-2x^4+5x^3-3x^2+6$. Sabendo que $1-i$ é raiz de $g(x)$, decomponha $g(x)$ em factores irredutíveis de $\\mathbb{Q}[x]$.\n",
        "\n",
        "### **Solução.**\n",
        "\n",
        "Como $a=1-i$ é raiz de $g(x)$ então $\\bar{a}=1+i$ é também raiz de $g(x)$. Isto significa que $(x-1+i)$ e $(x-1-i)$ são factores de $g(x)$, obviamente não em $\\mathbb{Q}[x]$, e portanto\n",
        "\n",
        "$$\\begin{align}\n",
        "\\big(x-(1-i)\\big)\\big(x-(1+i)\\big) &= x^2 - (1-i+1+i)x + (1-i)(1+i) \\\\[1ex]\n",
        "   &= x^2 - 2x + 1-i^2 \\\\[1ex]\n",
        "   &= x^2 - 2x + 2\n",
        "\\end{align}$$\n",
        "\n",
        "é factor irredutível de $g(x)$ em $\\mathbb{Q}[x]$. Dividindo $g(x)$ por $x^2-2x+2$ obtemos $f(x)=x^3+3x+3$. Usando o teste das raizes racionais, uma vez que os divisores de $3$ são $\\pm 1, \\pm 3$ e dado que os coeficientes de $f(x)=x^3+3x+3$ são todos positivos, os candidatos a raizes de $f(x)$ são unicamente $-1, -3$. Facilmente podemos ver que $f(-1)\\neq 0\\,$ e $\\,f(-3)\\neq 0$. Logo,   o polinómio $f(x)$ ~~também é irredutível~~ não tem factores de grau $1$ em $\\mathbb{Q}[x]$. De facto, se usamos o teste de Eisenstein com $p=3$, concluimos que $x^3+3x+3$ é irredutível. Logo, a decomposição de $g(x)$ em factores irredutíveis em  $\\mathbb{Q}[x]$ é\n",
        "\n",
        "$$g(x)=(x^2-2x+2)(x^3+3x+3)\\,.$$"
      ]
    },
    {
      "cell_type": "code",
      "metadata": {
        "colab": {
          "base_uri": "https://localhost:8080/"
        },
        "id": "tnNh5oOxFRyi",
        "outputId": "afc2d343-dd77-4529-dc40-bb76b79cd0f2"
      },
      "source": [
        "# mmc, usando o algoritmo da divisão\n",
        "import numpy as np\n",
        "f = np.array([1,-2,5,-3,0,6])\n",
        "g = np.array([1,-2,2])\n",
        "\n",
        "quociente, resto = np.polydiv(f, g)\n",
        "\n",
        "print(\"quociente : \", quociente)\n",
        "print(\"resto: \", resto)"
      ],
      "execution_count": null,
      "outputs": [
        {
          "output_type": "stream",
          "name": "stdout",
          "text": [
            "quociente :  [1. 0. 3. 3.]\n",
            "resto:  [0.]\n"
          ]
        }
      ]
    },
    {
      "cell_type": "markdown",
      "metadata": {
        "id": "0YSJ_y2IXvG4"
      },
      "source": [
        "> (b) Considere o polinómio $f(x)=x^5-2x^4+5x^3-10x^2+4x-8$.\n",
        "> * Decomponha $f(x)$ em factores irredutíveis em $\\mathbb{Q}[x]$.\n",
        "\n",
        "### **Solução.**\n",
        "\n",
        "Aplicamos o teste das raizes racionais. As possíveis raizes racionais são: $\\pm 1, \\pm 2, \\pm 4, \\pm 8$. Encontramos que unicamente $f(2)=0$ e portanto $(x-2)$ é factor de $f(x)$. Usando o algoritmo da divisão e a factorização de uma expressão quadrática temos então\n",
        "\n",
        "$$f(x) = (x-2)(x^4+5x^2+4) = (x-2)(x^2+4)(x^2+1)\\,.$$\n",
        "\n",
        "> * Decomponha $f(x)$ em factores irredutíveis em $\\mathbb{C}[x]$.\n",
        "\n",
        "### **Solução.**\n",
        "\n",
        "$$ f(x) = (x-2)(x^2+4)(x^2+1) = (x-2)(x+2i)(x-2i)(x+i)(x-i)\\,. $$"
      ]
    },
    {
      "cell_type": "markdown",
      "metadata": {
        "id": "nDc80Pd9eYQY"
      },
      "source": [
        "Cálculos auxiliares"
      ]
    },
    {
      "cell_type": "code",
      "metadata": {
        "colab": {
          "base_uri": "https://localhost:8080/"
        },
        "id": "_zkx7e1AZqSp",
        "outputId": "c9e29153-0af5-4a1e-8f4b-465ab8e3fe38"
      },
      "source": [
        "# import sympy\n",
        "from sympy import *\n",
        "x = symbols(\"x\")\n",
        "f = x**5 - 2*x**4 + 5*x**3 -10*x**2 + 4*x - 8\n",
        "print(\"f(x)= {}\".format(f))\n",
        "# Use sympy.subs() method\n",
        "res_f = f.subs(x,-1)\n",
        "print(\"x= \",-1)\n",
        "print(\"after substitution: {}\".format(res_f))\n",
        "\n",
        "res_f = f.subs(x,1)\n",
        "print(\"\\nx= \",1)\n",
        "print(\"after substitution: {}\".format(res_f))\n",
        "\n",
        "res_f = f.subs(x,-2)\n",
        "print(\"\\nx= \",-2)\n",
        "print(\"after substitution: {}\".format(res_f))\n",
        "\n",
        "res_f = f.subs(x,2)\n",
        "print(\"\\nx= \",2)\n",
        "print(\"after substitution: {}\".format(res_f))\n",
        "\n",
        "res_f = f.subs(x,-4)\n",
        "print(\"\\nx= \",-4)\n",
        "print(\"after substitution: {}\".format(res_f))\n",
        "\n",
        "res_f = f.subs(x,4)\n",
        "print(\"\\nx= \",4)\n",
        "print(\"after substitution: {}\".format(res_f))\n",
        "\n",
        "res_f = f.subs(x,-8)\n",
        "print(\"\\nx= \",-8)\n",
        "print(\"after substitution: {}\".format(res_f))\n",
        "\n",
        "res_f = f.subs(x,8)\n",
        "print(\"\\nx= \",8)\n",
        "print(\"after substitution: {}\".format(res_f))"
      ],
      "execution_count": null,
      "outputs": [
        {
          "output_type": "stream",
          "name": "stdout",
          "text": [
            "f(x)= x**5 - 2*x**4 + 5*x**3 - 10*x**2 + 4*x - 8\n",
            "x=  -1\n",
            "after substitution: -30\n",
            "\n",
            "x=  1\n",
            "after substitution: -10\n",
            "\n",
            "x=  -2\n",
            "after substitution: -160\n",
            "\n",
            "x=  2\n",
            "after substitution: 0\n",
            "\n",
            "x=  -4\n",
            "after substitution: -2040\n",
            "\n",
            "x=  4\n",
            "after substitution: 680\n",
            "\n",
            "x=  -8\n",
            "after substitution: -44200\n",
            "\n",
            "x=  8\n",
            "after substitution: 26520\n"
          ]
        }
      ]
    },
    {
      "cell_type": "code",
      "metadata": {
        "colab": {
          "base_uri": "https://localhost:8080/"
        },
        "id": "kPhRdU4Ffyrl",
        "outputId": "c5549744-2b98-4c2d-f9e1-e851cc9e6cb9"
      },
      "source": [
        "# algoritmo da divisão\n",
        "import numpy as np\n",
        "f = np.array([1,-2,5,-10,4,-8])\n",
        "g = np.array([1,-2])\n",
        "\n",
        "quociente, resto = np.polydiv(f, g)\n",
        "\n",
        "print(\"quociente : \", quociente)\n",
        "print(\"resto: \", resto)"
      ],
      "execution_count": null,
      "outputs": [
        {
          "output_type": "stream",
          "name": "stdout",
          "text": [
            "quociente :  [1. 0. 5. 0. 4.]\n",
            "resto:  [0.]\n"
          ]
        }
      ]
    },
    {
      "cell_type": "markdown",
      "metadata": {
        "id": "H2y2tOGIug1P"
      },
      "source": [
        "## **58.**\n",
        "\n",
        "Seja $f\\in\\mathbb{R}[x]$ polinómio de grau ímpar, sem raízes múltiplas. Mostre que $f$ admite um número ímpar de raizes reais.\n",
        "\n",
        "### **Solução.**\n",
        "\n",
        "Primeiro notemos que se $f$ é um polinómio de grau ímpar então tem pelo menos uma raiz real. Efectivamente, se $f$ não tem uma raiz real, então todas as suas raizes estão em $\\mathbb{C}\\setminus\\mathbb{R}$. Além disso, se $a\\in\\mathbb{C}$ é raiz de $f$ então $\\bar{a}\\in\\mathbb{C}$ também é raiz, o que implica que $f$ é de grau par. Isto é uma contradição, logo $f$ admite pelo menos uma raiz real. Note-se que se $f$ é de grau par então, todas as raizes estão em $\\mathbb{C}\\setminus\\mathbb{R}$ ou, caso contrário, se $f$ tem raizes reais então há um número par delas. Em conclusão, usando o teorema fundamental da álgebra, podemos escrever o polinómio $f\\in\\mathbb{R}[x]$, que é de grau ímpar e sem raizes múltiplas, da forma seguinte\n",
        "\n",
        "$$f(x)=(x-r)\\underbrace{(x-s_1)(x-s_2)\\cdots(x-s_{j})}_{g(x)}\\,,$$\n",
        "\n",
        "onde as raizes $r\\in\\mathbb{R}$ e $s_1, s_2,\\ldots,s_j\\in\\mathbb{C}$ são todas elas diferentes entre si. Como $f$ é de grau ímpar então $j=2n$ para algum $n\\in\\mathbb{Z}$, ou seja $g(x)$ é de grau par. Pela análise anterior segue-se que ou todas as raizes $s_1, s_2, \\ldots, s_{2n}\\in\\mathbb{C}\\setminus\\mathbb{R}$, ou um número par delas estão em $\\mathbb{R}$. Contando $r$, concluimos que $f$ tem um número ímpar de raizes reais.  "
      ]
    },
    {
      "cell_type": "markdown",
      "metadata": {
        "id": "8Ubpig3b52Kv"
      },
      "source": [
        "# **Aula 10: Grupos**"
      ]
    },
    {
      "cell_type": "markdown",
      "metadata": {
        "id": "H4LVev1vNpG3"
      },
      "source": [
        "## **59.**\n",
        "\n",
        "> Para cada $\\alpha\\in S_3$, determine $\\alpha^{-1}$.\n",
        "\n",
        "### **Solução.**\n",
        "\n",
        "Vamos usar a notação de $1$-linha para as permutações de $S_3$. Assim temos\n",
        "\n",
        "$$\\begin{array}{rccc}\n",
        "\\text{pontos fixos: 1,2,3} & \\begin{pmatrix}1 & 2 & 3 \\\\\n",
        "1 & 2 & 3\n",
        "\\end{pmatrix} &\\rightsquigarrow& 1\\,2\\,3\\,. \\\\[1ex]\n",
        "\\text{ponto fixo: 1} & \\begin{pmatrix}1 & 2 & 3 \\\\\n",
        "1 & 3 & 2\n",
        "\\end{pmatrix} &\\rightsquigarrow& 1\\,3\\,2\\,. \\\\[1ex]\n",
        "\\text{ponto fixo: 2} & \\begin{pmatrix}1 & 2 & 3 \\\\\n",
        "3 & 2 & 1\n",
        "\\end{pmatrix} &\\rightsquigarrow& 3\\,2\\,1\\,. \\\\[1ex]\n",
        "\\text{ponto fixo: 3} & \\begin{pmatrix}1 & 2 & 3 \\\\\n",
        "2 & 1 & 3\n",
        "\\end{pmatrix} &\\rightsquigarrow& 2\\,1\\,3\\,. \\\\[1ex]\n",
        "\\text{sem pontos fixos} & \\begin{pmatrix}1 & 2 & 3 \\\\\n",
        "2 & 3 & 1\n",
        "\\end{pmatrix} &\\rightsquigarrow& 2\\,3\\,1\\,. \\\\[1ex]\n",
        "\\text{sem pontos fixos} & \\begin{pmatrix}1 & 2 & 3 \\\\\n",
        "3 & 1 & 2\n",
        "\\end{pmatrix} &\\rightsquigarrow& 3\\,1\\,2\\,. \\\\[1ex]\n",
        "\\end{array}\\qquad\\Longrightarrow\\qquad\\large\\begin{array}{c|cccccc}\n",
        "\\alpha & \\alpha^{-1} \\\\\n",
        "\\hline\n",
        "123 & 123 \\\\[1ex]\n",
        "132 & 132\\\\[1ex]\n",
        "321 & 321\\\\[1ex]\n",
        "213 & 213 \\\\[1ex]\n",
        "231 & 312 \\\\[1ex]\n",
        "312 & 231\n",
        "\\end{array}$$"
      ]
    },
    {
      "cell_type": "markdown",
      "metadata": {
        "id": "VoTSdOrK4DwB"
      },
      "source": [
        "## **62.**\n",
        "\n",
        "> Sejam $a=\\begin{pmatrix}1 & 2 & 3\\\\ 3 & 1 & 2\\end{pmatrix}$ e $\\,\\,b=\\begin{pmatrix}1 & 2 & 3\\\\ 1 & 3 & 2\\end{pmatrix}$. Verifique que $(ab)^{-1}\\neq a^{-1}b^{-1}$.\n",
        "\n",
        "### **Solução.**\n",
        "\n",
        "Por um lado temos\n",
        "\n",
        "$$312\\cdot 132 = 321\\quad\\Longrightarrow\\quad 321^{-1}=\\color{green}3\\color{green}2\\color{green}1\\,.$$\n",
        "\n",
        "Por outro lado temos\n",
        "\n",
        "$$312^{-1}=231 \\quad\\text{e}\\quad 132^{-1}=132\\quad\\Longrightarrow\\quad 312^{-1}\\cdot 132^{-1} = 231\\cdot 132 = \\color{red}2\\color{red}1\\color{red}3\\,.$$"
      ]
    },
    {
      "cell_type": "markdown",
      "metadata": {
        "id": "4dKpo6s4HqwK"
      },
      "source": [
        "## **63.**\n",
        "\n",
        "> Sejam $G$ um grupo e $a,b\\in G$: Mostre que, se $ab=1_G$ então $ba=1_G$.\n",
        "\n",
        "### **Solução.**\n",
        "\n",
        "Pela definição de grupo temos que\n",
        "\n",
        "$$\n",
        " 1_G\\,b = b = b \\, 1_G = b \\,(ab) = (ba)b\n",
        "$$\n",
        "\n",
        "Tomando os extremos, escrevemos\n",
        "\n",
        "$$1_G\\, b = (ba)b$$\n",
        "\n",
        "Finalmente, usando a lei cancelativa obtemos\n",
        "\n",
        "$$1_G = ba$$\n",
        "\n"
      ]
    },
    {
      "cell_type": "markdown",
      "metadata": {
        "id": "dy4rUQ7LYvsF"
      },
      "source": [
        "## **64.**\n",
        "\n",
        "> Considere os anéis $\\mathbb{Z}_{10}$,  $\\mathbb{Z}_{12}$ e  $\\mathbb{Z}_{24}$. Calcule os respectivos grupos multiplicativos de unidades $U_{10}$, $U_{12}$ e $U_{24}$.\n",
        "\n",
        "### **Solução.**\n",
        "\n",
        "Seja $n>1$ e $(U_n,\\cdot)$ o grupo das unidades do anel $(\\mathbb{Z}_n,+,\\cdot)$. Usaremos o resultado seguinte visto nas aulas teóricas\n",
        "\n",
        "$$\\bar{a}\\in U_n \\quad\\Longleftrightarrow\\quad \\operatorname{mdc}(a,n)=1\\,.$$\n",
        "\n",
        "Portanto, temos que\n",
        "\n",
        "$$U_{10}=\\big\\{\\overline{1},\\overline{3},\\overline{7},\\overline{9}\\big\\}\\quad,\\quad U_{12}=\\big\\{\\overline{1},\\overline{5},\\overline{7},\\overline{11}\\big\\}\\quad,\\quad U_{24}=\\big\\{\\overline{1},\\overline{5},\\overline{7},\\overline{11},\\overline{13},\\overline{17},\\overline{19},\\overline{23}\\big\\}\\,.$$"
      ]
    },
    {
      "cell_type": "markdown",
      "metadata": {
        "id": "IEYbYiZ2JdGK"
      },
      "source": [
        "## **65.**\n",
        "\n",
        "> (a) Descreva todos os elementos do grupo linear geral $\\operatorname{GL}(2,\\mathbb{Z}_2)$ (das matrizes quadradas de ordem $2$, com entradas em $\\mathbb{Z}_2$, que são invertíveis).\n",
        "\n",
        "### **Solução.**\n",
        "\n",
        "Pela definição\n",
        "\n",
        "$$\\begin{pmatrix}\n",
        "a & b \\\\\n",
        "c & d\n",
        "\\end{pmatrix}\\in\\operatorname{GL}(2,\\mathbb{Z}_2)\\quad\\Longleftrightarrow\\quad ad-bc \\neq 0\\quad,\\quad a,b,c,d\\in\\mathbb{Z}_2\\,.$$\n",
        "\n",
        "Como $\\mathbb{Z}_2=\\{0,1\\}$, temos as seguintes matrizes em $\\operatorname{GL}(2,\\mathbb{Z}_2)$\n",
        "\n",
        "$$\\begin{pmatrix}\n",
        "1 & 0 \\\\\n",
        "0 & 1\n",
        "\\end{pmatrix}\\,,\\,\\begin{pmatrix}\n",
        "1 & 1 \\\\\n",
        "0 & 1\n",
        "\\end{pmatrix}\\,,\\,\\begin{pmatrix}\n",
        "1 & 0 \\\\\n",
        "1 & 1\n",
        "\\end{pmatrix}\\,,\\,\\begin{pmatrix}\n",
        "1 & 1 \\\\\n",
        "1 & 0\n",
        "\\end{pmatrix}\\,,\\,\\begin{pmatrix}\n",
        "0 & 1 \\\\\n",
        "1 & 1\n",
        "\\end{pmatrix}\\,,\\,\\begin{pmatrix}\n",
        "0 & 1 \\\\\n",
        "1 & 0\n",
        "\\end{pmatrix}\\,.$$\n",
        "\n",
        "---\n",
        "\n",
        "> (b) Escreva as tabelas de multiplicação para $\\operatorname{GL}(2,\\mathbb{Z}_2)$ e de composição para $S_3$ e conclua que estes dois grupos são isomorfos.\n",
        "\n",
        "### **Solução.**\n",
        "\n",
        "No exercício anterior vimos quais são todos os elementos de $\\operatorname{GL}(2,\\mathbb{Z}_2)$. Sabemos também quais os elementos de $S_3$. Ambos grupos têm $6$ elementos. Para mostrar que ambos grupos são isomorfos não chega ter o mesmo número de elementos. Temos de encontrar uma bijeção que preserve a estrutura de grupo em ambos conjuntos. Neste caso, a bijeção será construida indexando os elementos de cada grupo de $1$ a $6$ e a preservação da estrutura ficará em evidência mostrando que as tabelas coincidem. Nas tabelas apresentadas abaixo note-se que numa primeira indexação dos elementos de $\\operatorname{GL}(2,\\mathbb{Z}_2)$ e de $S_3$ (aquela à esquerda), as tabelas não coincidem. Isso não significa que os grupos $\\operatorname{GL}(2,\\mathbb{Z}_2)$ e $S_3$ não sejam isomorfos. De facto, olhando para as tabelas, podemos notar um padrão (ver os elementos ressaltados) que leva a pensar que se reacomodamos convenientemente os elementos, quer de $\\operatorname{GL}(2,\\mathbb{Z}_2)$ quer de $S_3$, podemos conseguir que as tabelas coincidam. Escolhemos reindexar os elementos de $S_3$ (tabela à direita) e comprovamos que, agora sim, as tabelas de $\\operatorname{GL}(2,\\mathbb{Z}_2)$ e de $S_3$ coincidem.\n",
        "\n",
        "\n",
        "$$\\scriptsize\\begin{array}{c|cccccc}\n",
        "\\cdot & \\begin{pmatrix}\n",
        "1 & 0 \\\\\n",
        "0 & 1\n",
        "\\end{pmatrix} & \\begin{pmatrix}\n",
        "1 & 1 \\\\\n",
        "0 & 1\n",
        "\\end{pmatrix} & \\begin{pmatrix}\n",
        "1 & 0 \\\\\n",
        "1 & 1\n",
        "\\end{pmatrix} & \\begin{pmatrix}\n",
        "1 & 1 \\\\\n",
        "1 & 0\n",
        "\\end{pmatrix} & \\begin{pmatrix}\n",
        "0 & 1 \\\\\n",
        "1 & 1\n",
        "\\end{pmatrix} & \\begin{pmatrix}\n",
        "0 & 1 \\\\\n",
        "1 & 0\n",
        "\\end{pmatrix} \\\\\n",
        "\\hline %end of top part of the table\n",
        "\\begin{pmatrix}\n",
        "1 & 0 \\\\\n",
        "0 & 1\n",
        "\\end{pmatrix} & \\begin{pmatrix}\n",
        "1 & 0 \\\\\n",
        "0 & 1\n",
        "\\end{pmatrix} & \\begin{pmatrix}\n",
        "1 & 1 \\\\\n",
        "0 & 1\n",
        "\\end{pmatrix} & \\begin{pmatrix}\n",
        "1 & 0 \\\\\n",
        "1 & 1\n",
        "\\end{pmatrix} & \\begin{pmatrix}\n",
        "1 & 1 \\\\\n",
        "1 & 0\n",
        "\\end{pmatrix} & \\begin{pmatrix}\n",
        "0 & 1 \\\\\n",
        "1 & 1\n",
        "\\end{pmatrix} & \\begin{pmatrix}\n",
        "0 & 1 \\\\\n",
        "1 & 0\n",
        "\\end{pmatrix} \\\\[1ex] %end of 1st line\n",
        "\\begin{pmatrix}\n",
        "1 & 1 \\\\\n",
        "0 & 1\n",
        "\\end{pmatrix} & \\begin{pmatrix}\n",
        "1 & 1 \\\\\n",
        "0 & 1\n",
        "\\end{pmatrix} & \\begin{pmatrix}\n",
        "1 & 0 \\\\\n",
        "0 & 1\n",
        "\\end{pmatrix} & \\begin{pmatrix}\n",
        "0 & 1 \\\\\n",
        "1 & 1\n",
        "\\end{pmatrix} & \\begin{pmatrix}\n",
        "0 & 1 \\\\\n",
        "1 & 0\n",
        "\\end{pmatrix} & \\begin{pmatrix}\n",
        "1 & 0 \\\\\n",
        "1 & 1\n",
        "\\end{pmatrix} & \\begin{pmatrix}\n",
        "1 & 1 \\\\\n",
        "1 & 0\n",
        "\\end{pmatrix} \\\\[1ex] %end of 2nd line\n",
        "\\begin{pmatrix}\n",
        "1 & 0 \\\\\n",
        "1 & 1\n",
        "\\end{pmatrix} & \\begin{pmatrix}\n",
        "1 & 0 \\\\\n",
        "1 & 1\n",
        "\\end{pmatrix} & \\begin{pmatrix}\n",
        "1 & 1 \\\\\n",
        "1 & 0\n",
        "\\end{pmatrix} & \\begin{pmatrix}\n",
        "1 & 0 \\\\\n",
        "0 & 1\n",
        "\\end{pmatrix} & \\begin{pmatrix}\n",
        "1 & 1 \\\\\n",
        "0 & 1\n",
        "\\end{pmatrix} & \\begin{pmatrix}\n",
        "0 & 1 \\\\\n",
        "1 & 0\n",
        "\\end{pmatrix} & \\begin{pmatrix}\n",
        "0 & 1 \\\\\n",
        "1 & 1\n",
        "\\end{pmatrix} \\\\[1ex] %end of 3rd line\n",
        "\\begin{pmatrix}\n",
        "1 & 1 \\\\\n",
        "1 & 0\n",
        "\\end{pmatrix} & \\begin{pmatrix}\n",
        "1 & 1 \\\\\n",
        "1 & 0\n",
        "\\end{pmatrix} & \\begin{pmatrix}\n",
        "1 & 0 \\\\\n",
        "1 & 1\n",
        "\\end{pmatrix} & \\begin{pmatrix}\n",
        "0 & 1 \\\\\n",
        "1 & 0\n",
        "\\end{pmatrix} & \\begin{pmatrix}\n",
        "0 & 1 \\\\\n",
        "1 & 1\n",
        "\\end{pmatrix} & \\begin{pmatrix}\n",
        "1 & 0 \\\\\n",
        "0 & 1\n",
        "\\end{pmatrix} & \\begin{pmatrix}\n",
        "1 & 1 \\\\\n",
        "0 & 1\n",
        "\\end{pmatrix}\\\\[1ex] %end of 4th line\n",
        "\\begin{pmatrix}\n",
        "0 & 1 \\\\\n",
        "1 & 1\n",
        "\\end{pmatrix} & \\begin{pmatrix}\n",
        "0 & 1 \\\\\n",
        "1 & 1\n",
        "\\end{pmatrix} & \\begin{pmatrix}\n",
        "0 & 1 \\\\\n",
        "1 & 0\n",
        "\\end{pmatrix} & \\begin{pmatrix}\n",
        "1 & 1 \\\\\n",
        "0 & 1\n",
        "\\end{pmatrix} & \\begin{pmatrix}\n",
        "1 & 0 \\\\\n",
        "0 & 1\n",
        "\\end{pmatrix} & \\begin{pmatrix}\n",
        "1 & 1 \\\\\n",
        "1 & 0\n",
        "\\end{pmatrix} & \\begin{pmatrix}\n",
        "1 & 0 \\\\\n",
        "1 & 1\n",
        "\\end{pmatrix}\n",
        " \\\\[1ex] %end of 5th line\n",
        "\\begin{pmatrix}\n",
        "0 & 1 \\\\\n",
        "1 & 0\n",
        "\\end{pmatrix} & \\begin{pmatrix}\n",
        "0 & 1 \\\\\n",
        "1 & 0\n",
        "\\end{pmatrix} & \\begin{pmatrix}\n",
        "0 & 1 \\\\\n",
        "1 & 1\n",
        "\\end{pmatrix} & \\begin{pmatrix}\n",
        "1 & 1 \\\\\n",
        "1 & 0\n",
        "\\end{pmatrix} & \\begin{pmatrix}\n",
        "1 & 0 \\\\\n",
        "1 & 1\n",
        "\\end{pmatrix} & \\begin{pmatrix}\n",
        "1 & 1 \\\\\n",
        "0 & 1\n",
        "\\end{pmatrix} & \\begin{pmatrix}\n",
        "1 & 0 \\\\\n",
        "0 & 1\n",
        "\\end{pmatrix} %end of 6th line\n",
        "\\end{array}\\normalsize$$\n",
        "\n",
        "<br>\n",
        "\n",
        "$$\\large\\begin{array}{c|cccccc}\n",
        "\\circ & 123 & 213 & 321 & 132 & 312 & 231 \\\\\n",
        "\\hline\n",
        "123 & 123 & 213 & 321 & 132 & 312 & 231 \\\\[1ex]\n",
        "213 & 213 & 123 & 312 & 231 & 321 & 132 \\\\[1ex]\n",
        "321 & 321 & 231 & 123 & 312 & 132 & 213 \\\\[1ex]\n",
        "132 & 132 & 312 & 231 & 123 & 213 & 321 \\\\[1ex]\n",
        "312 & 312 & 132 & 213 & 321 & 231 & 123 \\\\[1ex]\n",
        "231 & 231 & 321 & 132 & 213 & 123 & 312\n",
        "\\end{array}\\qquad\\quad\\begin{array}{c|cccccc}\n",
        "\\circ & 123 & 213 & 132 & 312 & 231 & 321 \\\\\n",
        "\\hline\n",
        "123 & 123 & 213 & 132 & 312 & 231 & 321 \\\\[1ex]\n",
        "213 & 213 & 123 & 231 & 321 & 132 & 312 \\\\[1ex]\n",
        "132 & 132 & 312 & 123 & 213 & 321 & 231 \\\\[1ex]\n",
        "312 & 312 & 132 & 321 & 231 & 123 & 213 \\\\[1ex]\n",
        "231 & 231 & 321 & 213 & 123 & 312 & 132 \\\\[1ex]\n",
        "321 & 321 & 231 & 312 & 132 & 213 & 123\n",
        "\\end{array}\\normalsize$$"
      ]
    },
    {
      "cell_type": "markdown",
      "metadata": {
        "id": "nGKiIdyVBOND"
      },
      "source": [
        "## **66.**\n",
        "\n",
        "> Seja $f: G\\to H$ um morfismo de grupos. Mostre que:\n",
        ">\n",
        "> (a) Se $f$ for sobrejectivo e $G$ for comutativo, então $H$ também é comutativo.\n",
        "\n",
        "### **Solução.**\n",
        "\n",
        "Sejam $h_1$ e $h_2$ elementos arbitrários de $H$. Queremos provar que $h_1\\cdot h_2=h_2\\cdot h_1$.\n",
        "\n",
        "$$\\begin{array}{lclr}\n",
        "h_1\\in H &\\Longrightarrow &\\exists\\, g_1\\in G\\,\\,\\big/\\,\\, h_1=f(g_1) & ,\\quad \\small f \\,\\,\\text{sobrejectivo}.\\\\\n",
        "h_2\\in H &\\Longrightarrow &\\exists\\, g_2\\in G\\,\\,\\big/\\,\\, h_2=f(g_2) & ,\\quad \\small f \\,\\,\\text{sobrejectivo}.\n",
        "\\end{array}\n",
        "$$\n",
        "\n",
        "Portanto,\n",
        "\n",
        "$$h_1\\cdot h_2 = f(g_1)\\cdot f(g_2) \\underset{\\small f \\text{ morfismo}}{=} f(g_1\\cdot g_2) = f(\\underset{\\small G \\text{ comutativo}}{g_2\\cdot g_1}) = f(g_2)\\cdot f(g_1) = h_2\\cdot h_1\\,.$$\n",
        "\n",
        "---\n",
        "\n",
        "> (b) Para qualquer $a\\in G$ e qualquer $n\\in\\mathbb{Z}$, $f(a^n)=f(a)^n$.\n",
        "\n",
        "### **Solução.**\n",
        "\n",
        "Consideremos primeiro $n$ inteiro positivo ou zero.\n",
        "\n",
        "$$f(a^n) = f(\\underbrace{a\\cdot a \\cdots a}_{n \\text{ vezes}})= f(a)\\cdot f(a)\\cdots f(a) = f(a)^n$$\n",
        "\n",
        "Note-se que $a^{-n}=(a^{-1})^n\\,$ e $\\,f(a^{-1})=f(a)^{-1}$ e em consequência $f(a^{-n})=f(a)^{-n}$. Logo, podemos dizer que para qualquer $n\\in\\mathbb{Z}$, verifica-se que $f(a^n)=f(a)^n$.\n",
        "\n",
        "---\n",
        "\n",
        "> (c) Se $G=\\langle a\\rangle$ for grupo cíclico e $f$ for sobrejectivo então $H=\\langle f(a)\\rangle$.\n",
        "\n",
        "### **Solução.**\n",
        "\n",
        "Uma vez que $f(a)\\in H$ segue-se que $\\langle f(a)\\rangle \\le H$. Agora, seja $h\\in H$. Como $f$ é sobrejectivo, $\\exists\\,g\\in G$ tal que $h=f(g)$. Como $G$ é cíclico, $\\exists\\,n\\in\\mathbb{Z}$ tal que $g=a^n$. Portanto,\n",
        "\n",
        "$$\\begin{array}{c}\n",
        "h=f(g)=f(a^n)=f(a)^n\\quad\\Longrightarrow\\quad h\\in\\langle f(a)\\rangle\\quad\\Longrightarrow\\quad H\\le\\langle f(a)\\rangle\\,.\\\\[1ex]\n",
        "\\langle f(a)\\rangle \\le H\\qquad\\text{e}\\qquad  H\\le\\langle f(a)\\rangle \\quad\\Longrightarrow\\quad H=\\langle f(a)\\rangle\\,.\n",
        "\\end{array}$$\n",
        "\n",
        "---\n",
        "\n",
        "> (d) Se $K$ é subgrupo de $H$ então $\\big\\{a\\in G \\,\\colon\\, f(a)\\in K\\big\\}$ é subgrupo de $G$.\n",
        "\n",
        "### **Solução.**\n",
        "\n",
        "Chamemos $L=\\big\\{a\\in G \\,\\colon\\, f(a)\\in K\\big\\}$. Dados $\\ell_1$ e $\\ell_2$ em $L$, queremos provar que $\\ell_1\\ell_2^{-1}\\in L$.\n",
        "\n",
        "Pela definição de $L$, note-se que\n",
        "\n",
        "$$\\begin{array}{c}\n",
        "\\ell_1\\in L\\quad\\Longrightarrow\\quad f(\\ell_1)\\in K\\,.\\\\[1ex]\n",
        "\\ell_2\\in L\\quad\\Longrightarrow\\quad f(\\ell_2)\\in K\\,.\n",
        "\\end{array}\n",
        "$$\n",
        "\n",
        "Como $K\\le H$ segue-se que $f(\\ell_2)^{-1}\\in K$, e pelo exercício $65$(b), temos $f(\\ell_2)^{-1}=f(\\ell_2^{-1})$. Temos também que $f(\\ell_1)f(\\ell_2)^{-1}=f(\\ell_1\\ell_2^{-1})\\in K$. Desta forma, pela definição de $L$, concluimos que $\\ell_1\\ell_2^{-1}\\in L$."
      ]
    },
    {
      "cell_type": "markdown",
      "metadata": {
        "id": "mzK0m3_bMnXH"
      },
      "source": [
        "## **67.**\n",
        "\n",
        "> Identifique os elementos de $\\langle a\\rangle$, sendo\n",
        ">\n",
        "> $$a=\\begin{pmatrix}1 & 2 & 3 & 4 & 5 & 6 & 7 \\\\\n",
        "3 & 2 & 7 & 6 & 5 & 1 & 4 \\end{pmatrix}\\,.$$\n",
        "\n",
        "### **Solução.**\n",
        "\n",
        "Usemos a notação de $1$-linha para a permutação $a$. Assim temos\n",
        "\n",
        "$$\\begin{array}{ccc}\n",
        "a &=& 3\\,2\\,7\\,6\\,5\\,1\\,4. \\\\[1ex]\n",
        "a^2 &=& 7\\,2\\,4\\,1\\,5\\,3\\,6. \\\\[1ex]\n",
        "a^3 &=& 4\\,2\\,6\\,3\\,5\\,7\\,1. \\\\[1ex]\n",
        "a^4 &=& 6\\,2\\,1\\,7\\,5\\,4\\,3. \\\\[1ex]\n",
        "a^5 &=& \\underbrace{1\\,2\\,3\\,4\\,5\\,6\\,7}_{\\mathrm{id}\\,\\in\\, S_7}.\n",
        "\\end{array}\n",
        "$$"
      ]
    },
    {
      "cell_type": "markdown",
      "metadata": {
        "id": "vKyQHot8QA7X"
      },
      "source": [
        "## **68.**\n",
        "\n",
        "> (a) Sejam $G$ um grupo abeliano e $n$ um inteiro positivo. Mostre que\n",
        "> $$H=\\big\\{a\\in G\\,\\colon\\, a^n=1\\big\\}$$\n",
        "> é subgrupo de $G$.\n",
        "\n",
        "### **Solução.**\n",
        "\n",
        "Sejam $a_1$ e $a_2$ elementos arbitrários de $H$. Queremos provar que $a_1a_2^{-1}\\in H$. Para isso, calculemos $\\left(a_1a_2^{-1}\\right)^n$.\n",
        "\n",
        "$$\\left(a_1a_2^{-1}\\right)^n = \\underbrace{a_1a_2^{-1}a_1a_2^{-1}\\cdots a_1a_2^{-1}}_{\\scriptsize n \\,\\text{ vezes}} = \\underbrace{a_1^n\\left(a_2^{-1}\\right)^n}_{\\scriptsize G \\,\\text{abeliano}}=1(a_2^n)^{-1} = 1 (1)^{-1} = 1\\,.$$\n",
        "\n",
        "Logo, concluimos que $a_1a_2^{-1}\\in H$.\n",
        "\n",
        "---\n",
        "\n",
        "> (b) Mostre, por meio de um contra-exemplo, que a alínea (a) pode ser falsa se $G$ não for abeliano. (_Sugestão_: $S_3$).\n",
        "\n",
        "### **Solução.**\n",
        "\n",
        "Seja $H=\\big\\{123, 213, 132, 321\\big\\}$. Note-se que (ver tabela no exercício $65$(b)):\n",
        "\n",
        "$$ 123^2=123\\quad\\,,\\quad 213^2=123 \\quad,\\quad 132^2=123 \\quad,\\quad 321^2=123\\,.$$\n",
        "\n",
        "Contudo\n",
        "\n",
        "$$132\\cdot 321 = 231\\notin H\\,.$$"
      ]
    },
    {
      "cell_type": "markdown",
      "metadata": {
        "id": "tuKjIT-IvXSw"
      },
      "source": [
        "## **69.**\n",
        "\n",
        "> Sejam $G$ um grupo e $a\\in G$. Mostre que $\\langle a\\rangle=\\langle a^{-1}\\rangle$.\n",
        "\n",
        "### **Solução.**\n",
        "\n",
        "Claramente, $a^{-1}\\in \\langle a\\rangle\\,\\,\\Longrightarrow\\,\\,\\langle a^{-1}\\rangle\\le\\langle a\\rangle$. Similarmente, $a=\\left(a^{-1}\\right)^{-1}\\in\\langle a^{-1}\\rangle\\,\\,\\Longrightarrow\\,\\,\\langle a\\rangle \\le \\langle a^{-1}\\rangle$. Segue-se então que $\\langle a\\rangle = \\langle a^{-1}\\rangle$."
      ]
    },
    {
      "cell_type": "markdown",
      "metadata": {
        "id": "sCcD-yRacjXY"
      },
      "source": [
        "# **Aula 11: Grupos (segunda parte)**\n",
        "\n"
      ]
    },
    {
      "cell_type": "markdown",
      "metadata": {
        "id": "9dZKDyqqC_SJ"
      },
      "source": [
        "## **70.**\n",
        "\n",
        "> Se $G$ é grupo finito de ordem $n$, mostre que $\\forall\\,a\\in G$, $\\operatorname{o}(a)\\le n$.\n",
        "\n",
        "### **Solução.**\n",
        "\n",
        "A ordem de um grupo finito é por definição a cardinalidade do grupo. Para qualquer $a\\in G$, a ordem de $a$ é o menor inteiro positivo $k$ tal que $a^k=e_G$. Evidentemente a cardinalidade do subgrupo $\\langle a\\rangle$ de $G$ gerado por $a$ é igual a ordem $\\operatorname{o}(a)$ de $a$, e portanto, temos necessariamente que $\\operatorname{o}(a)\\le n = \\operatorname{o}(G)$.\n",
        "\n",
        "**Nota:** De facto temos que $\\operatorname{o}(a)\\mid\\operatorname{o}(G)$. Isto deve-se a um resultado mais geral conhecido como\n",
        "\n",
        "**Teorema de Lagrange:** _Seja $G$ um grupo finito e $H$ um subgrupo de $G$, então $\\operatorname{o}(H)\\mid\\operatorname{o}(G)$._"
      ]
    },
    {
      "cell_type": "markdown",
      "metadata": {
        "id": "g5C3nTo-GCDl"
      },
      "source": [
        "## **71.**\n",
        "\n",
        "> Identifique a ordem de cada elemento de $U_{20}$.\n",
        "\n",
        "### **Solução.**\n",
        "\n",
        "O grupo das unidades do anel $(\\mathbb{Z}_{20},+,\\cdot)$ é $U_{20}=\\{\\overline{1},\\overline{3},\\overline{7},\\overline{9},\\overline{11},\\overline{13},\\overline{17},\\overline{19}\\}$.\n",
        "\n",
        "Facilmente verifica-se que\n",
        "\n",
        "$$\\overline{1}^1=\\overline{1}\\,\\,,\\,\\,\\overline{3}^4=\\overline{1}\\,\\,,\\,\\,\\overline{7}^4=\\overline{1}\\,\\,,\\,\\,\\overline{9}^2=\\overline{1}\\,\\,,\\,\\,\\overline{11}^2=\\overline{1}\\,\\,,\\,\\,\\overline{13}^4=\\overline{1}\\,\\,,\\,\\,\\overline{17}^4=\\overline{1}\\,\\,,\\,\\,\\overline{19}^2=\\overline{1}\\,.$$\n",
        "\n",
        "De modo que $\\quad\\operatorname{o}(1)=1,\\quad$ $\\operatorname{o}(3)=4,\\quad$ $\\operatorname{o}(7)=4,\\quad$ $\\operatorname{o}(9)=2,\\quad$ $\\operatorname{o}(11)=2,\\quad$ $\\operatorname{o}(13)=4,\\quad$ $\\operatorname{o}(17)=4,\\quad$ $\\operatorname{o}(19)=2$."
      ]
    },
    {
      "cell_type": "markdown",
      "metadata": {
        "id": "D9mBZuPygjR1"
      },
      "source": [
        "## **72.**\n",
        "\n",
        "> Demonstre ou dê um contra-exemplo: Se $G$ é um grupo finito de ordem $n$ então $G$ tem um elemento de orden $n$.\n",
        "\n",
        "### **Solução.**\n",
        "\n",
        "O enunciado é equivalente a dizer se $G$ é finito então é cíclico. Isto claramente é falso. Por exemplo, consideremos o grupo das permutações $S_3$. Como já vimos em exercícios anteriores, este grupo não tem nenhum elemento de ordem $6$."
      ]
    },
    {
      "cell_type": "markdown",
      "metadata": {
        "id": "1tCHkFrehz0K"
      },
      "source": [
        "## **73.**\n",
        "\n",
        "> (a) Verifique que $a=\\begin{pmatrix}0 & 1 \\\\ -1\\,\\, & -1\\,\\,\\end{pmatrix}\\in\\operatorname{GL}(2,\\mathbb{R})$ tem ordem $3$ e que $b=\\begin{pmatrix}0 & -1 \\\\ 1 & \\,\\,0\\end{pmatrix}\\in\\operatorname{GL}(2,\\mathbb{R})$ tem ordem $4$.\n",
        "\n",
        "### **Solução.**\n",
        "\n",
        "$$a\\cdot a = \\begin{pmatrix}0 & 1 \\\\ -1\\,\\, & -1\\,\\,\\end{pmatrix}\\begin{pmatrix}0 & 1 \\\\ -1\\,\\, & -1\\,\\,\\end{pmatrix}=\\begin{pmatrix}-1 & -1 \\\\ \\,\\,1 & \\,\\,0\\end{pmatrix}.$$\n",
        "\n",
        "<br>\n",
        "\n",
        "$$a\\cdot a\\cdot a = \\begin{pmatrix}-1 & -1 \\\\ \\,\\,1 & \\,\\,0\\end{pmatrix}\\begin{pmatrix}0 & 1 \\\\ -1\\,\\, & -1\\,\\,\\end{pmatrix}=\\begin{pmatrix}1 & 0 \\\\ 0 & 1 \\end{pmatrix}.$$\n",
        "\n",
        "Por outro lado,\n",
        "\n",
        "$$b\\cdot b = \\begin{pmatrix}0 & -1 \\\\ 1 & \\,\\,0\\end{pmatrix}\\begin{pmatrix}0 & -1 \\\\ 1 & \\,\\,0\\end{pmatrix}=\\begin{pmatrix}-1 & 0 \\\\ \\,\\,0 & \\,-1\\end{pmatrix}.$$\n",
        "\n",
        "<br>\n",
        "\n",
        "$$b\\cdot b\\cdot b = \\begin{pmatrix}-1 & 0 \\\\ \\,\\,0 & -1\\end{pmatrix}\\begin{pmatrix}0 & -1 \\\\ 1 & \\,\\,\\,0\\,\\,\\end{pmatrix}=\\begin{pmatrix}0 & 1 \\\\ -1 & 0 \\end{pmatrix}.$$\n",
        "\n",
        "<br>\n",
        "\n",
        "$$b\\cdot b\\cdot b\\cdot b = \\begin{pmatrix}0 & 1 \\\\ -1 & 0 \\end{pmatrix}\\begin{pmatrix}0 & -1 \\\\ 1 & \\,\\,\\,0\\,\\,\\end{pmatrix}=\\begin{pmatrix}1 & 0 \\\\ 0 & 1 \\end{pmatrix}.$$\n",
        "\n",
        "---\n",
        "\n",
        "> (b) Mostre que $ab$ tem ordem infinita.\n",
        "\n",
        "### **Solução.**\n",
        "\n",
        "$$a\\cdot b = \\begin{pmatrix}0 & 1 \\\\ -1\\,\\, & -1\\,\\,\\end{pmatrix}\\begin{pmatrix}0 & -1 \\\\ 1 & \\,\\,0\\end{pmatrix}=\\begin{pmatrix}\\,\\,\\,1 & 0 \\\\ -1 & \\,1\\end{pmatrix}$$\n",
        "\n",
        "<br>\n",
        "\n",
        "$$\\begin{array}{c}\n",
        "(a\\cdot b)^2=\\begin{pmatrix}\\,\\,\\,1 & 0 \\\\ -1 & \\,1\\end{pmatrix}\\begin{pmatrix}\\,\\,\\,1 & 0 \\\\ -1 & \\,1\\end{pmatrix}=\\begin{pmatrix}\\,\\,\\,1 & 0 \\\\ -2 & \\,1\\end{pmatrix}\\\\[2ex]\n",
        "(a\\cdot b)^3=\\begin{pmatrix}\\,\\,\\,1 & 0 \\\\ -2 & \\,1\\end{pmatrix}\\begin{pmatrix}\\,\\,\\,1 & 0 \\\\ -1 & \\,1\\end{pmatrix}=\\begin{pmatrix}\\,\\,\\,1 & 0 \\\\ -3 & \\,1\\end{pmatrix}\\\\[2ex]\n",
        "\\vdots\\\\[2ex]\n",
        "(a\\cdot b)^n=\\begin{pmatrix}\\,\\,\\,1 & 0 \\\\ -(n-1) & \\,1\\end{pmatrix}\\begin{pmatrix}\\,\\,\\,1 & 0 \\\\ -1 & \\,1\\end{pmatrix}=\\begin{pmatrix}\\,\\,\\,1 & 0 \\\\ -n & \\,1\\end{pmatrix}\n",
        "\\end{array}$$\n",
        "\n",
        "<br>\n",
        "\n",
        "onde $\\begin{pmatrix}\\,\\,\\,1 & 0 \\\\ -n & \\,1\\end{pmatrix}\\neq\\begin{pmatrix}1 & 0 \\\\ 0 & \\,1\\end{pmatrix}\\,,\\,\\forall\\,n\\in\\mathbb{N}.\\,\\,$ Logo, concluimos que $a\\cdot b$ tem ordem infinita."
      ]
    },
    {
      "cell_type": "markdown",
      "metadata": {
        "id": "jyQiG32ZFeP9"
      },
      "source": [
        "## **74.**\n",
        "\n",
        "> (a) Sejam $H$ subgrupo de $G$ e $a\\in G$. Mostre que $a^{-1}Ha = \\big\\{a^{-1}ha: h\\in H\\big\\}$ é um subgrupo de $G$ isomorfo a $H$.\n",
        "\n",
        "### **Solução.**\n",
        "\n",
        "Seja $f: H\\to G$ o morfismo de grupos definido por $f(h)=a^{-1}ha$.\n",
        "\n",
        "**Afirmação:** $f$ é monomorfismo.\n",
        "\n",
        "Sejam $h_1, h_2\\in H$. Observe-se que\n",
        "\n",
        "$$f(h_1h_2)=a^{-1}h_1h_2a=a^{-1}h_1\\color{red}a\\,\\,\\color{red}a^{\\color{red}-\\color{red}1}h_2a=f(h_1)f(h_2)\\,,$$\n",
        "\n",
        "ou seja, $f$ é um **morfismo** de grupos.\n",
        "\n",
        "Para mostrar que é injectiva, suponhamos que $f(h)=e_G$. Queremos mostrar que necessariamente $h=e_H=e_G$. Efectivamente,\n",
        "\n",
        "$$\\begin{array}{ccc}\n",
        "f(h)=e_G & \\Longleftrightarrow & a^{-1}ha=e_G \\\\\n",
        "& \\Longrightarrow & ha=ae_G=a \\\\\n",
        "& \\Longrightarrow & h=aa^{-1} = e_G\\,.\n",
        "\\end{array}$$\n",
        "\n",
        "Portanto $f$ é **injectivo**. Logo, $f$ é monomorfismo.\n",
        "\n",
        "Assim, podemos concluir que $H$ é isomorfo a $f(H)=a^{-1}Ha$.\n",
        "\n",
        "---\n",
        "\n",
        "> (b) Se $H$ é finito, mostre que $\\operatorname{o}(H)=\\operatorname{o}(a^{-1}Ha)$.\n",
        "\n",
        "### **Solução.**\n",
        "\n",
        "Imediato usando o isomorfismo $f: H\\to \\operatorname{Im}(f)$ definido na parte (a) deste exercício.\n"
      ]
    },
    {
      "cell_type": "markdown",
      "metadata": {
        "id": "Zs7jJ70gPo3-"
      },
      "source": [
        "## **76. Pequeno Teorema de Fermat**\n",
        "\n",
        "> Se $p>0$ primo e $a\\in\\mathbb{Z}$, então $a^p\\equiv a \\operatorname{mod}p$.\n",
        ">\n",
        "> _Sugestão:_ Observe que, sendo $\\mathbb{Z}_p^*=\\mathbb{Z}_p\\setminus\\{0\\}$ grupo multiplicativo finito, se tem $\\forall\\,b\\in\\mathbb{Z}_p^*\\,\\,,\\,\\, b^{p-1}=1$.\n",
        "\n",
        "### **Solução.**\n",
        "\n",
        "Seja $a\\in\\mathbb{Z}$ tal que $a\\not\\equiv 0 \\operatorname{mod}p$ e seja $b\\in\\mathbb{Z}_p^*$ tal que $a\\equiv b\\operatorname{mod}p$.\n",
        "\n",
        "$$a-b=kp\\quad,\\quad\\exists\\,k\\in\\mathbb{Z}$$\n",
        "\n",
        "$$a=kp+b\\quad\\Longrightarrow\\quad a^p=(kp+b)^p$$\n",
        "\n",
        "$$(kp+b)^p=\\sum_{i=0}^p \\binom{p}{i} (kp)^i b^{p-i}$$\n",
        "\n",
        "Notemos que para $1\\le i\\le p$, temos $(kp)^i\\equiv 0\\operatorname{mod}p$. Logo, segue-se que\n",
        "\n",
        "$$a^p=(kp+b)^p\\equiv b^p \\operatorname{mod}p = b \\operatorname{mod}p \\equiv a\\operatorname{mod}p\\,.$$\n",
        "\n",
        "Claramente, se $a\\equiv 0 \\operatorname{mod}p$ então $a^p\\equiv 0\\operatorname{mod}p$ e portanto $a^p\\equiv a\\operatorname{mod}p$."
      ]
    },
    {
      "cell_type": "markdown",
      "metadata": {
        "id": "BnqskSK0CHYk"
      },
      "source": [
        "## **77.**\n",
        "\n",
        "> Se $n,r>1$ e $m=\\operatorname{mmc}(n,r)$, mostre que:  \n",
        ">\n",
        "> (a) Qualquer elemento do grupo aditivo $\\mathbb{Z}_n\\times\\mathbb{Z}_r$ tem ordem menor ou igual a $m$.\n",
        "\n",
        "### **Solução.**\n",
        "\n",
        "Seja $(p,q)$ um elemento arbitrário do grupo aditivo $\\mathbb{Z}_n\\times\\mathbb{Z}_r$, e seja $\\operatorname{o}\\big((p,q)\\big)=\\big\\vert\\langle (p,q)\\rangle\\big\\vert=k$. Queremos provar que $k\\le m$.\n",
        "\n",
        "Como $m=\\operatorname{mmc}(n,r)$, notemos que para $(1,0)\\in\\mathbb{Z}_n\\times\\mathbb{Z}_r$ e $(0,1)\\in\\mathbb{Z}_n\\times\\mathbb{Z}_r$ temos claramente\n",
        "\n",
        "$$(1,0)^m=m(1,0)=(m,0)=(0,0).$$\n",
        "\n",
        "Similarmente,\n",
        "\n",
        "$$(0,1)^m=(0,m)=(0,0).$$\n",
        "\n",
        "Segue-se então que\n",
        "\n",
        "$$(p,q)^m=m(p,q)=mp(1,0)+mq(0,1)=p(m,0)+q(0,m)=p(0,0)+q(0,0)=(0,0).$$\n",
        "\n",
        "Logo, concluimos que $k\\le m$, uma vez que por definição, $k$ é o menor inteiro positivo tal que $(p,q)^k=(0,0)$.\n",
        "\n",
        "---\n",
        "\n",
        "> (b) O grupo aditivo $\\mathbb{Z}_n\\times\\mathbb{Z}_r$ é cíclico se e só se $\\operatorname{mdc}(n,r)=1$.\n",
        "\n",
        "### **Solução.**\n",
        "\n",
        "Provaremos que $\\mathbb{Z}_n\\times\\mathbb{Z}_r$ é cíclico encontrando pelo menos um elemento em $\\mathbb{Z}_n\\times\\mathbb{Z}_r$ cuja ordem seja igual à ordem de $\\mathbb{Z}_n\\times\\mathbb{Z}_r$. Lembremos que\n",
        "\n",
        "> $$\\operatorname{o}(\\mathbb{Z}_n\\times\\mathbb{Z}_r)=\\operatorname{o}(\\mathbb{Z}_n)\\operatorname{o}(\\mathbb{Z}_r)=n\\cdot r = \\operatorname{mdc}(n,r)\\cdot\\operatorname{mmc}(n,r)=\\operatorname{mdc}(n,r)\\cdot m\\,.$$\n",
        "\n",
        "Seja $k=\\operatorname{o}\\big((1,1)\\big)$. Da solução da parte (a) deste exercício sabemos que $k\\le m$. Por outra parte, suponhamos que $k<m$.\n",
        "\n",
        "$$(1,1)^k=k(1,1)=(k,k)=(0,0)\\quad\\Longleftrightarrow\\quad k\\equiv 0\\operatorname{mod}n\\quad\\text{e}\\quad k\\equiv 0\\operatorname{mod}r\\,$$\n",
        "\n",
        "ou seja, $k$ é um múltiplo comum de $n$ e $r$ menor que o $\\operatorname{mmc(n,r)}$. Isto é claramente uma contradição com a definição de $m$. Portanto, concluimos que $k=m$.\n",
        "\n",
        "Se $\\operatorname{mdc}(n,r)=1$ então $\\operatorname{o}(\\mathbb{Z}_n\\times\\mathbb{Z}_r)=m\\,$ e em consequência é um grupo cíclico tal que $\\mathbb{Z}_n\\times\\mathbb{Z}_r=\\big\\langle(1,1)\\big\\rangle$.\n",
        "\n",
        "Por outra parte, se $\\mathbb{Z}_n\\times\\mathbb{Z}_r$ é um grupo cíclico então $\\exists\\,(a,b)\\in\\mathbb{Z}_n\\times\\mathbb{Z}_r$ tal que $\\mathbb{Z}_n\\times\\mathbb{Z}_r=\\big\\langle(a,b)\\big\\rangle$. Em particular, para $(1,1)\\in\\mathbb{Z}_n\\times\\mathbb{Z}_r$, existe $\\ell\\in\\mathbb{Z}$ tal que\n",
        "\n",
        "$$(1,1)=(a,b)^{\\ell}=\\ell(a,b)=(\\ell a, \\ell b)\\,.$$\n",
        "\n",
        "Podemos assumir sem perda de generalidade que $0\\le a\\le n-1\\,$ e $\\,0\\le b\\le r-1$ (uma vez que estamos a trabalhar com classes modulares). Assim, temos que\n",
        "\n",
        "$$\\begin{array}{lcl}\n",
        "(1,1)=(\\ell a,\\ell b) &\\Longrightarrow& 1=\\ell a\\quad\\text{e}\\quad 1=\\ell b \\,.\\\\[1ex]\n",
        "&\\Longrightarrow& 1=\\ell\\,\\,,\\,\\,a=1\\,\\,,\\,\\,b=1\\,.\n",
        "\\end{array}$$\n",
        "\n",
        "Logo, $\\mathbb{Z}_n\\times\\mathbb{Z}_r=\\big\\langle(1,1)\\big\\rangle$ e como $\\operatorname{o}\\big((1,1)\\big)=m$ então $\\operatorname{o}(\\mathbb{Z}_n\\times\\mathbb{Z}_r)=m$, pelo que necessariamente $\\operatorname{mdc}(n,r)=1$.\n",
        "\n",
        "\n",
        "\n",
        "\n",
        "\n",
        "\n"
      ]
    },
    {
      "cell_type": "markdown",
      "metadata": {
        "id": "dfiN0RJeiRTN"
      },
      "source": [
        "## **78.**\n",
        "\n",
        "> Mostre que o grupo aditivo $\\mathbb{Z}_6$ é isomorfo ao grupo multiplicativo $U_7=\\mathbb{Z}_7^*$.\n",
        "\n",
        "### **Solução.**\n",
        "\n",
        "Para mostrar que o grupo aditivo $\\mathbb{Z}_6$ é isomorfo ao grupo multiplicativo $\\mathbb{Z}_7^*$ iremos comparar as suas tabelas de multiplicação. Assim temos\n",
        "\n",
        "$$\\large\\begin{array}{c|cccccc}\n",
        "+_{\\small\\mathbb{Z}_6} & 0 & 1 & 2 & 3 & 4 & 5 \\\\\n",
        "\\hline\n",
        "0 & 0 & 1 & 2 & 3 & 4 & 5 \\\\[1ex]\n",
        "1 & 1 & 2 & 3 & 4 & 5 & 0 \\\\[1ex]\n",
        "2 & 2 & 3 & 4 & 5 & 0 & 1 \\\\[1ex]\n",
        "3 & 3 & 4 & 5 & 0 & 1 & 2 \\\\[1ex]\n",
        "4 & 4 & 5 & 0 & 1 & 2 & 3 \\\\[1ex]\n",
        "5 & 5 & 0 & 1 & 2 & 3 & 4\n",
        "\\end{array}\\qquad\\quad\\begin{array}{c|cccccc}\n",
        "\\cdot_{\\small\\mathbb{Z}_7^*} & 1 & 2 & 3 & 4 & 5 & 6 \\\\\n",
        "\\hline\n",
        "1 & 1 & 2 & 3 & 4 & 5 & 6 \\\\[1ex]\n",
        "2 & 2 & 4 & 6 & 1 & 3 & 5 \\\\[1ex]\n",
        "3 & 3 & 6 & 2 & 5 & 1 & 4 \\\\[1ex]\n",
        "4 & 4 & 1 & 5 & 2 & 6 & 3 \\\\[1ex]\n",
        "5 & 5 & 3 & 1 & 6 & 4 & 2 \\\\[1ex]\n",
        "6 & 6 & 5 & 4 & 3 & 2 & 1\n",
        "\\end{array}\\normalsize$$\n",
        "\n",
        "As tabelas de multiplicação não são similares, mas isso isso não significa que os grupos $(\\mathbb{Z}_6,+)\\,$ e $\\,(\\mathbb{Z}_7^*,\\cdot)$ não sejam isomorfos. Olhando com mais atenção para as tabelas podemos notar que há uma simetria em relação à diagonal (do extremo superior esquerdo ao extremo inferior direito) em ambas as tabelas. Isto nos leva a pensar que se reindexamos convenientemente os elementos quer de $\\mathbb{Z}_7^*$ quer de $\\mathbb{Z}_6$ podemos pôr em evidência que elas coincidem. Escolhemos reindexar, por exemplo, os elementos de $\\mathbb{Z}_7^*$. Assim temos\n",
        "\n",
        "$$\\large\\begin{array}{c|cccccc}\n",
        "\\cdot_{\\small\\mathbb{Z}_7^*} & 1 & 3 & 2 & 6 & 4 & 5 \\\\\n",
        "\\hline\n",
        "1 & 1 & 3 & 2 & 6 & 4 & 5 \\\\[1ex]\n",
        "3 & 3 & 2 & 6 & 4 & 5 & 1 \\\\[1ex]\n",
        "2 & 2 & 6 & 4 & 5 & 1 & 3 \\\\[1ex]\n",
        "6 & 6 & 4 & 5 & 1 & 3 & 2 \\\\[1ex]\n",
        "4 & 4 & 5 & 1 & 3 & 2 & 6 \\\\[1ex]\n",
        "5 & 5 & 1 & 3 & 2 & 6 & 4\n",
        "\\end{array}\\normalsize$$\n",
        "\n",
        "Desta forma, fica em evidência que os grupos $(\\mathbb{Z}_6,+)\\,$ e $\\,(\\mathbb{Z}_7^*,\\cdot)$ são isomorfos."
      ]
    },
    {
      "cell_type": "markdown",
      "metadata": {
        "id": "LwQjabwRuZ9j"
      },
      "source": [
        "## **79.**\n",
        "\n",
        "> Sejam $f: G\\to H$ morfismo de grupos e $a\\in G$. Mostre que:\n",
        ">\n",
        "> (a) Se $\\operatorname{o}(a)$ é finita então $\\operatorname{o}(f(a))$ também é finita e divide $\\operatorname{o}(a)$.\n",
        "\n",
        "### **Solução.**\n",
        "\n",
        "Seja $\\operatorname{o}(a)=n\\in\\mathbb{N}$. Sabemos que $\\langle a\\rangle$ é subgrupo de $G$. Então $f(\\langle a\\rangle)$ é subgrupo de $H$. Verifica-se facilmente que $f(\\langle a\\rangle)=\\langle f(a)\\rangle$. Como $a^n=e_G$ então $f(a)^n=f(a^n)=f(e_G)=e_H$. Pela definição da ordem de um elemento, segue-se que $\\operatorname{o}(f(a))\\le n=\\operatorname{o}(a)$. Seja $m=\\operatorname{o}(f(a))$. Pelo algoritmo da divisão, $n=mq+r$, para algum $q\\in\\mathbb{Z}$ e tal que $0\\le r<m$. Note-se que $f(a)^r=f(a)^{n-mq}=e_H$. Então $r=0$, uma vez que $m$ é a ordem de $f(a)$, e portanto $m\\mid n$.\n"
      ]
    },
    {
      "cell_type": "markdown",
      "metadata": {
        "id": "AcaDlG3MfGdA"
      },
      "source": [
        "## **80.**\n",
        "\n",
        "> Justifique que os grupos que se seguem não são isomorfos.\n",
        ">\n",
        "> (a) O grupo aditivo $\\mathbb{Z}_4\\times\\mathbb{Z}_2$ e o grupo diedral $D_4$.\n",
        "\n",
        "### **Solução.**\n",
        "\n",
        "O grupo aditivo $\\mathbb{Z}_4\\times\\mathbb{Z}_2$ **é abeliano** e os seus elementos sâo\n",
        "\n",
        "$$\\mathbb{Z}_4\\times\\mathbb{Z}_2=\\big\\{(\\bar{0},\\bar{0}), (\\bar{1},\\bar{0}), (\\bar{2},\\bar{0}), (\\bar{3},\\bar{0}), (\\bar{0},\\bar{1}),(\\bar{1},\\bar{1}), (\\bar{2},\\bar{1}), (\\bar{3},\\bar{1})\\big\\}\\,.$$\n",
        "\n",
        "O grupo diedral $D_4$ é formado pelos movimentos rígidos que levam o quadrado de volta para si mesmo, sendo a operação de grupo dada por composição. Os movimentos rígidos que levam o quadrado de volta para si mesmo são as rotações e as reflexões indicadas na figura abaixo. Eles podem ser identificados com elementos do grupo de permutações $S_4$. Note-se que as translações do quadrado no plano são também movimentos rígidos mas salvo a translação que deixa fixo o quadrado, qualquer outra translação não leva o quadrado de volta para si mesmo.\n",
        "\n",
        "![Grupo diedral D4.png](https://drive.google.com/uc?id=1Sx0xZyvUCLy3ek8TOON-qAWus6sv-Hm4)\n",
        "\n",
        "Podemos verificar facilmente que o grupo $D_4$ **não é abeliano**, por exemplo, experimentemos com a composição da rotação representada por $2341$ e a reflexão representada por $1432$ em ambos os sentidos. Assim temos\n",
        "\n",
        "$$1432\\cdot 2341 = 4321\\neq 2341\\cdot 1432 = 2143$$\n",
        "\n",
        "---\n",
        "\n",
        "> (b) Os grupos aditivos $\\mathbb{Z}_4\\times\\mathbb{Z}_2\\,$ e $\\,\\mathbb{Z}_2\\times\\mathbb{Z}_2\\times\\mathbb{Z}_2$.\n",
        "\n",
        "### **Solução.**\n",
        "\n",
        "O grupo aditivo $\\mathbb{Z}_2\\times\\mathbb{Z}_2\\times\\mathbb{Z}_2$ é formado por\n",
        "\n",
        "$$\\mathbb{Z}_2\\times\\mathbb{Z}_2\\times\\mathbb{Z}_2=\\big\\{(\\bar{0},\\bar{0},\\bar{0}),(\\bar{0},\\bar{0},\\bar{1}),(\\bar{0},\\bar{1},\\bar{0}),(\\bar{1},\\bar{0},\\bar{0}),(\\bar{1},\\bar{0},\\bar{1}),(\\bar{1},\\bar{1},\\bar{0}),(\\bar{0},\\bar{1},\\bar{1}),(\\bar{1},\\bar{1},\\bar{1})\\big\\}\\,.$$\n",
        "\n",
        "Todos os elementos de $\\mathbb{Z}_2\\times\\mathbb{Z}_2\\times\\mathbb{Z}_2$ salvo $(\\bar{0},\\bar{0},\\bar{0})$ **têm ordem $2$**. Porém, **nem todos os elementos** de $\\mathbb{Z}_4\\times\\mathbb{Z}_2$ **têm ordem $2$**, por exemplo $\\operatorname{o}\\big((1,1)\\big)=4$.\n",
        "\n",
        "\n"
      ]
    },
    {
      "cell_type": "markdown",
      "metadata": {
        "id": "jla6IfohD6cX"
      },
      "source": [
        "## **89.**\n",
        "\n",
        "> Considere as permutações em $S_9$\n",
        ">\n",
        "> $\\sigma = \\begin{pmatrix}1 & 2 & 3 & 4 & 5 & 6 & 7 & 8 & 9\\\\\n",
        "3 & 5 & 1 & 2 & 4 & 6 & 8 & 9 & 7\n",
        "\\end{pmatrix};\\quad$ $\\tau=\\begin{pmatrix}1 & 2 & 3 & 4 & 5 & 6 & 7 & 8 & 9\\\\\n",
        "3 & 5 & 1 & 2 & 4 & 9 & 8 & 7 & 6\n",
        "\\end{pmatrix};$\n",
        ">\n",
        "><br>\n",
        ">\n",
        "> $\\rho=(14)(27)(523)(34)(1472).$\n",
        ">\n",
        "> (a) Escreva cada uma como produto de ciclos disjuntos.\n",
        "\n",
        "### **Solução.**\n",
        "\n",
        "Vamos percorrer os índices de $\\sigma$ e de $\\tau$ de esquerda a direita para construir os ciclos disjuntos. Assim temos\n",
        "\n",
        "$$\\sigma=(13)(254)(789)\\quad\\text{e}\\quad \\tau=(13)(254)(69)(78)\\,.$$\n",
        "\n",
        "Note-se que sendo os ciclos de $\\sigma$ e $\\tau$ disjuntos podemos escrevê-los na ordem que quisermos, por exemplo\n",
        "\n",
        "$$\\sigma=(254)(13)(789)\\quad\\text{e}\\quad \\tau=(78)(13)(69)(254)\\,.$$\n",
        "\n",
        "Para escrever $\\sigma$ e $\\tau$ na notação original, **percorremos os ciclos de direita para a esquerda**. Note-se que podemos também percorrer os ciclos de **esquerda para a direita**. Isto é possível só porque são **ciclos disjuntos.**\n",
        "\n",
        "No caso da permutação $\\rho$ vamos passar primeiro para a notação original e depois vamos percorrer os índices de esquerda a direita para construir os ciclos disjuntos. Vamos a isso.\n",
        "\n",
        "$$\\begin{array}{ccl}\n",
        "\\rho = (14)(27)(523)(34)(1472) &=& \\begin{pmatrix}1 & 2 & 3 & 4 & 5 & 6 & 7 & 8 & 9\\\\\n",
        "5 & 4 & 1 & 2 & 7 & 6 & 3 & 8 & 9\n",
        "\\end{pmatrix}\\\\[1ex]\n",
        "&=& (1573)(24)\\,.\n",
        "\\end{array}\n",
        "$$\n",
        "\n",
        "Note-se que se percorremos os ciclos $(14)(27)(523)(34)(1472)$ de esquerda a direita obtemos\n",
        "\n",
        "$$\\begin{pmatrix}1 & 2 & 3 & 4 & 5 & 6 & 7 & 8 & 9\\\\\n",
        "3 & 2 & 5 & 4 & 1 & 6 & 7 & 8 & 9\n",
        "\\end{pmatrix} = (135)\\,.$$\n",
        "\n",
        "**Não temos de esquecer** que a **convenção** que seguimos quando fazemos composição de funções e **ler de direita para a esquerda**.\n",
        "\n"
      ]
    },
    {
      "cell_type": "markdown",
      "metadata": {
        "id": "Sx8s2Teng7TB"
      },
      "source": [
        "# **Aula 12: Grupos (terceira parte)**\n",
        "\n"
      ]
    },
    {
      "cell_type": "markdown",
      "metadata": {
        "id": "KCskhcdAhLLK"
      },
      "source": [
        "## **81.**\n",
        "\n",
        "Calcule o índice de $H$ em $G$, $[G:H]$, se:\n",
        "\n",
        "> (a) $H=\\big\\{(1),(13)(24)\\big\\}\\,$ e $\\,G=\\big\\{(1),(1234),(13)(24),(1432),(24),(13),(12)(34),(14)(23)\\big\\}$.\n",
        "\n",
        "### **Solução.**\n",
        "\n",
        "Usaremos o Teorema de Lagrange, $\\operatorname{o}(H)=2\\,$ e $\\,\\operatorname{o}(G)=8$. Logo, $[G:H]=4$.\n",
        "\n",
        "---\n",
        "\n",
        "> (b)  $H=\\langle \\bar{3}\\rangle\\,$ e $\\,G=\\mathbb{Z}_{12}$.\n",
        "\n",
        "### **Solução.**\n",
        "\n",
        "Repare-se que estamos a trabalhar com $\\mathbb{Z}_{12}$ como grupo aditivo. Podemos facilmente verificar que $\\operatorname{o}(H)=4$ e como $\\operatorname{o}(G)=12$, concluimos que $[G:H]=3$.\n",
        "\n",
        "---\n",
        "\n",
        "> (c) $H=\\langle\\overline{12},\\overline{20}\\rangle\\,$ e $\\,G=\\mathbb{Z}_{40}$.\n",
        "\n",
        "### **Solução.**\n",
        "\n",
        "Como $\\operatorname{o}(G)=40$, pelo teorema de Lagrange as únicas ordens possíveis para um subgrupo de $G$ são: $1,2,4,5,8,10,20,40$.\n",
        "\n",
        "Para simplificar, vamos prescindir da notação $\\bar{a}$, mas sem esquecer que estamos a trabalhar com classes residuais, notemos que\n",
        "\n",
        "$$a\\in H\\quad\\Longleftrightarrow\\quad a =12 n + 20 m\\,\\,,\\,\\,\\exists\\,n,m\\in\\mathbb{Z}\\,.$$\n",
        "\n",
        "Os geradores $12$ e $20$ de $H$ têm ordem $10$ e $2$ respectivamente. Para além deles temos também, por exemplo\n",
        "\n",
        "$$\\begin{array}{rclcl}\n",
        "4 &=& 12\\cdot\\color{red}2 + 20\\cdot\\color{red}-\\color{red}1 &,& \\operatorname{o}(4)=10.\\\\[1ex]\n",
        "16 &=& 12\\cdot\\color{red}3 + 20\\cdot\\color{red}-\\color{red}1 &,& \\operatorname{o}(16)=10.\\\\[1ex]\n",
        "8 &=& 12\\cdot\\color{red}-\\color{red}1 + 20\\cdot\\color{red}1 &,& \\operatorname{o}(8)=5.\\\\[1ex]\n",
        "32 &=& 12\\cdot\\color{red}1 + 20\\cdot\\color{red}1 &,& \\operatorname{o}(32)=5.\n",
        "\\end{array}$$\n",
        "\n",
        "Portanto, deduzimos que $\\operatorname{o}(H)=10$ ou $\\operatorname{o}(H)=20$. Observe-se que $\\operatorname{o}(H)\\neq 40$, pois por exemplo $1\\notin H$ ($12$ e $20$ não são primos entre si). Da facto, note-se que\n",
        "\n",
        "$$a=12n+20m=4(3n+5m)\\,,$$\n",
        "\n",
        "ou seja, ficam imediatamente descartados como elementos de $H$ as classes representadas por: $1,2,3,5,6,7,9,11,13,15,17,19,21,23,25,29,31,33,35,37,39$, isto é, ficam de fora pelo menos $21$ elementos. Em consequência, $\\operatorname{o}(H)=10$ e, portanto, $[G:H]=4$.\n",
        "\n",
        "---\n",
        "\n",
        "> (d) $H=\\langle(1234)\\rangle\\,$ e $\\,G=S_4$.\n",
        "\n",
        "### **Solução.**\n",
        "\n",
        "Sabemos que $\\operatorname{o}(G)=4!=24$ e como (1234)=(4123)=(3412)=(2341)=(1234), segue-se que $\\operatorname{o}(H)=4$. Em consequência, $[G:H]=6$.\n"
      ]
    },
    {
      "cell_type": "markdown",
      "metadata": {
        "id": "IQTXGbJFcCd4"
      },
      "source": [
        "## **82.**\n",
        "\n",
        "> Suponha que $G=\\langle a\\rangle$ é grupo cíclico e que $\\operatorname{o}(a)=15$. Se $H=\\langle a^3\\rangle$, identifique todas as classes laterais direitas de $H$ em $G$.\n",
        "\n",
        "### **Solução.**\n",
        "\n",
        "No contexto das classes laterais lembremos que\n",
        "\n",
        "$$Ha=Hb\\quad\\Longleftrightarrow\\quad ab^{-1}\\in H\\,.$$\n",
        "\n",
        "Ora, $H=\\{0,a^3,a^6,a^9,a^{12}\\}$. Logo, as classes laterais (nesta primeira listagem há repetições) são\n",
        "\n",
        "$$H, Ha, Ha^2, Ha^4, Ha^5, Ha^7,Ha^8, Ha^{10}, Ha^{11}, Ha^{13}, Ha^{14}\\,.$$\n",
        "\n",
        "Usando o critério acima indicado para identificar as classes laterais, obtemos\n",
        "\n",
        "$$\\begin{align}\n",
        "Ha = Ha^4 = Ha^7 = Ha^{10} = Ha^{13}. \\\\[1ex]\n",
        "Ha^2 = Ha^5 = Ha^8 = Ha^{11} = Ha^{14}.\n",
        "\\end{align}$$\n",
        "\n",
        "Portanto, em definitivo as classes laterais são: $H$, $Ha$ e $Ha^2$.\n"
      ]
    },
    {
      "cell_type": "markdown",
      "metadata": {
        "id": "F2mO3DM4mxfO"
      },
      "source": [
        "## **83.**\n",
        "\n",
        "> Dê exemplo de um grupo $G$ e um subgrupo $H$ de $G$ tais que:\n",
        ">\n",
        "> (a) $[G:H]$ finito.\n",
        "\n",
        "### **Solução.**\n",
        "\n",
        "Seja $G$ o grupo aditivo $(\\mathbb{Z},+)$ e $H$ o subgrupo de G formado pelos inteiros múltiplos de 3. Logo, $[G:H]=3$ e as classes laterais correspondentes sâo:\n",
        "\n",
        "$$\\begin{array}{ccl}\n",
        "H &=& \\{3k : k\\in\\mathbb{Z}\\}. \\\\[1ex]\n",
        "H+1 &=& \\{3k+1 : k\\in\\mathbb{Z}\\}. \\\\[1ex]\n",
        "H+2 &=& \\{3k+2 : k\\in\\mathbb{Z}\\}.\n",
        "\\end{array}$$\n",
        "\n",
        "---\n",
        "\n",
        "> (b) $[G:H]$ infinito.\n",
        "\n",
        "### **Solução.**\n",
        "\n",
        "Seja $G$ o grupo aditivo $(\\mathbb{Q},+)$ e $H$ o subgrupo dos inteiros $(\\mathbb{Z},+)$. O índice $[G:H]$ conta o número de classes laterais (direitas) que podemos formar a partir de $H$. Como podemos facilmente reconhecer, exemplos de classes laterais neste caso são:\n",
        "\n",
        "$$\\mathbb{Z}+\\frac{1}{2} \\quad,\\quad \\mathbb{Z}+\\frac{1}{3} \\quad,\\quad \\mathbb{Z}+\\frac{2}{3} \\quad,\\quad\\ldots$$\n",
        "\n",
        "No geral, sejam $q_1,q_2\\in\\mathbb{Q}$, tem-se\n",
        "\n",
        "$$\\mathbb{Z}+q_1 =\\mathbb{Z}+q_2\\quad\\Longleftrightarrow\\quad q_1-q_2\\in\\mathbb{Z}\\,.$$\n",
        "\n",
        "As três classes laterais acima mostradas explicitamente **são todas diferentes** pois para $q_1,q_2\\in\\big\\{\\frac{1}{2},\\frac{1}{3},\\frac{2}{3}\\big\\}$ tais que $q_1\\neq q_2$, tem-se $q_1-q_2\\notin\\mathbb{Z}$. Podemos então deduzir imediatamente que existe um número ilimitado de classes laterais $\\mathbb{Z}+q$, ou seja, o índice $[G:H]$ é infinito.\n",
        "\n",
        "**Nota:** A ordem de cada classe lateral é finita."
      ]
    },
    {
      "cell_type": "markdown",
      "metadata": {
        "id": "5pjgrg5eRgF0"
      },
      "source": [
        "## **84.**\n",
        "\n",
        "> Sejam\n",
        "> $$\\begin{array}{lcl}\n",
        "D &=& \\big\\{(1),(1234),(13)(24),(1432),(24),(13),(12)(34),(14)(23)\\big\\}\\\\[1ex]\n",
        "N &=& \\big\\{(1),(13)(24),(12)(34),(14)(23)\\big\\}\n",
        "\\end{array}$$\n",
        ">\n",
        "> Mostre que $N$ é subgrupo normal de $D$.\n",
        "\n",
        "### **Solução.**\n",
        "\n",
        "Um subgrupo $H$ de $G$ é **normal** se e só se $\\forall\\,g\\in G$ tem-se $ghg^{-1}\\in H$, para qualquer $h\\in H$.\n",
        "\n",
        "Primeiro, calculemos os inversos de cada elemento de $D$.\n",
        "\n",
        "$$\\begin{array}{lcl}\n",
        "(1)^{-1} &=& (1),\\\\[1ex]\n",
        "(1234)^{-1} &=& (1432),\\\\[1ex]\n",
        "((13)(24))^{-1} &=& (24)^{-1}(13)^{-1}=(24)(13)=(13)(24),\\\\[1ex]\n",
        "(1432)^{-1} &=& (1234),\\\\[1ex]\n",
        "(24)^{-1} &=& (24),\\\\[1ex]\n",
        "(13)^{-1} &=& (13),\\\\[1ex]\n",
        "((12)(34))^{-1} &=& (34)^{-1}(12)^{-1} = (34)(12) = (12)(34),\\\\[1ex]\n",
        "((14)(23))^{-1} &=& (23)^{-1}(14)^{-1} = (23)(14) = (14)(23).\n",
        "\\end{array}$$\n",
        "\n",
        "Podemos ver que a identidade $(1)\\in N$ e para cada $a\\in N,\\,\\, a^{-1}\\in N$. Para mostrar que $N$ é subgrupo de $D$, resta provar que $\\forall\\,a,b\\in N\\,\\,,\\,\\,ab\\in N$. A multiplicação de qualquer elemento de $N$ com a identidade está obviamente em $N$. Temos também\n",
        "\n",
        "$$\\begin{array}{c}\n",
        "((13)(24))^2=(13)(24)\\,\\,(13)(24)=(13)^2(24)^2=(1)\\\\[1ex]\n",
        "((12)(34))^2=(12)(34)\\,\\,(12)(34)=(12)^2(34)^2=(1)\\\\[1ex]\n",
        "((14)(23))^2=(14)(23)\\,\\,(14)(23)=(14)^2(23)^2=(1)\\\\[3ex]\n",
        "(13)(24)\\,\\,(12)(34)=(14)(23)\\\\[1ex]\n",
        "(12)(34)\\,\\,(13)(24)=(14)(23)\\\\[3ex]\n",
        "(13)(24)\\,\\,(14)(23)=(12)(34)\\\\[1ex]\n",
        "(14)(23)\\,\\,(13)(24)=(12)(34)\\\\[3ex]\n",
        "(12)(34)\\,\\,(14)(23)=(13)(24)\\\\[1ex]\n",
        "(14)(23)\\,\\,(12)(34)=(13)(24)\n",
        "\\end{array}$$\n",
        "\n",
        "Concluimos que $N\\le G$. Para mostrar que $N\\trianglelefteq G$, resta verificar se os produtos da forma $ghg^{-1}\\in H$ com $g\\in G\\setminus H$, para cada $h\\in H$. A verificação para $h=(1)$ é trivial. Assim, tem-se\n",
        "\n",
        "$$\\begin{array}{ccccc}\n",
        "       &(13)(24)& && (13)(24) \\\\\n",
        "(1234) &(12)(34)& (1432) &=& (14)(23) \\\\  \n",
        "       &(14)(23) &  && (12)(34)\n",
        "\\end{array}$$\n",
        "\n",
        "<br>\n",
        "\n",
        "$$\\begin{array}{ccccc}\n",
        "       &(13)(24)& && (13)(24) \\\\\n",
        "(1432) &(12)(34)& (1234) &=& (14)(23) \\\\  \n",
        "       &(14)(23) &  && (12)(34)\n",
        "\\end{array}$$\n",
        "\n",
        "<br>\n",
        "\n",
        "$$\\begin{array}{ccccc}\n",
        "       &(13)(24)& && (13)(24) \\\\\n",
        "(13) &(12)(34)& (13) &=& (14)(23) \\\\  \n",
        "       &(14)(23) &  && (12)(34)\n",
        "\\end{array}$$\n",
        "\n",
        "<br>\n",
        "\n",
        "$$\\begin{array}{ccccc}\n",
        "       &(13)(24)& && (13)(24) \\\\\n",
        "(24) &(12)(34)& (24) &=& (14)(23) \\\\  \n",
        "       &(14)(23) &  && (12)(34)\n",
        "\\end{array}$$\n",
        "\n",
        "Logo, concluimos que $N\\trianglelefteq G$."
      ]
    },
    {
      "cell_type": "markdown",
      "metadata": {
        "id": "wyu4VQgMvY2T"
      },
      "source": [
        "## **86.**\n",
        "\n",
        "> Seja $G$ grupo com mais do que um elemento. Supondo que $G$ não admite subgrupos próprios, mostre que $G$ é cíclico finito de ordem $p$, para algum primo $p$.\n",
        "\n",
        "### **Solução.**\n",
        "\n",
        "Se $G$ é finito então pelo teorema de Lagrange a ordem de qualquer subgrupo $H$ divide a ordem de $G$. Como $G$ não tem subgrupos própios então $\\operatorname{o}(H)=1$ ou $\\operatorname{o}(H)=\\operatorname{o}(G)$. Isto implica que $\\operatorname{o}(G)=p$ para algum primo $p$. Como $G$ tem mais do que um elemento então, seja $a$ qualquer elemento de $G$ tal que $a\\neq e_G$. Repare-se que necessariamente $\\operatorname{o}(a^k)=p$ para $1\\le k\\le p-1$ porque $\\langle a^k\\rangle\\le G$ e $G$ não tem subgrupos próprios. Isto significa que $G$ é cíclico.\n",
        "\n",
        "<br>\n",
        "\n",
        "Podemos deduzir também que $G$ não pode ser um grupo infinito porque para qualquer $a\\in G$ tal que $a\\neq e_G$ e **para qualquer** $k\\in\\mathbb{N}$, $\\langle a^k\\rangle\\le G$, e como $G$ não admite subgrupos próprios então $\\langle a^k\\rangle=\\{e_G\\}$ ou $\\langle a^k\\rangle=G$. Isto implica que $a=e_G$, o que é uma **contradição** porque tínhamos tomado $a\\neq e_G$, usando o facto de que $G$ tem mais do que um elemento."
      ]
    },
    {
      "cell_type": "markdown",
      "metadata": {
        "id": "Uy-JUOVEw8nj"
      },
      "source": [
        "## **89.**\n",
        "\n",
        "> Considere as permutações em $S_9$\n",
        ">\n",
        "> $\\sigma = \\begin{pmatrix}1 & 2 & 3 & 4 & 5 & 6 & 7 & 8 & 9\\\\\n",
        "3 & 5 & 1 & 2 & 4 & 6 & 8 & 9 & 7\n",
        "\\end{pmatrix};\\quad$ $\\tau=\\begin{pmatrix}1 & 2 & 3 & 4 & 5 & 6 & 7 & 8 & 9\\\\\n",
        "3 & 5 & 1 & 2 & 4 & 9 & 8 & 7 & 6\n",
        "\\end{pmatrix};$\n",
        ">\n",
        "><br>\n",
        ">\n",
        "> $\\rho=(14)(27)(523)(34)(1472).$\n",
        ">\n",
        "> (b) Escreva cada uma como produto de transposições e classifique-a quanto à respectiva paridade.\n",
        "\n",
        "### **Solução.**\n",
        "\n",
        "Lembremos que qualquer ciclo pode ser escrito como produto de transposições\n",
        "\n",
        "$$\\begin{align}\n",
        "(a_1a_2\\cdots a_k) &=(a_1a_k)(a_1a_{k-1})\\cdots(a_1a_2)\\\\[1ex]\n",
        "&=(a_1a_2)(a_2a_3)\\cdots(a_{k-1}a_k).\n",
        "\\end{align}\n",
        "$$\n",
        "\n",
        "Na parte (a) deste exercício vimos que $\\sigma=(13)(254)(789)$, $\\tau=(13)(254)(69)(78)$. Portanto, tem-se\n",
        "\n",
        "$$\\sigma=(13)(24)(25)(79)(78)\\quad,\\quad\\tau=(13)(24)(25)(69)(78)\\,.$$\n",
        "\n",
        "No caso de $\\rho$, temos $\\rho=(14)(27)(523)(34)(1472)=(14)(27)(53)(52)(34)(12)(17)(14)$.\n",
        "\n",
        "As permutações $\\sigma$ e $\\tau$ são **ímpares** e a permutação $\\rho$ é **par**."
      ]
    },
    {
      "cell_type": "markdown",
      "metadata": {
        "id": "NSeyLVf9v69-"
      },
      "source": [
        "## **92.**\n",
        "\n",
        "> Considere $\\theta=\\begin{pmatrix}1 & 2 & 3 & 4 & 5 & 6 & 7 & 8 & 9\\\\ 3 & 7 & 8 & 9 & 4 & 5 & 2 & 1 & 6\\end{pmatrix}\\in S_9$.\n",
        ">\n",
        "> (a) Determine a ordem de $\\theta$.\n",
        "\n",
        "### **Solução.**\n",
        "\n",
        "Vamos primeiro escrever $\\theta$ como **produto de ciclos disjuntos**. Tem-se\n",
        "\n",
        "$$\\theta=(138)(27)(4965)$$\n",
        "\n",
        "O ciclo $(138)$ tem ordem $3$, o ciclo $(27)$ tem ordem $2$, e o ciclo $(4965)$ tem ordem $4$. Logo, $\\operatorname{o}(\\theta)=\\operatorname{mmc}(3,2,4)=12$.\n",
        "\n",
        "---\n",
        "\n",
        "> (b) Calcule $\\theta^{1000}$.\n",
        "\n",
        "### **Solução.**\n",
        "\n",
        "Como $1000\\equiv 4\\operatorname{mod}12$, então\n",
        "\n",
        "$$\\theta^{1000}=\\theta^4=\\big((138)(27)(4965)\\big)^4=(138)^4(27)^4(4965)^4=(138)\\,.$$\n",
        "\n"
      ]
    },
    {
      "cell_type": "markdown",
      "source": [
        "# **Aula 13: Grupos (quarta parte)**"
      ],
      "metadata": {
        "id": "D4twXgq2YWp6"
      }
    },
    {
      "cell_type": "markdown",
      "source": [
        "## **87.**\n",
        "\n",
        "> Seja $G$ grupo gerado por dois elementos $a$ e $b$, tais que $\\operatorname{o}(a)=4$, $\\operatorname{o}(b)=2$ e $ba=a^3b$. Mostre que $G$ é grupo de ordem $8$ e que $G\\cong D_4$.\n",
        "\n",
        "### **Solução.**\n",
        "\n",
        "$$g\\in G=\\langle a,b\\rangle\\quad\\Longrightarrow\\quad g=a^mb^n\\quad\\exists\\,m,n\\in\\mathbb{Z}\\,.$$\n",
        "\n",
        "Fixemos primeiro $n$. Como $\\operatorname{o}(a)=4$ temos que $a^{-1}=a^3,\\,\\,\\,a^{-2}=a^2,\\,\\,\\,a^{-3}=a^1$, e então\n",
        "\n",
        "$$\\begin{array}{lcl}\n",
        "g &=& a^{-3}b^n\\quad,\\quad a^{-2}b^n\\quad,\\quad a^{-1}b^n\\quad,\\quad a^0b^n\\quad,\\quad a^1b^n\\quad,\\quad a^2b^n\\quad,\\quad a^3b^n\\\\[1ex]\n",
        "&=& ab^n\\quad,\\quad a^2b^n\\quad,\\quad a^3b^n\\quad,\\quad b^n\\,.\n",
        "\\end{array}$$\n",
        "\n",
        "Ora, como $\\operatorname{o}(b)=2$ temos que $b^{-1}=b^1$ e então\n",
        "\n",
        "$$\\begin{array}{lcl}\n",
        "g &=& ab^0\\quad,\\quad a^2b^0\\quad,\\quad a^3b^0\\quad,\\quad b^0\\quad,\\quad ab^1\\quad,\\quad a^2b^1\\quad,\\quad a^3b^1\\quad,\\quad b^1\\\\[1ex]\n",
        "&=& a\\quad,\\quad a^2\\quad,\\quad a^3\\quad,\\quad e_G\\quad,\\quad ab\\quad,\\quad a^2b\\quad,\\quad a^3b\\quad,\\quad b\\,.\n",
        "\\end{array}$$\n",
        "\n",
        "Se, por exemplo, tomamos $b\\in G$ e $a^2\\in G$ então $ba^2$ é um dos elementos acima listados. Para comprová-lo usamos a relação $ba=a^3b$. De facto, temos\n",
        "\n",
        "$$ba^2=a^3ba=a^3a^3b=a^6b=a^2b$$\n",
        "\n",
        "Provaremos que os $8$ elementos mostrados acima são de facto todos os elementos de $G$. Para isso, apresentamos a tabela de multiplicação do grupo $G$.\n",
        "\n",
        "$$\\large\\begin{array}{c|cccccc}\n",
        "\\cdot_{\\small G} & e & a & a^2 & a^3 & b & ab & a^2b & a^3b \\\\\n",
        "\\hline\n",
        "e & e & a & a^2 & a^3 & b & ab & a^2b & a^3b \\\\[1ex]\n",
        "a & a & a^2 & a^3 & e & ab & a^2b & a^3b & b \\\\[1ex]\n",
        "a^2 & a^2 & a^3 & e & a & a^2b & a^3b & b& ab \\\\[1ex]\n",
        "a^3 & a^3 & e & a & a^2 & a^3b & b & ab & a^2b \\\\[1ex]\n",
        "b & b & a^3b & a^2b & ab & e & a^3 & a^2 & a \\\\[1ex]\n",
        "ab & ab & b & a^3b & a^2b & a & e & a^3 & a^2 \\\\[1ex]\n",
        "a^2b & a^2b & ab & b & a^3b & a^2 & a & e & a^3 \\\\[1ex]\n",
        "a^3b & a^3b & a^2b & ab & b & a^3 & a^2 & a & e\n",
        "\\end{array}\\normalsize$$\n",
        "\n",
        "Finalmente, para mostrar que $G\\cong D_4$ basta comprovar que as respectivas tabelas de multiplicação têm a mesma estrutura.\n",
        "\n",
        "$$\\large\\begin{array}{c|cccccc}\n",
        "\\cdot_{\\small D_4} & 1234 & 2341 & 3412 & 4123 & 3214 & 1432 & 2143 & 4321 \\\\\n",
        "\\hline\n",
        "1234 & 1234 & 2341 & 3412 & 4123 & 3214 & 1432 & 2143 & 4321 \\\\[1ex]\n",
        "2341 & 2341 & 3412 & 4123 & 1234 & 4321 & 2143 & 3214 & 1432 \\\\[1ex]\n",
        "3412 & 3412 & 4123 & 1234 & 2341 & 1432 & 3214 & 4321 & 2143 \\\\[1ex]\n",
        "4123 & 4123 & 1234 & 2341 & 3412 & 2143 & 4321 & 1432 & 3214 \\\\[1ex]\n",
        "3214 & 3214 & 2143 & 1432 & 4321 & 1234 & 3412 & 2341 & 4123 \\\\[1ex]\n",
        "1432 & 1432 & 4321 & 3214 & 2143 & 3412 & 1234 & 4123 & 2341 \\\\[1ex]\n",
        "2143 & 2143 & 1432 & 4321 & 3214 & 4123 & 2341 & 1234 & 3412 \\\\[1ex]\n",
        "4321 & 4321 & 3214 & 2143 & 1432 & 2341 & 4123 & 3412 & 1234\n",
        "\\end{array}\\normalsize$$\n",
        "\n",
        "A primeira vista as tabelas de $G$ e $D_4$ são quase parecidas. Reacomodando os elementos de $D_4$ obtemos a seguinte tabela\n",
        "\n",
        "$$\\large\\begin{array}{c|cccccc}\n",
        "\\cdot_{\\small D_4} & 1234 & 2341 & 3412 & 4123 & 4321 & 1432 & 2143 & 3214 \\\\\n",
        "\\hline\n",
        "1234 & 1234 & 2341 & 3412 & 4123 & 4321 & 1432 & 2143 & 3214 \\\\[1ex]\n",
        "2341 & 2341 & 3412 & 4123 & 1234 & 1432 & 2143 & 3214 & 4321 \\\\[1ex]\n",
        "3412 & 3412 & 4123 & 1234 & 2341 & 2143 & 3214 & 4321 & 1432 \\\\[1ex]\n",
        "4123 & 4123 & 1234 & 2341 & 3412 & 3214 & 4321 & 1432 & 2143 \\\\[1ex]\n",
        "4321 & 4321 & 3214 & 2143 & 1432 & 1234 & 4123 & 3412 & 2341 \\\\[1ex]\n",
        "1432 & 1432 & 4321 & 3214 & 2143 & 2341 & 1234 & 4123 & 3412  \\\\[1ex]\n",
        "2143 & 2143 & 1432 & 4321 & 3214 & 3412 & 2341 & 1234 & 4123 \\\\[1ex]\n",
        "3214 & 3214 & 2143 & 1432 & 4321 & 4123 & 3412 & 2341 & 1234\n",
        "\\end{array}\\normalsize$$\n",
        "\n",
        "Desta vez resulta evidente que as tabelas de multiplicação de $G$ e $D_4$ têm a mesma estrutura, ou seja, $G\\cong D_4$.\n"
      ],
      "metadata": {
        "id": "L-kOHbVKYmN6"
      }
    },
    {
      "cell_type": "markdown",
      "source": [
        "## **90.**\n",
        "\n",
        "> Identifique todos os elementos de cada um dos grupos alternos:\n",
        ">\n",
        "> (a) $A_3$\n",
        "\n",
        "### **Solução.**\n",
        "\n",
        "![Grupo alterno.png](https://drive.google.com/uc?id=10kG6gx60n52f6fadIdi5IC2VUUPRreUI)\n",
        "\n",
        "$$\\begin{array}{c|c|c}\n",
        "\\text{1-linha} & \\text{ciclos} & \\text{produto de transposições} \\\\\n",
        "\\hline\n",
        "123 & (1) & (12)(12)\\\\[1ex]\n",
        "132 & (23) & (23)\\\\[1ex]\n",
        "321 & (13) & (13)\\\\[1ex]\n",
        "213 & (12) & (12)\\\\[1ex]\n",
        "231 & (123) & (13)(12) \\\\[1ex]\n",
        "312 & (132) & (12)(13)\n",
        "\\end{array}$$\n",
        "\n",
        "<br>\n",
        "\n",
        "$$A_3=\\big\\{(1), (123), (132) \\big\\}.$$\n",
        "\n",
        "---\n",
        "\n",
        "> (b) $A_4$\n",
        "\n",
        "### **Solução.**\n",
        "\n",
        "$$\\begin{array}{c|c|c}\n",
        "\\text{1-linha} & \\text{ciclos} & \\text{produto de transposições} \\\\\n",
        "\\hline\n",
        "1234 & (1) & (12)(12) \\\\[1ex]\n",
        "1342 & (234) & (24)(23) \\\\[1ex]\n",
        "3241 & (134) & (14)(13) \\\\[1ex]\n",
        "2431 & (124) & (14)(12) \\\\[1ex]\n",
        "2314 & (123) & (13)(12) \\\\[1ex]\n",
        "1243 & (34) & (34) \\\\[3ex]\n",
        "%\n",
        "1432 & (24) & (24) \\\\[1ex]\n",
        "1324 & (23) & (23) \\\\[1ex]\n",
        "4231 & (14) & (14) \\\\[1ex]\n",
        "3214 & (13) & (13) \\\\[1ex]\n",
        "2134 & (12) & (12) \\\\[1ex]\n",
        "1423 & (243) & (23)(24) \\\\[3ex]\n",
        "%\n",
        "4213 & (143) & (13)(14) \\\\[1ex]\n",
        "4132 & (142) & (12)(14) \\\\[1ex]\n",
        "3124 & (132) & (12)(13) \\\\[1ex]\n",
        "4321 & (14)(23) & (14)(23) \\\\[1ex]\n",
        "3412 & (13)(24) & (13)(24) \\\\[1ex]\n",
        "2143 & (12)(34) & (12)(34) \\\\[3ex]\n",
        "%\n",
        "4123 & (1432) & (12)(13)(14) \\\\[1ex]\n",
        "3142 & (1342) & (12)(14)(13) \\\\[1ex]\n",
        "2413 & (1243) & (13)(14)(12) \\\\[1ex]\n",
        "4312 & (1423) & (13)(12)(14) \\\\[1ex]\n",
        "3421 & (1324) & (14)(12)(13) \\\\[1ex]\n",
        "2341 & (1234) & (14)(13)(12)\n",
        "\\end{array}$$\n",
        "\n",
        "<br>\n",
        "\n",
        "$$A_4=\\big\\{(1), (234), (134), (124), (123), (243), (143), (142), (132), (14)(23), (13)(24), (12)(34) \\big\\}.$$"
      ],
      "metadata": {
        "id": "Fuo5iYqwofpm"
      }
    },
    {
      "cell_type": "markdown",
      "source": [
        "## **91.**\n",
        "\n",
        "> Identifique todos os subgrupos normais do grupo simétrico $S_3$.\n",
        "\n",
        "### **Solução.**\n",
        "\n",
        "Os divisores de $\\operatorname{o}(S_3)=6$ são: 1,2,3,6. A cada um dos divisores lhe corresponde um subgrupo de $S_3$ (não necessariamente único).\n",
        "\n",
        "Podemos facilmente verificar o seguinte _diagrama de subgrupos_:\n",
        "\n",
        "![S3.png](https://drive.google.com/uc?id=10lztdOHhHcYIpJJ5Rs6ui_n9xKX093eU)\n",
        "\n",
        "Para além dos subgrupos triviais $S_3$ e $\\{(1)\\}$ que são claramente subgrupos normais de $S_3$, temos também o subgrupo $A_3$ que é normal porque o seu índice $[S_3:A_3]$ é $2$. Os outros subgrupos não são normais porque, por exemplo, no caso do subgrupo $\\{(1),(12)\\}$, tomando $(23)\\in S_3$, verifica-se que\n",
        "\n",
        "$$(23)(12)(23)=(13)\\notin \\{(1),(12)\\}\\,.$$"
      ],
      "metadata": {
        "id": "NDPTp5v07feO"
      }
    },
    {
      "cell_type": "markdown",
      "source": [
        "## **93.**\n",
        "\n",
        "> Seja $\\alpha=(13)(157)(426)\\in S_{18}$.\n",
        ">\n",
        "> (a) Calcule a ordem do elemento $\\alpha^{106}$.\n",
        ">\n",
        "> (b) Determine as ordens dos subgrupos de $S_{18}$: (i) $\\langle\\alpha^7\\rangle$; &nbsp; &nbsp; (ii) $\\langle\\alpha^3\\rangle$.\n",
        ">\n",
        "> (c) Verifique se: (i) $\\alpha^5\\in\\langle\\alpha^7\\rangle$; &nbsp; &nbsp; (ii) $\\alpha^5\\in\\langle\\alpha^3\\rangle$.\n",
        "\n",
        "### **Solução.**\n",
        "\n",
        "(a) Vamos calcular primeiro a ordem de $\\alpha$, mas para isso precisamos escrever $\\alpha$ como produto de ciclos disjuntos. Assim temos\n",
        "\n",
        "$$\\alpha=(13)(157)(426) = (1573)(426)\\,.$$\n",
        "\n",
        "Logo, $\\operatorname{o}(\\alpha)=\\operatorname{mmc}(4,3)=12$, ou seja, $12$ é o menor inteiro positivo $k$ tal que $\\alpha^k=(1)$. Usando o algoritmo da divisão escrevemos $106=12\\cdot8+10$ e portanto $\\alpha^{106}=\\alpha^{12\\cdot 8}\\alpha^{10}=\\alpha^{10}$. Logo $\\operatorname{o}(\\alpha^{106})=\\operatorname{o}(\\alpha^{10})=6$.\n",
        "\n",
        "---\n",
        "\n",
        "(b) Por definição, $\\operatorname{o}(\\langle\\alpha^7\\rangle)$ é o menor inteiro positivo $k$ tal que $(\\alpha^{7})^k=(1)\\in S_{18}$. Como $\\alpha^{12}=(1)$, concluimos que $k=12$. Similarmente, fazendo $\\alpha^{3\\operatorname{o}(\\alpha^3)}=(1)$, segue-se que $\\operatorname{o}(\\alpha^3)=4$.\n",
        "\n",
        "---\n",
        "\n",
        "(c) Note-se que $\\alpha^{-7}\\in\\langle\\alpha^7\\rangle$ e $\\alpha^{-7}=\\alpha^5$ pois $\\alpha^7\\cdot\\alpha^5=(1)$. Por outra parte $\\langle\\alpha^3\\rangle=\\{(1),\\alpha^3,\\alpha^6,\\alpha^9\\}$. Claramente, $\\alpha^5\\notin\\langle\\alpha^3\\rangle$."
      ],
      "metadata": {
        "id": "m72P7RKyfxo7"
      }
    }
  ]
}
