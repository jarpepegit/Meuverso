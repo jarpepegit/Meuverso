{
  "nbformat": 4,
  "nbformat_minor": 0,
  "metadata": {
    "colab": {
      "provenance": [],
      "authorship_tag": "ABX9TyOqId5KGWNww4ENyTeqcxGY",
      "include_colab_link": true
    },
    "kernelspec": {
      "name": "python3",
      "display_name": "Python 3"
    },
    "language_info": {
      "name": "python"
    }
  },
  "cells": [
    {
      "cell_type": "markdown",
      "metadata": {
        "id": "view-in-github",
        "colab_type": "text"
      },
      "source": [
        "<a href=\"https://colab.research.google.com/github/jarpepegit/Meuverso/blob/main/Geometria_I.ipynb\" target=\"_parent\"><img src=\"https://colab.research.google.com/assets/colab-badge.svg\" alt=\"Open In Colab\"/></a>"
      ]
    },
    {
      "cell_type": "markdown",
      "source": [
        "# **Geometria I**\n",
        "Segundo Semestre, 2021--2022"
      ],
      "metadata": {
        "id": "OMiZgCro_9ic"
      }
    },
    {
      "cell_type": "code",
      "source": [
        "from IPython.display import Math, HTML\n",
        "display(HTML(\"<script src='https://cdnjs.cloudflare.com/ajax/libs/mathjax/2.7.3/\"\n",
        "               \"latest.js?config=default'></script>\"))"
      ],
      "metadata": {
        "colab": {
          "base_uri": "https://localhost:8080/",
          "height": 17
        },
        "id": "57LLxaldjs4g",
        "outputId": "a2bcee3e-e273-4817-f5c3-1811bf4c936a"
      },
      "execution_count": null,
      "outputs": [
        {
          "output_type": "display_data",
          "data": {
            "text/plain": [
              "<IPython.core.display.HTML object>"
            ],
            "text/html": [
              "<script src='https://cdnjs.cloudflare.com/ajax/libs/mathjax/2.7.3/latest.js?config=default'></script>"
            ]
          },
          "metadata": {}
        }
      ]
    },
    {
      "cell_type": "markdown",
      "source": [
        "# **Cap. 1, Sec. 1.7: Espaço vectorial $V_2$ dos vectores livres do plano e $\\mathbb{R}^2$**\n"
      ],
      "metadata": {
        "id": "7B0AGL-_aFSi"
      }
    },
    {
      "cell_type": "markdown",
      "source": [
        "## **Ex. 1.**\n",
        "\n",
        "> Considere a base $\\mathfrak{B}=(\\mathbf{u_1},\\mathbf{u_2})$ de $V_2$ representada na figura"
      ],
      "metadata": {
        "id": "MShKOkBdcjZT"
      }
    },
    {
      "cell_type": "code",
      "source": [
        "from IPython.display import IFrame\n",
        "IFrame(\"https://www.geogebra.org/classic/s5zxqraa\",920,480)"
      ],
      "metadata": {
        "colab": {
          "base_uri": "https://localhost:8080/",
          "height": 501
        },
        "id": "U1lpHTLMkCcn",
        "outputId": "85b8a2ae-d1a2-48f8-9f47-9fdeb18f662e"
      },
      "execution_count": null,
      "outputs": [
        {
          "output_type": "execute_result",
          "data": {
            "text/plain": [
              "<IPython.lib.display.IFrame at 0x7f5c103facd0>"
            ],
            "text/html": [
              "\n",
              "        <iframe\n",
              "            width=\"920\"\n",
              "            height=\"480\"\n",
              "            src=\"https://www.geogebra.org/classic/s5zxqraa\"\n",
              "            frameborder=\"0\"\n",
              "            allowfullscreen\n",
              "        ></iframe>\n",
              "        "
            ]
          },
          "metadata": {},
          "execution_count": 1
        }
      ]
    },
    {
      "cell_type": "markdown",
      "source": [
        "> a) Represente geometricamente no enunciado os vectores definidos por\n",
        "> $$\\mathbf{a}=3\\mathbf{u_1}-\\mathbf{u_2}\\quad,\\quad \\mathbf{b}_\\mathfrak{B}=(2,0)\\,.$$\n",
        "\n",
        "### **Solução.**\n",
        "\n",
        "Na figura vê-se logo que $\\mathbf{u_1}=(4,2)$ e $\\mathbf{u_2}=(2,-1)$. Portanto $\\mathbf{a}=3\\mathbf{u_1}-\\mathbf{u_2}=3(4,2)-(2,-1)=(10,7)$. Por outro lado, $\\mathbf{b}_\\mathfrak{B}=(2,0)$ é equivalente a dizer $\\mathbf{b}_\\mathfrak{B}=2\\mathbf{u_1}+0\\mathbf{u_2}=(8,4)$.\n",
        "\n",
        "$\\color{red}{\\mathrm{Sugestão:}}$ No Geogebra abra a folha algébrica e escreva os vectores pedidos.*\n",
        "\n",
        "---\n",
        "\n",
        "> b) Obtenha geometricamente as componentes dos vectores $\\mathbf{u}, \\mathbf{v}, \\mathbf{w}$ na base $\\mathfrak{B}$.\n",
        "\n",
        "### **Solução.**\n",
        "\n",
        "Use o Geogebra para obter geometricamente as componentes dos vectores mencionados na base $\\mathfrak{B}$. Por exemplo, $\\mathbf{u}$ pode ser escrito como\n",
        "\n",
        "$$\\mathbf{u}=\\mathbf{u_1}-2\\mathbf{u_2}\\quad\\Longrightarrow\\quad \\mathbf{u}_\\mathfrak{B}=(1,-2)\\,.$$\n",
        "\n",
        "---\n",
        "\n",
        "> c) Indique a orientação induzida pela base $\\mathfrak{B}$. Nas alíneas d) a f) considere a orientação induzida pela base $\\mathcal{B}$.\n",
        "\n",
        "### **Solução.**\n",
        "\n",
        "Lembremos que numa base, **a ordem dos vectores importa**. A orientação do plano definida por uma base $\\mathfrak{B}=(\\mathbf{u_1},\\mathbf{u_2})$ é a orientação que tem por sentido positivo o sentido de rotação que resulta de percorrer **o menor ángulo** formado pelos vectores livres $\\mathbf{u_1}$ e $\\mathbf{u_2}$. Para ilustrar dito ángulo colocamos a origem de tais vectores livres no mesmo ponto, como indicado na figura seguinte\n",
        "\n"
      ],
      "metadata": {
        "id": "QwZzYj-psewk"
      }
    },
    {
      "cell_type": "code",
      "source": [
        "from IPython.display import IFrame\n",
        "IFrame(\"https://www.geogebra.org/classic/ekn6wwax\",920,480)"
      ],
      "metadata": {
        "colab": {
          "base_uri": "https://localhost:8080/",
          "height": 501
        },
        "id": "oIU6rJC5994r",
        "outputId": "c4b2c501-1b8b-4c50-ca65-781b142a2809"
      },
      "execution_count": null,
      "outputs": [
        {
          "output_type": "execute_result",
          "data": {
            "text/plain": [
              "<IPython.lib.display.IFrame at 0x7f5c103fac10>"
            ],
            "text/html": [
              "\n",
              "        <iframe\n",
              "            width=\"920\"\n",
              "            height=\"480\"\n",
              "            src=\"https://www.geogebra.org/classic/ekn6wwax\"\n",
              "            frameborder=\"0\"\n",
              "            allowfullscreen\n",
              "        ></iframe>\n",
              "        "
            ]
          },
          "metadata": {},
          "execution_count": 2
        }
      ]
    },
    {
      "cell_type": "markdown",
      "source": [
        "> d) Assinale num desenho $\\angle_{or}(\\mathbf{u},\\mathbf{v})$, $\\angle_{or}(\\mathbf{u},\\mathbf{w})$, $\\angle_{or}(\\mathbf{v},\\mathbf{w})$."
      ],
      "metadata": {
        "id": "jJPJomdKA4OE"
      }
    },
    {
      "cell_type": "code",
      "source": [
        "from IPython.display import IFrame\n",
        "IFrame(\"https://www.geogebra.org/classic/crhnp885\",920,480)"
      ],
      "metadata": {
        "colab": {
          "base_uri": "https://localhost:8080/",
          "height": 501
        },
        "outputId": "7c3944f4-7265-4a4c-a811-806420158969",
        "id": "USCqhfvcIDLE"
      },
      "execution_count": null,
      "outputs": [
        {
          "output_type": "execute_result",
          "data": {
            "text/plain": [
              "<IPython.lib.display.IFrame at 0x7f5c103faf10>"
            ],
            "text/html": [
              "\n",
              "        <iframe\n",
              "            width=\"920\"\n",
              "            height=\"480\"\n",
              "            src=\"https://www.geogebra.org/classic/crhnp885\"\n",
              "            frameborder=\"0\"\n",
              "            allowfullscreen\n",
              "        ></iframe>\n",
              "        "
            ]
          },
          "metadata": {},
          "execution_count": 3
        }
      ]
    },
    {
      "cell_type": "markdown",
      "source": [
        "> e) Quantas bases ~ordenadas~ diferentes definem os três vectores $\\mathbf{u}, \\mathbf{v}, \\mathbf{w}$ ?\n",
        "\n",
        "### **Solução.**\n",
        "\n",
        "Uma vez que temos de escolher dois vectores linearmente independentes de entre os três vectores, e tendo em conta que a ordem importa, e dado que $\\mathbf{u}$ e $\\mathbf{v}$ não são linearmente independentes, temos só as seguintes possibilidades:\n",
        "\n",
        "$$\\mathcal{B_1}=(\\mathbf{u},\\mathbf{w})\\,,\\, \\mathcal{B_2}=(\\mathbf{w},\\mathbf{u}) \\,,\\, \\mathcal{B_3}=(\\mathbf{v},\\mathbf{w}) \\,,\\, \\mathcal{B_4}=(\\mathbf{w},\\mathbf{v})\\,.$$\n",
        "\n",
        "---\n",
        "\n",
        "> f) Classifique as bases encontradas na alínea anterior quanto a serem directas ou inversas.\n",
        "\n",
        "### **Solução.**\n",
        "\n",
        "\n"
      ],
      "metadata": {
        "id": "uvfDkUuZRBAo"
      }
    },
    {
      "cell_type": "code",
      "source": [
        "from IPython.display import IFrame\n",
        "IFrame(\"https://www.geogebra.org/classic/fpqzzhk9\",920,480)"
      ],
      "metadata": {
        "colab": {
          "base_uri": "https://localhost:8080/",
          "height": 501
        },
        "id": "9kji3kkRWDad",
        "outputId": "56b4b6ce-fb09-4221-a9d3-7d16856342d1"
      },
      "execution_count": null,
      "outputs": [
        {
          "output_type": "execute_result",
          "data": {
            "text/plain": [
              "<IPython.lib.display.IFrame at 0x7f5c103faf70>"
            ],
            "text/html": [
              "\n",
              "        <iframe\n",
              "            width=\"920\"\n",
              "            height=\"480\"\n",
              "            src=\"https://www.geogebra.org/classic/fpqzzhk9\"\n",
              "            frameborder=\"0\"\n",
              "            allowfullscreen\n",
              "        ></iframe>\n",
              "        "
            ]
          },
          "metadata": {},
          "execution_count": 4
        }
      ]
    },
    {
      "cell_type": "markdown",
      "source": [
        "> g) O que muda nas suas respostas às alíneas d), e), f) se em vez da orientação induzida pela base $\\mathcal{B}$ considera a orientação canónica (em que o sentido de rotação positivo é o sentido directo)?\n",
        "\n",
        "### **Solução.**\n",
        "\n",
        "O sentido canónico é o contrário ao movimento dos ponteiros do relógio. Por exemplo, no ítem f), as bases $\\mathcal{B_2}$ e $\\mathcal{B_3}$ estão orientadas no sentido directo enquanto as bases $\\mathcal{B_1}$ e $\\mathcal{B_4}$ estão no sentido inverso."
      ],
      "metadata": {
        "id": "yd8OqcnPfWq8"
      }
    },
    {
      "cell_type": "markdown",
      "source": [
        "## **Ex. 3.**\n",
        "\n",
        "> Seja $\\mathcal{B}=(\\mathbf{u_1,u_2})$ uma base ortonormada directa de $V_2$. Considere os vectores $\\mathbf{u,v}$ definidos por $\\mathbf{u}_\\mathcal{B}=(1,-1)$ e $\\mathbf{v}_\\mathcal{B}=(-3,-3)$. Calcule $\\Vert\\mathbf{u}\\Vert$, $\\angle_{or}(\\mathbf{u},\\mathbf{v})$ e $\\angle (\\mathbf{u},\\mathbf{v})$.\n",
        "\n",
        "### **Solução.**\n",
        "\n",
        "Como a base é ortonormada, pelo Teorema de Pitágoras, $\\Vert \\mathbf{u}\\Vert=\\sqrt{1^2+(-1)^2}=\\sqrt{2}$. Agora, para calcularmos o ângulo orientado $\\angle_{or}(\\mathbf{u},\\mathbf{v})$, por um lado temos que\n",
        "\n",
        "$$\\cos\\angle_{or}(\\mathbf{u},\\mathbf{v})=\\frac{\\mathbf{u}\\cdot\\mathbf{v}}{\\Vert\\mathbf{u}\\Vert\\,\\Vert\\mathbf{v}\\Vert}=\\frac{(1)(-3)+(-1)(-3)}{\\Vert\\mathbf{u}\\Vert\\,\\Vert\\mathbf{v}\\Vert}=\\frac{0}{\\Vert\\mathbf{u}\\Vert\\,\\Vert\\mathbf{v}\\Vert}=0\\,.\\qquad\\quad\\tag{1}$$\n",
        "\n",
        "Por outro lado, temos também que\n",
        "\n",
        "$$\\sin\\angle_{or}(\\mathbf{u},\\mathbf{v})=\\frac{\\operatorname{det}(\\mathbf{u},\\mathbf{v})}{\\Vert\\mathbf{u}\\Vert\\,\\Vert\\mathbf{v}\\Vert}=\\frac{\\begin{vmatrix}1 & -3\\\\-1 & -3\\end{vmatrix}}{\\Vert\\mathbf{u}\\Vert\\,\\Vert\\mathbf{v}\\Vert}=\\frac{-6}{\\Vert\\mathbf{u}\\Vert\\,\\Vert\\mathbf{v}\\Vert}=\\frac{-6}{\\sqrt{2}\\,\\,\\,3\\sqrt{2}}=-1\\,.\\qquad\\quad\\tag{2}$$\n",
        "\n",
        "<br>\n",
        "\n",
        "À luz de (1) e (2) e como por definição $\\angle_{or}(\\mathbf{u},\\mathbf{v})\\in[0,2\\pi[$, concluimos que\n",
        "\n",
        "$$\\angle_{or}(\\mathbf{u},\\mathbf{v})=\\frac{3\\pi}{2}\\,.$$\n",
        "\n",
        "$\\color{red}{\\mathrm{Nota:}}$ Lembremos que, para $x\\in[-1,1]\\, , \\,\\mathrm{arccos}(x)\\in [-\\pi,0]$. Logo, usando a periocidade do $\\cos$ e tendo em conta que $\\angle_{or}(\\mathbf{u},\\mathbf{v})\\in[0,2\\pi[$  , segue-se que\n",
        "\n",
        "$$\\angle_{or}(\\mathbf{u},\\mathbf{v})=-\\frac{\\pi}{2}+2\\pi=\\frac{3\\pi}{2}.$$\n",
        "\n",
        "Pou outro lado,\n",
        "\n",
        "$$\\angle_{or}(\\mathbf{v},\\mathbf{u})=2\\pi-\\angle_{or}(\\mathbf{u},\\mathbf{v})=2\\pi-\\frac{3\\pi}{2}=\\frac{\\pi}{2}.$$\n",
        "\n",
        "Portanto,\n",
        "\n",
        "$$\\angle(\\mathbf{u},\\mathbf{v})=\\min\\big\\{\\angle_{or}(\\mathbf{u},\\mathbf{v}),\\angle_{or}(\\mathbf{v},\\mathbf{u})\\big\\}=\\min\\Big\\{\\frac{3\\pi}{2},\\frac{\\pi}{2}\\Big\\}=\\frac{\\pi}{2}.$$"
      ],
      "metadata": {
        "id": "5NQSVC7TC2S7"
      }
    },
    {
      "cell_type": "code",
      "source": [
        "from IPython.display import IFrame\n",
        "IFrame(\"https://www.geogebra.org/classic/smuntb6n\",920,560)"
      ],
      "metadata": {
        "colab": {
          "base_uri": "https://localhost:8080/"
        },
        "id": "z8Ay29FM7A6A",
        "outputId": "ce526816-a327-484c-f08a-b5587e6464bb"
      },
      "execution_count": null,
      "outputs": [
        {
          "output_type": "execute_result",
          "data": {
            "text/plain": [
              "<IPython.lib.display.IFrame at 0x7f5c103fa8e0>"
            ],
            "text/html": [
              "\n",
              "        <iframe\n",
              "            width=\"920\"\n",
              "            height=\"560\"\n",
              "            src=\"https://www.geogebra.org/classic/smuntb6n\"\n",
              "            frameborder=\"0\"\n",
              "            allowfullscreen\n",
              "        ></iframe>\n",
              "        "
            ]
          },
          "metadata": {},
          "execution_count": 5
        }
      ]
    },
    {
      "cell_type": "markdown",
      "source": [
        "## **Ex. 4.**\n",
        "\n",
        "> Seja $\\mathcal{B}=(\\mathbf{e_1},\\mathbf{e_2})$ uma base ortonormada directa de $V_2$. Considere os vectores $\\mathbf{u}=2\\mathbf{e_1}+3\\mathbf{e_2}$ e $\\mathbf{v}=\\mathbf{e_1}-2\\mathbf{e_2}$.\n",
        ">\n",
        "> (e) Determine os ângulos $\\angle_{or}(\\mathbf{u},\\mathbf{v})$ e $\\angle(\\mathbf{u},\\mathbf{v})$.\n",
        "\n",
        "### **Solução.**"
      ],
      "metadata": {
        "id": "w8n1NFwiFH-3"
      }
    },
    {
      "cell_type": "code",
      "source": [
        "from IPython.display import IFrame\n",
        "IFrame(\"https://www.geogebra.org/classic/cn6a7xfq\",920,560)"
      ],
      "metadata": {
        "id": "tab9I7BnFry_",
        "colab": {
          "base_uri": "https://localhost:8080/",
          "height": 581
        },
        "outputId": "fa7ca522-bdea-4ba3-90c8-d539acf7009c"
      },
      "execution_count": null,
      "outputs": [
        {
          "output_type": "execute_result",
          "data": {
            "text/plain": [
              "<IPython.lib.display.IFrame at 0x7f5c103fa910>"
            ],
            "text/html": [
              "\n",
              "        <iframe\n",
              "            width=\"920\"\n",
              "            height=\"560\"\n",
              "            src=\"https://www.geogebra.org/classic/cn6a7xfq\"\n",
              "            frameborder=\"0\"\n",
              "            allowfullscreen\n",
              "        ></iframe>\n",
              "        "
            ]
          },
          "metadata": {},
          "execution_count": 6
        }
      ]
    },
    {
      "cell_type": "markdown",
      "source": [
        "Em termos da base ortonormada $\\mathcal{B}=(\\mathbf{e_1},\\mathbf{e_2})$, $\\mathbf{u}=(2,3)$ e $\\mathbf{v}=(1,-2)$ e portanto\n",
        "\n",
        "$$\\begin{matrix}\\cos\\angle_{or}(\\mathbf{u},\\mathbf{v})&=&\\dfrac{\\mathbf{u}\\cdot\\mathbf{v}}{\\Vert\\mathbf{u}\\Vert\\,\\Vert\\mathbf{v}\\Vert}\\\\[2ex]\n",
        "&=&\\dfrac{-4}{\\sqrt{13}\\sqrt{5}}\\end{matrix} \\qquad\\text{e}\\qquad\\begin{matrix}\\sin\\angle_{or}(\\mathbf{u},\\mathbf{v})&=& \\dfrac{\\operatorname{det}(\\mathbf{u},\\mathbf{v})}{\\Vert\\mathbf{u}\\Vert\\,\\Vert\\mathbf{v}\\Vert}\\\\[2ex]\n",
        "&=& \\dfrac{-7}{\\sqrt{13}\\sqrt{5}}\\end{matrix}$$\n",
        "\n",
        "Isto significa que $\\angle_{or}(\\mathbf{u},\\mathbf{v})$ deve estar no terceiro quadrante ($\\cos$ negativo e $\\sin$ negativo). Ora bem, para calcular $\\angle_{or}(\\mathbf{u},\\mathbf{v})$, podemos usar a fórmula quer em termos do $\\cos$ quer em termos do $\\sin$ mostradas lá acima. Usaremos a fórmula em termos do $\\sin$. Lembremos que para poder tomar $\\arcsin$, por convenção restringimos a nossa atenção ao intervalo $[-\\frac{\\pi}{2},\\frac{\\pi}{2}]$ (onde o $\\sin$ é injectivo). Portanto,\n",
        "\n",
        "$$x\\in\\left[-\\frac{\\pi}{2},\\frac{\\pi}{2}\\right]\\Rightarrow \\sin(x)\\in[-1,1]\\,\\,\\Longleftrightarrow\\,\\, x\\in[-1,1]\\Rightarrow \\arcsin(x)\\in\\left[-\\frac{\\pi}{2},\\frac{\\pi}{2}\\right]$$\n",
        "\n",
        "Como $\\frac{-7}{\\sqrt{13}\\sqrt{5}}\\simeq -0.868\\,\\Rightarrow \\, \\arcsin\\left(\\frac{-7}{\\sqrt{13}\\sqrt{5}}\\right)\\in\\left[-\\frac{\\pi}{2},\\frac{\\pi}{2}\\right]$. De facto, $\\arcsin\\left(\\frac{-7}{\\sqrt{13}\\sqrt{5}}\\right)<0$. Logo,\n",
        "\n",
        "$$\\angle_{or}(\\mathbf{u},\\mathbf{v})= \\arcsin\\left(\\frac{-7}{\\sqrt{13}\\sqrt{5}}\\right) + \\frac{3\\pi}{2}$$\n",
        "\n",
        "$\\color{red}{\\mathrm{Nota:}}$ Somamos $\\frac{3\\pi}{2}$ e não $2\\pi$ porque $\\cos\\angle_{or}(\\mathbf{u},\\mathbf{v})$ e $\\sin\\angle_{or}(\\mathbf{u},\\mathbf{v})$ são negativos, portanto deve estar no terceiro quadrante.\n",
        "\n",
        "Finalmente,\n",
        "\n",
        "$$\\angle_{or}(\\mathbf{v},\\mathbf{u})=2\\pi-\\angle_{or}(\\mathbf{u},\\mathbf{v})=\\frac{\\pi}{2}-\\arcsin\\left(\\frac{-7}{\\sqrt{13}\\sqrt{5}}\\right)$$\n",
        "\n",
        "e em consequência,\n",
        "\n",
        "$$\\angle(\\mathbf{u},\\mathbf{v})=\\min\\big\\{\\angle_{or}(\\mathbf{u},\\mathbf{v}), \\angle_{or}(\\mathbf{v},\\mathbf{u})\\big\\}=\\frac{\\pi}{2}-\\arcsin\\left(\\frac{-7}{\\sqrt{13}\\sqrt{5}}\\right)$$\n",
        "\n",
        "---\n",
        "\n",
        "> (f) Qual a área de um paralelogramo de lados definido pelos vectores $\\mathbf{u}$ e $\\mathbf{v}$?\n",
        "\n",
        "### **Solução.**\n",
        "\n",
        "Um paralelogramo de lados definidos pelos vectores $\\mathbf{u}$ e $\\mathbf{v}$ é mostrado na figura abaixo. Claramente, a sua área é igual à duas vezes a área do triângulo $\\triangle_{KEI}$ mostrado na figura.\n",
        "\n",
        "$$\\mathrm{Area}(\\triangle_{KEI})=\\frac{1}{2}b\\,h\\,.$$\n",
        "\n",
        "Por um lado $b=\\Vert\\mathbf{u}\\Vert$ e por outro lado, podemos calcular $h$ usando o triângulo $\\triangle_{ELI}$. Desta forma, temos que $h=\\Vert \\mathbf{v}\\Vert\\,\\sin a$.\n",
        "\n",
        "Da figura, podemos ver que $a+\\angle(\\mathbf{u},\\mathbf{v})=\\pi$, e por outra parte sabemos que\n",
        "\n",
        "$$\\angle_{or}(\\mathbf{u},\\mathbf{v})+\\angle(\\mathbf{u},\\mathbf{v})=2\\pi\\,\\Rightarrow\\,\\angle(\\mathbf{u},\\mathbf{v})=2\\pi-\\angle_{or}(\\mathbf{u},\\mathbf{v})\\,,$$\n",
        "\n",
        "Ora bem,\n",
        "\n",
        "$$\\angle_{or}(\\mathbf{u},\\mathbf{v})+\\angle(\\mathbf{u},\\mathbf{v})=2\\pi\\,\\Rightarrow\\,\\angle(\\mathbf{u},\\mathbf{v})=2\\pi-\\angle_{or}(\\mathbf{u},\\mathbf{v})\\,,$$\n",
        "\n",
        "Logo,\n",
        "\n",
        "$$\\pi = a + \\angle(\\mathbf{u},\\mathbf{v}) = a + 2\\pi - \\angle_{or}(\\mathbf{u},\\mathbf{v})\\,\\Longrightarrow\\,\\angle_{or}(\\mathbf{u},\\mathbf{v})=a+\\pi\\,.$$\n",
        "\n",
        "Assim, temos que\n",
        "\n",
        "$$\\sin\\angle_{or}(\\mathbf{u},\\mathbf{v})=\\sin(a+\\pi)=\\sin(a)\\cos(\\pi)+\\cos(a)\\sin(\\pi)=-\\sin(a).$$\n",
        "\n",
        "Como\n",
        "\n",
        "$$\\sin\\angle_{or}(\\mathbf{u},\\mathbf{v})= \\frac{\\operatorname{det}(\\mathbf{u},\\mathbf{v})}{\\Vert\\mathbf{u}\\Vert\\,\\Vert\\mathbf{v}\\Vert}\\,\\Longrightarrow\\,\\sin(a)=\\frac{-\\operatorname{det}(\\mathbf{u},\\mathbf{v})}{\\Vert\\mathbf{u}\\Vert\\,\\Vert\\mathbf{v}\\Vert}.$$\n",
        "\n",
        "Note-se que o facto de ter $-\\operatorname{det}(\\mathbf{u},\\mathbf{v})$ ou $\\operatorname{det}(\\mathbf{u},\\mathbf{v})$ depende da orientação de $(\\mathbf{u},\\mathbf{v})$.\n",
        "\n",
        "Em conclusão,\n",
        "\n",
        "$$\\mathrm{Area}(\\triangle_{KEI})=\\frac{1}{2}\\Vert\\mathbf{u}\\Vert\\,\\Vert\\mathbf{v}\\Vert\\left(\\frac{-\\operatorname{det}(\\mathbf{u},\\mathbf{v})}{\\Vert\\mathbf{u}\\Vert\\,\\Vert\\mathbf{v}\\Vert}\\right)=\\frac{1}{2}\\big(-\\operatorname{det}(\\mathbf{u},\\mathbf{v})\\big)\\,,$$\n",
        "\n",
        "e em consequência,\n",
        "\n",
        "$$\\mathrm{Area}(\\mathrm{paralelogramo})=2\\mathrm{Area}(\\triangle_{KEI})=-\\operatorname{det}(\\mathbf{u},\\mathbf{v}).$$\n",
        "\n",
        "No nosso caso particular, para $\\mathbf{u}=(2,3)$ e $\\mathbf{v}=(1,-2)$, temos $\\operatorname{det}(\\mathbf{u},\\mathbf{v})=-7$, logo\n",
        "\n",
        "$$\\mathrm{Area}(\\mathrm{paralelogramo})=7\\,.$$"
      ],
      "metadata": {
        "id": "H_OpN4r8W6RU"
      }
    },
    {
      "cell_type": "markdown",
      "source": [
        "## **Ex. 8.**\n",
        "\n",
        "> Seja $\\mathcal{B}=(\\mathbf{u_1},\\mathbf{u_2})$ uma base de $V_2$ tal que $\\Vert\\mathbf{u_2}\\Vert=3\\Vert\\mathbf{u_1}\\Vert=6$ e $\\angle (\\mathbf{u_1},\\mathbf{u_2})=\\frac{\\pi}{3}$.\n",
        ">\n",
        "> (a) Quais as coordenadas possíveis na base $\\mathcal{B}$ de um vector que tenha comprimento 1 e a direcção de $\\mathbf{u_1}$.\n",
        "\n",
        "### **Solução.**\n",
        "\n",
        "Seja $\\mathbf{w}$ um vector na direccção do vector $\\mathbf{u_1}$. Isto significa que $\\mathbf{w}=r\\mathbf{u_1}$ para algum $r\\in\\mathbb{R}$. Se o comprimento de $\\mathbf{w}$ é $1$, então $1=\\Vert\\mathbf{w}\\Vert=\\vert r\\vert\\,\\Vert\\mathbf{u_1}\\Vert=2\\,\\vert r\\vert$; ou seja, $r=\\pm\\frac{1}{2}$. Logo, as possíveis coordenadas de $\\mathbf{w}$ na base $\\mathcal{B}$ são $\\mathbf{w}_{\\mathcal{B}}=(\\frac{1}{2},0)$ ou $\\mathbf{w}_{\\mathcal{B}}=(-\\frac{1}{2},0)$.\n",
        "\n",
        "---\n",
        "\n",
        "> (b) Indique, pelas suas coordenadas na base $\\mathcal{B}$ uma base ortonormada $\\mathcal{B'}=(\\mathbf{e_1},\\mathbf{e_2})$ de $V_2$.\n",
        "\n",
        "### **Solução.**\n",
        "\n",
        "Na figura abaixo mostramos a situação geométrica. Convém expressar primeiro as coordenadas de $\\mathbf{u_1}$ e $\\mathbf{u_2}$ em termos da base ortornormada $\\mathcal{B'}$, digamos que elas são $\\mathbf{u_1}_{\\mathcal{B'}}=(u_{11},u_{21})$ e  $\\mathbf{u_2}_{\\mathcal{B'}}=(u_{12},u_{22})$. Ora bem, sabemos que $\\Vert\\mathbf{u_2}\\Vert=3\\Vert\\mathbf{u_1}\\Vert=6$ e portanto $\\Vert\\mathbf{u_1}\\Vert=2$.\n",
        "\n",
        "<br>\n",
        "\n",
        "![Sec1.7Ex8.png](\n",
        "https://drive.google.com/uc?id=12jrkGLKE4b2NHQAjPM7aLSlkYRU-KfGS)\n",
        "\n",
        "<br>\n",
        "\n",
        "Segue-se que\n",
        "\n",
        "$$\\begin{array}{lcl}\n",
        "\\cos\\alpha=\\dfrac{u_{11}}{2} &\\Longrightarrow& u_{11}=2\\cos\\alpha\\\\[2ex]\n",
        "\\sin\\alpha=\\dfrac{u_{21}}{2} &\\Longrightarrow& u_{21}=2\\sin\\alpha\\,.\n",
        "\\end{array}$$\n",
        "\n",
        "Similarmente,\n",
        "\n",
        "$$\\begin{array}{lcl}\n",
        "\\cos\\left(\\alpha+\\dfrac{\\pi}{3}\\right)=\\dfrac{u_{12}}{6} &\\Longrightarrow& u_{12}=6\\cos\\left(\\alpha+\\dfrac{\\pi}{3}\\right)=3\\cos\\alpha-3\\sqrt{3}\\sin\\alpha\\\\[2ex]\n",
        "\\sin\\left(\\alpha+\\dfrac{\\pi}{3}\\right)=\\dfrac{u_{22}}{6} &\\Longrightarrow& u_{22}=6\\sin\\left(\\alpha+\\dfrac{\\pi}{3}\\right)=3\\sin\\alpha+3\\sqrt{3}\\cos\\alpha\\,.\n",
        "\\end{array}$$\n",
        "\n",
        "Logo, a matriz $M_{\\mathcal{B'}\\mathcal{B}}$ de mudança de bases de $\\mathcal{B}$ para $\\mathcal{B'}$ é\n",
        "\n",
        "$$M_{\\mathcal{B'}\\mathcal{B}}=\\begin{pmatrix}2\\cos\\alpha & 3\\cos\\alpha-3\\sqrt{3}\\sin\\alpha \\\\\n",
        "2\\sin\\alpha & 3\\sin\\alpha+3\\sqrt{3}\\cos\\alpha \\end{pmatrix}\\,.$$\n",
        "\n",
        "Note-se que $\\operatorname{det}(M_{\\mathcal{B'}\\mathcal{B}})=6\\sqrt{3}$ e portanto a matriz $M_{\\mathcal{B}\\mathcal{B'}}=M^{-1}_{\\mathcal{B'}\\mathcal{B}}$ é\n",
        "\n",
        "\n",
        "$$M_{\\mathcal{B}\\mathcal{B'}}=\\dfrac{1}{6\\sqrt{3}}\\begin{pmatrix}3\\sin\\alpha+3\\sqrt{3}\\cos\\alpha & -3\\cos\\alpha+3\\sqrt{3}\\sin\\alpha \\\\\n",
        "-2\\sin\\alpha & 2\\cos\\alpha \\end{pmatrix}\\,.$$\n",
        "\n",
        "Isto significa que as coordenadas de $\\mathbf{e_1}$ e $\\mathbf{e_2}$ em termos da base $\\mathcal{B}$ são\n",
        "\n",
        "$$\\mathbf{e_1}_{\\mathcal{B}}=\\left(\\frac{3\\sin\\alpha+3\\sqrt{3}\\cos\\alpha}{6\\sqrt{3}},\\frac{-2\\sin\\alpha}{6\\sqrt{3}}\\right)\\quad\\text{e}\\quad\\mathbf{e_2}_{\\mathcal{B}}=\\left(\\frac{-3\\cos\\alpha+3\\sqrt{3}\\sin\\alpha}{6\\sqrt{3}},\\frac{2\\cos\\alpha}{6\\sqrt{3}}\\right)\\,.$$\n",
        "\n",
        "Em particular, se $\\alpha=0$ segue-se que\n",
        "\n",
        "$$\\mathbf{e_1}_{\\mathcal{B}}=\\left(\\frac{1}{2},0\\right)\\quad\\text{e}\\quad\\mathbf{e_2}_{\\mathcal{B}}=\\left(-\\frac{1}{2\\sqrt{3}},\\frac{1}{3\\sqrt{3}}\\right)\\,.$$\n",
        "\n",
        "<br>\n",
        "\n",
        "$\\color{red}{\\text{Nota 1:}}$ Uma forma mais rápida e visual para obter uma base ortonormada a partir de qualquer base é usando o método conhecido como processo de ortogonalização de Gram-Schmidt. No nosso caso concreto, o método aplica-se da seguinte forma\n",
        "\n",
        "![Sec1.7Ex8.Gram-Schmidt.png](https://drive.google.com/uc?id=12m6yW8H083TNaNcqO3-QiI23Lxtux1kR)\n",
        "\n",
        "---\n",
        "\n",
        "> (c) Calcule o comprimento de $\\mathbf{v}=2\\mathbf{u_1} + \\mathbf{u_2}$.\n",
        "\n",
        "### **Solução.**\n",
        "\n",
        "Para calcular o comprimento de $\\mathbf{v}$ usamos as suas coordenadas na base ortonormada do exercício anterior. Assim, como $\\mathbf{v}_{\\mathcal{B}}=(2,1)$, temos que\n",
        "\n",
        "$$\\mathbf{v}_{\\mathcal{B'}}=M_{\\mathcal{B'}\\mathcal{B}}\\,\\mathbf{v}_{\\mathcal{B}}\\quad\\Longrightarrow\\quad \\begin{aligned}\\mathbf{v}_{\\mathcal{B'}} &=\\begin{pmatrix}2\\cos\\alpha & 3\\cos\\alpha-3\\sqrt{3}\\sin\\alpha \\\\\n",
        "2\\sin\\alpha & 3\\sin\\alpha+3\\sqrt{3}\\cos\\alpha\\end{pmatrix}\\begin{pmatrix} 2 \\\\ 1\\end{pmatrix}\\\\[2ex]\n",
        "&=\\begin{pmatrix}4\\cos\\alpha+3\\cos\\alpha-3\\sqrt{3}\\sin\\alpha \\\\ 4\\sin\\alpha+3\\sin\\alpha+3\\sqrt{3}\\cos\\alpha\\end{pmatrix}\\\\[2ex]\n",
        "&=\\begin{pmatrix}7\\cos\\alpha-3\\sqrt{3}\\sin\\alpha \\\\ 7\\sin\\alpha+3\\sqrt{3}\\cos\\alpha\\end{pmatrix}\\,.\n",
        "\\end{aligned}$$\n",
        "\n",
        "Logo,\n",
        "\n",
        "$$\\begin{aligned}\\Vert\\mathbf{v}\\Vert &=\\sqrt{(7\\cos\\alpha-3\\sqrt{3}\\sin\\alpha)^2 + (7\\sin\\alpha+3\\sqrt{3}\\cos\\alpha)^2}\\\\[2ex]\n",
        "&= 49(\\cos^2\\alpha+\\sin^2\\alpha) + 27(\\sin^2\\alpha+\\cos^2\\alpha) = 76.\n",
        "\\end{aligned}$$\n",
        "\n",
        "<br>\n",
        "\n",
        "Este resultado mostra que o comprimento de um vector não depende da base (ortonormada) que escolhamos para expressar as suas coordenadas.\n",
        "\n",
        "<br>\n",
        "\n",
        "$\\color{red}{\\text{Nota 2:}}$ Em particular, se escolhermos o vector $\\mathbf{e_2}$ da base ortonormada $\\mathcal{B'}$ paralelo ao vector $\\mathbf{u_2}$ então $\\frac{\\pi}{3}+\\alpha=\\frac{\\pi}{2}$ (ver figura acima) e portanto $\\alpha=\\frac{\\pi}{6}$. Temos assim que $\\cos\\alpha=\\frac{\\sqrt{3}}{2}$ e $\\sin\\alpha=\\frac{1}{2}$ e desta forma\n",
        "\n",
        "$$\\mathbf{v}_{\\mathcal{B'}}=\\left(\\frac{7\\sqrt{3}}{2}-\\frac{3\\sqrt{3}}{2}, \\frac{7}{2}+\\frac{9}{2}\\right)=\\left(2\\sqrt{3},8\\right)\\,.$$\n"
      ],
      "metadata": {
        "id": "mwUrSP-6cYHH"
      }
    },
    {
      "cell_type": "markdown",
      "source": [
        "# **Cap. 2, Sec. 2.4: Espaços afins associados aos espaços vectoriais $V_2$ e $\\mathbb{R}^2$.**"
      ],
      "metadata": {
        "id": "sk4n2aFVL7Go"
      }
    },
    {
      "cell_type": "markdown",
      "source": [
        "## **Ex. 2.**\n",
        "\n",
        "> (Posição relativa de duas rectas no plano e intersecção das rectas). Dadas duas rectas, $r$ e $s$ do plano, prove:\n",
        ">\n",
        "> (a) Se $r$ e $s$ são concorrentes têm um unico ponto em comúm.\n",
        "\n",
        "### **Solução.**\n",
        "\n",
        "Sejam $r$ e $s$ as rectas\n",
        "\n",
        "$$r\\colon P+\\langle\\mathbf{u}\\rangle\\quad,\\quad s\\colon Q+\\langle\\mathbf{v}\\rangle$$\n",
        "\n",
        "onde $\\mathbf{u},\\mathbf{v}\\neq 0$.\n",
        "\n",
        "Que as rectas $r$ e $s$ sejam **concorrentes** significa que os vectores $\\mathbf{u}$ e $\\mathbf{v}$ não têm a mesma direcção, ou seja, $(\\mathbf{u},\\mathbf{v})$ é uma base de $V_2$. Usando o referencial dado no início desta secção, escrevemos\n",
        "\n",
        "$$\n",
        "\\begin{array}{lll}\n",
        "r\\,\\colon & (x_1,x_2)=(p_1,p_2) + m \\, (u_1,u_2) & m\\in\\mathbb{R}.\\\\[2ex]\n",
        "s\\,\\colon & (y_1,y_2)=(q_1,q_2) + n \\, (v_1,v_2) & n\\in\\mathbb{R}.\n",
        "\\end{array}$$\n",
        "\n",
        "Para encontrar os pontos que as rectas $r$ e $s$ têm em comum fazemos $(x_1,x_2)=(y_1,y_2)$ e obtemos assim o sistema\n",
        "\n",
        "$$\\left(\\begin{matrix}q_1-p_1 \\\\ q_2-p_2\\end{matrix}\\right) = \\underbrace{\\begin{pmatrix}u_1 & v_1 \\\\ u_2 & v_2 \\end{pmatrix}}_{\\operatorname{det}(\\mathbf{u},\\mathbf{v})\\neq 0}\\begin{pmatrix} m\\\\-n \\end{pmatrix}\\tag{$\\ast$}$$\n",
        "\n",
        "e portanto\n",
        "\n",
        "$$\\begin{pmatrix}m\\\\-n\\end{pmatrix}=\\begin{pmatrix}u_1 & v_1\\\\ u_2 & v_2\\end{pmatrix}^{-1}\\begin{pmatrix}q_1-p_1\\\\q_2-p_2\\end{pmatrix}$$\n",
        "\n",
        "ou seja, há uma única forma de determinar os valores dos parámetros $m$ e $n$, e isto significa que as rectas $r$ e $s$ têm um único ponto em comum.\n",
        "\n",
        "---\n",
        "\n",
        "> (b) Se $r$ e $s$ são paralelas então ou não se intersectam ou são a mesma recta.\n",
        "\n",
        "### **Solução.**\n",
        "\n",
        "Se $r$ e $s$ são rectas paralelas então $\\mathbf{u}\\parallel\\mathbf{v}$, o que significa que na equação matricial $(\\ast)$ de acima\n",
        "\n",
        "$$\\operatorname{det}\\begin{pmatrix}u_1 & v_1\\\\ u_2 & v_2\\end{pmatrix}=0$$\n",
        "\n",
        "Isto significa que o sistema ($\\ast$) ou não tem solução, ou se tem uma então tem um número ilimitado de soluções, isto é, $r$ e $s$ são a mesma recta.\n",
        "\n",
        "---\n",
        "\n",
        "> (c) Podemos garantir que rectas do espaço tridimensional ($\\mathbb{R}^3$) com direcções diferentes se intersectam num único ponto? Porquê?\n",
        "\n",
        "### **Solução.**\n",
        "\n",
        "Não. Porque as rectas podem estar contidas em planos paralelos que não se intersectam."
      ],
      "metadata": {
        "id": "8kVwJerIM3kr"
      }
    },
    {
      "cell_type": "markdown",
      "source": [
        "## **Ex. 3.**\n",
        "\n",
        "> Seja $\\mathcal{P}=ABCD$ um quadrilátero. Prove que são equivalentes as seguintes afirmações:\n",
        ">\n",
        "> (1) $\\overrightarrow{AB}=\\overrightarrow{DC}$, isto é $\\mathcal{P}$ é um paralelogramo.\n",
        ">\n",
        "> (2) $\\overrightarrow{AB}=\\overrightarrow{DC}$ e $\\overrightarrow{BC}=\\overrightarrow{AD}$.\n",
        ">\n",
        "> (3) $\\overrightarrow{BC}=\\overrightarrow{AD}$.\n",
        ">\n",
        "> (4) Os segmentos de recta $AC$ e $BD$ têm o mesmo ponto médio.\n",
        "\n",
        "### **Solução.**\n",
        "\n",
        "Provaremos unicamente as implicações $(1)\\Rightarrow (2)$ e $(3)\\Rightarrow (4)$. As outras ficam como exercício.\n",
        "\n",
        "$\\underline{(1)\\Rightarrow (2)}:$ Resta provar que $\\overrightarrow{BC}=\\overrightarrow{AD}$.\n",
        "\n",
        "<br>\n",
        "\n",
        "Sem perda de generalidade podemos posicionar os pontos $A,B,C$ e $D$ como mostrado na figura abaixo, por forma a simplificar as coordenadas em relação a um referencial do plano."
      ],
      "metadata": {
        "id": "x0OyFCIOBZtP"
      }
    },
    {
      "cell_type": "code",
      "source": [
        "from IPython.display import IFrame\n",
        "IFrame(\"https://www.geogebra.org/m/ruehxgqa\",880,580)"
      ],
      "metadata": {
        "colab": {
          "base_uri": "https://localhost:8080/",
          "height": 601
        },
        "id": "yteKcZo1M9ml",
        "outputId": "dab0d49a-5869-4075-9a90-7e5b3fa17d43"
      },
      "execution_count": null,
      "outputs": [
        {
          "output_type": "execute_result",
          "data": {
            "text/plain": [
              "<IPython.lib.display.IFrame at 0x7f1b47941a50>"
            ],
            "text/html": [
              "\n",
              "        <iframe\n",
              "            width=\"880\"\n",
              "            height=\"580\"\n",
              "            src=\"https://www.geogebra.org/m/ruehxgqa\"\n",
              "            frameborder=\"0\"\n",
              "            allowfullscreen\n",
              "        ></iframe>\n",
              "        "
            ]
          },
          "metadata": {},
          "execution_count": 8
        }
      ]
    },
    {
      "cell_type": "markdown",
      "source": [
        "Desta forma, $\\overrightarrow{AB}=(b_1,b_2)$ e $\\overrightarrow{DC}=(c_1-d_1,c_2)$. Como $\\overrightarrow{AB}=\\overrightarrow{DC}$, segue-se que $b_1=c_1-d_1$ e $b_2=c_2$. Ora bem, $\\overrightarrow{BC}=(c_1-b_1,c_2-b_2)$ e $\\overrightarrow{AD}=(d_1,0)$. Das identidades anteriores, segue-se imediatamente que $\\overrightarrow{BC}=\\overrightarrow{AD}$.\n",
        "\n",
        "---\n",
        "\n",
        "$\\underline{(3)\\Rightarrow (4)}:$\n",
        "\n",
        "<br>\n",
        "\n",
        "O ponto médio do segmento $AC$ é $\\left(\\frac{0+c_1}{2},\\frac{0+c_2}{2}\\right)$. O ponto médio do segmento $BD$ é $\\left(\\frac{b_1+d_1}{2},\\frac{b_2+0}{2}\\right)$. Por hipótese, $\\overrightarrow{BC}=\\overrightarrow{AD}$, o que signifca que $c_1-b_1=d_1$ e $c_2-b_2=0\\,\\Longrightarrow\\,c_1=b_1+d_1$ e $c_2=b_2$. Isto prova que os segmentos de recta $AC$ e $BD$ têm o mesmo ponto médio.\n",
        "\n"
      ],
      "metadata": {
        "id": "Yi_YSuptNydJ"
      }
    },
    {
      "cell_type": "markdown",
      "source": [
        "## **Ex. 4.**\n",
        "\n",
        "> Como caracterizaria um quadrilátero $ABCD$ que seja um trapézio?\n",
        "\n",
        "### **Solução.**\n",
        "\n",
        "Da seguinte forma $\\overrightarrow{AB}=r\\,\\overrightarrow{DC}$ com $r>0$ ou $\\overrightarrow{AD}=r\\,\\overrightarrow{BC}$ com $r>0$."
      ],
      "metadata": {
        "id": "-ktiJsj5TThJ"
      }
    },
    {
      "cell_type": "markdown",
      "source": [
        "## **Ex. 5.**\n",
        "\n",
        "> Considere os três pontos $A=(1,1)$, $B=(0,1)$ e $C=(2,5)$.\n",
        ">\n",
        "> (a) Mostre que são os três vértices de um triângulo.\n",
        "\n",
        "### **Solução.**\n",
        "\n",
        "Basta provar que $A$, $B$ e $C$ não são colineares e para isso podemos calcular, por exemplo, o determinante dos vectores $\\overrightarrow{BA}$ e $\\overrightarrow{BC}$. Se é diferente de zero então os três pontos não são colineares.\n",
        "\n",
        "$$\\begin{array}{c}\n",
        "\\overrightarrow{BA}=A-B=(1,1)-(0,1)=(1,0).\\\\\n",
        "\\overrightarrow{BC}=C-B=(2,5)-(0,1)=(2,4).\\\\[2ex]\n",
        "\\operatorname{det}\\left(\\overrightarrow{BA},\\overrightarrow{BC}\\right) = \\begin{vmatrix}1 & 2 \\\\ 0 & 4\\end{vmatrix}=4\\neq 0.\n",
        "\\end{array}$$\n",
        "\n",
        "Concluimos que os três pontos $A, B$ e $C$ não são colineares.\n",
        "\n",
        "---\n",
        "\n",
        "> (b) Determine as coordenadas do ponto médio $M$ do segmento de recta $BC$\n",
        "\n",
        "### **Solução.**\n",
        "\n",
        "$$M=\\frac{1}{2}(B+C) = \\frac{(0,1)+(2,5)}{2}=\\frac{(2,6)}{2}=(1,3).$$\n",
        "\n",
        "---\n",
        "\n",
        "> (c) Mostre que o ponto $X$ de coordenadas $X_R=\\frac{1}{3}(A_R+B_R+C_R)$, pertence ao segmento de recta $AM$, onde $M$ é o ponto médio de $BC$.\n",
        "\n",
        "### **Solução..**\n",
        "\n",
        "$$X_R=\\frac{(1,1)+(0,1)+(2,5)}{3}=\\frac{1}{3}(3,7)=\\left(1,\\tfrac{7}{3}\\right).$$\n",
        "\n",
        "<br>\n",
        "\n",
        "$$\\underline{AM}:\\qquad\\begin{array}{lcl}\n",
        "X(t)&=& (1-t)A+ tM \\\\\n",
        "&=& (1-t)(1,1)+t(1,3) \\\\\n",
        "&=& (1,1+2t).\n",
        "\\end{array}$$\n",
        "\n",
        "<br>\n",
        "\n",
        "$$X_R\\in AM \\quad⟺\\quad\\exists\\,t\\in[0,1]\\,\\big/\\,X_R=X(t).$$\n",
        "\n",
        "<br>\n",
        "\n",
        "$$\\left(1,\\tfrac{7}{3}\\right)\\overset{?}{=}(1,1+2t)$$\n",
        "\n",
        "<br>\n",
        "\n",
        "$$\\tfrac{7}{3} = 1+2t \\quad ⟺ \\quad \\tfrac{7}{3}-\\tfrac{3}{3} = 2t \\quad ⟺ \\quad t=\\tfrac{2}{3}\\in[0,1].$$\n",
        "\n",
        "Portanto, $X\\in AM$.\n",
        "\n",
        "---\n",
        "\n",
        "> (d) Mostre que o conjunto dos pontos cujas coordenadas $X_R=(x_1,x_2)$ satisfazem a equação $2x_1-x_2=-1$ é a recta que contem o lado $BC$ do triângulo.\n",
        "\n",
        "### **Solução.**\n",
        "\n",
        "$$\\begin{array}{c}\n",
        "r\\colon\\quad 2x_1-x_2 = -1 \\\\[2ex]\n",
        "B=(0,1)\\quad\\rightsquigarrow\\quad 2(0)-(1)=-1 \\quad\\Rightarrow\\quad B\\in r.\\\\\n",
        "C=(2,5)\\quad\\rightsquigarrow\\quad 2(2)-(5)=-1 \\quad\\Rightarrow\\quad C\\in r.\n",
        "\\end{array}$$\n",
        "\n",
        "Resta provar que todos os pontos entre $B$ e $C$ estão em $r$. Seja $Y$ um ponto arbitrário do segmento $BC$:\n",
        "\n",
        "$$Y(t) = (1-t)B + tC = (1-t)(0,1)+t(2,5)=(2t,1+4t)\\,,\\, t\\in[0,1].$$\n",
        "\n",
        "<br>\n",
        "\n",
        "$$2(2t)-(1+4t)=-1\\,,\\quad\\forall\\,t\\in[0,1].$$\n",
        "\n",
        "Concluimos que a recta $r$ contem o lado $BC$ do triângulo.\n",
        "\n",
        "---\n",
        "\n",
        "> e) Determine as coordenadas de todos os pontos $Y$ que com os pontos $A$, $B$ e $C$ formam os vértices de um paralelogramo.\n",
        "\n",
        "### **Solução.**\n",
        "\n",
        "Seja $Y=(y_1,y_2)$. Temos que\n",
        "\n",
        "$$\\begin{array}{c}\n",
        "\\overrightarrow{AB}=\\overrightarrow{YC}\\quad\\longrightarrow \\quad\\operatorname{Paralelogramo} ABCY \\\\\n",
        "B-A = C-Y \\quad⟺\\quad (-1,0) = (2-y_1,5-y_2) \\quad⟺\\quad (y_1,y_2)=(3,5).\\\\[3ex]\n",
        "\\overrightarrow{AB}=\\overrightarrow{CY}\\quad\\longrightarrow \\quad\\operatorname{Paralelogramo} ACYB \\\\\n",
        "B-A = Y-C \\quad⟺\\quad (-1,0) = (y_1-2,y_2-5) \\quad⟺\\quad (y_1,y_2)=(1,5).\n",
        "\\end{array}$$"
      ],
      "metadata": {
        "id": "TJOVy_L2pHQw"
      }
    },
    {
      "cell_type": "markdown",
      "source": [],
      "metadata": {
        "id": "Vu7GgEKpsNRd"
      }
    },
    {
      "cell_type": "markdown",
      "source": [
        "## **Ex. 14.**\n",
        "\n",
        "> Considere os conjuntos $\\mathbf{A}$ e $\\mathbf{B}$ de pontos do plano cartesiano definidos por\n",
        ">\n",
        "> $$\\mathbf{A}:\\begin{cases}\n",
        "2x+3y &\\le & 5\\\\\n",
        "x-y &\\ge & 0\\\\\n",
        "3x-y &\\ge & 3\n",
        "\\end{cases}\\qquad\n",
        "\\mathbf{B}:\\begin{cases}\n",
        "2x+3y &\\le & 5 \\\\\n",
        "x-y &\\le & 5 \\\\\n",
        "-x + y &\\le & 0\\\\\n",
        "-3x + y &\\le & -3 \\\\\n",
        "x+4y &\\le & 8\n",
        "\\end{cases}$$\n",
        ">\n",
        "> (a) Justifique a afirmação: Os conjuntos $\\mathbf{A}$ e $\\mathbf{B}$ são ambos convexos, mas apenas um deles é um polígono convexo.\n",
        ">\n",
        "> (b) Determine os vértices daquele que é um polígono convexo.\n",
        "\n",
        "### **Solução.**\n",
        "\n",
        "Os conjuntos $\\mathbf{A}$ e $\\mathbf{B}$ são ambos convexos porque são a intersecção de um número finito de semiplanos fechados. Só o conjunto $\\mathbf{B}$ é um polígono convexo porque é limitado."
      ],
      "metadata": {
        "id": "OvhvKLaLXE0B"
      }
    },
    {
      "cell_type": "code",
      "source": [],
      "metadata": {
        "id": "9wu1EZoQsXK9"
      },
      "execution_count": null,
      "outputs": []
    },
    {
      "cell_type": "code",
      "source": [
        "from IPython.display import IFrame\n",
        "IFrame(\"https://www.geogebra.org/classic/dm3zufkv\",880,480)"
      ],
      "metadata": {
        "colab": {
          "base_uri": "https://localhost:8080/",
          "height": 501
        },
        "outputId": "27407526-4897-465f-a811-8622f988c9aa",
        "id": "LleESoIdsYLT"
      },
      "execution_count": null,
      "outputs": [
        {
          "output_type": "execute_result",
          "data": {
            "text/plain": [
              "<IPython.lib.display.IFrame at 0x7f1b44ee5790>"
            ],
            "text/html": [
              "\n",
              "        <iframe\n",
              "            width=\"880\"\n",
              "            height=\"480\"\n",
              "            src=\"https://www.geogebra.org/classic/dm3zufkv\"\n",
              "            frameborder=\"0\"\n",
              "            allowfullscreen\n",
              "        ></iframe>\n",
              "        "
            ]
          },
          "metadata": {},
          "execution_count": 4
        }
      ]
    },
    {
      "cell_type": "code",
      "source": [],
      "metadata": {
        "id": "Wsi-HjsNsagM"
      },
      "execution_count": null,
      "outputs": []
    },
    {
      "cell_type": "code",
      "source": [
        "from IPython.display import IFrame\n",
        "IFrame(\"https://www.geogebra.org/classic/a4ek7wrw\",880,480)"
      ],
      "metadata": {
        "colab": {
          "base_uri": "https://localhost:8080/",
          "height": 501
        },
        "id": "BaT9TJGYa6l7",
        "outputId": "1a54f598-43fa-4fe4-96cc-335ac2d02d53"
      },
      "execution_count": null,
      "outputs": [
        {
          "output_type": "execute_result",
          "data": {
            "text/plain": [
              "<IPython.lib.display.IFrame at 0x7f1b44ed4f90>"
            ],
            "text/html": [
              "\n",
              "        <iframe\n",
              "            width=\"880\"\n",
              "            height=\"480\"\n",
              "            src=\"https://www.geogebra.org/classic/a4ek7wrw\"\n",
              "            frameborder=\"0\"\n",
              "            allowfullscreen\n",
              "        ></iframe>\n",
              "        "
            ]
          },
          "metadata": {},
          "execution_count": 3
        }
      ]
    },
    {
      "cell_type": "markdown",
      "source": [
        "# **Cap. 2, Sec. 2.8: Plano Cartesiano. Noções métricas.**"
      ],
      "metadata": {
        "id": "UZoytpff73_e"
      }
    },
    {
      "cell_type": "markdown",
      "source": [
        "##**Ex. 4:**\n",
        "\n",
        "> Justifique as fórmulas das distâncias de um ponto $P$ a uma recta e entre duas rectas paralelas a partir das equações cartesianas das rectas.\n",
        "\n",
        "### **Solução:**\n",
        "\n",
        "$\\underline{\\text{Fórmula da distância de um ponto a uma recta:}}$\n",
        "\n",
        "<br>\n",
        "\n",
        "![distPontoRecta.png](\n",
        "https://drive.google.com/uc?id=1-bkR3H9nYUHy7jvVUYeCdYTyJS4RIJ3u)\n",
        "\n",
        "Da definição, sabemos que a distância de um ponto $P$ a uma recta $r$ é\n",
        "\n",
        "$$\\operatorname{d}(P,r)=\\inf_{Q\\,\\in\\, r}\\big\\{\\operatorname{d}(P,Q)\\big\\}\\,.$$\n",
        "\n",
        "O ínfimo obtem-se quando $Q=r\\cap r^\\perp$, onde $r^\\perp$ é a recta perpendicular a $r$ que passa por $P=(p_1,p_2)$. Sabemos que $r^\\perp$ tem como vector director o vector $(a,b)$. Logo, a equação cartesiana de $r^\\perp$ é\n",
        "\n",
        "$$\\begin{array}{rcl}\\operatorname{det}\\begin{pmatrix}x & a \\\\ y & b\\end{pmatrix}&=&\\operatorname{det}\\begin{pmatrix}p_1 & a \\\\ p_2 & b\\end{pmatrix}\\\\[2ex]\n",
        "bx-ay &=& bp_1-ap_2\n",
        "\\end{array}$$\n",
        "\n",
        "Portanto, o ponto $Q$ é obtido ao resolver o sistema\n",
        "\n",
        "$$\\begin{array}{lcl}\n",
        "bq_1-aq_2 &=& bp_1-ap_2 \\\\\n",
        "aq_1+bq_2 &=& c\n",
        "\\end{array}$$\n",
        "\n",
        "Em termos de matrizes escrevemos\n",
        "\n",
        "$$\\begin{pmatrix}b & -a \\\\ a & b\\end{pmatrix}\\begin{pmatrix}q_1 \\\\ q_2 \\end{pmatrix} = \\begin{pmatrix} bp_1-ap_2 \\\\ c \\end{pmatrix}$$\n",
        "\n",
        "Logo, temos que\n",
        "\n",
        "$$\\begin{array}{rcl}\\begin{pmatrix}q_1 \\\\ q_2\\end{pmatrix}&=&\\dfrac{1}{a^2+b^2}\n",
        "\\begin{pmatrix}b & a \\\\ -a & b\\end{pmatrix}\\begin{pmatrix}\n",
        "bp_1-ap_2 \\\\ c\\end{pmatrix} \\\\[1ex]\n",
        "&=& \\dfrac{1}{a^2+b^2}\\begin{pmatrix}b^2p_1-abp_2+ac \\\\ -abp_1 + a^2p_2 + bc\\end{pmatrix}\\end{array}.$$\n",
        "\n",
        "A distância do ponto $P$ à recta $r$ é portanto\n",
        "\n",
        "<br>\n",
        "\n",
        "$$\\begin{aligned}\n",
        "\\operatorname{d}(P,r)=\\operatorname{d}(P,Q)&=\\Vert Q-P\\Vert \\\\[2ex]\n",
        "&=\\sqrt{\\left(\\frac{b^2p_1-abp_2+ac}{a^2+b^2}-p_1\\right)^2 + \\left(\\frac{a^2p_2-abp_1+bc}{a^2+b^2}-p_2\\right)^2}\\\\[2ex]\n",
        "&= \\sqrt{\\left(\\frac{\\color{red}{b^2p_1}-abp_2+ac-a^2p_1\\color{red}{-b^2p_1}}{a^2+b^2}\\right)^2 + \\left(\\frac{{\\color{red}{a^2p_2}}-abp_1+bc\\color{red}{-a^2p_2}-b^2p_2}{a^2+b^2}\\right)^2}\\\\[2ex]\n",
        "&= \\sqrt{\\left(\\frac{a\\big((ap_1+bp_2)-c\\big)}{a^2+b^2}\\right)^2 + \\left(\\frac{b\\big((ap_1+bp_2)-c\\big)}{a^2+b^2}\\right)^2}\\\\[2ex]\n",
        "&= \\sqrt{\\frac{\\big(ap_1+bp_2-c\\big)^2\\big(a^2+b^2\\big)}{(a^2+b^2)^2}} = \\frac{\\big\\vert ap_1+bp_2-c\\big\\vert}{\\sqrt{a^2+b^2}}\\,.\n",
        "\\end{aligned}$$\n",
        "\n",
        "<br>\n",
        "\n",
        "$\\underline{\\text{Fórmula da distância entre duas rectas paralelas:}}$\n",
        "\n",
        "<br>\n",
        "\n",
        "Seja $r': ax+by=c'$ a equação de uma recta paralela a recta $r: ax+by=c$. A distância $\\operatorname{d}(r',r)$ entre as rectas $r'$ e $r$ é a distância de qualquer ponto de $r'$ a $r$. Se $P=(p_1,p_2)$ é um ponto qualquer de $r'$, ele satisfaz a equação $ax+by=c'$ e portanto a fórmula da distância entre duas rectas paralelas é\n",
        "\n",
        "$$\\operatorname{d}(r',r)=\\operatorname{d}(P,r)=\\frac{\\big\\vert c'-c\\big\\vert}{\\sqrt{a^2+b^2}}\\,.$$\n",
        "\n",
        "\n",
        "\n"
      ],
      "metadata": {
        "id": "48X1BLF_sc0t"
      }
    },
    {
      "cell_type": "markdown",
      "source": [
        "## **Ex. 9:**\n",
        "\n",
        "> Considere um triângulo $ABC$ do plano cartesiano. Prove as seguintes afirmações:\n",
        ">\n",
        "> (a) Se o triângulo é rectângulo em $B$ a altura do vértice $B$ divide o triângulo em dois triângulos semelhantes ao triângulo dado.\n",
        "\n",
        "### **Solução.**\n",
        "\n",
        "Na figura abaixo representamos o triângulo $ABC$, rectângulo em $B$. Os triângulos obtidos ao traçar a altura $h$ desde o vértice $B$ são $AFB$ e $BFC$.\n",
        "\n",
        "<br>\n",
        "\n",
        "Sejam $f$ e $j$ as rectas paralelas que passam pelos pontos $A,B$ e $F,G$ respectivamente. Similarmente, tracemos as rectas $l$ e $k$ que são concorrentes no ponto $C$ e transversais às rectas $f$ e $j$ e que passam pelos pontos $B,C$ e $A,C$ respectivamente.Desta forma podemos usar propriedades dos ângulos obtidos por duas rectas paralelas e uma transversal, bem como a dos ângulos complementares.\n",
        "\n",
        "<br>\n",
        "\n",
        "Provaremos que os triângulos $ABC$ e $AFB$ são semelhantes. A prova da semelhança dos triângulos $ABC$ e $BFC$ é similar. Construimos uma bijecção dos vértices de $ABC$ aos vértices de $AFB$, a saber:\n",
        "\n",
        "$$\\underline{\\text{vértices}}\\quad\\begin{array}{ccc}\n",
        "\\triangle_{ABC} && \\triangle_{AFB}\\\\\n",
        "A &⟼& A \\\\\n",
        "B &⟼& F \\\\\n",
        "C &⟼& B\n",
        "\\end{array}$$\n",
        "\n",
        "Por outra parte, podemos verificar que\n",
        "\n",
        "$$\\underline{\\text{ângulos}}\\quad\\begin{array}{ccc}\n",
        "\\triangle_{ABC} && \\triangle_{AFB}\\\\\n",
        "\\alpha=C\\color{red}{A}B &⟼& F\\color{red}{A}B=\\alpha \\\\\n",
        "\\frac{\\pi}{2}=A\\color{red}{B}C &⟼& A\\color{red}{F}B=\\frac{\\pi}{2} \\\\\n",
        "\\beta=A\\color{red}{C}B &⟼& F\\color{red}{B}A=\\beta\n",
        "\\end{array}$$\n",
        "\n",
        "\n",
        "<br>\n",
        "\n",
        "![ex2_8_9a.png](https://drive.google.com/uc?id=1-ZMDXFUMGWgrT5aG6YtI-nA-oR21YhuE)\n",
        "\n",
        "<br>\n",
        "\n",
        "Resta provar que os lados correspondentes dos triângulos $ABC$ e $AFB$ são proporcionais; isto é:\n",
        "\n",
        "$$\\frac{BC}{BF}=\\frac{AC}{AB}=\\frac{AB}{AF}\\,\\,.$$\n",
        "\n",
        "Olhando para os triângulos $AFB$ e $ABC$, segue-se imediatamente que\n",
        "\n",
        "$$\\left.\\begin{array}{c}\n",
        "\\sin \\alpha = \\dfrac{BF}{AB} = \\dfrac{BC}{AC}\\,\\Longrightarrow\\,\\dfrac{BC}{BF}=\\dfrac{AC}{AB}\\\\[2ex]\n",
        "\\sin\\beta = \\dfrac{AF}{AB}=\\dfrac{AB}{AC}\\,\\Longrightarrow\\,\\dfrac{AC}{AB}=\\dfrac{AB}{AF}\\end{array}\\right\\}\\Longrightarrow\\, \\frac{BC}{BF}=\\frac{AC}{AB}=\\frac{AB}{AF}\\,\\,.$$\n",
        "\n",
        "---\n",
        "\n",
        "> (b) Se existe uma recta que divide o triângulo em dois triângulos semelhantes ao triângulo dado então o triângulo é rectângulo e a recta contem a altura que divide o ângulo recto.\n",
        "\n",
        "### **Solução.**\n",
        "\n",
        "Desta vez, não sabemos a priori que $\\alpha+\\beta=\\tfrac{\\pi}{2}$, mas sabemos sim que os triângulos $AFB$, $BFC$ e $ABC$ são semelhantes. Logo, usando a semelhança dos triângulos $ABC$ e $BFC$ temos que o ângulo $F\\color{red}{B}C$ do triângulo $BFC$ é igual ao ângulo $B\\color{red}{A}C=\\alpha$ do triângulo $ABC$, e usando a semelhança dos triângulos $AFB$ e $ABC$, temos que o ângulo $A\\color{red}{B}C=\\alpha+\\beta$ do triângulo $ABC$ é igual ao ângulo $A\\color{red}{F}B$ do triângulo $AFB$. Em consequência, o ângulo raso no vértice $F$ pode ser escrito como\n",
        "\n",
        "$$\\alpha+\\beta+\\beta+\\alpha=\\pi\\,\\,⟹\\,\\,\\alpha+\\beta=\\frac{\\pi}{2}\\,.$$\n",
        "\n",
        "<br>\n",
        "\n",
        "\n"
      ],
      "metadata": {
        "id": "MpJ14XbV6--l"
      }
    },
    {
      "cell_type": "markdown",
      "source": [
        "## **Ex. 19:**\n",
        "\n",
        "> Seja $ABCD$ um trapézio. Escreva uma expressão para a área do trapézio em função do comprimento das bases e da altura.\n",
        "\n",
        "### **Solução.**\n",
        "\n",
        "Seja $ABCD$ o trapézio mostrado na figura abaixo, onde $A=(0,0)$, $B=(b,0)$, $C=(c,h)$ e $D=(d,h)$, sendo $h$ a altura e $b$ e $\\ell=c-d$ os comprimentos das bases respectivamente. A área $\\mathbf{A}$ do trapézio é igual a soma das áreas dos triângulos $\\triangle_{ABC}$ e $\\triangle_{ACD}$.\n",
        "\n",
        "![AreaTrapezio.png](https://drive.google.com/uc?id=1-csxtt63vpoLy1_8pvYDv8b2gF2dpl_g)\n",
        "\n",
        "Assim, temos\n",
        "\n",
        "$$\\begin{aligned}\n",
        "\\mathbf{A}=A(\\triangle_{ABC})+A(\\triangle_{ACD})&=\\tfrac{1}{2}\\operatorname{det}\\left(\\overrightarrow{AB},\\overrightarrow{AC}\\right) + \\tfrac{1}{2}\\operatorname{det}\\left(\\overrightarrow{AC},\\overrightarrow{AD}\\right)\\\\[2ex]\n",
        "&= \\quad\\tfrac{1}{2}\\begin{vmatrix}b & c\\\\ 0 & h\\end{vmatrix} \\,\\,\\,\\quad+\\quad \\tfrac{1}{2}\\begin{vmatrix}c & d\\\\ h & h\\end{vmatrix}\\\\[2ex]\n",
        "&= \\quad\\tfrac{1}{2}(bh + ch - dh)\\\\[2ex]\n",
        "&= \\quad\\tfrac{1}{2}(b+\\ell)h\\,.\n",
        "\\end{aligned}$$"
      ],
      "metadata": {
        "id": "d1khHU9ptKbd"
      }
    },
    {
      "cell_type": "markdown",
      "source": [
        "## **Ex. 20:**\n",
        "\n",
        "> (II OPM -Categ. A- 1a elim.) Na figura está representado um trapézio $ABCD$ de bases $AB$ e $DC$. As diagonais $AC$ e $DB$ intersectam-se no ponto $E$. Prova que os triângulos $AED$ e $BCE$ têm a mesma área.\n",
        ">\n",
        "> ![20-IIOPMCatA1aElim.png](https://drive.google.com/uc?id=1-fVPl_b8-l5E7oENv5R13L2_TjXusQuI)\n",
        "\n",
        "### **Solução.**\n",
        "\n",
        "$\\underline{\\text{Uma forma:}}$\n",
        "\n",
        "<br>\n",
        "\n",
        "Usaremos as coordenadas do exercício anterior para os pontos $A,B,C$ e $D$. Assim, temos $A=(0,0)$, $B=(b,0)$, $C=(c,h)$ e $D=(d,h)$. As coordenadas do ponto $E$ obtem-se ao intersectar as rectas $r$ e $s$ que passam por $A, C$ e $B, D$ respectivamente:\n",
        "\n",
        "$$\\begin{aligned}\n",
        "& r: \\quad \\operatorname{det}\\begin{pmatrix}x & c \\\\ y & h\\end{pmatrix} = \\operatorname{det}\\begin{pmatrix}0 & c \\\\ 0 & h\\end{pmatrix} \\rightsquigarrow hx-cy=0 \\\\[3ex]\n",
        "& s: \\quad \\operatorname{det}\\begin{pmatrix}x & d-b \\\\ y & h\\end{pmatrix} = \\operatorname{det}\\begin{pmatrix}b & d-b \\\\ 0 & h\\end{pmatrix} \\rightsquigarrow hx-(d-b)y=hb\n",
        "\\end{aligned}\n",
        "$$\n",
        "\n",
        "Ao resolver o sistema de equações lineares correspondentes obtemos as coordenadas do ponto $E$, a saber\n",
        "\n",
        "$$y=\\frac{hb}{b+c-d}\\quad,\\quad x=\\frac{bc}{b+c-d}\\quad.$$\n",
        "\n",
        "Finalmente, calculamos as áreas dos triângulos $AED$ e $BCE$.\n",
        "\n",
        "$$\n",
        "\\begin{aligned}\n",
        "A(\\triangle_{AED})=\\tfrac{1}{2}\\operatorname{det}\\left(\\overrightarrow{AE},\\overrightarrow{AD}\\right)&=\\tfrac{1}{2}\\begin{vmatrix}\n",
        "\\tfrac{bc}{b+c-d} & d \\\\ \\tfrac{hb}{b+c-d} & h\n",
        "\\end{vmatrix} = \\frac{1}{2}\\left(\\frac{hbc}{b+c-d}-\\frac{hbd}{b+c-d}\\right)\\\\[3ex]\n",
        "&= \\frac{1}{2}\\frac{hb(c-d)}{b+c-d}\\,.\\\\[4ex]\n",
        "A(\\triangle_{BCE})=\\tfrac{1}{2}\\operatorname{det}\\left(\\overrightarrow{BC},\\overrightarrow{BE}\\right)&=\\tfrac{1}{2}\\begin{vmatrix}\n",
        "c-b & \\tfrac{bc}{b+c-d}-b \\\\ h & \\tfrac{hb}{b+c-d}\n",
        "\\end{vmatrix} = \\frac{1}{2}\\left((c-b)\\frac{hb}{b+c-d}-h\\left(\\frac{bc}{b+c-d}-b\\right)\\right) \\\\[3ex]\n",
        "&= \\frac{1}{2}\\left(\\frac{hbc}{b+c-d}-\\frac{hb^2}{b+c-d}-\\frac{hbc}{b+c-d}+\\frac{hb(b+c-d)}{b+c-d}\\right)\\\\[3ex]\n",
        "&= \\frac{1}{2}\\frac{hb(c-d)}{b+c-d}\\,.\n",
        "\\end{aligned}$$\n",
        "\n",
        "<br>\n",
        "\n",
        "$\\underline{\\text{Outra forma:}}$\n",
        "\n",
        "<br>\n",
        "\n",
        "$$\\begin{array}{lcl}\n",
        "A(\\triangle_{AED}) &=& A(\\triangle_{ABD}) - A(\\triangle_{ABE}) \\\\[2ex]\n",
        "A(\\triangle_{BCE}) &=& A(\\triangle_{ABC}) - A(\\triangle_{BEA}) \\\\[2ex]\n",
        "\\end{array}$$\n",
        "\n",
        "Note-se que $\\triangle_{ABE}=\\triangle_{BEA}$ e $A(\\triangle_{ABD})=A(\\triangle_{ABC})$, uma vez que ambos triângulos têm a mesma base e a mesma altura. Em consequência $A(\\triangle_{AED})=A(\\triangle_{BCE})$."
      ],
      "metadata": {
        "id": "7jFx8hirCFTn"
      }
    },
    {
      "cell_type": "markdown",
      "source": [],
      "metadata": {
        "id": "ffiMnQuws4u3"
      }
    },
    {
      "cell_type": "markdown",
      "source": [
        "# **Cap. 3, Sec. 3.2: Plano Cartesiano. Estudo de figuras e suas propriedades.**"
      ],
      "metadata": {
        "id": "AhVuH3x0fGDd"
      }
    },
    {
      "cell_type": "markdown",
      "source": [
        "## **Ex. 15:**\n",
        "\n",
        "> (II OPM B - 1a elim.) Na figura seguinte estão representadas três circunferências tangentes entre si e à recta representada. Conhecendo-se o raio duas circunferências maiores, $a$ e $b$, determine o raio da circunferência mais pequena (em função de $a$ e de $b$)\n",
        ">\n",
        "> ![Sec3.2-Ex15.png](https://drive.google.com/uc?id=12t-73HUb7tD3S-fCkcxCRNsW66bvwZMq)\n",
        "\n",
        "### **Solução.**\n",
        "\n",
        "Coloquemos a origem do plano cartesiano no ponto $L$. Portanto, as coordenadas dos pontos distinguidos são: $L=(0,0)\\,\\,$, $R=(y,b-c)\\,\\,$ e $\\,\\,C=(-x,a-c)$.\n",
        "\n",
        "Por um lado temos\n",
        "\n",
        "$$\\begin{aligned}\n",
        "\\operatorname{d}(C,R) &=\\sqrt{(y+x)^2+(b-c-a+c)^2}=a+b \\\\[2ex]\n",
        "(x+y)^2 &= (b+a)^2 - (b-a)^2 = 4ab\\\\[2ex]\n",
        "x+y &= 2\\sqrt{ab}\n",
        "\\end{aligned}$$\n",
        "\n",
        "Por outro lado, usando o Teorema de Pitágoras nos triângulos $LTC$ e $LUR$ obtemos\n",
        "\n",
        "$$\\begin{matrix}\n",
        "(a+c)^2 = (a-c)^2 + x^2 \\\\[2ex]\n",
        "x^2 = 4ac \\\\[2ex]\n",
        "\\boxed{x = 2\\sqrt{a}\\sqrt{c}}\n",
        "\\end{matrix}\\qquad\\text{e}\\qquad\n",
        "\\begin{matrix}\n",
        "(b+c)^2 = (b-c)^2 + y^2 \\\\[2ex]\n",
        "y^2 = 4bc \\\\[2ex]\n",
        "\\boxed{y = 2\\sqrt{b}\\sqrt{c}}\n",
        "\\end{matrix}\n",
        "$$\n",
        "\n",
        "Segue-se que\n",
        "\n",
        "$$\\begin{matrix}\n",
        "\\boxed{x+y = 2\\sqrt{ab}} \\\\[2ex]\n",
        "2\\sqrt{a}\\sqrt{c} + 2\\sqrt{b}\\sqrt{c} = 2\\sqrt{ab} \\\\[2ex]\n",
        "\\sqrt{c} = \\dfrac{\\sqrt{ab}}{\\sqrt{a}+\\sqrt{b}} \\\\[2ex]\n",
        "\\boxed{\\color{red}{c = \\dfrac{ab}{(\\sqrt{a}+\\sqrt{b})^2}}}\n",
        "\\end{matrix}$$"
      ],
      "metadata": {
        "id": "a5FvawSCfeNU"
      }
    },
    {
      "cell_type": "markdown",
      "source": [
        "# **Cap. 3, Sec. 3.4: Cónicas e propriedades refletoras das cónicas.**"
      ],
      "metadata": {
        "id": "AZ1_vkvMmXtm"
      }
    },
    {
      "cell_type": "markdown",
      "source": [
        "## **Divertimento**\n",
        "\n",
        "Deixo-vos o link de um vídeo no canal do Youtube do que vos falei sobre três formas equivalentes de construir uma elipse, desfrutem o vídeo!"
      ],
      "metadata": {
        "id": "R6S9KUfymfsN"
      }
    },
    {
      "cell_type": "code",
      "source": [
        "from IPython.display import YouTubeVideo\n",
        "YouTubeVideo('pQa_tWZmlGs',920,480)"
      ],
      "metadata": {
        "colab": {
          "base_uri": "https://localhost:8080/",
          "height": 521
        },
        "id": "TyV-5k5BmlBf",
        "outputId": "c5d599e8-edef-4be4-d0f7-d7c08abbe0bc"
      },
      "execution_count": null,
      "outputs": [
        {
          "output_type": "execute_result",
          "data": {
            "text/plain": [
              "<IPython.lib.display.YouTubeVideo at 0x7f820411ec70>"
            ],
            "text/html": [
              "\n",
              "        <iframe\n",
              "            width=\"920\"\n",
              "            height=\"480\"\n",
              "            src=\"https://www.youtube.com/embed/pQa_tWZmlGs\"\n",
              "            frameborder=\"0\"\n",
              "            allowfullscreen\n",
              "        ></iframe>\n",
              "        "
            ],
            "image/jpeg": "[encoded data removed]"
          },
          "metadata": {},
          "execution_count": 1
        }
      ]
    },
    {
      "cell_type": "markdown",
      "source": [
        "## **Ex. 10:**\n",
        "\n",
        "> Prove a propriedade refletora da parábola enunciada no teorema 3.9: ***Qualquer que seja o ponto $P$ da parábola a recta tangente à parábola no ponto $P$ é a bissectriz do ângulo das semirectas $[PF$ e $P+\\lambda\\overrightarrow{FV}$, $\\lambda\\in\\mathbb{R}_0^+$ em que $V$ é o vértice da parábola.***\n",
        "\n",
        "### **Solução.**\n",
        "\n",
        "Para provar que a recta tangente $\\mathcal{T}$ à parábola $\\mathcal{C}$ no ponto $P$ é a bissectriz do ângulo das semirectas $[PF$ e $P+\\lambda\\overrightarrow{FV}$, com $\\lambda\\in\\mathbb{R}_0^+$, temos de mostrar que $\\angle(\\mathcal{T},[PF)=\\angle(\\mathcal{T},P+\\lambda\\overrightarrow{FV})$. Como por definição $P$ equidista de $F$ e da recta $r$ e $\\operatorname{d}(P,r)=\\operatorname{d}(P,P_1)$, onde $P_1$ é a intersecção de $r$ com a perpendicular à $r$ que passa por $P$, segue-se que $P$ pertence à mediatriz $\\mathcal{M}$ do segmento $FP_1$. Seja $M\\in\\mathcal{M}$ o ponto meio do segmento $FP_1$. Claramente, se a mediatriz $\\mathcal{M}$ é igual a recta tangente $\\mathcal{T}$ usando a semelhança dos  triângulos $\\triangle FMP$ e $\\triangle PMP_1$ podemos concluir $\\alpha=\\angle(\\mathcal{T},[PF)=\\angle(\\mathcal{T},P+\\lambda\\overrightarrow{FV})=\\beta$ (ver figura abaixo). Portanto, basta provar que $\\mathcal{M}=\\mathcal{T}$. $\\color{red}{\\text{Atenção:}}$ **Geogebra permite-nos visualizar que efectivamente $\\mathcal{M}=\\mathcal{T}$, mas isto não o sabemos a priori.**\n",
        "\n",
        "<br>\n",
        "\n",
        "Usando o referencial ortonormado mostrado na figura abaixo temos que as coordenadas dos pontos $F$, $P$, $P_1$ e $M$ são\n",
        "$F=(0,c)$, $P=\\left(x_o,\\frac{1}{4c}x_o^2\\right)$, $P_1=(x_o,-c)$ e $M=\\left(\\frac{x_o}{2},0\\right)$. Um vector director da mediatriz $\\mathcal{M}$ é $\\overrightarrow{MP}=\\left(\\frac{x_o}{2},\\frac{1}{4c}x_o^2\\right)$, logo o declive da recta $\\mathcal{M}$ é\n",
        "\n",
        "$$\\boxed{m_{\\mathcal{M}}=\\frac{\\dfrac{1}{4c}x_o^2}{\\dfrac{x_o}{2}}=\\dfrac{1}{2c}x_o\\,.}$$\n",
        "\n",
        "Por outro lado, derivando a equação da parábola $\\mathcal{C}$ , a saber $2x=4cy'$, obtemos o declive da recta tangente $\\mathcal{T}$ a $\\mathcal{C}$ no ponto $P$; isto é\n",
        "\n",
        "$$\\boxed{m_{\\mathcal{T}}=\\dfrac{1}{2c}x_o\\,.}$$\n",
        "\n",
        "Isto significa que $\\mathcal{M}$ e $\\mathcal{T}$ são paralelas e como $P\\in\\mathcal{M}\\cap\\mathcal{T}$ conclui-se que $\\mathcal{M}=\\mathcal{T}$.\n",
        "\n"
      ],
      "metadata": {
        "id": "c4aVaD8COm5F"
      }
    },
    {
      "cell_type": "code",
      "source": [
        "from IPython.display import IFrame\n",
        "IFrame(\"https://www.geogebra.org/m/rsghx44k\",890,640)"
      ],
      "metadata": {
        "colab": {
          "base_uri": "https://localhost:8080/",
          "height": 661
        },
        "id": "zVWtRMFJFjQ3",
        "outputId": "7f6d3490-1323-4c5c-cfa4-ee9eb2dddbbd"
      },
      "execution_count": null,
      "outputs": [
        {
          "output_type": "execute_result",
          "data": {
            "text/plain": [
              "<IPython.lib.display.IFrame at 0x7f820411ef70>"
            ],
            "text/html": [
              "\n",
              "        <iframe\n",
              "            width=\"890\"\n",
              "            height=\"640\"\n",
              "            src=\"https://www.geogebra.org/m/rsghx44k\"\n",
              "            frameborder=\"0\"\n",
              "            allowfullscreen\n",
              "        ></iframe>\n",
              "        "
            ]
          },
          "metadata": {},
          "execution_count": 2
        }
      ]
    },
    {
      "cell_type": "markdown",
      "source": [
        "## **Ex. 12:**\n",
        "\n",
        "> Classifique as cónicas definidas pelas equações, indicando em consoante o caso: posição e tamanho dos eixos, focos, directriz.\n",
        ">\n",
        "> (a) $\\frac{(x-3)^2}{9}-\\frac{(y+4)^2}{4}=1$\n",
        ">\n",
        "> (b) $\\frac{(x-3)^2}{9}-\\frac{(y+4)^2}{16}=1$\n",
        "\n",
        "### **Solução.**\n"
      ],
      "metadata": {
        "id": "jOHWxyUnmjTj"
      }
    },
    {
      "cell_type": "code",
      "source": [
        "from IPython.display import IFrame\n",
        "IFrame(\"https://www.geogebra.org/m/ncmra7jg\",860,640)"
      ],
      "metadata": {
        "id": "JEqrXz0Aoz-1",
        "outputId": "8689f4a5-5f1a-4395-b658-11574dd217ef",
        "colab": {
          "base_uri": "https://localhost:8080/",
          "height": 661
        }
      },
      "execution_count": null,
      "outputs": [
        {
          "output_type": "execute_result",
          "data": {
            "text/plain": [
              "<IPython.lib.display.IFrame at 0x7f820411ee50>"
            ],
            "text/html": [
              "\n",
              "        <iframe\n",
              "            width=\"860\"\n",
              "            height=\"640\"\n",
              "            src=\"https://www.geogebra.org/m/ncmra7jg\"\n",
              "            frameborder=\"0\"\n",
              "            allowfullscreen\n",
              "        ></iframe>\n",
              "        "
            ]
          },
          "metadata": {},
          "execution_count": 3
        }
      ]
    },
    {
      "cell_type": "markdown",
      "source": [
        "# **Teste de Geometria/Geometria I - 9 de Abril de 2022**"
      ],
      "metadata": {
        "id": "c5GvFMfyUgyS"
      }
    },
    {
      "cell_type": "markdown",
      "source": [
        "## **Versão A - Parte II: Ex. 6:**\n",
        "\n",
        "> Considere o ponto $P=(12,0)$ e seja $\\mathcal{C}$ a circunferência de centro na origem $O=(0,0)$ e raio $4$. **Determine** os dois pontos da circunferência, $X_1, X_2$ que verificam a condição: ***as rectas $PX_1$ e $PX_2$ são tangentes à circunferência.***\n",
        "\n",
        "### **Solução.**\n",
        "\n",
        "$\\underline{\\text{Uma forma}}:$ Traçar a circunferência $\\mathcal{C}_{aux}$ com centro no ponto meio $C$ entre $O$ e $P$. A  circunferência $\\mathcal{C}_{aux}$ intersecta à circunferência $\\mathcal{C}$ em dois pontos que necessariamente são os pontos de tangência $X_1$ e $X_2$ buscados porque o triângulo formado pelos pontos $O, P$ e $X_1$ (similarmente $O, P$ e $X_2$) é um triângulo rectângulo, uma vez que o lado $OP$ contem o centro $C$ da circunferência $\\mathcal{C}_{aux}$ e portanto o comprimento é igual ao diâmetro.\n",
        "\n",
        "Portanto, temos de resolver o sistema\n",
        "\n",
        "$$\\begin{array}{rc}\n",
        "\\mathcal{C}: & x^2+y^2=16 \\\\[1ex]\n",
        "\\mathcal{C}_{aux}: & (x-6)^2 + y^2 = 36\n",
        "\\end{array}$$\n",
        "\n",
        "Substituindo $y^2=16-x^2$ da equação de $\\mathcal{C}$ na equação de $\\mathcal{C}_{aux}$ obtemos\n",
        "\n",
        "$$\\begin{array}{c}\n",
        "(x-6)^2 + 16-x^2 = 36 \\\\[1ex]\n",
        "x^2-12x+36+16-x^2 = 36 \\\\[1ex]\n",
        "\\boxed{x=\\frac{4}{3}} \\longrightarrow y^2=16-\\dfrac{16}{9} \\longrightarrow \\boxed{y=\\pm\\dfrac{8}{3}\\sqrt{2}}\n",
        "\\end{array}$$\n",
        "\n",
        "Logo, as coordenadas dos pontos $X_1$ e $X_2$ são $X_1=\\left(\\dfrac{4}{3},\\dfrac{8}{3}\\sqrt{2}\\right)$ e $X_2=\\left(\\dfrac{4}{3},-\\dfrac{8}{3}\\sqrt{2}\\right)$.\n",
        "\n",
        "$\\underline{\\text{Outra forma}}:$ Sabendo que os pontos $X_1$ e $X_2$ são pontos de tangência, o triângulo $OX_1P$ é rectângulo no vértice $X_1$ (similarmente o triângulo $OX_2P$ no vértice $X_2$). Usando o teorema de Pitágoras, o comprimento do lado $X_1P$ (e também do lado $X_2P$) é $8\\sqrt{2}$. Pela simetria da situação, escrevemos $X_1=(x_o,y_o)$ e $X_2=(x_o,-y_o)$. Os triângulos $OX_1P$ e $OAX_1$ são semelhantes (ver exercício 9 da Secção 2.8). Portanto, temos que\n",
        "\n",
        "$$\\dfrac{4}{12}=\\dfrac{y_o}{8\\sqrt{2}}\\longrightarrow \\boxed{y_o=\\dfrac{8}{3}\\sqrt{2}}\\longrightarrow \\boxed{x_o=\\dfrac{4}{3}}\\,.$$\n"
      ],
      "metadata": {
        "id": "7q-op3fgUvwj"
      }
    },
    {
      "cell_type": "code",
      "source": [
        "from IPython.display import IFrame\n",
        "IFrame(\"https://www.geogebra.org/m/hpkx6bmy\",880,650)"
      ],
      "metadata": {
        "colab": {
          "base_uri": "https://localhost:8080/",
          "height": 671
        },
        "id": "AQTGGEH2jBs6",
        "outputId": "fad22992-6c8a-4ec8-8a19-e4a6f0872abc"
      },
      "execution_count": null,
      "outputs": [
        {
          "output_type": "execute_result",
          "data": {
            "text/plain": [
              "<IPython.lib.display.IFrame at 0x7fcad2bfe790>"
            ],
            "text/html": [
              "\n",
              "        <iframe\n",
              "            width=\"880\"\n",
              "            height=\"650\"\n",
              "            src=\"https://www.geogebra.org/m/hpkx6bmy\"\n",
              "            frameborder=\"0\"\n",
              "            allowfullscreen\n",
              "        ></iframe>\n",
              "        "
            ]
          },
          "metadata": {},
          "execution_count": 1
        }
      ]
    },
    {
      "cell_type": "markdown",
      "source": [
        "# **Cap. 4, Sec. 4.3: Construções com régua e compasso.**"
      ],
      "metadata": {
        "id": "-s6EtWVms2MR"
      }
    },
    {
      "cell_type": "markdown",
      "source": [
        "## **Recta paralela à uma recta dada**"
      ],
      "metadata": {
        "id": "jjsTDMKwgKXl"
      }
    },
    {
      "cell_type": "code",
      "source": [
        "from IPython.display import IFrame\n",
        "IFrame(\"https://www.geogebra.org/m/byn5rf2j\",880,720)"
      ],
      "metadata": {
        "colab": {
          "base_uri": "https://localhost:8080/",
          "height": 741
        },
        "id": "ChzEn_eaf5eI",
        "outputId": "6f82ad8b-2f7c-4149-d1fb-3ca06357bc92"
      },
      "execution_count": null,
      "outputs": [
        {
          "output_type": "execute_result",
          "data": {
            "text/plain": [
              "<IPython.lib.display.IFrame at 0x7f79f0de6490>"
            ],
            "text/html": [
              "\n",
              "        <iframe\n",
              "            width=\"880\"\n",
              "            height=\"720\"\n",
              "            src=\"https://www.geogebra.org/m/byn5rf2j\"\n",
              "            frameborder=\"0\"\n",
              "            allowfullscreen\n",
              "        ></iframe>\n",
              "        "
            ]
          },
          "metadata": {},
          "execution_count": 6
        }
      ]
    },
    {
      "cell_type": "markdown",
      "source": [
        "## **Rombo**"
      ],
      "metadata": {
        "id": "n2MIQSU9lZ2d"
      }
    },
    {
      "cell_type": "code",
      "source": [
        "from IPython.display import IFrame\n",
        "IFrame(\"https://www.geogebra.org/m/dyxnkatw\",880,720)"
      ],
      "metadata": {
        "colab": {
          "base_uri": "https://localhost:8080/",
          "height": 741
        },
        "id": "zcXdYt3olk50",
        "outputId": "11f0d57b-ab9e-4571-c173-1b0b84946385"
      },
      "execution_count": null,
      "outputs": [
        {
          "output_type": "execute_result",
          "data": {
            "text/plain": [
              "<IPython.lib.display.IFrame at 0x7f79ee37ff90>"
            ],
            "text/html": [
              "\n",
              "        <iframe\n",
              "            width=\"880\"\n",
              "            height=\"720\"\n",
              "            src=\"https://www.geogebra.org/m/dyxnkatw\"\n",
              "            frameborder=\"0\"\n",
              "            allowfullscreen\n",
              "        ></iframe>\n",
              "        "
            ]
          },
          "metadata": {},
          "execution_count": 13
        }
      ]
    },
    {
      "cell_type": "markdown",
      "source": [
        "## **Ex. 1:**\n",
        "\n",
        "> Demonstre a Proposição 4.1:\n",
        ">\n",
        "> (a) Dados uma recta e um ponto descreva um processo geral para construir com régua e compasso a perpendicular à recta que contem o ponto.\n"
      ],
      "metadata": {
        "id": "kt7Z6r-HtBJc"
      }
    },
    {
      "cell_type": "markdown",
      "source": [
        "### **Solução.**\n",
        "\n",
        "$\\underline{\\text{Caso 1}}:$ O ponto por onde passa a perpendicular pertence ao segmento dado."
      ],
      "metadata": {
        "id": "0QtnL3MUGQIj"
      }
    },
    {
      "cell_type": "code",
      "source": [
        "from IPython.display import IFrame\n",
        "IFrame(\"https://www.geogebra.org/m/zcbv3hyy\",880,720)"
      ],
      "metadata": {
        "colab": {
          "base_uri": "https://localhost:8080/",
          "height": 741
        },
        "id": "o_bwM-0Qutax",
        "outputId": "703d28b2-531c-4173-e07a-fc79a2df808a"
      },
      "execution_count": null,
      "outputs": [
        {
          "output_type": "execute_result",
          "data": {
            "text/plain": [
              "<IPython.lib.display.IFrame at 0x7f79ee37f9d0>"
            ],
            "text/html": [
              "\n",
              "        <iframe\n",
              "            width=\"880\"\n",
              "            height=\"720\"\n",
              "            src=\"https://www.geogebra.org/m/zcbv3hyy\"\n",
              "            frameborder=\"0\"\n",
              "            allowfullscreen\n",
              "        ></iframe>\n",
              "        "
            ]
          },
          "metadata": {},
          "execution_count": 17
        }
      ]
    },
    {
      "cell_type": "markdown",
      "source": [
        "$\\underline{\\text{Caso 2}}:$ O ponto por onde passa a perpendicular está fora do segmento dado."
      ],
      "metadata": {
        "id": "aZ6CMTZkDeYJ"
      }
    },
    {
      "cell_type": "code",
      "source": [
        "from IPython.display import IFrame\n",
        "IFrame(\"https://www.geogebra.org/m/rmvj9ufc\",880,720)"
      ],
      "metadata": {
        "colab": {
          "base_uri": "https://localhost:8080/",
          "height": 741
        },
        "id": "Huns8UyDDmni",
        "outputId": "0ec6177d-ac4e-41b7-b2d0-227d0ad3f50a"
      },
      "execution_count": null,
      "outputs": [
        {
          "output_type": "execute_result",
          "data": {
            "text/plain": [
              "<IPython.lib.display.IFrame at 0x7f79ee37fd10>"
            ],
            "text/html": [
              "\n",
              "        <iframe\n",
              "            width=\"880\"\n",
              "            height=\"720\"\n",
              "            src=\"https://www.geogebra.org/m/rmvj9ufc\"\n",
              "            frameborder=\"0\"\n",
              "            allowfullscreen\n",
              "        ></iframe>\n",
              "        "
            ]
          },
          "metadata": {},
          "execution_count": 20
        }
      ]
    },
    {
      "cell_type": "markdown",
      "source": [
        "## **Ex. 2:**\n",
        "\n",
        "> Mostre que uma circunferência é construtível se e só se o seu centro é um ponto construtível e o seu raio é um número construtível.\n",
        "\n",
        "### **Solução.**\n",
        "\n",
        "$(\\Longrightarrow)$ Seja $\\mathcal{C}$ uma circunferência construtível. Por definição, o centro de $\\mathcal{C}$ é um ponto construtível e existe pelo menos um ponto $P\\in\\mathcal{C}$, tal que $P$ é construtível. Isto significa que o segmento $CP$ é construtível e, portanto, o comprimento do segmento $CP$, que é o raio de $\\mathcal{C}$, é um número construtível.\n",
        "\n",
        "<br>\n",
        "\n",
        "$(\\Longleftarrow)$ Seja $C$ o centro de uma circunferência $\\mathcal{C}$ e $r$ o seu raio. Sabemos que $C$ e $r$ são construtíveis. Por definição, $r$ é o comprimento de um segmento construtível, o que significa que os extremos do segmento são construtíveis, e portanto se $C$ é um dos extremos do segmento cujo comprimento é o raio $r$, então o outro extremo do segmento, digamos $P$,  também é construtível. Por definição de raio de uma circunferência, o ponto $P$ pertence à circunferência $\\mathcal{C}$."
      ],
      "metadata": {
        "id": "kfQFKWAvbHGW"
      }
    },
    {
      "cell_type": "markdown",
      "source": [
        "## **Ex. 3:**\n",
        "\n",
        "> Prove:\n",
        ">\n",
        "> (a) Todos os números inteiros são construtíveis.\n",
        ">\n",
        "> (b) Todos os números racionais são construtíveis.\n",
        "\n",
        "## **Solução:**\n",
        "\n",
        "(a) Seja $[OE_1]$ um segmento de reta unitário. Seja $a\\in\\mathbb{Z}$ e convenhamos que $E_0=O$. Sem perda de generalidade, assumamos que $a\\ge 0$. O número $a$ é construtível porque pode ser obtido por uma sucessão de interseções da reta que passa por $O$ e $E_1$ e circunferências com centros em $E_i$ e raio $r=1$ (o comprimento do segmento unitário $[OE_1]$), com $0\\le i\\le a$. Se $a<0$, repetimos o processo anterior para $-a$.\n",
        "\n",
        "<br>\n",
        "\n",
        "---\n",
        "\n",
        "<br>\n",
        "\n",
        "(b) Seja $\\frac{a}{b}\\in\\mathbb{Q}$. Sem perda de generalidade assumamos que $a,b>0$. O processo de construção para mostrar que $\\frac{a}{b}$ é construtível tem sido apresentado nas aulas teóricas usando o teorema de Tales. A seguir ilustramos essa construção usando o Geogebra.\n",
        "\n"
      ],
      "metadata": {
        "id": "85vPB1xAfJbw"
      }
    },
    {
      "cell_type": "code",
      "source": [
        "from IPython.display import IFrame\n",
        "IFrame(\"https://www.geogebra.org/m/n8sjhuvd\",880,720)"
      ],
      "metadata": {
        "colab": {
          "base_uri": "https://localhost:8080/",
          "height": 741
        },
        "id": "W8VlLsujn-IZ",
        "outputId": "5b0c2e10-91e5-413b-eccb-cc1e23be2779"
      },
      "execution_count": null,
      "outputs": [
        {
          "output_type": "execute_result",
          "data": {
            "text/plain": [
              "<IPython.lib.display.IFrame at 0x7f6b1662b050>"
            ],
            "text/html": [
              "\n",
              "        <iframe\n",
              "            width=\"880\"\n",
              "            height=\"720\"\n",
              "            src=\"https://www.geogebra.org/m/n8sjhuvd\"\n",
              "            frameborder=\"0\"\n",
              "            allowfullscreen\n",
              "        ></iframe>\n",
              "        "
            ]
          },
          "metadata": {},
          "execution_count": 3
        }
      ]
    },
    {
      "cell_type": "markdown",
      "source": [
        "## **Ex. 9:**\n",
        "\n",
        "> $\\textbf{Razão e número de ouro}: $ Diz-se que dois segmentos de recta de comprimentos $x$ e $y$, $x>y$ estão relacionados pela razão de ouro se satisfazem a igualdade:\n",
        ">\n",
        "> $$\\frac{x+y}{x}=\\frac{x}{y}$$\n",
        ">\n",
        "> que se costuma enunciar:\n",
        "> > $\\color{green}{\\text{a razão do todo }(x+y) \\text{ pela maior das partes é igual à razão da maior das partes pela menor.}}$\n",
        ">\n",
        "> (a) Prove que dois números positivos estão relacionados pela razão de ouro se e só se $\\frac{x}{y}=\\frac{1+\\sqrt{5}}{2}$. O número $\\varphi=\\frac{1+\\sqrt{5}}{2}$ chama-se número de ouro.\n",
        ">\n",
        "> (b) Prove que a seguinte construção permite construir, com régua e compasso, a partir de um segmento $\\color{red}{y}$ um segmento $\\color{red}{x}>y$ relacionado com $y$ pelo número de ouro:\n",
        ">\n",
        "> 1. Considere-se um segmento de recta $AB$ de comprimento $y$. Prolonguemos o segmento de recta $AB$ para o lado de $B$.\n",
        "> 2. Tracemos a perpendicular à recta $AB$ no ponto $B$ e marquemos sobre ela um ponto $D$ tal que $\\Vert AB\\Vert=\\Vert BD\\Vert$.\n",
        "> 3. Determinemos o ponto médio $M$ do segmento de recta $AB$.\n",
        "> 4. Seja $C$ o ponto de intersecção da circunferência de centro $M$ é raio $\\Vert MD\\Vert$ com a semirecta $AB$.\n",
        "> 5. O segmento de recta $AC$ satisfaz as condições desejadas, isto é\n",
        "> $$\\frac{\\Vert AC\\Vert}{\\Vert AB\\Vert}=\\frac{1+\\sqrt{5}}{2}\\,.$$  "
      ],
      "metadata": {
        "id": "zcjWCYa-Iy7s"
      }
    },
    {
      "cell_type": "markdown",
      "source": [
        "### **Solução.**\n",
        "\n",
        "(a) $(\\Longrightarrow)$ Seja $\\varphi=\\frac{x}{y}$. Da equação $\\frac{x+y}{x}=\\frac{x}{y}$ obtemos\n",
        "\n",
        "$$\\varphi=\\frac{x}{y}=\\frac{x+y}{x}=1+\\frac{y}{x}=1+\\frac{1}{\\frac{x}{y}}=1+\\frac{1}{\\varphi}$$\n",
        "\n",
        "e portanto\n",
        "\n",
        "$$\\varphi^2=\\varphi+1 \\quad\\Longleftrightarrow\\quad \\varphi^2-\\varphi-1=0\\,.$$\n",
        "\n",
        "Usando a fórmula resolvente temos que\n",
        "\n",
        "$$\\varphi = \\frac{1\\pm\\sqrt{(-1)^2+4(1)(-1)}}{2}=\\frac{1+\\sqrt{5}}{2}\\,,$$\n",
        "\n",
        "uma vez que $x$ e $y$ são positivos.\n",
        "\n",
        "<br>\n",
        "\n",
        "$(\\Longleftarrow)\\quad$ Por um lado temos que\n",
        "\n",
        "$$\\dfrac{x}{y}=\\dfrac{1+\\sqrt{5}}{2}\\dfrac{\\color{red}{1-\\sqrt{5}}}{\\color{red}{1-\\sqrt{5}}}=\\dfrac{-2}{1-\\sqrt{5}}$$\n",
        "\n",
        "Por outro lado,\n",
        "\n",
        "$$\\frac{x+y}{x}=1+\\frac{1}{\\frac{x}{y}}=1+\\frac{\\sqrt{5}-1}{2}=\\frac{2+\\sqrt{5}-1}{2}=\\frac{x}{y}$$\n",
        "\n",
        "<br>\n",
        "\n",
        "---\n",
        "\n",
        "<br>\n",
        "\n",
        "(b)"
      ],
      "metadata": {
        "id": "Z8QKFruAQ99_"
      }
    },
    {
      "cell_type": "code",
      "source": [
        "from IPython.display import IFrame\n",
        "IFrame(\"https://www.geogebra.org/m/ejecg83p\",880,740)"
      ],
      "metadata": {
        "colab": {
          "base_uri": "https://localhost:8080/",
          "height": 761
        },
        "id": "7V2ZoXNzWz2N",
        "outputId": "4794da56-15c0-46f3-fa11-099a91e8c6f2"
      },
      "execution_count": null,
      "outputs": [
        {
          "output_type": "execute_result",
          "data": {
            "text/plain": [
              "<IPython.lib.display.IFrame at 0x7f79f0ddcd10>"
            ],
            "text/html": [
              "\n",
              "        <iframe\n",
              "            width=\"880\"\n",
              "            height=\"740\"\n",
              "            src=\"https://www.geogebra.org/m/ejecg83p\"\n",
              "            frameborder=\"0\"\n",
              "            allowfullscreen\n",
              "        ></iframe>\n",
              "        "
            ]
          },
          "metadata": {},
          "execution_count": 24
        }
      ]
    },
    {
      "cell_type": "markdown",
      "source": [
        "## **Ex. 10:**\n",
        "\n",
        "> Considere um pentágono regular $ABCDE$ inscrito numa circunferência. Prove que os lados do triângulo $ACD$ estão relacionados pela razão de ouro.\n",
        ">\n",
        "> ***Sugestão:*** A diagonal $BD$ decompõe o triângulo $ACD$ em dois triângulos. Mostre que um deles é semelhante ao triângulo $ACD$. O resultado sai ao determinar a razão de semelhança dos dois triângulos.\n",
        "\n",
        "### **Solução.**"
      ],
      "metadata": {
        "id": "SDJFHC9_7HiK"
      }
    },
    {
      "cell_type": "code",
      "source": [
        "from IPython.display import IFrame\n",
        "IFrame(\"https://www.geogebra.org/m/sn8rgxcu\",880,690)"
      ],
      "metadata": {
        "colab": {
          "base_uri": "https://localhost:8080/",
          "height": 711
        },
        "id": "w9bX7dZ7gFqt",
        "outputId": "53144f22-b15a-4725-a9b3-f461262843bb"
      },
      "execution_count": null,
      "outputs": [
        {
          "output_type": "execute_result",
          "data": {
            "text/plain": [
              "<IPython.lib.display.IFrame at 0x7f79ee39c910>"
            ],
            "text/html": [
              "\n",
              "        <iframe\n",
              "            width=\"880\"\n",
              "            height=\"690\"\n",
              "            src=\"https://www.geogebra.org/m/sn8rgxcu\"\n",
              "            frameborder=\"0\"\n",
              "            allowfullscreen\n",
              "        ></iframe>\n",
              "        "
            ]
          },
          "metadata": {},
          "execution_count": 31
        }
      ]
    },
    {
      "cell_type": "markdown",
      "source": [
        "## **Ex. 11.b:**\n",
        "\n",
        "> Prove que a seguinte construção lhe permite construir um pentágono regular inscrito numa circunferência:\n",
        ">\n",
        "> 1. Trace um raio $OA$ da circunferência.\n",
        "> 2. Trace um diâmetro $PP'$ ortogonal a $OA$ e determine o ponto médio $M$ do raio $OP$.\n",
        "> 3. Trace a bissectriz $\\mathcal{B}$ do ângulo $\\angle AMO$ até encontrar o raio $OA$. Seja $N$ o ponto onde a bissectriz intersecta o raio.\n",
        "> 4. Trace a recta $\\mathcal{A}$ perpendicular ao raio $OA$ que contem o ponto $N$.\n",
        "> Seja $B$ um dos pontos da circunferência onde a recta $\\mathcal{A}$ encontra a circunferência.\n",
        "> 5. O segemento de recta $AB$ é um lado do pentágono inscrito na circunferência, o que permite encontrar os restantes vértices do pentágono.\n",
        ">\n",
        "> **Sugestão:** Para provar que a construção funciona, use a ferramenta ângulo do Geogebra para mostrar que o ângulo $\\theta=\\angle AOB = \\frac{2\\pi}{5}$.  "
      ],
      "metadata": {
        "id": "47XCK06JY94I"
      }
    },
    {
      "cell_type": "markdown",
      "source": [
        "### **Solução.**\n",
        "\n"
      ],
      "metadata": {
        "id": "1SEKkKIidLi-"
      }
    },
    {
      "cell_type": "code",
      "source": [
        "from IPython.display import IFrame\n",
        "IFrame(\"https://www.geogebra.org/m/utsnr7e2\",920,770)"
      ],
      "metadata": {
        "colab": {
          "base_uri": "https://localhost:8080/",
          "height": 791
        },
        "id": "rBwLsUX9ddlJ",
        "outputId": "d43b334f-efb7-4de3-c52b-4e1ffd7520f2"
      },
      "execution_count": null,
      "outputs": [
        {
          "output_type": "execute_result",
          "data": {
            "text/plain": [
              "<IPython.lib.display.IFrame at 0x7f79f0de6890>"
            ],
            "text/html": [
              "\n",
              "        <iframe\n",
              "            width=\"920\"\n",
              "            height=\"770\"\n",
              "            src=\"https://www.geogebra.org/m/utsnr7e2\"\n",
              "            frameborder=\"0\"\n",
              "            allowfullscreen\n",
              "        ></iframe>\n",
              "        "
            ]
          },
          "metadata": {},
          "execution_count": 28
        }
      ]
    },
    {
      "cell_type": "markdown",
      "source": [
        "## **Ex. 13:**\n",
        "\n",
        "> Liste todos os polígonos regulares construtíveis com número de lados menor ou igual a $100$.\n",
        "\n",
        "### **Solução.**\n",
        "\n",
        "Ver [The On-line Encyclopedia of Integer Sequences](https://oeis.org/A003401)."
      ],
      "metadata": {
        "id": "2JKBofO2T2_q"
      }
    },
    {
      "cell_type": "code",
      "source": [
        "from IPython.display import IFrame\n",
        "IFrame(\"https://oeis.org/A003401\",880,750)"
      ],
      "metadata": {
        "colab": {
          "base_uri": "https://localhost:8080/",
          "height": 771
        },
        "id": "adfVH7wHUuMt",
        "outputId": "e2458031-1b6a-4fe5-80e9-1cb92ca5cff4"
      },
      "execution_count": null,
      "outputs": [
        {
          "output_type": "execute_result",
          "data": {
            "text/plain": [
              "<IPython.lib.display.IFrame at 0x7f4cfb075ad0>"
            ],
            "text/html": [
              "\n",
              "        <iframe\n",
              "            width=\"880\"\n",
              "            height=\"750\"\n",
              "            src=\"https://oeis.org/A003401\"\n",
              "            frameborder=\"0\"\n",
              "            allowfullscreen\n",
              "        ></iframe>\n",
              "        "
            ]
          },
          "metadata": {},
          "execution_count": 12
        }
      ]
    },
    {
      "cell_type": "markdown",
      "source": [],
      "metadata": {
        "id": "yWqYzRCrIDJK"
      }
    },
    {
      "cell_type": "markdown",
      "source": [
        "# **Cap. 5: Transformações lineares, afins, isometrias e semelhanças. Grupo de simetrias de uma figura.**\n"
      ],
      "metadata": {
        "id": "UbEdFIGHkY4S"
      }
    },
    {
      "cell_type": "markdown",
      "source": [
        "## **Divertimento**\n",
        "\n",
        "Cá va o link doutro vídeo no canal do Youtube 3Blue1Brown sobre transformações lineares, desfrutem o vídeo!"
      ],
      "metadata": {
        "id": "On6HJJ-Q8OZm"
      }
    },
    {
      "cell_type": "code",
      "source": [],
      "metadata": {
        "id": "JRtSXCMIIXnQ"
      },
      "execution_count": null,
      "outputs": []
    },
    {
      "cell_type": "code",
      "source": [
        "from IPython.display import YouTubeVideo\n",
        "YouTubeVideo('kYB8IZa5AuE',920,580)"
      ],
      "metadata": {
        "colab": {
          "base_uri": "https://localhost:8080/"
        },
        "id": "OCErefj99E9G",
        "outputId": "8b4a0743-36c9-499d-cc58-c5a8c87c4ab9"
      },
      "execution_count": null,
      "outputs": [
        {
          "output_type": "execute_result",
          "data": {
            "text/plain": [
              "<IPython.lib.display.YouTubeVideo at 0x7a3c04157430>"
            ],
            "text/html": [
              "\n",
              "        <iframe\n",
              "            width=\"920\"\n",
              "            height=\"580\"\n",
              "            src=\"https://www.youtube.com/embed/kYB8IZa5AuE\"\n",
              "            frameborder=\"0\"\n",
              "            allowfullscreen\n",
              "            \n",
              "        ></iframe>\n",
              "        "
            ],
            "image/jpeg": "[encoded data removed]"
          },
          "metadata": {},
          "execution_count": 2
        }
      ]
    },
    {
      "cell_type": "markdown",
      "source": [
        "## **Ex. 1:**\n",
        "\n",
        "Demonstre a **Proposição 5.2** *(Propriedades das transformações lineares)*\n",
        "\n",
        "> 1. Qualquer aplicação linear (bijectiva ou não) fica determinada pelas imagens $f(\\mathbf{e_1})$, $f(\\mathbf{e_2})$ de uma base qualquer $\\mathcal{B}=(\\mathbf{e_1}, \\mathbf{e_2})$ de $\\mathbb{R}^2$.\n",
        "\n",
        "### **Solução.**\n",
        "\n",
        "Seja $f:\\mathbb{R}^2\\to\\mathbb{R}^2$ uma aplicação linear. Para qualquer $(x_1,x_2)\\in\\mathbb{R}^2$ temos\n",
        "\n",
        "$$f(x_1,x_2) = f(x_1\\mathbf{e_1}+x_2\\mathbf{e_2})=x_1f(\\mathbf{e_1})+x_2f(\\mathbf{e_2}).$$\n",
        "\n",
        "Portanto, fica em evidência que a aplicação linear $f$ fica determinada pelas imagens $f(\\mathbf{e_1})$ e $f(\\mathbf{e_2})$.\n",
        "\n",
        "> 2. Seja $f:\\mathbb{R}^2\\to\\mathbb{R}^2$ a aplicação linear. Sendo $f(1,0)=(a_1,a_2)\\in\\mathbb{R}^2$ e $f(0,1)=(b_1,b_2)\\in\\mathbb{R}^2$,\n",
        ">\n",
        ">> (a) $f$ tem a seguinte ***expressão geral***, na forma matricial:\n",
        ">>\n",
        ">> $$f(x_1,x_2)=\\underbrace{\\begin{bmatrix}a_1 & b_1\\\\a_2 & b_2\\end{bmatrix}}_{A}\\begin{bmatrix}x_1 \\\\x_2\\end{bmatrix} =A [x_1,x_2]^{T},\\quad\\forall\\,(x_1,x_2)\\in\\mathbb{R}^2.$$\n",
        ">> A matriz da expressão anterior chama-se matriz de $f$ (relativamente à base canónica).\n",
        "## **Solução.**\n",
        "\n",
        " Pelo exercício 1, temos que\n",
        " \\begin{aligned}f(x_1,x_2)=x_1f(\\mathbf{e_1})+x_2f(\\mathbf{e_2}) &=x_1(a_1,a_2)+x_2(b_1,b_2) \\\\[2ex] &=x_1\\begin{bmatrix}a_1 \\\\ a_2\\end{bmatrix}+x_2\\begin{bmatrix}b_1 \\\\b_2\\end{bmatrix}=\\begin{bmatrix}a_1 & b_1\\\\a_2 & b_2\\end{bmatrix}\\begin{bmatrix}x_1 \\\\x_2\\end{bmatrix}.\\end{aligned}\n",
        "\n",
        "---\n",
        "\n",
        ">> (b) $f$ é bijectiva se e só se $\\operatorname{det}(A)\\neq 0$.\n",
        ">>\n",
        ">> Se $\\operatorname{det}(A)>0$, diz-se que $f$ **mantem a orientação** ou que $f$ é **transformação directa**.\n",
        ">>\n",
        ">> Se $\\operatorname{det}(A)<0$, diz-se que $f$ **inverte a orientação** ou que $f$ é **transformação inversa**.\n",
        "\n",
        "## **Solução.**\n",
        "\n",
        "$(\\Longrightarrow)$ $f$ bijectiva $\\Longrightarrow$ $\\exists\\, f^{-1}$ tal que $f^{-1}\\big(f(x_1,x_2)\\big)=(x_1,x_2)$. Logo,\n",
        "\n",
        "$$f^{-1}\\big(f(x_1,x_2)\\big)=f^{-1}(A[x_1,x_2]^{T}).$$\n",
        "\n",
        "Repare-se que $f$ linear $\\,\\Longrightarrow\\,f^{-1}$ linear (fácil verificar) e portanto pela Parte (a) deste exercício,\n",
        "\n",
        "$$f^{-1}(y_1,y_2)=B[y_1,y_2]^{T}=BA [x_1,x_2]^{T}=[x_1,x_2]^{T}\\,,$$\n",
        "\n",
        "para alguma matriz $B\\in\\mathcal{M}_2(\\mathbb{R})$. Assim, em termos das matrizes $A$ e $B$ temos\n",
        "\n",
        "$$BA=I\\quad\\text{onde}\\quad I=\\begin{bmatrix}1 & 0 \\\\ 0 & 1\\end{bmatrix}\\,.$$\n",
        "\n",
        "Isto significa que $A$ é invertível e portanto $\\operatorname{det}(A)\\neq 0$.\n",
        "\n",
        "$(\\Longleftarrow)$ Desfazer o caminho andado acima.\n",
        "\n",
        "---\n",
        "\n",
        ">> (c) O conjunto das transformações lineares de $\\mathbb{R}^2$ constitui um grupo que se denota $\\operatorname{GL}(\\mathbb{R}^2)$.\n",
        "\n",
        "## **Solução.**\n",
        "\n",
        "Em primeiro lugar,\n",
        "\n",
        "$$\\operatorname{GL}(\\mathbb{R}^2)=\\big\\{f:\\mathbb{R}^2\\to\\mathbb{R}^2\\,\\big|\\, f \\text{ é linear e bijectiva}\\big\\}.$$\n",
        "\n",
        "Usando a representação matricial de $f$ apresentada no exercício 2(a), podemos ainda dizer\n",
        "\n",
        "$$\\operatorname{GL}(\\mathbb{R}^2)=\\big\\{A\\in\\mathcal{M}_2(\\mathbb{R})\\,\\big|\\, \\operatorname{det}(A)\\neq 0\\big\\}\\,,$$\n",
        "\n",
        "onde $\\mathcal{M}_2(\\mathbb{R})$ é o conjunto das matrizes $2\\times 2$ com entradas em $\\mathbb{R}$. A composição de aplicações lineares corresponde à multiplicação de matrizes. Assim, provaremos que $\\operatorname{GL}(\\mathbb{R}^2)$ é um grupo, usando a representação matricial das aplicações lineares.\n",
        "\n",
        "<br>\n",
        "\n",
        "1. Sejam $A,B\\in\\operatorname{GL}(\\mathbb{R}^2)$. Isto significa que $\\operatorname{det}(A)\\neq 0$ e $\\operatorname{det}(B)\\neq 0$. Queremos provar que $AB\\in\\operatorname{GL}(\\mathbb{R}^2)$. Como $AB$ é claramente uma matriz, resta provar que $\\operatorname{det}(AB)\\neq 0$. Isto é imediato pois\n",
        "$$\\operatorname{det}(AB)=\\underbrace{\\operatorname{det}(A)}_{\\neq 0}\\,\\,\\underbrace{\\operatorname{det}(B)}_{\\neq 0}\\,.$$\n",
        "Logo, $AB\\in\\operatorname{GL}(\\mathbb{R}^2)$, ou seja, a multiplicação de matrizes é fechada em $\\operatorname{GL}(\\mathbb{R}^2)$.\n",
        "\n",
        "2. Sejam $A,B,C\\in\\operatorname{GL}(\\mathbb{R}^2)$. Como consequência da associatividade da multiplicação de matrizes e do facto de $\\operatorname{det}(ABC)=\\operatorname{det}(A)\\operatorname{det}(B)\\operatorname{det}(C)$, concluimos que a multiplicação é também associativa em $\\operatorname{GL}(\\mathbb{R}^2)$.\n",
        "\n",
        "3. Claramente, a matriz $I=\\begin{bmatrix}1 & 0 \\\\ 0 & 1\\end{bmatrix}$ é o elemento neutro em $\\operatorname{GL}(\\mathbb{R}^2)$.\n",
        "\n",
        "4. $\\forall\\, A\\in\\operatorname{GL}(\\mathbb{R}^2)$, a matriz inversa $A^{-1}\\in\\operatorname{GL}(\\mathbb{R}^2)$ uma vez que $\\operatorname{det}(A^{-1})=\\frac{1}{\\operatorname{det}(A)}\\neq 0$.\n",
        "\n",
        "Portanto, $\\operatorname{GL}(\\mathbb{R}^2)$ é um grupo.\n",
        "\n",
        "$\\color{red}{\\text{Nota:}}$ Alguém poderia dizer que há uma falha nesta prova pois depende da representação matricial da apliacação linear. Contudo, a aparente dependência não é tal uma vez que se $\\mathcal{C}$ é a matriz de mudança de bases, digamos da base $\\mathcal{B}$ para a base $\\mathcal{B}'$ e a represantação de $f$ na base $\\mathcal{B}'$ é $B$, então segue-se que $B=\\mathcal{C}A\\mathcal{C}^{-1}$ e\n",
        "\n",
        "$$\\operatorname{det}(B)=\\operatorname{det}(\\mathcal{C})\\operatorname{det}(A)\\operatorname{det}(\\mathcal{C}^{-1})=\\operatorname{det}(A)\\,.$$\n",
        "\n",
        "\n"
      ],
      "metadata": {
        "id": "rkFpXvzck14-"
      }
    },
    {
      "cell_type": "markdown",
      "source": [
        "## **Ex. 2:**\n",
        "\n",
        "> Diga, justificando se uma translação é ou não uma aplicação linear.\n",
        "\n",
        "### **Solução.**\n",
        "\n",
        "Seja $\\mathbf{v}=(v_1,v_2)$ um vector em $\\mathbb{R}^2$. A translação $T_{\\mathbf{v}}$ dos pontos do plano pelo vector $\\mathbf{v}$ é dada por\n",
        "$$T_{\\mathbf{v}}(x_1,x_2)=(x_1+v_1 , x_2+v_2)\\,.$$\n",
        "Claramente, $T_{\\mathbf{v}}$ é uma bijeção do plano. Será ainda linear? Vamos lá ver. Qualquer **aplicação linear** $f$ tem a seguinte propriedade $f(\\mathbf{0})=\\mathbf{0}$. Portanto, como $T_{\\mathbf{v}}=\\mathbf{v}$, salvo que $\\mathbf{v}=0$, a translação $T_{\\mathbf{v}}$ não é uma aplicação linear."
      ],
      "metadata": {
        "id": "get8kZz6a6UV"
      }
    },
    {
      "cell_type": "markdown",
      "source": [
        "## **Ex. 3:**\n",
        "\n",
        "> (a) Considere a aplicação linear definida por $f(x,y)=(-3x-2y,5x+y)$. Classifique-a quanto a ser directa ou inversa e quanto a ser ou não ortogonal.\n",
        "\n",
        "### **Solução.**\n",
        "\n",
        "$$f(x,y)=\\underbrace{\\begin{bmatrix}-3 & -2 \\\\ 5 & 1 \\end{bmatrix}}_{A}\\begin{bmatrix}x\\\\y\\end{bmatrix}$$\n",
        "\n",
        "$$\\operatorname{det}(A)=-3+10=7 > 0\\quad\\Longrightarrow\\quad f\\text{ é directa}.$$\n",
        "\n",
        "$\\color{green}{\\text{Digressão útil:}}$\n",
        "\n",
        ">> O produto interno usual em $\\mathbb{R}^2$, dado por $(a_1,a_2)\\cdot(b_1,b_2)=a_1b_1+a_2b_2$, é um exemplo de uma forma bilinear simétrica não degenerada. Ela está associada a uma forma quadrática em $\\mathbb{R}^2$ (polinómio homogéneo de grau $2$ em duas variáveis):\n",
        ">>\n",
        ">> $$Q(x,y)=ax^2+bxy+cy^2\\,.$$\n",
        ">>\n",
        ">> Por exemplo, para o produto interno usual temos\n",
        ">>\n",
        ">> $$\\mathcal{Q}(x,y)=(x,y)\\cdot(x,y)=x^2+y^2\\,.$$\n",
        ">>\n",
        ">> Usaremos a notação $\\langle\\,\\,,\\,\\rangle$, amplamente utilizada na literatura matemática, para referirmos ao produto interno em $\\mathbb{R}^2$.\n",
        ">>\n",
        ">> Toda forma quadrática $\\mathcal{Q}$ tem uma representação matricial (canónica) que é simétrica, a saber\n",
        ">>\n",
        ">> $$\\mathcal{Q}(x,y)=\\begin{bmatrix}x,y\\end{bmatrix}\\underbrace{\\begin{bmatrix}a & \\frac{b}{2}\\\\\\frac{b}{2} & c\\end{bmatrix}}_{M}\\begin{bmatrix}x\\\\y\\end{bmatrix}=\\begin{bmatrix}x,y\\end{bmatrix}M\\begin{bmatrix}x,y\\end{bmatrix}^{T}\\,.\\quad\\boxed{M^T=M}\\,.$$\n",
        ">>\n",
        ">> Se $\\operatorname{det}(M)\\neq 0$, diz-se que $\\mathcal{Q}$ é não degenerada. O produto interno usual corresponde ao caso em que $M=\\begin{bmatrix}1 & 0\\\\0 & 1\\end{bmatrix}$ e portanto pode  ser generalizado a qualquer caso em que $M$ seja uma matriz simétrica não degenerada. Ora, uma aplicação linear $f:\\mathbb{R}^2\\to\\mathbb{R}^2$ é **ortogonal** se preserva o produto interno, isto é\n",
        ">>\n",
        ">> $$\\forall\\,\\mathbf{u}, \\mathbf{v}\\in\\mathbb{R}^2\\,:\\,\\quad \\langle f(\\mathbf{u})\\,,f(\\mathbf{v})\\rangle = \\langle \\mathbf{u}\\,,\\mathbf{v}\\rangle \\,.\\quad(\\ast)$$\n",
        ">>\n",
        ">> Se $A$ é a representação matricial (canónica) de $f$ e tendo em conta a representação matricial (canónica) de $\\mathcal{Q}$, então a condição de ortogonalidade $(\\ast)$ reescreve-se\n",
        ">>\n",
        ">> $$ \\langle A\\mathbf{u}^{T},A\\mathbf{v}^{T}\\rangle = \\langle \\mathbf{u}\\,,\\mathbf{v}\\rangle\\quad\\Longleftrightarrow\\quad(A\\mathbf{u}^T)^T M A\\mathbf{v}^T = \\mathbf{u}M\\mathbf{v}^T\\quad\\Longleftrightarrow\\quad \\mathbf{u}\\,\\color{red}{A^TMA}\\,\\mathbf{v}^T = \\mathbf{u}\\color{red}{M}\\mathbf{v}^T\\,$$\n",
        ">>\n",
        ">> ou seja, em termos da sua representação matricial,\n",
        ">>\n",
        ">> $$ f\\text{ é ortogonal}\\quad\\Longleftrightarrow\\quad\n",
        "A^TMA = M\\,.$$\n",
        ">>\n",
        ">>No caso particular do produto interno usual (**euclideano**), $M=\\begin{bmatrix}1 & 0 \\\\ 0 &1\\end{bmatrix}=I$, e podemos portanto dizer\n",
        ">>\n",
        ">> $$ f\\text{ é ortogonal}\\quad\\Longleftrightarrow\\quad\n",
        "A^TA = I\\,.$$\n",
        ">>\n",
        ">> $\\color{red}{\\text{Nota:}}$ Esta perspectiva da condição de ortogonalidade é claramente aplicável a outras geometrias para além da euclideana, basta escolher $M$ uma outra qualquer matriz simétrica não degenerada.\n",
        "\n",
        "Voltando ao exercício, como a matriz que representa $f$ é $A$, temos\n",
        "\n",
        "$$ A = \\begin{bmatrix}-3 & -2 \\\\5 & 1\\end{bmatrix}\\quad\\Longrightarrow\\quad A^T=\\begin{bmatrix}-3 & 5\\\\-2 & 1\\end{bmatrix}\\quad\\Longrightarrow\\quad AA^{T}=\\begin{bmatrix}13 & -17\\\\-17 & 26\\end{bmatrix}\\neq\\begin{bmatrix}1 & 0\\\\0 & 1\\end{bmatrix}.$$\n",
        "\n",
        "Concluimos que $f$ não é ortogonal.\n",
        "\n",
        "---\n",
        "\n",
        "> (b) Que figura é a imagem por $f$ do quadrado (cheio) $\\mathbf{Q}$ de vértices $A=(0,0). B=(1,0), C=(1,1)$ e $D=(0,1)$.\n",
        "\n",
        "### **Solução.**\n",
        "\n"
      ],
      "metadata": {
        "id": "nQtzEXlOgp7r"
      }
    },
    {
      "cell_type": "code",
      "source": [
        "from IPython.display import IFrame\n",
        "IFrame(\"https://www.geogebra.org/m/zpatgwwj\",880,780)"
      ],
      "metadata": {
        "colab": {
          "base_uri": "https://localhost:8080/",
          "height": 801
        },
        "id": "yThXfbRR862z",
        "outputId": "dbe334c3-05d1-4eae-d21c-812812565a63"
      },
      "execution_count": null,
      "outputs": [
        {
          "output_type": "execute_result",
          "data": {
            "text/plain": [
              "<IPython.lib.display.IFrame at 0x7fc65eb70190>"
            ],
            "text/html": [
              "\n",
              "        <iframe\n",
              "            width=\"880\"\n",
              "            height=\"780\"\n",
              "            src=\"https://www.geogebra.org/m/zpatgwwj\"\n",
              "            frameborder=\"0\"\n",
              "            allowfullscreen\n",
              "        ></iframe>\n",
              "        "
            ]
          },
          "metadata": {},
          "execution_count": 7
        }
      ]
    },
    {
      "cell_type": "markdown",
      "source": [
        "## **Ex. 4:**\n",
        "\n",
        "> Existe alguma transformação ortogonal que satisfaça a condição $f(3,1)=(0,5)$ e a condição $f(3,4)=(5,0)$? No caso de existir alguma mostre, definindo-as pela expressão geral, que existem uma reflexão seguida de uma rotação satisfazendo a condição pedida.\n",
        "\n",
        "### **Solução.**\n",
        "\n",
        "Uma transformação ortogonal $f$ é por definição uma aplicação linear que preserva o produto interno. Portanto, se existir uma tal $f$, deve cumprir-se que:\n",
        "\n",
        "$$\\langle f(\\mathbf{u}),f(\\mathbf{v})\\rangle=\\langle\\mathbf{u},\\mathbf{v}\\rangle\\quad\\forall\\,\\mathbf{u}, \\mathbf{v}\\in\\mathbb{R}^2\\,.$$\n",
        "\n",
        "No caso do exercício, temos de nos perguntar\n",
        "\n",
        "$$\\begin{array}{ccc}\n",
        "\\langle f(\\mathbf{(3,1)}),f(\\mathbf{(3,4)})\\rangle &\\overset{?}{=}& \\langle\\mathbf{(3,1)},\\mathbf{(3,4)}\\rangle \\\\[1ex]\n",
        "\\shortparallel & & \\shortparallel \\\\[1ex]\n",
        "\\langle\\mathbf{(0,5)},\\mathbf{(5,0)}\\rangle & & 9 + 4 \\\\[1ex]\n",
        "\\shortparallel & & \\shortparallel \\\\[1ex]\n",
        "0 & \\neq & 13\n",
        "\\end{array}\n",
        "$$\n",
        "\n",
        "Logo, concluimos que **não existe** uma transformação ortogonal com as condições dadas no enunciado do exercício."
      ],
      "metadata": {
        "id": "qFIzM9aDf7j8"
      }
    },
    {
      "cell_type": "markdown",
      "source": [
        "\n",
        "## **Ex. 5: Grupo das transformações ortogonais de $\\mathbb{R}^2$: $\\operatorname{O}(\\mathbb{R}^2)$**\n",
        "\n",
        "> (a) Mostre que $\\operatorname{O}(\\mathbb{R}^2)$ é um grupo de transformações lineares de $\\mathbb{R}^2$.\n",
        "\n",
        "### **Solução.**\n",
        "\n",
        "Seja $f:\\mathbb{R}^2\\to\\mathbb{R}^2$ uma aplicação linear representada matricialmente por $A$. Vimos na digressão do Exercício 3 que $f$ é ortogonal se e só se $AA^T=I$. Segue-se imediatamente que $\\operatorname{det}(A)\\neq 0$. Portanto,\n",
        "\n",
        "$$\\operatorname{O}(\\mathbb{R}^2)=\\big\\{A\\in\\operatorname{GL}(\\mathbb{R}^2)\\,:\\, AA^T=I\\big\\}$$\n",
        "\n",
        "Mostraremos que $\\operatorname{O}(\\mathbb{R}^2)$ é um subgrupo de $\\operatorname{GL}(\\mathbb{R}^2)$. Sejam $A,B\\in\\operatorname{O}(\\mathbb{R}^2)$, temos de provar que $AB^{-1}\\in\\operatorname{O}(\\mathbb{R}^2)$. Com efeito, $B\\in\\operatorname{O}(\\mathbb{R}^2)\\Rightarrow B^{-1}=B^T$ e em consequência\n",
        "\n",
        "$$AB^{-1}(AB^{-1})^T = AB^T (B^{-1})^TA^T = AB^T (B^T)^TA^T=A\\underbrace{B^TB}_IA^T=AA^T=I\\,.$$\n",
        "\n",
        "Logo, $\\operatorname{O}(\\mathbb{R}^2)$ é um grupo de transformações lineares de $\\mathbb{R}^2$.\n",
        "\n",
        "---\n",
        "\n",
        "> (b) Sejam $\\operatorname{O}^+(\\mathbb{R}^2)$ e $\\operatorname{O}^-(\\mathbb{R}^2)$ os conjuntos de rotações de centro na origem e das reflexões em retas que passam pela origem. Algum deles é um grupo de transformações de $\\mathbb{R}^2$? Justifique a resposta.\n",
        "\n",
        "### **Solução.**\n",
        "\n",
        "$\\color{red}{\\text{Digressão:}}$\n",
        "\n",
        ">> Sejam **$\\mathcal{C}$ a circunferência com centro em $(0,0)$ e raio $1$** e $(a,b)\\in\\mathcal{C}$. Sabemos que qualquer aplicação linear fica determinada pelas imagens dos vectores $\\mathbf{e_1}$, $\\mathbf{e_2}$ da base canónica (ortonormada) de $\\mathbb{R}^2$. Se $f:\\mathbb{R}^2\\to\\mathbb{R}^2$ é uma transformação ortogonal, ela preserva o produto interno. Se $f(\\mathbf{e_1})=(a,b)$, como $\\langle f(\\mathbf{e_1}),f(\\mathbf{e_2})\\rangle=\\langle\\mathbf{e_1},\\mathbf{e_2}\\rangle = 0$, então há só duas hipóteses para $f(\\mathbf{e_2})$, a saber $f(\\mathbf{e_2})=(-b,a)\\in\\mathcal{C}$ ou $f(\\mathbf{e_2})=(b,-a)\\in\\mathcal{C}$. Em resumo, dado $(a,b)\\in\\mathcal{C}$, podemos definir duas aplicações ortogonais:\n",
        ">>\n",
        ">>$$\\rho_{(a,b)}(x,y)=\\begin{bmatrix}a & -b \\\\ b & a\\end{bmatrix}\\begin{bmatrix}x & y\\end{bmatrix}^T\\quad\\text{e}\\quad\\sigma_{(a,b)}(x,y)=\\begin{bmatrix}a & b \\\\ b & -a\\end{bmatrix}\\begin{bmatrix}x & y\\end{bmatrix}^T$$\n",
        ">>\n",
        ">>Como $\\operatorname{det}\\begin{bmatrix}a & -b\\\\b & a\\end{bmatrix}=a^2+b^2=1>0$, a aplicação linear $\\rho_{(a,b)}$ é **transformação ortogonal direta.** Similarmente, como $\\operatorname{det}\\begin{bmatrix}a & b\\\\b & -a\\end{bmatrix}=-(a^2+b^2)=-1<0$, a aplicação linear $\\sigma_{(a,b)}$ é **transformação ortogonal indireta ou inversa.**\n",
        ">>\n",
        ">> <br>\n",
        ">>\n",
        ">> Usando a parametrização $(a,b)=(\\cos\\theta,\\sin\\theta)$, com $\\theta\\in [0,2\\pi[$, a aplicação ortogonal $\\rho_{(a,b)}$ pode ser ainda **identificada com a rotação $R_{O;\\theta}$ de centro na origem e ângulo $\\theta$.** Desta forma temos duas representações matriciais equivalentes, a saber\n",
        ">>\n",
        ">>$$[\\rho_{(a,b)}] = \\begin{bmatrix}a & -b\\\\b & a\\end{bmatrix}=\\begin{bmatrix}\\cos\\theta & -\\sin\\theta\\\\\\sin\\theta & \\cos\\theta\\end{bmatrix}=R_{O;\\theta}\\,.$$\n",
        ">>\n",
        ">> A primeira representação tem a vantagem de não fazer referência ao ângulo $\\theta$.\n",
        ">>\n",
        ">><br>\n",
        ">>\n",
        ">> Similarmente, a aplicação ortogonal $\\sigma_{(a,b)}$ pode ser **identificada com a reflexão $R_{\\ell_O\\left(\\frac{\\theta}{2}\\right)}$ na recta $\\ell_O\\left(\\frac{\\theta}{2}\\right)$ que passa pela origem e faz um ângulo de $\\frac{\\theta}{2}$ com o eixo horizontal** (ver figura abaixo). Temos assim duas representações matriciais equivalentes, a saber\n",
        ">>\n",
        ">> $$[\\sigma_{(a,b)}] =\\begin{bmatrix}a & b\\\\b & -a\\end{bmatrix}=\\begin{bmatrix}\\cos 2\\frac{\\theta}{2} & \\sin 2\\frac{\\theta}{2}\\\\\\sin 2\\frac{\\theta}{2} & -\\cos 2\\frac{\\theta}{2}\\end{bmatrix}=R_{\\ell_0\\left(\\frac{\\theta}{2}\\right)}\\,.$$\n",
        ">>\n",
        ">>A primeira representação tem a vantagem de não fazer referência ao ângulo que a recta de reflexão faz com o eixo horizontal. Note-se ainda que a representação matricial $A$ da **reflexão** $\\sigma_{(a,b)}$ é **simétrica**, isto é $A^T=A$.\n",
        ">>\n",
        ">> $\\color{red}{\\text{Nota:}}$ Seja $r$ a recta de reflexão que passa pela origem e $\\theta_r$ o ângulo que a recta $r$ faz com o eixo horizontal. Então\n",
        ">>\n",
        ">> $$\\boxed{R_r=R_{\\ell_O(\\theta_r)}=\\begin{bmatrix}\\cos2\\theta_r & \\sin2\\theta_r \\\\ \\sin2\\theta_r & -\\cos2\\theta_r\\end{bmatrix}}$$\n",
        ">>\n",
        ">> <br>\n",
        ">>\n",
        ">>À luz desta digressão podemos caracterizar as rotações do plano da seguinte maneira\n",
        ">>\n",
        ">> $$\\begin{aligned}\n",
        "\\operatorname{O}^+(\\mathbb{R}^2) &=\\left\\{A=\\begin{bmatrix}a & -b\\\\ b & a\\end{bmatrix}\\,:\\,(a,b)\\in\\mathcal{C}\\right\\}\\\\[2ex]\n",
        "&=\\left\\{A=\\begin{bmatrix}\\cos\\theta & -\\sin\\theta\\\\ \\sin\\theta & \\cos\\theta\\end{bmatrix}\\,:\\,\\theta\\in[0,2\\pi[\\right\\}\n",
        "\\end{aligned}$$\n",
        ">>\n",
        ">> Similarmente, as reflexões do plano ficam caracterizadas da seguinte forma\n",
        ">>\n",
        ">> $$\\begin{aligned}\n",
        "\\operatorname{O}^-(\\mathbb{R}^2) &=\\left\\{A=\\begin{bmatrix}a & b\\\\ b & -a\\end{bmatrix}\\,:\\,(a,b)\\in\\mathcal{C}\\right\\}\\\\[2ex]\n",
        "&=\\left\\{A=\\begin{bmatrix}\\cos 2\\theta_r & \\sin 2\\theta_r\\\\ \\sin 2\\theta_r & -\\cos 2\\theta_r\\end{bmatrix}\\,:\\,\\theta_r\\in[0,\\pi[\\right\\}\n",
        "\\end{aligned}$$\n",
        "\n",
        "\n"
      ],
      "metadata": {
        "id": "UHhnq7meHj_D"
      }
    },
    {
      "cell_type": "code",
      "source": [
        "from IPython.display import IFrame\n",
        "IFrame(\"https://www.geogebra.org/m/quek4swe\",800,720)"
      ],
      "metadata": {
        "colab": {
          "base_uri": "https://localhost:8080/",
          "height": 741
        },
        "id": "utQY4gZQyqS5",
        "outputId": "2863db5a-4a34-467e-9293-6ec7a4431826"
      },
      "execution_count": null,
      "outputs": [
        {
          "output_type": "execute_result",
          "data": {
            "text/plain": [
              "<IPython.lib.display.IFrame at 0x7f68b0f0da10>"
            ],
            "text/html": [
              "\n",
              "        <iframe\n",
              "            width=\"800\"\n",
              "            height=\"720\"\n",
              "            src=\"https://www.geogebra.org/m/quek4swe\"\n",
              "            frameborder=\"0\"\n",
              "            allowfullscreen\n",
              "        ></iframe>\n",
              "        "
            ]
          },
          "metadata": {},
          "execution_count": 4
        }
      ]
    },
    {
      "cell_type": "markdown",
      "source": [
        "Mostraremos agora que $\\operatorname{O}^+(\\mathbb{R}^2)$ é um subgrupo de $\\operatorname{O}(\\mathbb{R}^2)$ e que $\\operatorname{O}^-(\\mathbb{R}^2)$ não é.\n",
        "\n",
        "<br>\n",
        "\n",
        "$\\underline{\\operatorname{O}^+(\\mathbb{R}^2) \\text{ é subgrupo de }\\operatorname{O}(\\mathbb{R}^2)}:$\n",
        "\n",
        "Sejam $A_1, A_2$ duas rotações genéricas em $\\operatorname{O}^+(\\mathbb{R}^2)$, queremos provar que o produto $A_1A_2^{-1}\\in\\operatorname{O}^+(\\mathbb{R}^2)$.\n",
        "\n",
        "$$A_1=\\begin{bmatrix}a_1 & -b_1\\\\b_1 & a_1\\end{bmatrix}\\quad\\text{e}\\quad A_2=\\begin{bmatrix}a_2 & -b_2\\\\b_2 & a_2\\end{bmatrix}\\,.$$\n",
        "\n",
        "Notemos que\n",
        "\n",
        "$$A_2^{-1}=\\dfrac{1}{\\operatorname{det}(A_2)}\\begin{bmatrix}a_2 & b_2\\\\-b_2 & a_2\\end{bmatrix}=\\dfrac{1}{a_2^2+b_2^2}\\begin{bmatrix}a_2 & b_2\\\\-b_2 & a_2\\end{bmatrix}=\\begin{bmatrix}a_2 & b_2\\\\-b_2 & a_2\\end{bmatrix}\\,,$$\n",
        "\n",
        "uma vez que $(a_2,b_2)\\in\\mathcal{C}$ e portanto $a_2^2+b_2^2=1$. A matriz $A_2^{-1}$ é a representação matricial da rotação $\\rho_{(a_2,-b_2)}$ definida pelo ponto $(a_2,-b_2)\\in\\mathcal{C}$.\n",
        "\n",
        "Finalmente,\n",
        "\n",
        "$$A_1A_2^{-1}=\\begin{bmatrix}a_1 & -b_1\\\\b_1 & a_1\\end{bmatrix}\\begin{bmatrix}a_2 & b_2\\\\-b_2 & a_2\\end{bmatrix}=\\begin{bmatrix}a_1a_2 + b_1b_2 & a_1b_2-a_2b_1\\\\a_2b_1-a_1b_2 & b_1b_2+a_1a_2\\end{bmatrix}$$\n",
        "\n",
        "Gostariamos de dizer que $A_1A_2^{-1}$ é a representação matricial da rotação $\\rho_{(a_1a_2+b_1b_2,a_2b_!-a_1b_2)}$, mas para isso temos primeiro que verificar que o ponto $(a_1a_2+b_1b_2,a_2b_1-a_1b_2)\\in\\mathcal{C}$. Com efeito,\n",
        "\n",
        "(**Identidade de Fibonacci**)\n",
        "\n",
        "$$\\begin{aligned}\n",
        "(a_1a_2+b_1b_2)^2 &+ (a_2b_1-a_1b_2)^2 \\\\[2ex]\n",
        "&= a_1^2a_2^2 + 2a_1a_2b_1b_2 + b_1^2b_2^2 + a_2^2b_1^2-2a_2b_1a_1b_2 + a_1^2b_2^2 \\\\[2ex]\n",
        "&= a_1^2a_2^2 + b_1^2b_2^2 + a_2^2b_1^2 + a_1^2b_2^2 \\\\[2ex]\n",
        "&= (a_1^2+b_1^2)a_2^2 + (a_1^2+b_1^2)b_2^2 \\\\[2ex]\n",
        "&= (a_1^2+b_1^2)(a_2^2+b_2^2) = 1\n",
        "\\end{aligned}$$\n",
        "\n",
        "Logo, o ponto $(a_1a_2+b_1b_2,a_2b_1-a_1b_2)\\in\\mathcal{C}$ e em consequência $\\rho_{(a_1a_2+b_1b_2,a_2b_!-a_1b_2)}$ é a rotação associada a esse ponto. Concluimos então que $\\operatorname{O}^+(\\mathbb{R}^2)$ é um subgrupo de $\\operatorname{O}(\\mathbb{R}^2)$.\n",
        "\n",
        "<br>\n",
        "\n",
        "$\\underline{\\operatorname{O}^-(\\mathbb{R}^2) \\text{ não é subgrupo de }\\operatorname{O}(\\mathbb{R}^2)}:$\n",
        "\n",
        "Basta provar que existem $A_1, A_2\\in\\operatorname{O}^-(\\mathbb{R}^2)$ tais que $A_1A_2\\notin\\operatorname{O}^-(\\mathbb{R}^2)$. Por exemplo, para $\\big(\\frac{3}{5},\\frac{4}{5}\\big)\\in\\mathcal{C}$ e $(0,1)\\in\\mathcal{C}$, sejam $A_1$ e $A_2$ as representações matriciais das reflexões $\\sigma_{\\left(\\frac{3}{5},\\frac{4}{5}\\right)}$ e $\\sigma_{(0,1)}$, a saber\n",
        "\n",
        "$$A_1=\\begin{bmatrix}\\frac{3}{5}&\\frac{4}{5}\\\\\\frac{4}{5}&-\\frac{3}{5}\\end{bmatrix}\\quad\\text{e}\\quad A_2=\\begin{bmatrix}0&1\\\\1&0\\end{bmatrix}$$\n",
        "\n",
        "<br>\n",
        "\n",
        "$$A_1A_2=\\begin{bmatrix}\\frac{4}{5}&\\frac{3}{5}\\\\-\\frac{3}{5}&\\frac{4}{5}\\end{bmatrix}\\,.$$\n",
        "\n",
        "Como vemos $A_1A_2$ não é uma reflexão (não é simétrica), porém é uma rotação que corresponde ao ponto $\\left(\\tfrac{4}{5},-\\tfrac{3}{5}\\right)\\in\\mathcal{C}$. Logo, $\\operatorname{O}^-(\\mathbb{R}^2)$ não é subgrupo de $\\operatorname{O}(\\mathbb{R}^2)$."
      ],
      "metadata": {
        "id": "nNhQ3pfOx94K"
      }
    },
    {
      "cell_type": "markdown",
      "source": [
        "## **Ex. 6:**\n",
        "\n",
        "> Defina pelas expressões gerais as seguintes transformações ortogonais:\n",
        ">\n",
        "> (a) $f$ a reflexão na recta $s: 3x-2y=0$.\n",
        "\n",
        "### **Solução.**\n",
        "\n",
        "Temos visto que uma reflexão $f$ no plano tem a seguinte representação matricial\n",
        "\n",
        "$$[f]=\\begin{bmatrix}a & b\\\\b & -a\\end{bmatrix}\\quad\\boxed{f(\\mathbf{e_1})=(a,b)\\,,\\,f(\\mathbf{e_2})=(b,-a)}$$\n",
        "\n",
        "onde $(a,b)$ é um ponto no círculo unitário. Logo, temos de arranjar um método para encontrar tal ponto $(a,b)$ que seja o simétrico de $(1,0)$ relativamente ao eixo de simetria $s: 3x-2y=0$. Olhemos para a seguinte figura:\n",
        "\n",
        "![Projecção e Reflexão.png](https://drive.google.com/uc?id=10RGMdTtqkEp6v0XWhTc94jWbT3OVUN7M)\n",
        "\n",
        "$$\\mathbf{w}=\\operatorname{Proj}_{\\mathbf{u}}\\mathbf{v}=\\frac{\\langle \\mathbf{v},\\mathbf{u}\\rangle}{\\langle\\mathbf{u},\\mathbf{u}\\rangle}\\mathbf{u}\\qquad \\mathbf{v'}=\\operatorname{Refl}_{\\mathbf{u}}\\mathbf{v}\\qquad \\mathbf{w}=\\tfrac{1}{2}(\\mathbf{v}+\\mathbf{v'})$$\n",
        "\n",
        "Da equação $\\mathbf{w}=\\tfrac{1}{2}(\\mathbf{v}+\\mathbf{v'})$, vemos que\n",
        "\n",
        "$$\\mathbf{v'}=2\\mathbf{w}-\\mathbf{v}\\quad\\text{ou seja}\\quad\\boxed{\\operatorname{Refl}_{\\mathbf{u}}\\mathbf{v}=2\\operatorname{Proj}_{\\mathbf{u}}\\mathbf{v}-\\mathbf{v}=2\\frac{\\langle \\mathbf{v},\\mathbf{u}\\rangle}{\\langle\\mathbf{u},\\mathbf{u}\\rangle}\\mathbf{u}-\\mathbf{v}}$$\n",
        "\n",
        "A reflexão $\\operatorname{Refl}_{\\mathbf{u}}\\mathbf{v}$ do vector $\\mathbf{v}$ relativamente ao vector $\\mathbf{u}$ é uma combinação linear de $\\mathbf{u}$ e $\\mathbf{v}$. Repare-se que a fórmula que acabamos de encontrar é a mesma para qualquer produto interno.\n",
        "\n",
        "Ora bem, aplicando esta fórmula ao nosso problema, temos\n",
        "\n",
        "- $\\mathbf{u}=(2,3)$: &nbsp; vector director da recta $s$.\n",
        "- $\\mathbf{v}=\\mathbf{e_1}=(1,0)$\n",
        "- $\\mathbf{w}=\\frac{\\langle(1,0),(2,3)\\rangle}{\\langle(2,3),(2,3)\\rangle}(2,3)=\\frac{2}{13}(2,3)$\n",
        "- $\\operatorname{Refl}_{\\mathbf{u}}\\mathbf{v}=\\frac{4}{13}(2,3)-(1,0)=\\left(\\frac{-5}{13},\\frac{12}{13}\\right)$\n",
        "\n",
        "Note-se ainda que $\\left(\\frac{-5}{13},\\frac{12}{13}\\right)$ é um ponto no círculo unitário $\\boxed{\\left(\\tfrac{-5}{13}\\right)^2+\\left(\\tfrac{12}{13}\\right)^2=\\tfrac{169}{169}=1}$. Logo,\n",
        "\n",
        "$$f(\\mathbf{e_1})=\\operatorname{Refl}_{\\mathbf{u}}\\mathbf{e_1}=\\left(\\tfrac{-5}{13},\\tfrac{12}{13}\\right)\\quad\\text{e}\\quad f(\\mathbf{e_2})=\\left(\\tfrac{12}{13},\\tfrac{5}{13}\\right)$$ e então\n",
        "\n",
        "$$f(x,y)=\\begin{bmatrix}\\frac{-5}{13} & \\frac{12}{13}\\\\[1ex]\\frac{12}{13} & \\frac{5}{13}\\end{bmatrix}\\begin{bmatrix}x\\\\y\\end{bmatrix}\\,.$$\n",
        "\n",
        "---\n",
        "\n",
        "> (b) $g$ a reflexão na recta $t: 3x + 4y = 0$\n",
        "\n",
        "### **Solução.**\n",
        "\n",
        "Um vector director da recta $t$ é $(-4,3)$. Usaremos a fórmula do exercício anterior.\n",
        "\n",
        "$$g(\\mathbf{e_1})=\\operatorname{Refl}_{(-4,3)}(1,0)=2\\tfrac{\\langle(1,0),(-4,3)\\rangle}{\\langle(-4,3),(-4,3)\\rangle}(-4,3)-(1,0)=\\left(\\tfrac{7}{25},-\\tfrac{24}{25}\\right)$$\n",
        "\n",
        "Repare-se que $\\left(\\tfrac{7}{25},-\\tfrac{24}{25}\\right)$ é um ponto no círculo unitário. Logo, $g(\\mathbf{e_2})=\\left(-\\tfrac{24}{25},-\\tfrac{7}{25}\\right)$ e então\n",
        "\n",
        "$$g(x,y) = \\begin{bmatrix}\\frac{7}{25} & -\\frac{24}{25}\\\\[1ex]-\\frac{24}{25} & -\\frac{7}{25}\\end{bmatrix}\\begin{bmatrix}x\\\\y\\end{bmatrix}\\,.$$\n",
        "\n",
        "$\\color{red}{\\text{Nota:}}$ Para **quaisquer vectores** $\\mathbf{u}$ e $\\mathbf{v}$ em $\\mathbb{R}^2$, tal que $\\Vert\\mathbf{v}\\Vert=1$, o vector $\\operatorname{Refl}_{\\mathbf{u}}\\mathbf{v}$ tem norma $\\Vert\\operatorname{Refl}_{\\mathbf{u}}\\mathbf{v}\\Vert=1$. (Prove-o).\n",
        "\n",
        "---\n",
        "\n",
        "> (c) Que tipo de transformação é a composição $g\\circ f$ onde $f$ e $g$ são as transformações definidas em (a) e (b)?\n",
        "\n",
        "### **Solução.**\n",
        "\n",
        "Recordemos que a notação $[f]$ significa a representação matricial de $f$ na base canónica. Logo,\n",
        "\n",
        "$$[g\\circ f]=[g][f]=\\begin{bmatrix}\\frac{7}{25} & -\\frac{24}{25}\\\\[1ex]-\\frac{24}{25} & -\\frac{7}{25}\\end{bmatrix}\\begin{bmatrix}\\frac{-5}{13} & \\frac{12}{13}\\\\[1ex]\\frac{12}{13} & \\frac{5}{13}\\end{bmatrix}=\\begin{bmatrix}-\\frac{323}{325} & -\\frac{36}{325}\\\\[1ex]\\frac{36}{325} & -\\frac{323}{325}\\end{bmatrix}$$\n",
        "\n",
        "Concluimos que a composição $g\\circ f$ é uma rotação correspondente ao ponto $\\left(-\\tfrac{323}{325},\\tfrac{36}{325}\\right)$ no círculo com centro na origem e raio $1$.\n",
        "\n",
        "$\\color{red}{\\text{Nota:}}$ Usando a parametrização $(a,b)=(\\cos\\theta,\\sin\\theta)$ podemos _calcular_ o ângulo de rotação de $g\\circ f$, a saber\n",
        "\n",
        "$$\\cos\\theta=-\\tfrac{323}{325}\\quad,\\quad \\sin\\theta=\\tfrac{36}{325}\\,.$$\n",
        "\n",
        "Logo, $\\theta\\in\\, ]\\tfrac{\\pi}{2},\\pi[$ e $\\theta=\\arccos\\left(-\\tfrac{323}{325}\\right)$.\n",
        "\n",
        "---\n",
        "\n",
        "> (d) Uma rotação $h$ que transforme a recta $x+y=0$ na recta $2x-y=0$.\n",
        "\n",
        "### **Solução.**\n",
        "\n",
        "Uma rotação $h\\in\\operatorname{O}^+(\\mathbb{R}^2)$ tem a seguinte representação matricial\n",
        "\n",
        "$$[h] = \\begin{bmatrix} a & -b \\\\ b & a\\end{bmatrix} \\quad\\text{onde}\\quad (a,b)\\in\\mathcal{C}\\,.$$\n",
        "\n",
        "Com as condições dadas queremos encontrar $(a,b)\\in\\mathcal{C}$.\n",
        "\n",
        "Qualquer aplicação ortogonal preserva o produto interno; e em consequência preserva a norma. Em particular, a imagem de um vector de norma $1$ via $h$ deve ter também norma $1$. Desta forma, escolhamos um vector director da recta $x+y=0$ de norma $1$; por exemplo $\\left(\\tfrac{\\sqrt{2}}{2},-\\tfrac{\\sqrt{2}}{2}\\right)$. A ideia natural é que a imagem deste vector via $h$ seja um vector director da recta $2x-y=0$ de norma $1$, por exemplo, $\\left(\\tfrac{\\sqrt{5}}{5},2\\tfrac{\\sqrt{5}}{5}\\right)$. Assim, temos\n",
        "\n",
        "$$\\begin{array}{c}\n",
        "\\begin{bmatrix}a&-b\\\\[1ex]b&a\\end{bmatrix}\\begin{bmatrix}\\tfrac{\\sqrt{2}}{2}\\\\-\\tfrac{\\sqrt{2}}{2}\\end{bmatrix} = \\begin{bmatrix}\\tfrac{\\sqrt{5}}{5}\\\\2\\tfrac{\\sqrt{5}}{5}\\end{bmatrix}\\\\[1ex]\n",
        "\\Updownarrow \\\\[1ex]\n",
        "\\begin{cases}\n",
        "\\tfrac{\\sqrt{2}}{2}a + \\tfrac{\\sqrt{2}}{2}b = \\tfrac{\\sqrt{5}}{5} \\\\[2ex]\n",
        "\\tfrac{\\sqrt{2}}{2}b - \\tfrac{\\sqrt{2}}{2}a = 2\\tfrac{\\sqrt{5}}{5}\n",
        "\\end{cases}\n",
        "\\end{array}\n",
        "$$\n",
        "\n",
        "Resolvendo o sistema encontramos\n",
        "\n",
        "$$\\boxed{b=\\tfrac{3\\sqrt{10}}{10}}\\qquad\\boxed{a=\\tfrac{-\\sqrt{10}}{10}}\\,.$$\n",
        "\n",
        "Facilmente pode-se verificar que $(a,b)\\in\\mathcal{C}$. Logo, a rotação $h$ é dada por\n",
        "\n",
        "$$h(x,y) = \\begin{bmatrix}-\\tfrac{\\sqrt{10}}{10} & -\\tfrac{3\\sqrt{10}}{10}\\\\[1ex]\\tfrac{3\\sqrt{10}}{10} & -\\tfrac{\\sqrt{10}}{10}\\end{bmatrix}\\begin{bmatrix}x\\\\y\\end{bmatrix}\\,,\\quad \\forall\\,(x,y)\\in\\mathbb{R}^2\\,.$$\n"
      ],
      "metadata": {
        "id": "niQiXDKwpZXs"
      }
    },
    {
      "cell_type": "markdown",
      "source": [
        "## **Ex. 7: (Composições de transformações ortogonais)**\n",
        "\n",
        "> (a) Mostre que dadas duas rectas $r$ e $s$ que passam pela origem, se $\\angle_{or}(r,s)=\\alpha$ então a composição $R_s\\circ R_r=R_{0,2\\alpha}$. E que transformação ortogonal é a composição $R_r\\circ R_s$?\n",
        "\n",
        "### **Solução.**\n",
        "\n",
        "Sejam\n",
        "\n",
        "$$[R_s]=\\begin{bmatrix}a_s & b_s\\\\b_s & -a_s\\end{bmatrix}\\quad\\text{e}\\quad [R_r]=\\begin{bmatrix}a_r & b_r\\\\b_r & -a_r\\end{bmatrix}\\,,$$\n",
        "\n",
        "as representações matriciais das reflexões $R_s$ e $R_r$ respectivamente. Logo,\n",
        "\n",
        "$$[R_{s}\\circ R_{r}]=[R_s][R_r]=\\begin{bmatrix}a_s & b_s\\\\b_s & -a_s\\end{bmatrix}\\begin{bmatrix}a_r & b_r\\\\b_r & -a_r\\end{bmatrix}=\\begin{bmatrix}a_sa_r + b_sb_r & -(a_rb_s\n",
        "-a_sb_r)\\\\a_rb_s-a_sb_r &a_sa_r+b_sb_r\\end{bmatrix}$$\n",
        "\n",
        "onde $(a_s,b_s)=\\left(\\cos2\\theta_s,\\sin2\\theta_s\\right)\\in\\mathcal{C}\\,$ e $\\,(a_r,b_r)=\\left(\\cos2\\theta_r,\\sin2\\theta_r\\right)\\in\\mathcal{C}$ e portanto $(a_sa_r+b_sb_r\\,,\\,a_rb_s-a_sb_r)\\in\\mathcal{C}$\n",
        "\n",
        "$$\\boxed{(a_sa_r+b_sb_r)^2+(a_rb_s-a_sb_r)^2=(a_s^2+b_s^2)(a_r^2+b_r^2)=1}\\,.$$\n",
        "\n",
        "Isto signifca que $R_s\\circ R_r$ é uma rotação com centro na origem e ângulo de rotação, digamos $\\theta$. Note-se que $\\angle_{or}(r,s)=\\alpha=\\theta_s-\\theta_r$. Vamos agora determinar o ângulo $\\theta$. Ele pode ser calculado como segue\n",
        "\n",
        "$$\\begin{aligned}\n",
        "\\tan\\theta &=\\frac{a_rb_s-a_sb_r}{a_sa_r+b_sb_r}=\\frac{\\cos2\\theta_r\\sin2\\theta_s-\\cos2\\theta_s\\sin2\\theta_r}{\\cos2\\theta_s\\cos2\\theta_r+\\sin2\\theta_s\\sin2\\theta_r}\\\\[2ex]\n",
        "&=\\frac{\\frac{1}{2}\\sin\\left(2\\theta_s+2\\theta_r\\right)+\\frac{1}{2}\\sin\\left(2\\theta_s-2\\theta_r\\right)-\\frac{1}{2}\\sin\\left(2\\theta_r+2\\theta_s\\right)-\\frac{1}{2}\\sin\\left(2\\theta_r-2\\theta_s\\right)}{\\frac{1}{2}\\cos\\left(2\\theta_s+2\\theta_r\\right)+\\frac{1}{2}\\cos\\left(2\\theta_s-2\\theta_r\\right)+\\frac{1}{2}\\cos\\left(2\\theta_s-2\\theta_r\\right)-\\frac{1}{2}\\cos\\left(2\\theta_s+2\\theta_r\\right)}\\\\[2ex]\n",
        "&=\\frac{\\sin\\left(2\\theta_s-2\\theta_r\\right)}{\\cos\\left(2\\theta_s-2\\theta_r\\right)}=\\tan2\\alpha\n",
        "\\end{aligned}$$\n",
        "\n",
        "uma vez que $\\theta_s-\\theta_r=\\alpha$. Logo, segue-se que $\\boxed{\\theta=2\\alpha}$. Por outra parte\n",
        "\n",
        "$$[R_r\\circ R_s]=\\begin{bmatrix}a_ra_s + b_rb_s & -(a_sb_r\n",
        "-a_rb_s)\\\\a_sb_r-a_rb_s &a_ra_s+b_rb_s\\end{bmatrix}$$\n",
        "\n",
        "também é uma rotação com centro na origem e ângulo de rotação $\\theta$ que se calcula como no caso anterior\n",
        "\n",
        "$$\\begin{aligned}\n",
        "\\tan\\lambda &=\\frac{a_sb_r-a_rb_s}{a_ra_s+b_rb_s}=\\frac{\\cos2\\theta_s\\sin2\\theta_r-\\cos2\\theta_r\\sin2\\theta_s}{\\cos2\\theta_r\\cos2\\theta_s+\\sin2\\theta_r\\sin2\\theta_s}\\\\[2ex]\n",
        "&=\\frac{-\\sin(2\\theta_s-2\\theta_r)}{\\cos(2\\theta_s-2\\theta_r)}=\\tan(-2\\alpha)\\,.\n",
        "\\end{aligned}\n",
        "$$\n",
        "\n",
        "Logo, para esta última composição temos $\\boxed{\\theta=-2\\alpha}$.\n"
      ],
      "metadata": {
        "id": "8zMcan6f4u50"
      }
    },
    {
      "cell_type": "markdown",
      "source": [
        "## **Ex. 9:**\n",
        "\n",
        "> (a) Obtenha a expressão geral de uma rotação $R_{C;\\theta}$ de centro num ponto $C$ e ângulo $\\theta\\in[0,2\\pi[$.\n",
        "\n",
        "### **Solução.**\n",
        "\n",
        "Seja $C=\\mathbf{c}=(c_1,c_2)\\in\\mathbb{R}^2$. A expressão geral da rotação $R_{C;\\theta}$ é\n",
        "\n",
        "$$R_{C;\\theta}=T_{\\mathbf{c}}\\circ R_{O;\\theta}\\circ T_{-\\mathbf{c}}\\,,$$\n",
        "\n",
        "onde\n",
        "$$R_{O;\\theta}(x,y)=\\begin{bmatrix}\\cos\\theta & -\\sin\\theta\\\\\\sin\\theta &\\cos\\theta\\end{bmatrix}\\begin{bmatrix}x\\\\y\\end{bmatrix}\\quad\\text{e}\\quad T_\\mathbf{c}(x,y)=\\begin{bmatrix}1 & 0\\\\0 &1\\end{bmatrix}\\begin{bmatrix}x\\\\y\\end{bmatrix}+\\begin{bmatrix}c_1\\\\c_2\\end{bmatrix}\\,.$$\n",
        "\n",
        "---\n",
        "\n",
        "> (b) Obtenha a expressão geral de $R_{\\ell\\left(\\theta/2\\right)}$, a reflexão numa reta que faz um ângulo orientado de $\\theta/2\\in[0,\\pi[$, com o eixo dos $x$'s.\n",
        "\n",
        "### **Solução.**\n",
        "\n",
        "Seja $P=\\mathbf{p}=(p_1,p_2)\\in \\ell\\left(\\theta/2\\right)$. A expressão geral de $R_{\\ell\\left(\\theta/2\\right)}$ é\n",
        "\n",
        "$$R_{\\ell\\left(\\theta/2\\right)}=T_{\\mathbf{p}}\\circ R_{\\ell_O\\left(\\theta/2\\right)}\\circ T_{-\\mathbf{p}}\\,,$$\n",
        "\n",
        "onde\n",
        "\n",
        "$$R_{\\ell_{O(\\theta/2)}}(x,y)=\\begin{bmatrix}\\cos 2\\frac{\\theta}{2} & \\sin2\\frac{\\theta}{2}\\\\\\sin2\\frac{\\theta}{2} &-\\cos2\\frac{\\theta}{2}\\end{bmatrix}\\begin{bmatrix}x\\\\y\\end{bmatrix}\\quad\\text{e}\\quad T_\\mathbf{p}(x,y)=\\begin{bmatrix}1 & 0\\\\0 &1\\end{bmatrix}\\begin{bmatrix}x\\\\y\\end{bmatrix}+\\begin{bmatrix}p_1\\\\p_2\\end{bmatrix}\\,.$$\n"
      ],
      "metadata": {
        "id": "gccJX42W7q_j"
      }
    },
    {
      "cell_type": "code",
      "source": [
        "%%html\n",
        "<span style=\"color:red\"> Esto es una prueba </span> que no funcionó. No me interesa que entre como código."
      ],
      "metadata": {
        "colab": {
          "base_uri": "https://localhost:8080/",
          "height": 34
        },
        "id": "2SqjoHUfBA1B",
        "outputId": "423d806f-b974-4c03-fdc0-ca8977358f26"
      },
      "execution_count": null,
      "outputs": [
        {
          "output_type": "display_data",
          "data": {
            "text/plain": [
              "<IPython.core.display.HTML object>"
            ],
            "text/html": [
              "<span style=\"color:red\"> Esto es una prueba </span> que no funcionó. No me interesa que entre como código.\n"
            ]
          },
          "metadata": {}
        }
      ]
    },
    {
      "cell_type": "markdown",
      "source": [],
      "metadata": {
        "id": "R1OHBbkBBIdP"
      }
    },
    {
      "cell_type": "markdown",
      "source": [
        "Esta es otra prueba, <font color=\"red\"> veamos que pasa </font>. Epa, parece que sí funciona!"
      ],
      "metadata": {
        "id": "pUnt8exLDnaA"
      }
    }
  ]
}